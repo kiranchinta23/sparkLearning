{
 "cells": [
  {
   "cell_type": "code",
   "execution_count": 3,
   "id": "4f9b30ed-f0d5-4388-b0a7-a31838ffc8aa",
   "metadata": {},
   "outputs": [],
   "source": [
    "import findspark\n",
    "findspark.init()"
   ]
  },
  {
   "cell_type": "code",
   "execution_count": 4,
   "id": "720695f8-e5b6-4da6-9542-8bc1bcd1191e",
   "metadata": {},
   "outputs": [],
   "source": [
    "from pyspark.sql import SparkSession\n",
    "spark = SparkSession.builder \\\n",
    "    .appName(\"MyApp\") \\\n",
    "    .master(\"local[*]\") \\\n",
    "    .config(\"spark.jars.packages\", \"org.apache.spark:spark-avro_2.12:3.4.0\") \\\n",
    "    .getOrCreate()"
   ]
  },
  {
   "cell_type": "markdown",
   "id": "84cac290-d3e7-46b7-a4f3-202e6be57a32",
   "metadata": {},
   "source": [
    "# Extraction from CSV"
   ]
  },
  {
   "cell_type": "code",
   "execution_count": 3,
   "id": "28338fd5-e94a-46b1-9cab-a5769c577a96",
   "metadata": {},
   "outputs": [],
   "source": [
    "path = '/Users/kiranchinta/JupyterProjects/sparkLearning/data/output.csv'"
   ]
  },
  {
   "cell_type": "code",
   "execution_count": 4,
   "id": "b5a2688f-40b8-46f2-aa93-b96aa0d4bd26",
   "metadata": {},
   "outputs": [
    {
     "name": "stdout",
     "output_type": "stream",
     "text": [
      "+----+-------+------+---+\n",
      "| _c0|    _c1|   _c2|_c3|\n",
      "+----+-------+------+---+\n",
      "|NULL|user_id|  name|age|\n",
      "|   0|      1| kiran| 10|\n",
      "|   1|      2| kumar| 20|\n",
      "|   2|      3|chinta| 30|\n",
      "+----+-------+------+---+\n",
      "\n"
     ]
    }
   ],
   "source": [
    "spark_df = spark.read.load(path,format='csv')\n",
    "spark_df.show()"
   ]
  },
  {
   "cell_type": "code",
   "execution_count": 5,
   "id": "f6837a02-d7df-4d36-b5af-6e1ac63dea47",
   "metadata": {},
   "outputs": [
    {
     "name": "stdout",
     "output_type": "stream",
     "text": [
      "+---+-------+------+---+\n",
      "|_c0|user_id|  name|age|\n",
      "+---+-------+------+---+\n",
      "|  0|      1| kiran| 10|\n",
      "|  1|      2| kumar| 20|\n",
      "|  2|      3|chinta| 30|\n",
      "+---+-------+------+---+\n",
      "\n"
     ]
    },
    {
     "name": "stderr",
     "output_type": "stream",
     "text": [
      "25/06/14 14:52:25 WARN CSVHeaderChecker: CSV header does not conform to the schema.\n",
      " Header: , user_id, name, age\n",
      " Schema: _c0, user_id, name, age\n",
      "Expected: _c0 but found: \n",
      "CSV file: file:///Users/kiranchinta/JupyterProjects/sparkLearning/data/output.csv\n"
     ]
    }
   ],
   "source": [
    "spark_df = spark.read.load(path,format='csv',header=True)\n",
    "spark_df.show()"
   ]
  },
  {
   "cell_type": "markdown",
   "id": "8c3b76bb-ab54-4d60-a666-cdb09e03dcff",
   "metadata": {},
   "source": [
    "# Extraction from TEXT"
   ]
  },
  {
   "cell_type": "code",
   "execution_count": 6,
   "id": "cc38b961-75d6-4b3c-aa13-f1f45aee2352",
   "metadata": {},
   "outputs": [],
   "source": [
    "path = '/Users/kiranchinta/JupyterProjects/sparkLearning/data/output.txt'"
   ]
  },
  {
   "cell_type": "code",
   "execution_count": 7,
   "id": "fe506291-24dc-41a2-964a-1ace82b4eaad",
   "metadata": {},
   "outputs": [
    {
     "name": "stdout",
     "output_type": "stream",
     "text": [
      "+-----------------------+\n",
      "|value                  |\n",
      "+-----------------------+\n",
      "|   user_id    name  age|\n",
      "|0        1   kiran   10|\n",
      "|1        2   kumar   20|\n",
      "|2        3  chinta   30|\n",
      "+-----------------------+\n",
      "\n"
     ]
    }
   ],
   "source": [
    "spark_df = spark.read.load(path,format='text')\n",
    "spark_df.show(truncate=False)"
   ]
  },
  {
   "cell_type": "code",
   "execution_count": 8,
   "id": "6035f2bb-0923-4b27-b221-d39ea7c695c3",
   "metadata": {},
   "outputs": [
    {
     "name": "stdout",
     "output_type": "stream",
     "text": [
      "+-----------------------+\n",
      "|value                  |\n",
      "+-----------------------+\n",
      "|   user_id    name  age|\n",
      "|0        1   kiran   10|\n",
      "|1        2   kumar   20|\n",
      "|2        3  chinta   30|\n",
      "+-----------------------+\n",
      "\n"
     ]
    }
   ],
   "source": [
    "spark_df = spark.read.load(path,format='text',header=True)\n",
    "spark_df.show(truncate=False)"
   ]
  },
  {
   "cell_type": "markdown",
   "id": "b11f866d-ca7e-44e2-944d-072327df3386",
   "metadata": {},
   "source": [
    "# Extraction from PARQUET"
   ]
  },
  {
   "cell_type": "code",
   "execution_count": 9,
   "id": "4d4df30a-cac2-4ad6-a6d3-aed9aa4bb5d4",
   "metadata": {},
   "outputs": [],
   "source": [
    "path = '/Users/kiranchinta/JupyterProjects/sparkLearning/data/output.parquet'"
   ]
  },
  {
   "cell_type": "code",
   "execution_count": 10,
   "id": "0fbba273-c532-46cb-8350-9964c826a9ab",
   "metadata": {},
   "outputs": [
    {
     "name": "stdout",
     "output_type": "stream",
     "text": [
      "+-------+------+---+\n",
      "|user_id|name  |age|\n",
      "+-------+------+---+\n",
      "|1      |kiran |10 |\n",
      "|2      |kumar |20 |\n",
      "|3      |chinta|30 |\n",
      "+-------+------+---+\n",
      "\n"
     ]
    }
   ],
   "source": [
    "spark_df = spark.read.load(path,format='parquet')\n",
    "spark_df.show(truncate=False)"
   ]
  },
  {
   "cell_type": "markdown",
   "id": "f89d6745-a853-4177-bde3-895970bac478",
   "metadata": {},
   "source": [
    "# Extraction from AVRO"
   ]
  },
  {
   "cell_type": "code",
   "execution_count": 11,
   "id": "f60fe98f-9f56-4dcc-9d6b-48ceb117c063",
   "metadata": {},
   "outputs": [
    {
     "name": "stdout",
     "output_type": "stream",
     "text": [
      "+-------+------+---+\n",
      "|user_id|name  |age|\n",
      "+-------+------+---+\n",
      "|1      |kiran |10 |\n",
      "|2      |kumar |20 |\n",
      "|3      |chinta|30 |\n",
      "+-------+------+---+\n",
      "\n"
     ]
    }
   ],
   "source": [
    "path = '/Users/kiranchinta/JupyterProjects/sparkLearning/data/output.avro'\n",
    "\n",
    "spark_df = spark.read.load(path,format='avro')\n",
    "spark_df.show(truncate=False)"
   ]
  },
  {
   "cell_type": "markdown",
   "id": "24f8989a-a50b-4d71-afee-c41b8b747e55",
   "metadata": {},
   "source": [
    "# Extraction from ORC JSON"
   ]
  },
  {
   "cell_type": "code",
   "execution_count": 15,
   "id": "dea34618-08fd-4205-9682-221629adeb51",
   "metadata": {},
   "outputs": [
    {
     "name": "stdout",
     "output_type": "stream",
     "text": [
      "+-------+------+---+\n",
      "|user_id|name  |age|\n",
      "+-------+------+---+\n",
      "|1      |kiran |10 |\n",
      "|2      |kumar |20 |\n",
      "|3      |chinta|30 |\n",
      "+-------+------+---+\n",
      "\n"
     ]
    }
   ],
   "source": [
    "path = '/Users/kiranchinta/JupyterProjects/sparkLearning/data/output.orc'\n",
    "\n",
    "spark_df = spark.read.load(path,format='orc')\n",
    "spark_df.show(truncate=False)"
   ]
  },
  {
   "cell_type": "markdown",
   "id": "659e64eb-9163-440f-b706-526c1d153962",
   "metadata": {},
   "source": [
    "# Reading CSV data -> inferSchema"
   ]
  },
  {
   "cell_type": "code",
   "execution_count": 7,
   "id": "b7df4a82-7ee7-4b25-b65c-1de1be143fb9",
   "metadata": {},
   "outputs": [
    {
     "name": "stdout",
     "output_type": "stream",
     "text": [
      "+--------------------+-----------+--------------------+-------------------+------------------+-------------------+------------------+---------------+\n",
      "|                 key|fare_amount|     pickup_datetime|   pickup_longitude|   pickup_latitude|  dropoff_longitude|  dropoff_latitude|passenger_count|\n",
      "+--------------------+-----------+--------------------+-------------------+------------------+-------------------+------------------+---------------+\n",
      "|2014-06-15 17:11:...|          7|2014-06-15 17:11:...|          -73.99542|         40.759662|         -73.987607|         40.751247|              1|\n",
      "|2011-03-14 22:43:...|        4.9|2011-03-14 22:43:...|         -73.993552|          40.73111|         -73.998497|           40.7372|              5|\n",
      "|2011-02-14 15:14:...|        6.1|2011-02-14 15:14:...|          -73.97238|         40.749527|         -73.990638|         40.745328|              1|\n",
      "|2009-10-29 11:29:...|        6.9|2009-10-29 11:29:...|         -73.973703|         40.763542|         -73.984253|         40.758603|              5|\n",
      "|2011-07-02 10:38:...|       10.5|2011-07-02 10:38:...|         -73.921262|         40.743615|         -73.967383|         40.765162|              1|\n",
      "|2011-12-09 20:03:...|       15.3|2011-12-09 20:03:...|           -73.9735|          40.79261|         -73.936035|         40.856548|              1|\n",
      "|2011-05-03 14:34:...|       11.3|2011-05-03 14:34:...|         -73.870854|         40.773808|         -73.829909|         40.770563|              2|\n",
      "|2012-01-22 04:06:...|        7.7|2012-01-22 04:06:...|            -73.992|         40.744255|         -74.002782|         40.730813|              4|\n",
      "|2011-04-02 01:05:...|        7.7|2011-04-02 01:05:...|         -73.979564|         40.735405|         -73.955686|         40.768065|              1|\n",
      "|2012-02-23 16:09:...|        8.9|2012-02-23 16:09:...|         -73.978577|         40.777148|          -73.95734|          40.76669|              1|\n",
      "|2012-12-28 13:24:...|          9|2012-12-28 13:24:...|         -73.990323|         40.734437|         -73.989688|         40.725847|              1|\n",
      "|2012-05-23 15:12:...|       11.3|2012-05-23 15:12:...|         -74.005885|         40.736402|         -73.999285|         40.760708|              1|\n",
      "|2012-07-28 11:45:...|        5.3|2012-07-28 11:45:...|         -73.992698|          40.73018|         -73.987758|         40.721294|              1|\n",
      "|2015-05-27 09:52:...|          9|2015-05-27 09:52:...|    -73.99169921875|40.738510131835938|   -73.984130859375|40.725399017333984|              1|\n",
      "|2010-02-07 03:13:...|        4.1|2010-02-07 03:13:...|         -73.983273|         40.738664|         -73.984983|         40.745065|              4|\n",
      "|2014-09-25 07:22:...|        4.5|2014-09-25 07:22:...|         -73.997962|         40.740763|         -74.007392|         40.741017|              1|\n",
      "|2014-04-01 18:13:...|      31.33|2014-04-01 18:13:...|         -73.885798|         40.773127|         -73.958682|         40.777397|              4|\n",
      "|2010-01-03 12:21:...|        3.7|2010-01-03 12:21:...|         -73.960109|         40.813611|         -73.966094|         40.805406|              1|\n",
      "|2015-04-11 09:38:...|         19|2015-04-11 09:38:...|-74.000526428222656|40.720775604248047|-73.998481750488281|    40.72119140625|              2|\n",
      "|2014-10-30 20:01:...|         14|2014-10-30 20:01:...|         -73.984272|          40.74247|         -73.953562|         40.779227|              1|\n",
      "+--------------------+-----------+--------------------+-------------------+------------------+-------------------+------------------+---------------+\n",
      "only showing top 20 rows\n"
     ]
    }
   ],
   "source": [
    "path = '/Users/kiranchinta/JupyterProjects/sparkLearning/data/taxi-fares.csv'\n",
    "spark_df = spark.read.load(path,format='csv',header=True)\n",
    "spark_df.show()"
   ]
  },
  {
   "cell_type": "code",
   "execution_count": 8,
   "id": "27818307-45ec-446c-86d0-c529f345f3f8",
   "metadata": {},
   "outputs": [
    {
     "name": "stdout",
     "output_type": "stream",
     "text": [
      "root\n",
      " |-- key: string (nullable = true)\n",
      " |-- fare_amount: string (nullable = true)\n",
      " |-- pickup_datetime: string (nullable = true)\n",
      " |-- pickup_longitude: string (nullable = true)\n",
      " |-- pickup_latitude: string (nullable = true)\n",
      " |-- dropoff_longitude: string (nullable = true)\n",
      " |-- dropoff_latitude: string (nullable = true)\n",
      " |-- passenger_count: string (nullable = true)\n",
      "\n"
     ]
    }
   ],
   "source": [
    "spark_df.printSchema()"
   ]
  },
  {
   "cell_type": "code",
   "execution_count": 9,
   "id": "825c2fb6-5cc5-4dd8-baff-279afd899956",
   "metadata": {},
   "outputs": [
    {
     "name": "stdout",
     "output_type": "stream",
     "text": [
      "+-------------------+-----------+-------------------+------------------+-----------------+------------------+------------------+---------------+\n",
      "|                key|fare_amount|    pickup_datetime|  pickup_longitude|  pickup_latitude| dropoff_longitude|  dropoff_latitude|passenger_count|\n",
      "+-------------------+-----------+-------------------+------------------+-----------------+------------------+------------------+---------------+\n",
      "|2014-06-15 17:11:00|        7.0|2014-06-15 12:11:00|         -73.99542|        40.759662|        -73.987607|         40.751247|              1|\n",
      "|2011-03-14 22:43:00|        4.9|2011-03-14 17:43:00|        -73.993552|         40.73111|        -73.998497|           40.7372|              5|\n",
      "|2011-02-14 15:14:00|        6.1|2011-02-14 09:14:00|         -73.97238|        40.749527|        -73.990638|         40.745328|              1|\n",
      "|2009-10-29 11:29:00|        6.9|2009-10-29 06:29:00|        -73.973703|        40.763542|        -73.984253|         40.758603|              5|\n",
      "|2011-07-02 10:38:00|       10.5|2011-07-02 05:38:00|        -73.921262|        40.743615|        -73.967383|         40.765162|              1|\n",
      "|2011-12-09 20:03:00|       15.3|2011-12-09 14:03:00|          -73.9735|         40.79261|        -73.936035|         40.856548|              1|\n",
      "|2011-05-03 14:34:51|       11.3|2011-05-03 09:34:51|        -73.870854|        40.773808|        -73.829909|         40.770563|              2|\n",
      "|2012-01-22 04:06:10|        7.7|2012-01-21 22:06:10|           -73.992|        40.744255|        -74.002782|         40.730813|              4|\n",
      "|2011-04-02 01:05:15|        7.7|2011-04-01 20:05:15|        -73.979564|        40.735405|        -73.955686|         40.768065|              1|\n",
      "|2012-02-23 16:09:00|        8.9|2012-02-23 10:09:00|        -73.978577|        40.777148|         -73.95734|          40.76669|              1|\n",
      "|2012-12-28 13:24:00|        9.0|2012-12-28 07:24:00|        -73.990323|        40.734437|        -73.989688|         40.725847|              1|\n",
      "|2012-05-23 15:12:36|       11.3|2012-05-23 10:12:36|        -74.005885|        40.736402|        -73.999285|         40.760708|              1|\n",
      "|2012-07-28 11:45:54|        5.3|2012-07-28 06:45:54|        -73.992698|         40.73018|        -73.987758|         40.721294|              1|\n",
      "|2015-05-27 09:52:04|        9.0|2015-05-27 04:52:04|   -73.99169921875|40.73851013183594|  -73.984130859375|40.725399017333984|              1|\n",
      "|2010-02-07 03:13:37|        4.1|2010-02-06 21:13:37|        -73.983273|        40.738664|        -73.984983|         40.745065|              4|\n",
      "|2014-09-25 07:22:30|        4.5|2014-09-25 02:22:30|        -73.997962|        40.740763|        -74.007392|         40.741017|              1|\n",
      "|2014-04-01 18:13:00|      31.33|2014-04-01 13:13:00|        -73.885798|        40.773127|        -73.958682|         40.777397|              4|\n",
      "|2010-01-03 12:21:53|        3.7|2010-01-03 06:21:53|        -73.960109|        40.813611|        -73.966094|         40.805406|              1|\n",
      "|2015-04-11 09:38:37|       19.0|2015-04-11 04:38:37|-74.00052642822266|40.72077560424805|-73.99848175048828|    40.72119140625|              2|\n",
      "|2014-10-30 20:01:00|       14.0|2014-10-30 15:01:00|        -73.984272|         40.74247|        -73.953562|         40.779227|              1|\n",
      "+-------------------+-----------+-------------------+------------------+-----------------+------------------+------------------+---------------+\n",
      "only showing top 20 rows\n"
     ]
    }
   ],
   "source": [
    "spark_df = spark.read.load(path,format='csv',header=True,inferSchema=True)\n",
    "spark_df.show()"
   ]
  },
  {
   "cell_type": "code",
   "execution_count": 10,
   "id": "7dc17f25-8c3e-4802-be10-46f46059bba2",
   "metadata": {
    "scrolled": true
   },
   "outputs": [
    {
     "name": "stdout",
     "output_type": "stream",
     "text": [
      "root\n",
      " |-- key: timestamp (nullable = true)\n",
      " |-- fare_amount: double (nullable = true)\n",
      " |-- pickup_datetime: timestamp (nullable = true)\n",
      " |-- pickup_longitude: double (nullable = true)\n",
      " |-- pickup_latitude: double (nullable = true)\n",
      " |-- dropoff_longitude: double (nullable = true)\n",
      " |-- dropoff_latitude: double (nullable = true)\n",
      " |-- passenger_count: integer (nullable = true)\n",
      "\n"
     ]
    }
   ],
   "source": [
    "spark_df.printSchema()"
   ]
  },
  {
   "cell_type": "markdown",
   "id": "45768352-5fb9-4c52-b41f-40982f3852cd",
   "metadata": {},
   "source": [
    "# explicit schema"
   ]
  },
  {
   "cell_type": "code",
   "execution_count": 11,
   "id": "15d63421-8b74-4b3d-ad2f-e845c1b00286",
   "metadata": {},
   "outputs": [],
   "source": [
    "taxiSchema = \"key TIMESTAMP, fare_amount FLOAT, pickup_datetime TIMESTAMP, pickup_longitude FLOAT, pickup_latitude FLOAT, dropoff_longitude FLOAT,dropoff_latitude FLOAT, passenger_count INT \""
   ]
  },
  {
   "cell_type": "code",
   "execution_count": 15,
   "id": "db98fae9-7e03-4854-bd27-bad57b4c0581",
   "metadata": {},
   "outputs": [
    {
     "name": "stdout",
     "output_type": "stream",
     "text": [
      "+-------------------+-----------+-------------------+----------------+---------------+-----------------+----------------+---------------+\n",
      "|                key|fare_amount|    pickup_datetime|pickup_longitude|pickup_latitude|dropoff_longitude|dropoff_latitude|passenger_count|\n",
      "+-------------------+-----------+-------------------+----------------+---------------+-----------------+----------------+---------------+\n",
      "|2014-06-15 17:11:00|        7.0|2014-06-15 12:11:00|       -73.99542|      40.759663|        -73.98761|       40.751247|              1|\n",
      "|2011-03-14 22:43:00|        4.9|2011-03-14 17:43:00|       -73.99355|       40.73111|         -73.9985|         40.7372|              5|\n",
      "|2011-02-14 15:14:00|        6.1|2011-02-14 09:14:00|       -73.97238|      40.749527|        -73.99064|       40.745327|              1|\n",
      "|2009-10-29 11:29:00|        6.9|2009-10-29 06:29:00|        -73.9737|      40.763542|        -73.98425|       40.758602|              5|\n",
      "|2011-07-02 10:38:00|       10.5|2011-07-02 05:38:00|      -73.921265|      40.743614|       -73.967384|       40.765163|              1|\n",
      "|2011-12-09 20:03:00|       15.3|2011-12-09 14:03:00|        -73.9735|       40.79261|       -73.936035|        40.85655|              1|\n",
      "|2011-05-03 14:34:51|       11.3|2011-05-03 09:34:51|       -73.87086|      40.773808|        -73.82991|        40.77056|              2|\n",
      "|2012-01-22 04:06:10|        7.7|2012-01-21 22:06:10|         -73.992|      40.744255|       -74.002785|       40.730812|              4|\n",
      "|2011-04-02 01:05:15|        7.7|2011-04-01 20:05:15|       -73.97956|      40.735405|        -73.95569|       40.768066|              1|\n",
      "|2012-02-23 16:09:00|        8.9|2012-02-23 10:09:00|       -73.97858|       40.77715|        -73.95734|        40.76669|              1|\n",
      "|2012-12-28 13:24:00|        9.0|2012-12-28 07:24:00|      -73.990326|      40.734436|       -73.989685|       40.725845|              1|\n",
      "|2012-05-23 15:12:36|       11.3|2012-05-23 10:12:36|       -74.00588|        40.7364|        -73.99928|       40.760708|              1|\n",
      "|2012-07-28 11:45:54|        5.3|2012-07-28 06:45:54|        -73.9927|       40.73018|       -73.987755|       40.721294|              1|\n",
      "|2015-05-27 09:52:04|        9.0|2015-05-27 04:52:04|        -73.9917|       40.73851|        -73.98413|         40.7254|              1|\n",
      "|2010-02-07 03:13:37|        4.1|2010-02-06 21:13:37|       -73.98328|      40.738663|       -73.984985|       40.745064|              4|\n",
      "|2014-09-25 07:22:30|        4.5|2014-09-25 02:22:30|       -73.99796|      40.740765|        -74.00739|       40.741016|              1|\n",
      "|2014-04-01 18:13:00|      31.33|2014-04-01 13:13:00|      -73.885796|       40.77313|        -73.95868|       40.777397|              4|\n",
      "|2010-01-03 12:21:53|        3.7|2010-01-03 06:21:53|      -73.960106|       40.81361|       -73.966095|       40.805405|              1|\n",
      "|2015-04-11 09:38:37|       19.0|2015-04-11 04:38:37|       -74.00053|      40.720776|        -73.99848|        40.72119|              2|\n",
      "|2014-10-30 20:01:00|       14.0|2014-10-30 15:01:00|       -73.98427|       40.74247|        -73.95356|        40.77923|              1|\n",
      "+-------------------+-----------+-------------------+----------------+---------------+-----------------+----------------+---------------+\n",
      "only showing top 20 rows\n"
     ]
    }
   ],
   "source": [
    "spark_df = spark.read.load(path,format='csv',header=True,schema=taxiSchema)\n",
    "spark_df.show()"
   ]
  },
  {
   "cell_type": "code",
   "execution_count": 16,
   "id": "5839b018-8282-411c-8ce9-adc86923d0dd",
   "metadata": {},
   "outputs": [
    {
     "name": "stdout",
     "output_type": "stream",
     "text": [
      "root\n",
      " |-- key: timestamp (nullable = true)\n",
      " |-- fare_amount: float (nullable = true)\n",
      " |-- pickup_datetime: timestamp (nullable = true)\n",
      " |-- pickup_longitude: float (nullable = true)\n",
      " |-- pickup_latitude: float (nullable = true)\n",
      " |-- dropoff_longitude: float (nullable = true)\n",
      " |-- dropoff_latitude: float (nullable = true)\n",
      " |-- passenger_count: integer (nullable = true)\n",
      "\n"
     ]
    }
   ],
   "source": [
    "spark_df.printSchema()"
   ]
  },
  {
   "cell_type": "code",
   "execution_count": 19,
   "id": "792db10c-6ba9-44df-ba0e-aa55f2cd12b9",
   "metadata": {},
   "outputs": [],
   "source": [
    "# using spark datatypes\n",
    "from pyspark.sql.types import *\n",
    "\n",
    "taxiSchema = StructType((\n",
    "    StructField('key',TimestampType()),\n",
    "    StructField('fare_amount',FloatType()),\n",
    "    StructField('pickup_datetime',TimestampType()),\n",
    "    StructField('pickup_longitude',FloatType()),\n",
    "    StructField('pickup_latitude',FloatType()),\n",
    "    StructField('dropoff_longitude',FloatType()),\n",
    "    StructField('dropoff_latitude',FloatType()),\n",
    "    StructField('passenger_count',IntegerType())\n",
    "))"
   ]
  },
  {
   "cell_type": "code",
   "execution_count": 20,
   "id": "0dcf7bb0-a76b-4ac5-8af5-811bf0fabe92",
   "metadata": {},
   "outputs": [
    {
     "name": "stdout",
     "output_type": "stream",
     "text": [
      "+-------------------+-----------+-------------------+----------------+---------------+-----------------+----------------+---------------+\n",
      "|                key|fare_amount|    pickup_datetime|pickup_longitude|pickup_latitude|dropoff_longitude|dropoff_latitude|passenger_count|\n",
      "+-------------------+-----------+-------------------+----------------+---------------+-----------------+----------------+---------------+\n",
      "|2014-06-15 17:11:00|        7.0|2014-06-15 12:11:00|       -73.99542|      40.759663|        -73.98761|       40.751247|              1|\n",
      "|2011-03-14 22:43:00|        4.9|2011-03-14 17:43:00|       -73.99355|       40.73111|         -73.9985|         40.7372|              5|\n",
      "|2011-02-14 15:14:00|        6.1|2011-02-14 09:14:00|       -73.97238|      40.749527|        -73.99064|       40.745327|              1|\n",
      "|2009-10-29 11:29:00|        6.9|2009-10-29 06:29:00|        -73.9737|      40.763542|        -73.98425|       40.758602|              5|\n",
      "|2011-07-02 10:38:00|       10.5|2011-07-02 05:38:00|      -73.921265|      40.743614|       -73.967384|       40.765163|              1|\n",
      "|2011-12-09 20:03:00|       15.3|2011-12-09 14:03:00|        -73.9735|       40.79261|       -73.936035|        40.85655|              1|\n",
      "|2011-05-03 14:34:51|       11.3|2011-05-03 09:34:51|       -73.87086|      40.773808|        -73.82991|        40.77056|              2|\n",
      "|2012-01-22 04:06:10|        7.7|2012-01-21 22:06:10|         -73.992|      40.744255|       -74.002785|       40.730812|              4|\n",
      "|2011-04-02 01:05:15|        7.7|2011-04-01 20:05:15|       -73.97956|      40.735405|        -73.95569|       40.768066|              1|\n",
      "|2012-02-23 16:09:00|        8.9|2012-02-23 10:09:00|       -73.97858|       40.77715|        -73.95734|        40.76669|              1|\n",
      "|2012-12-28 13:24:00|        9.0|2012-12-28 07:24:00|      -73.990326|      40.734436|       -73.989685|       40.725845|              1|\n",
      "|2012-05-23 15:12:36|       11.3|2012-05-23 10:12:36|       -74.00588|        40.7364|        -73.99928|       40.760708|              1|\n",
      "|2012-07-28 11:45:54|        5.3|2012-07-28 06:45:54|        -73.9927|       40.73018|       -73.987755|       40.721294|              1|\n",
      "|2015-05-27 09:52:04|        9.0|2015-05-27 04:52:04|        -73.9917|       40.73851|        -73.98413|         40.7254|              1|\n",
      "|2010-02-07 03:13:37|        4.1|2010-02-06 21:13:37|       -73.98328|      40.738663|       -73.984985|       40.745064|              4|\n",
      "|2014-09-25 07:22:30|        4.5|2014-09-25 02:22:30|       -73.99796|      40.740765|        -74.00739|       40.741016|              1|\n",
      "|2014-04-01 18:13:00|      31.33|2014-04-01 13:13:00|      -73.885796|       40.77313|        -73.95868|       40.777397|              4|\n",
      "|2010-01-03 12:21:53|        3.7|2010-01-03 06:21:53|      -73.960106|       40.81361|       -73.966095|       40.805405|              1|\n",
      "|2015-04-11 09:38:37|       19.0|2015-04-11 04:38:37|       -74.00053|      40.720776|        -73.99848|        40.72119|              2|\n",
      "|2014-10-30 20:01:00|       14.0|2014-10-30 15:01:00|       -73.98427|       40.74247|        -73.95356|        40.77923|              1|\n",
      "+-------------------+-----------+-------------------+----------------+---------------+-----------------+----------------+---------------+\n",
      "only showing top 20 rows\n"
     ]
    }
   ],
   "source": [
    "spark_df = spark.read.load(path,format='csv',header=True,schema=taxiSchema)\n",
    "spark_df.show()"
   ]
  },
  {
   "cell_type": "code",
   "execution_count": 21,
   "id": "856812a8-3f33-4dfe-8021-73b0e3556fb4",
   "metadata": {},
   "outputs": [
    {
     "name": "stdout",
     "output_type": "stream",
     "text": [
      "root\n",
      " |-- key: timestamp (nullable = true)\n",
      " |-- fare_amount: float (nullable = true)\n",
      " |-- pickup_datetime: timestamp (nullable = true)\n",
      " |-- pickup_longitude: float (nullable = true)\n",
      " |-- pickup_latitude: float (nullable = true)\n",
      " |-- dropoff_longitude: float (nullable = true)\n",
      " |-- dropoff_latitude: float (nullable = true)\n",
      " |-- passenger_count: integer (nullable = true)\n",
      "\n"
     ]
    }
   ],
   "source": [
    "spark_df.printSchema()"
   ]
  },
  {
   "cell_type": "code",
   "execution_count": 22,
   "id": "4a6afb5a-ea59-4af3-b2f9-c6cd8d4dbbb7",
   "metadata": {},
   "outputs": [],
   "source": [
    "spark.stop()"
   ]
  },
  {
   "cell_type": "code",
   "execution_count": null,
   "id": "3fac1c9b-f11d-467b-ad74-57e22bd53451",
   "metadata": {},
   "outputs": [],
   "source": []
  }
 ],
 "metadata": {
  "kernelspec": {
   "display_name": "Python 3 (ipykernel)",
   "language": "python",
   "name": "python3"
  },
  "language_info": {
   "codemirror_mode": {
    "name": "ipython",
    "version": 3
   },
   "file_extension": ".py",
   "mimetype": "text/x-python",
   "name": "python",
   "nbconvert_exporter": "python",
   "pygments_lexer": "ipython3",
   "version": "3.11.13"
  }
 },
 "nbformat": 4,
 "nbformat_minor": 5
}
