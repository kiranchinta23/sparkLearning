{
 "cells": [
  {
   "cell_type": "code",
   "execution_count": 1,
   "id": "5a07033c-c9b7-4624-a361-0eec48cd6199",
   "metadata": {},
   "outputs": [],
   "source": [
    "import findspark\n",
    "findspark.init()"
   ]
  },
  {
   "cell_type": "code",
   "execution_count": 3,
   "id": "f5c3ca85-9190-402a-803e-4a96fc07fb5c",
   "metadata": {},
   "outputs": [],
   "source": [
    "from pyspark.sql import SparkSession\n",
    "spark = SparkSession.builder \\\n",
    "    .appName(\"MyApp\") \\\n",
    "    .master(\"local[*]\") \\\n",
    "    .config(\"spark.jars.packages\", \"org.apache.spark:spark-avro_2.12:3.4.0\") \\\n",
    "    .getOrCreate()"
   ]
  },
  {
   "cell_type": "markdown",
   "id": "443c9416-aee0-4530-a0ad-cb1f72cbebce",
   "metadata": {},
   "source": [
    "# Create dataFrame"
   ]
  },
  {
   "cell_type": "code",
   "execution_count": 10,
   "id": "66f48a39-35d4-4eb8-8c9e-2c7490bb7a06",
   "metadata": {},
   "outputs": [
    {
     "name": "stdout",
     "output_type": "stream",
     "text": [
      "+---+\n",
      "| id|\n",
      "+---+\n",
      "|  0|\n",
      "|  1|\n",
      "|  2|\n",
      "|  3|\n",
      "|  4|\n",
      "|  5|\n",
      "|  6|\n",
      "|  7|\n",
      "|  8|\n",
      "|  9|\n",
      "| 10|\n",
      "| 11|\n",
      "| 12|\n",
      "| 13|\n",
      "| 14|\n",
      "| 15|\n",
      "| 16|\n",
      "| 17|\n",
      "| 18|\n",
      "| 19|\n",
      "+---+\n",
      "only showing top 20 rows\n"
     ]
    }
   ],
   "source": [
    "spark_df=spark.range(100)\n",
    "spark_df.show()"
   ]
  },
  {
   "cell_type": "markdown",
   "id": "42e76344-2d88-477e-95fd-60528d7c3e92",
   "metadata": {},
   "source": [
    "# sample \n",
    "- withReplacement is true -> there might be duplicates\n",
    "- fraction -> shows 7% of the total records\n",
    "- seed = 10, giving this sampling a name, when you call again with the sample seed=10 the same sample will be showed"
   ]
  },
  {
   "cell_type": "code",
   "execution_count": 14,
   "id": "461d9ff7-59e4-4c7f-b9f5-2be5868237a4",
   "metadata": {},
   "outputs": [
    {
     "name": "stdout",
     "output_type": "stream",
     "text": [
      "+---+\n",
      "| id|\n",
      "+---+\n",
      "| 10|\n",
      "| 18|\n",
      "| 24|\n",
      "| 37|\n",
      "| 72|\n",
      "| 78|\n",
      "| 99|\n",
      "+---+\n",
      "\n"
     ]
    }
   ],
   "source": [
    "spark_df.sample(withReplacement=False,fraction=0.07,seed=10).show()"
   ]
  },
  {
   "cell_type": "code",
   "execution_count": 16,
   "id": "21eaebac-6bb5-4f27-8169-f39f2b82f1e8",
   "metadata": {},
   "outputs": [
    {
     "name": "stdout",
     "output_type": "stream",
     "text": [
      "+---+\n",
      "| id|\n",
      "+---+\n",
      "|  1|\n",
      "| 15|\n",
      "| 31|\n",
      "| 35|\n",
      "| 54|\n",
      "| 57|\n",
      "| 67|\n",
      "| 76|\n",
      "| 93|\n",
      "| 94|\n",
      "+---+\n",
      "\n"
     ]
    }
   ],
   "source": [
    "spark_df.sample(withReplacement=True,fraction=0.07,seed=10).show()"
   ]
  },
  {
   "cell_type": "markdown",
   "id": "2192a1e1-299a-4e6a-b63d-62b93795f575",
   "metadata": {},
   "source": [
    "# sampleBy\n",
    "- more controlled sampled from each column"
   ]
  },
  {
   "cell_type": "code",
   "execution_count": 21,
   "id": "08e6b9e6-d06d-462c-bb13-c2a4dbf41893",
   "metadata": {},
   "outputs": [
    {
     "name": "stdout",
     "output_type": "stream",
     "text": [
      "+---+--------+\n",
      "| id|category|\n",
      "+---+--------+\n",
      "|  1|       A|\n",
      "|  1|       A|\n",
      "|  1|       A|\n",
      "|  2|       B|\n",
      "|  2|       B|\n",
      "|  2|       B|\n",
      "|  2|       B|\n",
      "|  2|       B|\n",
      "|  3|       C|\n",
      "|  4|       D|\n",
      "+---+--------+\n",
      "\n"
     ]
    }
   ],
   "source": [
    "spark_df = spark.createDataFrame([(1, \"A\"),(1, \"A\"),(1, \"A\"),(2, \"B\"),(2, \"B\"),(2, \"B\"),(2, \"B\"), (2, \"B\"), (3, \"C\"), (4, \"D\")], [\"id\", \"category\"])\n",
    "spark_df.show()"
   ]
  },
  {
   "cell_type": "code",
   "execution_count": 23,
   "id": "23acb971-8a6a-4a3f-8af8-6c042fc59329",
   "metadata": {},
   "outputs": [
    {
     "name": "stdout",
     "output_type": "stream",
     "text": [
      "+---+--------+\n",
      "| id|category|\n",
      "+---+--------+\n",
      "|  1|       A|\n",
      "|  1|       A|\n",
      "|  1|       A|\n",
      "|  2|       B|\n",
      "|  2|       B|\n",
      "|  2|       B|\n",
      "+---+--------+\n",
      "\n"
     ]
    }
   ],
   "source": [
    "spark_df.sampleBy(col=\"category\", fractions={\"A\": 1.0, \"B\": 0.5, \"C\": 0.0}, seed=42).show()"
   ]
  },
  {
   "cell_type": "code",
   "execution_count": null,
   "id": "ec49db7d-f4e1-4035-874e-dd3b8358d37b",
   "metadata": {},
   "outputs": [],
   "source": []
  }
 ],
 "metadata": {
  "kernelspec": {
   "display_name": "Python 3 (ipykernel)",
   "language": "python",
   "name": "python3"
  },
  "language_info": {
   "codemirror_mode": {
    "name": "ipython",
    "version": 3
   },
   "file_extension": ".py",
   "mimetype": "text/x-python",
   "name": "python",
   "nbconvert_exporter": "python",
   "pygments_lexer": "ipython3",
   "version": "3.11.13"
  }
 },
 "nbformat": 4,
 "nbformat_minor": 5
}
