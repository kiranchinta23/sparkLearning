{
 "cells": [
  {
   "cell_type": "code",
   "execution_count": 1,
   "id": "ac529506-6f6c-4c41-9d8e-5f630931a3e3",
   "metadata": {},
   "outputs": [],
   "source": [
    "import findspark\n",
    "findspark.init()"
   ]
  },
  {
   "cell_type": "code",
   "execution_count": 2,
   "id": "e55b5f02-233d-4f7e-9802-e9d23262703a",
   "metadata": {},
   "outputs": [
    {
     "name": "stderr",
     "output_type": "stream",
     "text": [
      "WARNING: Using incubator modules: jdk.incubator.vector\n",
      "Using Spark's default log4j profile: org/apache/spark/log4j2-defaults.properties\n",
      "25/06/11 22:40:56 WARN Utils: Your hostname, kirans-mac.local, resolves to a loopback address: 127.0.0.1; using 172.18.197.149 instead (on interface en0)\n",
      "25/06/11 22:40:56 WARN Utils: Set SPARK_LOCAL_IP if you need to bind to another address\n",
      "Using Spark's default log4j profile: org/apache/spark/log4j2-defaults.properties\n",
      "Setting default log level to \"WARN\".\n",
      "To adjust logging level use sc.setLogLevel(newLevel). For SparkR, use setLogLevel(newLevel).\n",
      "25/06/11 22:40:56 WARN NativeCodeLoader: Unable to load native-hadoop library for your platform... using builtin-java classes where applicable\n",
      "25/06/11 22:40:56 WARN Utils: Service 'SparkUI' could not bind on port 4040. Attempting port 4041.\n"
     ]
    }
   ],
   "source": [
    "from pyspark.sql import SparkSession\n",
    "spark = SparkSession.builder \\\n",
    "    .appName(\"MyApp\") \\\n",
    "    .master(\"local[*]\") \\\n",
    "    .getOrCreate()"
   ]
  },
  {
   "cell_type": "markdown",
   "id": "4a8b2682-14c3-48c9-9524-e56a41b3b532",
   "metadata": {},
   "source": [
    "# Broad cast variables"
   ]
  },
  {
   "cell_type": "code",
   "execution_count": 4,
   "id": "b6e09539-a2a8-45ff-a23d-3f06fd9cec04",
   "metadata": {},
   "outputs": [
    {
     "data": {
      "text/plain": [
       "'Sunday'"
      ]
     },
     "execution_count": 4,
     "metadata": {},
     "output_type": "execute_result"
    }
   ],
   "source": [
    "#Broadcast a Dictionary\n",
    "days={\"sun\": \"Sunday\", \"mon\" : \"Monday\", \"tue\":\"Tuesday\"}\n",
    "bcDays = spark.sparkContext.broadcast(days)\n",
    "bcDays.value\n",
    "bcDays.value['sun']"
   ]
  },
  {
   "cell_type": "code",
   "execution_count": 6,
   "id": "5e9f60eb-2615-445a-9103-a34d24fd360d",
   "metadata": {},
   "outputs": [
    {
     "data": {
      "text/plain": [
       "pyspark.core.broadcast.Broadcast"
      ]
     },
     "execution_count": 6,
     "metadata": {},
     "output_type": "execute_result"
    }
   ],
   "source": [
    "type(bcDays)"
   ]
  },
  {
   "cell_type": "code",
   "execution_count": 7,
   "id": "d35b61b0-49a0-4eea-9f4d-c30c12a60f52",
   "metadata": {},
   "outputs": [
    {
     "data": {
      "text/plain": [
       "1"
      ]
     },
     "execution_count": 7,
     "metadata": {},
     "output_type": "execute_result"
    }
   ],
   "source": [
    "numbers = (1,2,3)\n",
    "broadcastNumbers=spark.sparkContext.broadcast(numbers)\n",
    "broadcastNumbers.value\n",
    "broadcastNumbers.value[0]"
   ]
  },
  {
   "cell_type": "code",
   "execution_count": 8,
   "id": "8519760c-7c74-43f1-ab38-2cc639d12072",
   "metadata": {},
   "outputs": [
    {
     "data": {
      "text/plain": [
       "pyspark.core.broadcast.Broadcast"
      ]
     },
     "execution_count": 8,
     "metadata": {},
     "output_type": "execute_result"
    }
   ],
   "source": [
    "type(broadcastNumbers)"
   ]
  },
  {
   "cell_type": "markdown",
   "id": "d504eac4-55d9-4c2d-bf61-16cb3163dff3",
   "metadata": {},
   "source": [
    "### real problem to use broadcast variables -> convert mon to monday, etc"
   ]
  },
  {
   "cell_type": "code",
   "execution_count": 11,
   "id": "5652ed05-0203-4518-9a2e-f6472e59be8c",
   "metadata": {},
   "outputs": [
    {
     "data": {
      "text/plain": [
       "[('James', 'Smith', 'USA', 'mon'),\n",
       " ('Michael', 'Rose', 'USA', 'tue'),\n",
       " ('Robert', 'Williams', 'USA', 'sun'),\n",
       " ('Maria', 'Jones', 'USA', 'tue')]"
      ]
     },
     "execution_count": 11,
     "metadata": {},
     "output_type": "execute_result"
    }
   ],
   "source": [
    "data = ((\"James\",\"Smith\",\"USA\",\"mon\"),\n",
    "(\"Michael\",\"Rose\",\"USA\",\"tue\"),\n",
    "(\"Robert\",\"Williams\",\"USA\",\"sun\"),\n",
    "(\"Maria\",\"Jones\",\"USA\",\"tue\")\n",
    ")\n",
    "\n",
    "rdd = spark.sparkContext.parallelize(data)\n",
    "rdd.take(5)"
   ]
  },
  {
   "cell_type": "code",
   "execution_count": 24,
   "id": "7992bc1f-bac6-4ee7-8f8e-881c1033df86",
   "metadata": {},
   "outputs": [
    {
     "data": {
      "text/plain": [
       "[('James', 'Smith', 'USA', 'Monday'),\n",
       " ('Michael', 'Rose', 'USA', 'Tuesday'),\n",
       " ('Robert', 'Williams', 'USA', 'Sunday'),\n",
       " ('Maria', 'Jones', 'USA', 'Tuesday')]"
      ]
     },
     "execution_count": 24,
     "metadata": {},
     "output_type": "execute_result"
    }
   ],
   "source": [
    "days={\"sun\": \"Sunday\", \"mon\" : \"Monday\", \"tue\":\"Tuesday\"}\n",
    "bcDays = spark.sparkContext.broadcast(days)\n",
    "\n",
    "def days_convert(day):\n",
    "    return bcDays.value.get(day, \"Unknown\") \n",
    "\n",
    "rdd.map(lambda x: (x[0],x[1],x[2],days_convert(x[3]))).collect()"
   ]
  },
  {
   "cell_type": "markdown",
   "id": "0865a6e1-a39e-48d2-be21-6895cc6e1d4e",
   "metadata": {},
   "source": [
    "# Accumulator variables"
   ]
  },
  {
   "cell_type": "code",
   "execution_count": 25,
   "id": "37406f5a-40e5-4438-b8d9-125ddfd4314d",
   "metadata": {},
   "outputs": [
    {
     "name": "stdout",
     "output_type": "stream",
     "text": [
      "Number of blank lines: 3\n"
     ]
    }
   ],
   "source": [
    "# Create an accumulator\n",
    "blankLines = spark.sparkContext.accumulator(0)\n",
    "\n",
    "# Sample data\n",
    "data = [\"Hello\", \"\", \"World\", \"Spark\", \"\", \"Accumulator\", \"\"]\n",
    "\n",
    "# Parallelize data into RDD\n",
    "rdd = spark.sparkContext.parallelize(data)\n",
    "\n",
    "# Function to check and count blank lines\n",
    "def countBlank(line):\n",
    "    global blankLines\n",
    "    if line == \"\":\n",
    "        blankLines += 1\n",
    "    return line\n",
    "\n",
    "# Apply the function to the RDD\n",
    "rdd.foreach(countBlank)\n",
    "\n",
    "# Get the result\n",
    "print(\"Number of blank lines:\", blankLines.value)"
   ]
  },
  {
   "cell_type": "code",
   "execution_count": 26,
   "id": "d23acc6c-a644-4a7a-bd6d-c0d65e29a957",
   "metadata": {},
   "outputs": [
    {
     "data": {
      "text/plain": [
       "pyspark.accumulators.Accumulator"
      ]
     },
     "execution_count": 26,
     "metadata": {},
     "output_type": "execute_result"
    }
   ],
   "source": [
    "type(blankLines)"
   ]
  },
  {
   "cell_type": "code",
   "execution_count": null,
   "id": "92d0da23-6533-45cd-bf18-b49bb81d7de7",
   "metadata": {},
   "outputs": [],
   "source": []
  }
 ],
 "metadata": {
  "kernelspec": {
   "display_name": "Python 3 (ipykernel)",
   "language": "python",
   "name": "python3"
  },
  "language_info": {
   "codemirror_mode": {
    "name": "ipython",
    "version": 3
   },
   "file_extension": ".py",
   "mimetype": "text/x-python",
   "name": "python",
   "nbconvert_exporter": "python",
   "pygments_lexer": "ipython3",
   "version": "3.11.13"
  }
 },
 "nbformat": 4,
 "nbformat_minor": 5
}
