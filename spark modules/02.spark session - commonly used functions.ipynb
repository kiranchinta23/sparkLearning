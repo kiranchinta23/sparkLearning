{
 "cells": [
  {
   "cell_type": "code",
   "execution_count": 1,
   "id": "c7f95687-6d04-454f-a93e-74e2db5a8dd6",
   "metadata": {},
   "outputs": [],
   "source": [
    "import findspark\n",
    "findspark.init()"
   ]
  },
  {
   "cell_type": "code",
   "execution_count": 2,
   "id": "395aa3d2-33e5-407a-8e5e-57ac69ac4a33",
   "metadata": {},
   "outputs": [
    {
     "name": "stderr",
     "output_type": "stream",
     "text": [
      "WARNING: Using incubator modules: jdk.incubator.vector\n",
      "Using Spark's default log4j profile: org/apache/spark/log4j2-defaults.properties\n",
      "25/06/11 23:02:14 WARN Utils: Your hostname, kirans-mac.local, resolves to a loopback address: 127.0.0.1; using 172.18.197.149 instead (on interface en0)\n",
      "25/06/11 23:02:14 WARN Utils: Set SPARK_LOCAL_IP if you need to bind to another address\n",
      "Using Spark's default log4j profile: org/apache/spark/log4j2-defaults.properties\n",
      "Setting default log level to \"WARN\".\n",
      "To adjust logging level use sc.setLogLevel(newLevel). For SparkR, use setLogLevel(newLevel).\n",
      "25/06/11 23:02:14 WARN NativeCodeLoader: Unable to load native-hadoop library for your platform... using builtin-java classes where applicable\n",
      "25/06/11 23:02:14 WARN Utils: Service 'SparkUI' could not bind on port 4040. Attempting port 4041.\n",
      "25/06/11 23:02:14 WARN Utils: Service 'SparkUI' could not bind on port 4041. Attempting port 4042.\n"
     ]
    }
   ],
   "source": [
    "from pyspark.sql import SparkSession\n",
    "spark = SparkSession.builder \\\n",
    "    .appName(\"MyApp\") \\\n",
    "    .master(\"local[*]\") \\\n",
    "    .getOrCreate()"
   ]
  },
  {
   "cell_type": "markdown",
   "id": "8b6b0ea0-9d76-4732-9e90-e0667da2a61d",
   "metadata": {},
   "source": [
    "# version"
   ]
  },
  {
   "cell_type": "code",
   "execution_count": 5,
   "id": "cf575d96-4aab-43c8-bfaf-5cd5e37c2c35",
   "metadata": {},
   "outputs": [
    {
     "data": {
      "text/plain": [
       "'4.0.0'"
      ]
     },
     "execution_count": 5,
     "metadata": {},
     "output_type": "execute_result"
    }
   ],
   "source": [
    "spark.sparkContext.version"
   ]
  },
  {
   "cell_type": "markdown",
   "id": "d1b6ebc5-48e3-4d76-aa2c-91f9e5266645",
   "metadata": {},
   "source": [
    "# Range"
   ]
  },
  {
   "cell_type": "code",
   "execution_count": 6,
   "id": "72144d51-c167-4d7e-98ee-8e9c8021d468",
   "metadata": {},
   "outputs": [],
   "source": [
    "df = spark.range(1,10,2)"
   ]
  },
  {
   "cell_type": "code",
   "execution_count": 9,
   "id": "2471254b-acee-4fb2-8981-2f25a879d7dd",
   "metadata": {},
   "outputs": [
    {
     "name": "stdout",
     "output_type": "stream",
     "text": [
      "+---+\n",
      "| id|\n",
      "+---+\n",
      "|  1|\n",
      "|  3|\n",
      "|  5|\n",
      "|  7|\n",
      "|  9|\n",
      "+---+\n",
      "\n"
     ]
    }
   ],
   "source": [
    "df.show()"
   ]
  },
  {
   "cell_type": "code",
   "execution_count": 11,
   "id": "8d6945a2-81a1-4b60-9993-bf637e67c7aa",
   "metadata": {},
   "outputs": [
    {
     "name": "stdout",
     "output_type": "stream",
     "text": [
      "+---+\n",
      "| id|\n",
      "+---+\n",
      "|  0|\n",
      "|  1|\n",
      "|  2|\n",
      "|  3|\n",
      "|  4|\n",
      "|  5|\n",
      "|  6|\n",
      "|  7|\n",
      "|  8|\n",
      "|  9|\n",
      "+---+\n",
      "\n"
     ]
    }
   ],
   "source": [
    "spark.range(10).show()"
   ]
  },
  {
   "cell_type": "markdown",
   "id": "1b70ee0f-346d-4a57-b719-0f6c04b65b8e",
   "metadata": {},
   "source": [
    "# Create dataframe"
   ]
  },
  {
   "cell_type": "markdown",
   "id": "b999cf3a-c69b-4791-9559-ce4b5f6265de",
   "metadata": {},
   "source": [
    "### using list"
   ]
  },
  {
   "cell_type": "code",
   "execution_count": 12,
   "id": "7877329f-6e82-4de4-85d2-4ff111d17c24",
   "metadata": {},
   "outputs": [
    {
     "name": "stdout",
     "output_type": "stream",
     "text": [
      "+------+---+\n",
      "|    _1| _2|\n",
      "+------+---+\n",
      "|Robert| 35|\n",
      "| James| 25|\n",
      "+------+---+\n",
      "\n"
     ]
    }
   ],
   "source": [
    "lst = (('Robert',35),('James',25))\n",
    "spark.createDataFrame(data=lst),\n",
    "df = spark.createDataFrame(data=lst)\n",
    "df.show()"
   ]
  },
  {
   "cell_type": "markdown",
   "id": "aa3d73d1-c65f-4562-8594-8bcdfecd56db",
   "metadata": {},
   "source": [
    "### using dict"
   ]
  },
  {
   "cell_type": "code",
   "execution_count": 14,
   "id": "b5fce64a-acfa-4d4b-ae5a-3b207e7a6f9f",
   "metadata": {},
   "outputs": [
    {
     "name": "stdout",
     "output_type": "stream",
     "text": [
      "+---+------+\n",
      "|age|  name|\n",
      "+---+------+\n",
      "| 25|robert|\n",
      "| 31| james|\n",
      "+---+------+\n",
      "\n"
     ]
    }
   ],
   "source": [
    "dict = ({\"name\":\"robert\",\"age\":25}, {\"name\" : \"james\",\"age\" : 31})\n",
    "df = spark.createDataFrame(dict)\n",
    "df.show()"
   ]
  },
  {
   "cell_type": "markdown",
   "id": "e428c7a9-f38b-4087-b330-a1e2a1ea2cb6",
   "metadata": {},
   "source": [
    "### using rdd"
   ]
  },
  {
   "cell_type": "code",
   "execution_count": 16,
   "id": "9278b487-12fe-476e-b132-6f38ac0b404c",
   "metadata": {},
   "outputs": [
    {
     "name": "stdout",
     "output_type": "stream",
     "text": [
      "+------+---+\n",
      "|    _1| _2|\n",
      "+------+---+\n",
      "|Robert| 35|\n",
      "| James| 25|\n",
      "+------+---+\n",
      "\n"
     ]
    }
   ],
   "source": [
    "rdd = spark.sparkContext.parallelize(lst)\n",
    "df = spark.createDataFrame(data=rdd)\n",
    "df.show()"
   ]
  },
  {
   "cell_type": "markdown",
   "id": "614b4fb0-e1b5-467e-974b-85e1f92d6f25",
   "metadata": {},
   "source": [
    "### using pandas dataframe"
   ]
  },
  {
   "cell_type": "code",
   "execution_count": 20,
   "id": "9dd5e354-b50e-4e07-b514-48504c65808e",
   "metadata": {},
   "outputs": [
    {
     "name": "stdout",
     "output_type": "stream",
     "text": [
      "+----+---+\n",
      "|Name|Age|\n",
      "+----+---+\n",
      "| tom| 10|\n",
      "|nick| 15|\n",
      "|juli| 14|\n",
      "+----+---+\n",
      "\n"
     ]
    }
   ],
   "source": [
    "import pandas as pd\n",
    "data = (('tom', 10), ('nick', 15), ('juli', 14))\n",
    "df_pandas = pd.DataFrame(data,columns=('Name','Age'))\n",
    "df = spark.createDataFrame(data=df_pandas)\n",
    "df.show()"
   ]
  },
  {
   "cell_type": "markdown",
   "id": "819bc2f6-77b3-41af-901b-27a8d43e8f8f",
   "metadata": {},
   "source": [
    "# sql()"
   ]
  },
  {
   "cell_type": "code",
   "execution_count": 22,
   "id": "48a14f98-9083-4c05-9a40-dfa0b44e6684",
   "metadata": {},
   "outputs": [],
   "source": [
    "df.createOrReplaceTempView(\"temp_table\")"
   ]
  },
  {
   "cell_type": "code",
   "execution_count": 24,
   "id": "3f6794f6-6e42-4e5b-ab82-012f6befae88",
   "metadata": {},
   "outputs": [
    {
     "name": "stdout",
     "output_type": "stream",
     "text": [
      "+----+---+\n",
      "|Name|Age|\n",
      "+----+---+\n",
      "| tom| 10|\n",
      "|nick| 15|\n",
      "|juli| 14|\n",
      "+----+---+\n",
      "\n"
     ]
    }
   ],
   "source": [
    "df2 = spark.sql(\"select * from temp_table\")\n",
    "df2.show()"
   ]
  },
  {
   "cell_type": "markdown",
   "id": "20973f72-9721-4f93-9c2f-69e08b345b1c",
   "metadata": {},
   "source": [
    "# table()"
   ]
  },
  {
   "cell_type": "code",
   "execution_count": 25,
   "id": "311c6f93-b453-48d7-b7c1-89b570cc6f3c",
   "metadata": {},
   "outputs": [
    {
     "name": "stdout",
     "output_type": "stream",
     "text": [
      "+----+---+\n",
      "|Name|Age|\n",
      "+----+---+\n",
      "| tom| 10|\n",
      "|nick| 15|\n",
      "|juli| 14|\n",
      "+----+---+\n",
      "\n"
     ]
    }
   ],
   "source": [
    "df3 = spark.table(\"temp_table\")\n",
    "df3.show()"
   ]
  },
  {
   "cell_type": "markdown",
   "id": "eb9c288a-cc44-44ed-ad86-a6da06ecc186",
   "metadata": {},
   "source": [
    "# conf()"
   ]
  },
  {
   "cell_type": "code",
   "execution_count": 26,
   "id": "a96bca5d-351c-4f8d-be67-f3d3f27bcc7b",
   "metadata": {},
   "outputs": [
    {
     "data": {
      "text/plain": [
       "'America/Chicago'"
      ]
     },
     "execution_count": 26,
     "metadata": {},
     "output_type": "execute_result"
    }
   ],
   "source": [
    "spark.conf.get(\"spark.sql.session.timeZone\" )"
   ]
  },
  {
   "cell_type": "code",
   "execution_count": 27,
   "id": "9c765742-5d84-4bb9-9bcf-bd8112e157ad",
   "metadata": {},
   "outputs": [
    {
     "data": {
      "text/plain": [
       "'200'"
      ]
     },
     "execution_count": 27,
     "metadata": {},
     "output_type": "execute_result"
    }
   ],
   "source": [
    "spark.conf.get('spark.sql.shuffle.partitions')"
   ]
  },
  {
   "cell_type": "code",
   "execution_count": 30,
   "id": "6d2fdc86-2f70-44f2-bd08-b19d5838dc02",
   "metadata": {},
   "outputs": [],
   "source": [
    "spark.conf.set('spark.sql.shuffle.partitions',300)"
   ]
  },
  {
   "cell_type": "code",
   "execution_count": 31,
   "id": "b3e06a50-f99d-4c89-82bd-904467c7354b",
   "metadata": {},
   "outputs": [
    {
     "data": {
      "text/plain": [
       "'300'"
      ]
     },
     "execution_count": 31,
     "metadata": {},
     "output_type": "execute_result"
    }
   ],
   "source": [
    "spark.conf.get('spark.sql.shuffle.partitions')"
   ]
  },
  {
   "cell_type": "markdown",
   "id": "a493908a-cdfd-4d63-a9c0-ea0f0045994d",
   "metadata": {},
   "source": [
    "# udf"
   ]
  },
  {
   "cell_type": "code",
   "execution_count": 35,
   "id": "9517fb2e-ba17-44ce-9b97-dcbf9c2c3d83",
   "metadata": {},
   "outputs": [
    {
     "name": "stdout",
     "output_type": "stream",
     "text": [
      "+----+---+-----------+\n",
      "|Name|Age|name_length|\n",
      "+----+---+-----------+\n",
      "| tom| 10|          3|\n",
      "|nick| 15|          4|\n",
      "|juli| 14|          4|\n",
      "+----+---+-----------+\n",
      "\n"
     ]
    }
   ],
   "source": [
    "from pyspark.sql.functions import udf\n",
    "from pyspark.sql.types import *\n",
    "\n",
    "@udf(IntegerType())\n",
    "def name_length(name):\n",
    "    return len(name)\n",
    "\n",
    "df.withColumn(\"name_length\", name_length(df.Name)).show()"
   ]
  },
  {
   "cell_type": "code",
   "execution_count": 38,
   "id": "8d3df8d6-3de3-4eb5-8df1-870ee359f78f",
   "metadata": {},
   "outputs": [
    {
     "name": "stderr",
     "output_type": "stream",
     "text": [
      "25/06/11 23:28:37 WARN SimpleFunctionRegistry: The function name_length replaced a previously registered function.\n"
     ]
    },
    {
     "name": "stdout",
     "output_type": "stream",
     "text": [
      "+----+---+-----------+\n",
      "|Name|Age|name_length|\n",
      "+----+---+-----------+\n",
      "| tom| 10|          3|\n",
      "|nick| 15|          4|\n",
      "|juli| 14|          4|\n",
      "+----+---+-----------+\n",
      "\n"
     ]
    }
   ],
   "source": [
    "\n",
    "def name_length(name):\n",
    "    return len(name)\n",
    "    \n",
    "spark.udf.register(\"name_length\", name_length, IntegerType())\n",
    "spark.sql(\"SELECT *, name_length(name) as name_length FROM temp_table\").show()"
   ]
  },
  {
   "cell_type": "code",
   "execution_count": null,
   "id": "f90d6b54-3451-4d5d-8a08-e5ed431c6daf",
   "metadata": {},
   "outputs": [],
   "source": []
  }
 ],
 "metadata": {
  "kernelspec": {
   "display_name": "Python 3 (ipykernel)",
   "language": "python",
   "name": "python3"
  },
  "language_info": {
   "codemirror_mode": {
    "name": "ipython",
    "version": 3
   },
   "file_extension": ".py",
   "mimetype": "text/x-python",
   "name": "python",
   "nbconvert_exporter": "python",
   "pygments_lexer": "ipython3",
   "version": "3.11.13"
  }
 },
 "nbformat": 4,
 "nbformat_minor": 5
}
