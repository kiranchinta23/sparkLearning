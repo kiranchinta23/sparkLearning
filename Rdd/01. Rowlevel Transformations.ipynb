{
 "cells": [
  {
   "cell_type": "code",
   "execution_count": 1,
   "id": "dc4fc748-6cc0-4943-8995-0319f217ed52",
   "metadata": {},
   "outputs": [],
   "source": [
    "import findspark\n",
    "findspark.init()"
   ]
  },
  {
   "cell_type": "code",
   "execution_count": 2,
   "id": "3115f56c-dec0-4193-b93d-c52f559a1b14",
   "metadata": {},
   "outputs": [
    {
     "name": "stderr",
     "output_type": "stream",
     "text": [
      "25/06/07 20:10:27 WARN Utils: Your hostname, kirans-mac.local resolves to a loopback address: 127.0.0.1; using 172.18.197.149 instead (on interface en0)\n",
      "25/06/07 20:10:27 WARN Utils: Set SPARK_LOCAL_IP if you need to bind to another address\n",
      "Setting default log level to \"WARN\".\n",
      "To adjust logging level use sc.setLogLevel(newLevel). For SparkR, use setLogLevel(newLevel).\n",
      "25/06/07 20:10:27 WARN NativeCodeLoader: Unable to load native-hadoop library for your platform... using builtin-java classes where applicable\n",
      "25/06/07 20:10:27 WARN Utils: Service 'SparkUI' could not bind on port 4040. Attempting port 4041.\n"
     ]
    }
   ],
   "source": [
    "from pyspark.sql import SparkSession\n",
    "spark = SparkSession.builder \\\n",
    "    .appName(\"MyApp\") \\\n",
    "    .master(\"local[*]\") \\\n",
    "    .getOrCreate()"
   ]
  },
  {
   "cell_type": "code",
   "execution_count": null,
   "id": "7e3b5cbb-44cf-4b1a-b007-3281a8742701",
   "metadata": {},
   "outputs": [],
   "source": []
  },
  {
   "cell_type": "markdown",
   "id": "73391f58-6919-4f50-967d-4411e8238c46",
   "metadata": {},
   "source": [
    "# create RDD"
   ]
  },
  {
   "cell_type": "code",
   "execution_count": 9,
   "id": "6e214e0e-9309-4333-bb0a-594aa16ed0ef",
   "metadata": {},
   "outputs": [],
   "source": [
    "ord = spark.sparkContext.textFile('/Users/kiranchinta/Downloads/RetailDB SalesData/Orders')\n",
    "ordItems = spark.sparkContext.textFile('/Users/kiranchinta/Downloads/RetailDB SalesData/Orders_items')"
   ]
  },
  {
   "cell_type": "code",
   "execution_count": 10,
   "id": "6e172c50-9bb8-4981-b03b-b47d241bf683",
   "metadata": {},
   "outputs": [
    {
     "name": "stdout",
     "output_type": "stream",
     "text": [
      "1,2013-07-25 00:00:00.0,11599,CLOSED\n",
      "2,2013-07-25 00:00:00.0,256,PENDING_PAYMENT\n",
      "3,2013-07-25 00:00:00.0,12111,COMPLETE\n",
      "4,2013-07-25 00:00:00.0,8827,CLOSED\n",
      "5,2013-07-25 00:00:00.0,11318,COMPLETE\n"
     ]
    }
   ],
   "source": [
    "for i in ord.take(5):\n",
    "    print(i)"
   ]
  },
  {
   "cell_type": "markdown",
   "id": "8b17e7b5-52bb-4934-acc4-9451f187c4d7",
   "metadata": {},
   "source": [
    "# MAP transformations"
   ]
  },
  {
   "cell_type": "markdown",
   "id": "85ac6b77-d305-48a9-8365-dbedb34d31e8",
   "metadata": {},
   "source": [
    "### PS: Project all the Order_ids"
   ]
  },
  {
   "cell_type": "code",
   "execution_count": 11,
   "id": "67a3035b-6298-4bd9-a0d7-5b51d5cfd634",
   "metadata": {},
   "outputs": [
    {
     "name": "stdout",
     "output_type": "stream",
     "text": [
      "1\n",
      "2\n",
      "3\n",
      "4\n",
      "5\n"
     ]
    }
   ],
   "source": [
    "ordmap = ord.map(lambda x: x.split(',')[0])\n",
    "\n",
    "for i in ordmap.take(5):\n",
    "    print(i)"
   ]
  },
  {
   "cell_type": "markdown",
   "id": "3759b729-4c23-4ef8-aa20-bf74bca3c1fd",
   "metadata": {},
   "source": [
    "### PS: Project all the Orders and their status."
   ]
  },
  {
   "cell_type": "code",
   "execution_count": 16,
   "id": "90b2803d-e177-47e6-beff-8afc99e43a0e",
   "metadata": {},
   "outputs": [
    {
     "name": "stdout",
     "output_type": "stream",
     "text": [
      "('1', 'CLOSED')\n",
      "('2', 'PENDING_PAYMENT')\n",
      "('3', 'COMPLETE')\n",
      "('4', 'CLOSED')\n",
      "('5', 'COMPLETE')\n"
     ]
    }
   ],
   "source": [
    "ordmap = ord.map(lambda x : (x.split(',')[0] , x.split(',')[3]))\n",
    "\n",
    "for i in ordmap.take(5):\n",
    "    print(i)"
   ]
  },
  {
   "cell_type": "markdown",
   "id": "02181470-684d-4ae6-a34e-07f2e776f580",
   "metadata": {},
   "source": [
    "### PS: Combine Order id and status with ‘#’"
   ]
  },
  {
   "cell_type": "code",
   "execution_count": 18,
   "id": "008e6091-e333-4db1-b697-adff5d73378a",
   "metadata": {},
   "outputs": [
    {
     "name": "stdout",
     "output_type": "stream",
     "text": [
      "1#CLOSED\n",
      "2#PENDING_PAYMENT\n",
      "3#COMPLETE\n",
      "4#CLOSED\n",
      "5#COMPLETE\n"
     ]
    }
   ],
   "source": [
    "\n",
    "ordmap = ord.map(lambda x : (x.split(',')[0]+'#'+ x.split(',')[3]))\n",
    "\n",
    "for i in ordmap.take(5):\n",
    "    print(i)"
   ]
  },
  {
   "cell_type": "markdown",
   "id": "f505d307-66f5-4068-9471-52c33a3f3276",
   "metadata": {},
   "source": [
    "### PS: Convert the Order date into YYYY/MM/DD Format"
   ]
  },
  {
   "cell_type": "code",
   "execution_count": 19,
   "id": "ae25b4ec-6e97-42c8-aa33-1463c30eb16e",
   "metadata": {},
   "outputs": [
    {
     "name": "stdout",
     "output_type": "stream",
     "text": [
      "2013/07/25 00:00:00.0\n",
      "2013/07/25 00:00:00.0\n",
      "2013/07/25 00:00:00.0\n",
      "2013/07/25 00:00:00.0\n",
      "2013/07/25 00:00:00.0\n"
     ]
    }
   ],
   "source": [
    "ordmap = ord.map(lambda x : x.split(',')[1].replace('-','/'))\n",
    "\n",
    "for i in ordmap.take(5):\n",
    "    print(i)"
   ]
  },
  {
   "cell_type": "markdown",
   "id": "5d39d52c-547f-4f89-83db-3c1fe272f1ac",
   "metadata": {},
   "source": [
    "### PS: Applied user defined function to convert status into lowercase"
   ]
  },
  {
   "cell_type": "code",
   "execution_count": 24,
   "id": "0a4932eb-9156-462e-ab86-6d4e66cd711b",
   "metadata": {},
   "outputs": [
    {
     "name": "stdout",
     "output_type": "stream",
     "text": [
      "closed\n",
      "pending_payment\n",
      "complete\n",
      "closed\n",
      "complete\n"
     ]
    }
   ],
   "source": [
    "def lowerCase(str):\n",
    "    return str.lower()\n",
    "\n",
    "ordmap = ord.map(lambda x : lowerCase(x.split(',')[-1]))\n",
    "\n",
    "for i in ordmap.take(5):\n",
    "    print(i)\n"
   ]
  },
  {
   "cell_type": "markdown",
   "id": "f06f6e59-2a44-43e0-8916-837c3f61aee9",
   "metadata": {},
   "source": [
    "# flatMap Transformations"
   ]
  },
  {
   "cell_type": "code",
   "execution_count": 32,
   "id": "3d40c3d9-ed01-4c7b-a4e5-195137c8e9d3",
   "metadata": {},
   "outputs": [
    {
     "name": "stdout",
     "output_type": "stream",
     "text": [
      "['1', '2013-07-25 00:00:00.0', '11599', 'CLOSED']\n",
      "['2', '2013-07-25 00:00:00.0', '256', 'PENDING_PAYMENT']\n",
      "['3', '2013-07-25 00:00:00.0', '12111', 'COMPLETE']\n",
      "['4', '2013-07-25 00:00:00.0', '8827', 'CLOSED']\n",
      "['5', '2013-07-25 00:00:00.0', '11318', 'COMPLETE']\n"
     ]
    }
   ],
   "source": [
    "ordmap = ord.map(lambda x : x.split(\",\"))\n",
    "\n",
    "for i in ordmap.take(5):\n",
    "    print(i)"
   ]
  },
  {
   "cell_type": "code",
   "execution_count": 35,
   "id": "098dcd23-084b-4366-a22e-122bd35c0c00",
   "metadata": {},
   "outputs": [
    {
     "name": "stdout",
     "output_type": "stream",
     "text": [
      "1\n",
      "2013-07-25 00:00:00.0\n",
      "11599\n",
      "CLOSED\n",
      "2\n"
     ]
    }
   ],
   "source": [
    "ordflatmap = ord.flatMap(lambda x : x.split(\",\"))\n",
    "\n",
    "for i in ordflatmap.take(5):\n",
    "    print(i)"
   ]
  },
  {
   "cell_type": "code",
   "execution_count": 36,
   "id": "feab5829-990a-4cda-8f4e-9f495f88afd2",
   "metadata": {},
   "outputs": [
    {
     "name": "stdout",
     "output_type": "stream",
     "text": [
      "('1', 1)\n",
      "('2013-07-25 00:00:00.0', 1)\n",
      "('11599', 1)\n",
      "('CLOSED', 1)\n",
      "('2', 1)\n"
     ]
    }
   ],
   "source": [
    "wordCount = ord.flatMap(lambda x : x.split(',')).map(lambda w : (w,1))\n",
    "\n",
    "for i in wordCount.take(5):\n",
    "    print(i)"
   ]
  },
  {
   "cell_type": "code",
   "execution_count": 37,
   "id": "d6afdbdc-7e30-422e-8295-453db50b25a2",
   "metadata": {},
   "outputs": [
    {
     "name": "stdout",
     "output_type": "stream",
     "text": [
      "('2013-07-25 00:00:00.0', 143)\n",
      "('11599', 6)\n",
      "('CLOSED', 7556)\n",
      "('256', 11)\n",
      "('3', 8)\n"
     ]
    }
   ],
   "source": [
    "wordCount = ord.flatMap(lambda x : x.split(',')).map(lambda w : (w,1)).reduceByKey(lambda x,y : x+y)\n",
    "\n",
    "for i in wordCount.take(5):\n",
    "    print(i)"
   ]
  },
  {
   "cell_type": "code",
   "execution_count": null,
   "id": "c95376fe-f7c0-42c8-8943-4149559161de",
   "metadata": {},
   "outputs": [],
   "source": []
  },
  {
   "cell_type": "markdown",
   "id": "e0a0f538-4253-48c5-8b86-7a242df3fe2b",
   "metadata": {},
   "source": [
    "# Filter transformations"
   ]
  },
  {
   "cell_type": "markdown",
   "id": "0406f133-6b4c-4dd6-8c09-9d5e847c8a03",
   "metadata": {},
   "source": [
    "### PS: Print all the orders which are closed or Complete and ordered in the year 2013."
   ]
  },
  {
   "cell_type": "code",
   "execution_count": 45,
   "id": "ff522fee-9d75-47ab-bcaf-c5de723d4cdc",
   "metadata": {},
   "outputs": [
    {
     "name": "stdout",
     "output_type": "stream",
     "text": [
      "25882,2014-01-01 00:00:00.0,4598,COMPLETE\n",
      "25888,2014-01-01 00:00:00.0,6735,COMPLETE\n",
      "25889,2014-01-01 00:00:00.0,10045,COMPLETE\n",
      "25891,2014-01-01 00:00:00.0,3037,CLOSED\n",
      "25895,2014-01-01 00:00:00.0,1044,COMPLETE\n"
     ]
    }
   ],
   "source": [
    "filteredOrd = ord.filter(lambda x : (x.split(',')[3] in (\"CLOSED\",\"COMPLETE\")) and (x.split(',')[1].split('-')[0] == '2014'))\n",
    "\n",
    "for i in filteredOrd.take(5):\n",
    "    print(i)"
   ]
  },
  {
   "cell_type": "code",
   "execution_count": 46,
   "id": "aa1a0053-e2f1-45b3-8c47-44e16fc4099e",
   "metadata": {},
   "outputs": [
    {
     "data": {
      "text/plain": [
       "68883"
      ]
     },
     "execution_count": 46,
     "metadata": {},
     "output_type": "execute_result"
    }
   ],
   "source": [
    "ord.count()"
   ]
  },
  {
   "cell_type": "code",
   "execution_count": 47,
   "id": "76b6edd3-0f71-42ec-a792-6634337388fe",
   "metadata": {},
   "outputs": [
    {
     "data": {
      "text/plain": [
       "16831"
      ]
     },
     "execution_count": 47,
     "metadata": {},
     "output_type": "execute_result"
    }
   ],
   "source": [
    "filteredOrd.count()"
   ]
  },
  {
   "cell_type": "markdown",
   "id": "90d01fec-49a4-400a-942b-1568aa18815d",
   "metadata": {},
   "source": [
    "# mapValue Transformations"
   ]
  },
  {
   "cell_type": "code",
   "execution_count": 51,
   "id": "e4fed608-9379-46fb-90d2-30fcf32eda27",
   "metadata": {},
   "outputs": [
    {
     "name": "stdout",
     "output_type": "stream",
     "text": [
      "('a', (1, 2, 3))\n",
      "('b', (3, 4, 5))\n",
      "('a', (1, 2, 3, 4, 5))\n"
     ]
    }
   ],
   "source": [
    "rdd = spark.sparkContext.parallelize(((\"a\", (1,2,3)), (\"b\", (3,4,5)),(\"a\", (1,2,3,4,5))))\n",
    "\n",
    "for i in rdd.take(5):\n",
    "    print(i)"
   ]
  },
  {
   "cell_type": "code",
   "execution_count": 52,
   "id": "819bef9d-8555-4812-9985-e8c989c3848a",
   "metadata": {},
   "outputs": [],
   "source": [
    "def f(x): \n",
    "    return len(x)"
   ]
  },
  {
   "cell_type": "code",
   "execution_count": 53,
   "id": "d25b3ff3-c747-400e-9389-81dc02dcc7f7",
   "metadata": {},
   "outputs": [
    {
     "data": {
      "text/plain": [
       "[('a', 3), ('b', 3), ('a', 5)]"
      ]
     },
     "execution_count": 53,
     "metadata": {},
     "output_type": "execute_result"
    }
   ],
   "source": [
    "rdd.mapValues(f).collect()"
   ]
  },
  {
   "cell_type": "code",
   "execution_count": null,
   "id": "ae1820ef-7de2-482a-8668-cd9707f88417",
   "metadata": {},
   "outputs": [],
   "source": []
  }
 ],
 "metadata": {
  "kernelspec": {
   "display_name": "Python 3 (ipykernel)",
   "language": "python",
   "name": "python3"
  },
  "language_info": {
   "codemirror_mode": {
    "name": "ipython",
    "version": 3
   },
   "file_extension": ".py",
   "mimetype": "text/x-python",
   "name": "python",
   "nbconvert_exporter": "python",
   "pygments_lexer": "ipython3",
   "version": "3.11.13"
  }
 },
 "nbformat": 4,
 "nbformat_minor": 5
}
