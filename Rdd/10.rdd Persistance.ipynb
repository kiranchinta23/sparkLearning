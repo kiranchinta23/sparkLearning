{
 "cells": [
  {
   "cell_type": "code",
   "execution_count": 1,
   "id": "ca9475b7-a921-4a10-b3d7-eb8ca442912d",
   "metadata": {},
   "outputs": [],
   "source": [
    "import findspark\n",
    "findspark.init()"
   ]
  },
  {
   "cell_type": "code",
   "execution_count": 2,
   "id": "24b371e6-b2af-4373-9caa-b3d75b23df11",
   "metadata": {},
   "outputs": [
    {
     "name": "stderr",
     "output_type": "stream",
     "text": [
      "WARNING: Using incubator modules: jdk.incubator.vector\n",
      "Using Spark's default log4j profile: org/apache/spark/log4j2-defaults.properties\n",
      "25/06/11 06:19:58 WARN Utils: Your hostname, kirans-mac.local, resolves to a loopback address: 127.0.0.1; using 172.18.197.149 instead (on interface en0)\n",
      "25/06/11 06:19:58 WARN Utils: Set SPARK_LOCAL_IP if you need to bind to another address\n",
      "Using Spark's default log4j profile: org/apache/spark/log4j2-defaults.properties\n",
      "Setting default log level to \"WARN\".\n",
      "To adjust logging level use sc.setLogLevel(newLevel). For SparkR, use setLogLevel(newLevel).\n",
      "25/06/11 06:19:58 WARN NativeCodeLoader: Unable to load native-hadoop library for your platform... using builtin-java classes where applicable\n",
      "25/06/11 06:19:59 WARN Utils: Service 'SparkUI' could not bind on port 4040. Attempting port 4041.\n",
      "25/06/11 06:19:59 WARN Utils: Service 'SparkUI' could not bind on port 4041. Attempting port 4042.\n"
     ]
    }
   ],
   "source": [
    "from pyspark.sql import SparkSession\n",
    "spark = SparkSession.builder \\\n",
    "    .appName(\"MyApp\") \\\n",
    "    .master(\"local[*]\") \\\n",
    "    .getOrCreate()"
   ]
  },
  {
   "cell_type": "markdown",
   "id": "e5cc06de-d931-4bb4-9d54-0348518c4b58",
   "metadata": {},
   "source": [
    "# Create Rdd"
   ]
  },
  {
   "cell_type": "code",
   "execution_count": 3,
   "id": "1924687a-3fbc-4ad6-a71e-6089d3a90d36",
   "metadata": {},
   "outputs": [],
   "source": [
    "ord = spark.sparkContext.textFile('/Users/kiranchinta/Downloads/RetailDB SalesData/Orders')\n",
    "ordItems = spark.sparkContext.textFile('/Users/kiranchinta/Downloads/RetailDB SalesData/Order_items')"
   ]
  },
  {
   "cell_type": "markdown",
   "id": "4482e51a-f391-4ed2-aad5-0b5f09f88ff7",
   "metadata": {},
   "source": [
    "# persisit RDD"
   ]
  },
  {
   "cell_type": "code",
   "execution_count": 4,
   "id": "cdff14da-6a23-44c1-8795-e9cd4c72cbac",
   "metadata": {},
   "outputs": [
    {
     "data": {
      "text/plain": [
       "/Users/kiranchinta/Downloads/RetailDB SalesData/Orders MapPartitionsRDD[1] at textFile at NativeMethodAccessorImpl.java:0"
      ]
     },
     "execution_count": 4,
     "metadata": {},
     "output_type": "execute_result"
    }
   ],
   "source": [
    "ord.persist()"
   ]
  },
  {
   "cell_type": "code",
   "execution_count": 6,
   "id": "cafacad2-37bb-4a13-840e-505d1cd56b60",
   "metadata": {},
   "outputs": [
    {
     "data": {
      "text/plain": [
       "True"
      ]
     },
     "execution_count": 6,
     "metadata": {},
     "output_type": "execute_result"
    }
   ],
   "source": [
    "ord.is_cached"
   ]
  },
  {
   "cell_type": "code",
   "execution_count": 8,
   "id": "64b82b1e-d8b4-4dda-98f6-7ad99b219bd4",
   "metadata": {},
   "outputs": [
    {
     "data": {
      "text/plain": [
       "StorageLevel(False, True, False, False, 1)"
      ]
     },
     "execution_count": 8,
     "metadata": {},
     "output_type": "execute_result"
    }
   ],
   "source": [
    "ord.getStorageLevel()"
   ]
  },
  {
   "cell_type": "markdown",
   "id": "2691d6cb-3652-44a4-a1a2-9c43a42e4c04",
   "metadata": {},
   "source": [
    "# persist with storage level"
   ]
  },
  {
   "cell_type": "code",
   "execution_count": 10,
   "id": "af45fd43-d991-472f-95e7-b3d8de92a4dc",
   "metadata": {},
   "outputs": [
    {
     "data": {
      "text/plain": [
       "StorageLevel(True, True, False, False, 2)"
      ]
     },
     "execution_count": 10,
     "metadata": {},
     "output_type": "execute_result"
    }
   ],
   "source": [
    "from pyspark import StorageLevel\n",
    "ordItems.persist(StorageLevel.MEMORY_AND_DISK_2)\n",
    "ordItems.getStorageLevel()"
   ]
  },
  {
   "cell_type": "code",
   "execution_count": null,
   "id": "b3983b31-61c1-436a-98d3-1ad20588d010",
   "metadata": {},
   "outputs": [],
   "source": []
  }
 ],
 "metadata": {
  "kernelspec": {
   "display_name": "Python 3 (ipykernel)",
   "language": "python",
   "name": "python3"
  },
  "language_info": {
   "codemirror_mode": {
    "name": "ipython",
    "version": 3
   },
   "file_extension": ".py",
   "mimetype": "text/x-python",
   "name": "python",
   "nbconvert_exporter": "python",
   "pygments_lexer": "ipython3",
   "version": "3.11.13"
  }
 },
 "nbformat": 4,
 "nbformat_minor": 5
}
