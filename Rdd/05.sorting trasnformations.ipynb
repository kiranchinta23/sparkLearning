{
 "cells": [
  {
   "cell_type": "code",
   "execution_count": 1,
   "id": "d9bcfda7-9bd8-441a-ab7d-f6277af5dfba",
   "metadata": {},
   "outputs": [],
   "source": [
    "import findspark\n",
    "findspark.init()"
   ]
  },
  {
   "cell_type": "code",
   "execution_count": 2,
   "id": "63db460c-2108-4ad5-b2c6-e17da23bc1c7",
   "metadata": {},
   "outputs": [
    {
     "name": "stderr",
     "output_type": "stream",
     "text": [
      "WARNING: Using incubator modules: jdk.incubator.vector\n",
      "Using Spark's default log4j profile: org/apache/spark/log4j2-defaults.properties\n",
      "25/06/09 12:10:58 WARN Utils: Your hostname, kirans-mac.local, resolves to a loopback address: 127.0.0.1; using 172.18.197.149 instead (on interface en0)\n",
      "25/06/09 12:10:58 WARN Utils: Set SPARK_LOCAL_IP if you need to bind to another address\n",
      "Using Spark's default log4j profile: org/apache/spark/log4j2-defaults.properties\n",
      "Setting default log level to \"WARN\".\n",
      "To adjust logging level use sc.setLogLevel(newLevel). For SparkR, use setLogLevel(newLevel).\n",
      "25/06/09 12:10:58 WARN NativeCodeLoader: Unable to load native-hadoop library for your platform... using builtin-java classes where applicable\n"
     ]
    }
   ],
   "source": [
    "from pyspark.sql import SparkSession\n",
    "spark = SparkSession.builder \\\n",
    "    .appName(\"MyApp\") \\\n",
    "    .master(\"local[*]\") \\\n",
    "    .getOrCreate()"
   ]
  },
  {
   "cell_type": "markdown",
   "id": "ece0e4d2-41d6-44eb-9133-0a0749fcc7b7",
   "metadata": {},
   "source": [
    "# Create RDD"
   ]
  },
  {
   "cell_type": "code",
   "execution_count": 3,
   "id": "13613c9d-8f88-4381-8c06-08bb9bdd3b12",
   "metadata": {},
   "outputs": [],
   "source": [
    "ord = spark.sparkContext.textFile('/Users/kiranchinta/Downloads/RetailDB SalesData/Orders')\n",
    "ordItems = spark.sparkContext.textFile('/Users/kiranchinta/Downloads/RetailDB SalesData/Order_items')"
   ]
  },
  {
   "cell_type": "code",
   "execution_count": 4,
   "id": "fb432ba1-6cd6-4d58-ab81-eff7e3c933ba",
   "metadata": {},
   "outputs": [],
   "source": [
    "# order items\n",
    "# itemid, item_orider_id, item_product_id,item_quantity, item_revenue, item_price"
   ]
  },
  {
   "cell_type": "code",
   "execution_count": 20,
   "id": "573d4867-333c-4857-a748-1c85bc9d6454",
   "metadata": {},
   "outputs": [
    {
     "data": {
      "text/plain": [
       "['1,2013-07-25 00:00:00.0,11599,CLOSED',\n",
       " '2,2013-07-25 00:00:00.0,256,PENDING_PAYMENT',\n",
       " '3,2013-07-25 00:00:00.0,12111,COMPLETE',\n",
       " '4,2013-07-25 00:00:00.0,8827,CLOSED',\n",
       " '5,2013-07-25 00:00:00.0,11318,COMPLETE']"
      ]
     },
     "execution_count": 20,
     "metadata": {},
     "output_type": "execute_result"
    }
   ],
   "source": [
    "ord.take(5)"
   ]
  },
  {
   "cell_type": "markdown",
   "id": "e8df09b6-65d5-4dbc-8a7c-c90abe45847c",
   "metadata": {},
   "source": [
    "### sort by customer id"
   ]
  },
  {
   "cell_type": "code",
   "execution_count": 21,
   "id": "45c03045-7083-4fbf-91d3-2a83913bd05a",
   "metadata": {},
   "outputs": [
    {
     "data": {
      "text/plain": [
       "[('11599', '1,2013-07-25 00:00:00.0,11599,CLOSED'),\n",
       " ('256', '2,2013-07-25 00:00:00.0,256,PENDING_PAYMENT'),\n",
       " ('12111', '3,2013-07-25 00:00:00.0,12111,COMPLETE'),\n",
       " ('8827', '4,2013-07-25 00:00:00.0,8827,CLOSED'),\n",
       " ('11318', '5,2013-07-25 00:00:00.0,11318,COMPLETE')]"
      ]
     },
     "execution_count": 21,
     "metadata": {},
     "output_type": "execute_result"
    }
   ],
   "source": [
    "ordpair =  ord.map(lambda x : (x.split(',')[2],x))\n",
    "ordpair.take(5)"
   ]
  },
  {
   "cell_type": "code",
   "execution_count": 22,
   "id": "e2ed132c-3fe1-49ec-96b4-3d58be2a1ec4",
   "metadata": {},
   "outputs": [
    {
     "data": {
      "text/plain": [
       "[('1', '22945,2013-12-13 00:00:00.0,1,COMPLETE'),\n",
       " ('10', '45239,2014-05-01 00:00:00.0,10,COMPLETE'),\n",
       " ('10', '56133,2014-07-15 00:00:00.0,10,COMPLETE'),\n",
       " ('100', '6641,2013-09-05 00:00:00.0,100,COMPLETE'),\n",
       " ('100', '15045,2013-10-28 00:00:00.0,100,PROCESSING'),\n",
       " ('100', '22395,2013-12-09 00:00:00.0,100,CANCELED'),\n",
       " ('100', '28477,2014-01-16 00:00:00.0,100,COMPLETE'),\n",
       " ('100', '54995,2014-07-08 00:00:00.0,100,COMPLETE'),\n",
       " ('100', '62907,2014-02-06 00:00:00.0,100,PENDING_PAYMENT'),\n",
       " ('100', '64426,2014-04-06 00:00:00.0,100,PENDING')]"
      ]
     },
     "execution_count": 22,
     "metadata": {},
     "output_type": "execute_result"
    }
   ],
   "source": [
    "ordpair.sortByKey().take(10)"
   ]
  },
  {
   "cell_type": "code",
   "execution_count": 23,
   "id": "e09ac6dc-a9c4-49a7-9426-cb143b466945",
   "metadata": {},
   "outputs": [
    {
     "data": {
      "text/plain": [
       "[('9999', '3471,2013-08-14 00:00:00.0,9999,COMPLETE'),\n",
       " ('9999', '41855,2014-04-09 00:00:00.0,9999,SUSPECTED_FRAUD'),\n",
       " ('9999', '52395,2014-06-18 00:00:00.0,9999,CLOSED'),\n",
       " ('9999', '55071,2014-07-08 00:00:00.0,9999,COMPLETE'),\n",
       " ('9999', '62988,2014-02-09 00:00:00.0,9999,PENDING'),\n",
       " ('9998', '11553,2013-10-04 00:00:00.0,9998,PENDING_PAYMENT'),\n",
       " ('9998', '32253,2014-02-09 00:00:00.0,9998,PENDING_PAYMENT'),\n",
       " ('9998', '41298,2014-04-04 00:00:00.0,9998,PROCESSING'),\n",
       " ('9998', '59429,2013-09-29 00:00:00.0,9998,ON_HOLD'),\n",
       " ('9998', '59713,2013-10-10 00:00:00.0,9998,CANCELED')]"
      ]
     },
     "execution_count": 23,
     "metadata": {},
     "output_type": "execute_result"
    }
   ],
   "source": [
    "ordpair.sortByKey(ascending=False).take(10)"
   ]
  },
  {
   "cell_type": "markdown",
   "id": "696cfbf5-b7ae-4227-ade7-7dea45cd4670",
   "metadata": {},
   "source": [
    "### sort by item customer, status"
   ]
  },
  {
   "cell_type": "code",
   "execution_count": 24,
   "id": "80c0b405-435d-4da0-8237-a751b6c59fb8",
   "metadata": {},
   "outputs": [
    {
     "data": {
      "text/plain": [
       "[(('11599', 'CLOSED'), '1,2013-07-25 00:00:00.0,11599,CLOSED'),\n",
       " (('256', 'PENDING_PAYMENT'), '2,2013-07-25 00:00:00.0,256,PENDING_PAYMENT'),\n",
       " (('12111', 'COMPLETE'), '3,2013-07-25 00:00:00.0,12111,COMPLETE'),\n",
       " (('8827', 'CLOSED'), '4,2013-07-25 00:00:00.0,8827,CLOSED'),\n",
       " (('11318', 'COMPLETE'), '5,2013-07-25 00:00:00.0,11318,COMPLETE')]"
      ]
     },
     "execution_count": 24,
     "metadata": {},
     "output_type": "execute_result"
    }
   ],
   "source": [
    "ordpair =  ord.map(lambda x : ((x.split(',')[2],x.split(',')[3]),x))\n",
    "ordpair.take(5)"
   ]
  },
  {
   "cell_type": "code",
   "execution_count": 25,
   "id": "ac3c7a14-aaeb-4740-a2f7-53ff8742ac55",
   "metadata": {},
   "outputs": [
    {
     "data": {
      "text/plain": [
       "[(('1', 'COMPLETE'), '22945,2013-12-13 00:00:00.0,1,COMPLETE'),\n",
       " (('10', 'COMPLETE'), '45239,2014-05-01 00:00:00.0,10,COMPLETE'),\n",
       " (('10', 'COMPLETE'), '56133,2014-07-15 00:00:00.0,10,COMPLETE'),\n",
       " (('100', 'CANCELED'), '22395,2013-12-09 00:00:00.0,100,CANCELED'),\n",
       " (('100', 'COMPLETE'), '6641,2013-09-05 00:00:00.0,100,COMPLETE'),\n",
       " (('100', 'COMPLETE'), '28477,2014-01-16 00:00:00.0,100,COMPLETE'),\n",
       " (('100', 'COMPLETE'), '54995,2014-07-08 00:00:00.0,100,COMPLETE'),\n",
       " (('100', 'PENDING'), '64426,2014-04-06 00:00:00.0,100,PENDING'),\n",
       " (('100', 'PENDING_PAYMENT'),\n",
       "  '62907,2014-02-06 00:00:00.0,100,PENDING_PAYMENT'),\n",
       " (('100', 'PROCESSING'), '15045,2013-10-28 00:00:00.0,100,PROCESSING')]"
      ]
     },
     "execution_count": 25,
     "metadata": {},
     "output_type": "execute_result"
    }
   ],
   "source": [
    "ordpair.sortByKey().take(10)"
   ]
  },
  {
   "cell_type": "markdown",
   "id": "1001554d-053f-465d-ac20-6d74ead5f628",
   "metadata": {},
   "source": [
    "### takeordered()"
   ]
  },
  {
   "cell_type": "code",
   "execution_count": 40,
   "id": "e7038c74-8646-4ed3-8d9e-7ec6f69b390e",
   "metadata": {},
   "outputs": [],
   "source": [
    "prod = spark.sparkContext.textFile('/Users/kiranchinta/Downloads/RetailDB SalesData/Products')"
   ]
  },
  {
   "cell_type": "code",
   "execution_count": 41,
   "id": "df8c326d-e568-4242-bf86-0059a93b726e",
   "metadata": {},
   "outputs": [
    {
     "data": {
      "text/plain": [
       "['1,2,Quest Q64 10 FT. x 10 FT. Slant Leg Instant U,,59.98,http://images.acmesports.sports/Quest+Q64+10+FT.+x+10+FT.+Slant+Leg+Instant+Up+Canopy',\n",
       " \"2,2,Under Armour Men's Highlight MC Football Clea,,129.99,http://images.acmesports.sports/Under+Armour+Men%27s+Highlight+MC+Football+Cleat\",\n",
       " \"3,2,Under Armour Men's Renegade D Mid Football Cl,,89.99,http://images.acmesports.sports/Under+Armour+Men%27s+Renegade+D+Mid+Football+Cleat\",\n",
       " \"4,2,Under Armour Men's Renegade D Mid Football Cl,,89.99,http://images.acmesports.sports/Under+Armour+Men%27s+Renegade+D+Mid+Football+Cleat\",\n",
       " '5,2,Riddell Youth Revolution Speed Custom Footbal,,199.99,http://images.acmesports.sports/Riddell+Youth+Revolution+Speed+Custom+Football+Helmet']"
      ]
     },
     "execution_count": 41,
     "metadata": {},
     "output_type": "execute_result"
    }
   ],
   "source": [
    "prod.take(5)"
   ]
  },
  {
   "cell_type": "code",
   "execution_count": 42,
   "id": "805756c3-8c71-4734-be77-21ff917eec46",
   "metadata": {},
   "outputs": [],
   "source": [
    "# product_id ,category_id, , product_name, product_description, price, image"
   ]
  },
  {
   "cell_type": "markdown",
   "id": "f0d4eeb1-0678-40b5-a007-0795a74c4d91",
   "metadata": {},
   "source": [
    "### sort by product price"
   ]
  },
  {
   "cell_type": "code",
   "execution_count": 47,
   "id": "859b295b-6720-4127-9cb9-8b3bb33e228b",
   "metadata": {},
   "outputs": [
    {
     "data": {
      "text/plain": [
       "[(59.98,\n",
       "  '1,2,Quest Q64 10 FT. x 10 FT. Slant Leg Instant U,,59.98,http://images.acmesports.sports/Quest+Q64+10+FT.+x+10+FT.+Slant+Leg+Instant+Up+Canopy'),\n",
       " (129.99,\n",
       "  \"2,2,Under Armour Men's Highlight MC Football Clea,,129.99,http://images.acmesports.sports/Under+Armour+Men%27s+Highlight+MC+Football+Cleat\"),\n",
       " (89.99,\n",
       "  \"3,2,Under Armour Men's Renegade D Mid Football Cl,,89.99,http://images.acmesports.sports/Under+Armour+Men%27s+Renegade+D+Mid+Football+Cleat\"),\n",
       " (89.99,\n",
       "  \"4,2,Under Armour Men's Renegade D Mid Football Cl,,89.99,http://images.acmesports.sports/Under+Armour+Men%27s+Renegade+D+Mid+Football+Cleat\"),\n",
       " (199.99,\n",
       "  '5,2,Riddell Youth Revolution Speed Custom Footbal,,199.99,http://images.acmesports.sports/Riddell+Youth+Revolution+Speed+Custom+Football+Helmet')]"
      ]
     },
     "execution_count": 47,
     "metadata": {},
     "output_type": "execute_result"
    }
   ],
   "source": [
    "prod = prod.filter(lambda x: x.split(',')[4]!= '')\n",
    "prodpair = prod.map(lambda x : (float(x.split(',')[4]),x))\n",
    "prodpair.take(5)"
   ]
  },
  {
   "cell_type": "code",
   "execution_count": 48,
   "id": "06b43c43-8d1f-40a0-b74d-dcc52d5ef416",
   "metadata": {},
   "outputs": [
    {
     "data": {
      "text/plain": [
       "[(0.0,\n",
       "  \"38,3,Nike Men's Hypervenom Phantom Premium FG Socc,,0.0,http://images.acmesports.sports/Nike+Men%27s+Hypervenom+Phantom+Premium+FG+Soccer+Cleat\"),\n",
       " (0.0,\n",
       "  \"388,18,Nike Men's Hypervenom Phantom Premium FG Socc,,0.0,http://images.acmesports.sports/Nike+Men%27s+Hypervenom+Phantom+Premium+FG+Soccer+Cleat\"),\n",
       " (0.0,\n",
       "  \"414,19,Nike Men's Hypervenom Phantom Premium FG Socc,,0.0,http://images.acmesports.sports/Nike+Men%27s+Hypervenom+Phantom+Premium+FG+Soccer+Cleat\"),\n",
       " (0.0,\n",
       "  \"517,24,Nike Men's Hypervenom Phantom Premium FG Socc,,0.0,http://images.acmesports.sports/Nike+Men%27s+Hypervenom+Phantom+Premium+FG+Soccer+Cleat\"),\n",
       " (0.0,\n",
       "  \"547,25,Nike Men's Hypervenom Phantom Premium FG Socc,,0.0,http://images.acmesports.sports/Nike+Men%27s+Hypervenom+Phantom+Premium+FG+Soccer+Cleat\")]"
      ]
     },
     "execution_count": 48,
     "metadata": {},
     "output_type": "execute_result"
    }
   ],
   "source": [
    "prodpair.sortByKey().take(5)"
   ]
  },
  {
   "cell_type": "code",
   "execution_count": 49,
   "id": "d7b7fc71-2f06-4a2a-b6f9-65cd3c715a66",
   "metadata": {},
   "outputs": [
    {
     "data": {
      "text/plain": [
       "[(1999.99,\n",
       "  '208,10,SOLE E35 Elliptical,,1999.99,http://images.acmesports.sports/SOLE+E35+Elliptical'),\n",
       " (1799.99,\n",
       "  '66,4,SOLE F85 Treadmill,,1799.99,http://images.acmesports.sports/SOLE+F85+Treadmill'),\n",
       " (1799.99,\n",
       "  '199,10,SOLE F85 Treadmill,,1799.99,http://images.acmesports.sports/SOLE+F85+Treadmill'),\n",
       " (1799.99,\n",
       "  '496,22,SOLE F85 Treadmill,,1799.99,http://images.acmesports.sports/SOLE+F85+Treadmill'),\n",
       " (1099.99,\n",
       "  '1048,47,\"Spalding Beast 60\"\" Glass Portable Basketball \",,1099.99,http://images.acmesports.sports/Spalding+Beast+60%22+Glass+Portable+Basketball+Hoop')]"
      ]
     },
     "execution_count": 49,
     "metadata": {},
     "output_type": "execute_result"
    }
   ],
   "source": [
    "prodpair.sortByKey(False).take(5)"
   ]
  },
  {
   "cell_type": "code",
   "execution_count": 50,
   "id": "1878bdea-64c2-48ff-987a-899f2be1653d",
   "metadata": {},
   "outputs": [
    {
     "data": {
      "text/plain": [
       "[\"38,3,Nike Men's Hypervenom Phantom Premium FG Socc,,0.0,http://images.acmesports.sports/Nike+Men%27s+Hypervenom+Phantom+Premium+FG+Soccer+Cleat\",\n",
       " \"388,18,Nike Men's Hypervenom Phantom Premium FG Socc,,0.0,http://images.acmesports.sports/Nike+Men%27s+Hypervenom+Phantom+Premium+FG+Soccer+Cleat\",\n",
       " \"414,19,Nike Men's Hypervenom Phantom Premium FG Socc,,0.0,http://images.acmesports.sports/Nike+Men%27s+Hypervenom+Phantom+Premium+FG+Soccer+Cleat\",\n",
       " \"517,24,Nike Men's Hypervenom Phantom Premium FG Socc,,0.0,http://images.acmesports.sports/Nike+Men%27s+Hypervenom+Phantom+Premium+FG+Soccer+Cleat\",\n",
       " \"547,25,Nike Men's Hypervenom Phantom Premium FG Socc,,0.0,http://images.acmesports.sports/Nike+Men%27s+Hypervenom+Phantom+Premium+FG+Soccer+Cleat\"]"
      ]
     },
     "execution_count": 50,
     "metadata": {},
     "output_type": "execute_result"
    }
   ],
   "source": [
    "prod.takeOrdered(5,lambda x : float(x.split(',')[4]))"
   ]
  },
  {
   "cell_type": "code",
   "execution_count": 51,
   "id": "64c8a7ea-834e-45a6-9c2a-560a38313ced",
   "metadata": {},
   "outputs": [
    {
     "data": {
      "text/plain": [
       "['208,10,SOLE E35 Elliptical,,1999.99,http://images.acmesports.sports/SOLE+E35+Elliptical',\n",
       " '66,4,SOLE F85 Treadmill,,1799.99,http://images.acmesports.sports/SOLE+F85+Treadmill',\n",
       " '199,10,SOLE F85 Treadmill,,1799.99,http://images.acmesports.sports/SOLE+F85+Treadmill',\n",
       " '496,22,SOLE F85 Treadmill,,1799.99,http://images.acmesports.sports/SOLE+F85+Treadmill',\n",
       " '1048,47,\"Spalding Beast 60\"\" Glass Portable Basketball \",,1099.99,http://images.acmesports.sports/Spalding+Beast+60%22+Glass+Portable+Basketball+Hoop']"
      ]
     },
     "execution_count": 51,
     "metadata": {},
     "output_type": "execute_result"
    }
   ],
   "source": [
    "prod.takeOrdered(5,lambda x : -float(x.split(',')[4]))"
   ]
  },
  {
   "cell_type": "code",
   "execution_count": null,
   "id": "a14e5f4b-0a62-43f4-8d11-894976ba1f0c",
   "metadata": {},
   "outputs": [],
   "source": []
  },
  {
   "cell_type": "markdown",
   "id": "4b2e8b29-f98b-4068-9ea0-b485ef5364d6",
   "metadata": {},
   "source": [
    "# grouped ranking"
   ]
  },
  {
   "cell_type": "code",
   "execution_count": 52,
   "id": "d2275997-1b3e-478b-a50b-435c82ab483b",
   "metadata": {},
   "outputs": [],
   "source": [
    "prodF = prod.filter(lambda x : int(x.split(',')[1]) in [2,3,4] and (int(x.split(',')[0]) in [1,2,3,4,5,25,26,27,28,29,49,50,51,52,53]))"
   ]
  },
  {
   "cell_type": "code",
   "execution_count": 53,
   "id": "d1e5191e-616c-4d8b-bd9b-856af8608dee",
   "metadata": {},
   "outputs": [
    {
     "data": {
      "text/plain": [
       "['1,2,Quest Q64 10 FT. x 10 FT. Slant Leg Instant U,,59.98,http://images.acmesports.sports/Quest+Q64+10+FT.+x+10+FT.+Slant+Leg+Instant+Up+Canopy',\n",
       " \"2,2,Under Armour Men's Highlight MC Football Clea,,129.99,http://images.acmesports.sports/Under+Armour+Men%27s+Highlight+MC+Football+Cleat\",\n",
       " \"3,2,Under Armour Men's Renegade D Mid Football Cl,,89.99,http://images.acmesports.sports/Under+Armour+Men%27s+Renegade+D+Mid+Football+Cleat\",\n",
       " \"4,2,Under Armour Men's Renegade D Mid Football Cl,,89.99,http://images.acmesports.sports/Under+Armour+Men%27s+Renegade+D+Mid+Football+Cleat\",\n",
       " '5,2,Riddell Youth Revolution Speed Custom Footbal,,199.99,http://images.acmesports.sports/Riddell+Youth+Revolution+Speed+Custom+Football+Helmet']"
      ]
     },
     "execution_count": 53,
     "metadata": {},
     "output_type": "execute_result"
    }
   ],
   "source": [
    "prodF.take(5)"
   ]
  },
  {
   "cell_type": "code",
   "execution_count": 55,
   "id": "ff4c82ec-afc0-4f4b-8ffb-ea9677ef97f2",
   "metadata": {},
   "outputs": [
    {
     "data": {
      "text/plain": [
       "[(2, <pyspark.resultiterable.ResultIterable at 0x104803ed0>),\n",
       " (4, <pyspark.resultiterable.ResultIterable at 0x1048c88d0>),\n",
       " (3, <pyspark.resultiterable.ResultIterable at 0x1059f3610>)]"
      ]
     },
     "execution_count": 55,
     "metadata": {},
     "output_type": "execute_result"
    }
   ],
   "source": [
    "prodFGroupBy = prodF.map(lambda x : ( int(x.split(',')[1]), x)).groupByKey()\n",
    "prodFGroupBy.take(5)"
   ]
  },
  {
   "cell_type": "code",
   "execution_count": 59,
   "id": "63aebac1-9d27-4494-bd75-6ab8f45747fc",
   "metadata": {},
   "outputs": [
    {
     "data": {
      "text/plain": [
       "(2, <pyspark.resultiterable.ResultIterable at 0x1048c8310>)"
      ]
     },
     "execution_count": 59,
     "metadata": {},
     "output_type": "execute_result"
    }
   ],
   "source": [
    "first = prodFGroupBy.first()\n",
    "first"
   ]
  },
  {
   "cell_type": "code",
   "execution_count": 60,
   "id": "2f1fb896-30eb-4f18-98bc-46ad75be432d",
   "metadata": {},
   "outputs": [
    {
     "data": {
      "text/plain": [
       "['5,2,Riddell Youth Revolution Speed Custom Footbal,,199.99,http://images.acmesports.sports/Riddell+Youth+Revolution+Speed+Custom+Football+Helmet',\n",
       " \"2,2,Under Armour Men's Highlight MC Football Clea,,129.99,http://images.acmesports.sports/Under+Armour+Men%27s+Highlight+MC+Football+Cleat\",\n",
       " \"3,2,Under Armour Men's Renegade D Mid Football Cl,,89.99,http://images.acmesports.sports/Under+Armour+Men%27s+Renegade+D+Mid+Football+Cleat\",\n",
       " \"4,2,Under Armour Men's Renegade D Mid Football Cl,,89.99,http://images.acmesports.sports/Under+Armour+Men%27s+Renegade+D+Mid+Football+Cleat\",\n",
       " '1,2,Quest Q64 10 FT. x 10 FT. Slant Leg Instant U,,59.98,http://images.acmesports.sports/Quest+Q64+10+FT.+x+10+FT.+Slant+Leg+Instant+Up+Canopy']"
      ]
     },
     "execution_count": 60,
     "metadata": {},
     "output_type": "execute_result"
    }
   ],
   "source": [
    "sorted(first[1],key = lambda x : float(x.split(',')[4]),reverse=True)"
   ]
  },
  {
   "cell_type": "code",
   "execution_count": null,
   "id": "25f8afa1-497d-4f0c-93d2-c697824d4ef8",
   "metadata": {},
   "outputs": [],
   "source": []
  }
 ],
 "metadata": {
  "kernelspec": {
   "display_name": "Python 3 (ipykernel)",
   "language": "python",
   "name": "python3"
  },
  "language_info": {
   "codemirror_mode": {
    "name": "ipython",
    "version": 3
   },
   "file_extension": ".py",
   "mimetype": "text/x-python",
   "name": "python",
   "nbconvert_exporter": "python",
   "pygments_lexer": "ipython3",
   "version": "3.11.13"
  }
 },
 "nbformat": 4,
 "nbformat_minor": 5
}
