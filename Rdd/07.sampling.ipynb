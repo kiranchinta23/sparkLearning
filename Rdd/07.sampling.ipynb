{
 "cells": [
  {
   "cell_type": "code",
   "execution_count": 1,
   "id": "0cb72cb3-319e-4291-a5ec-8c0f4ba43e20",
   "metadata": {},
   "outputs": [],
   "source": [
    "import findspark\n",
    "findspark.init()"
   ]
  },
  {
   "cell_type": "code",
   "execution_count": 2,
   "id": "00666d4c-db56-4bf6-9061-915bfb163646",
   "metadata": {},
   "outputs": [
    {
     "name": "stderr",
     "output_type": "stream",
     "text": [
      "WARNING: Using incubator modules: jdk.incubator.vector\n",
      "Using Spark's default log4j profile: org/apache/spark/log4j2-defaults.properties\n",
      "25/06/09 16:23:09 WARN Utils: Your hostname, kirans-mac.local, resolves to a loopback address: 127.0.0.1; using 172.18.197.149 instead (on interface en0)\n",
      "25/06/09 16:23:09 WARN Utils: Set SPARK_LOCAL_IP if you need to bind to another address\n",
      "Using Spark's default log4j profile: org/apache/spark/log4j2-defaults.properties\n",
      "Setting default log level to \"WARN\".\n",
      "To adjust logging level use sc.setLogLevel(newLevel). For SparkR, use setLogLevel(newLevel).\n",
      "25/06/09 16:23:09 WARN NativeCodeLoader: Unable to load native-hadoop library for your platform... using builtin-java classes where applicable\n",
      "25/06/09 16:23:09 WARN Utils: Service 'SparkUI' could not bind on port 4040. Attempting port 4041.\n",
      "25/06/09 16:23:09 WARN Utils: Service 'SparkUI' could not bind on port 4041. Attempting port 4042.\n"
     ]
    }
   ],
   "source": [
    "from pyspark.sql import SparkSession\n",
    "spark = SparkSession.builder \\\n",
    "    .appName(\"MyApp\") \\\n",
    "    .master(\"local[*]\") \\\n",
    "    .getOrCreate()"
   ]
  },
  {
   "cell_type": "markdown",
   "id": "3005c24c-306e-4877-b2e8-37d3ccc89b5b",
   "metadata": {},
   "source": [
    "# Create RDD"
   ]
  },
  {
   "cell_type": "code",
   "execution_count": 4,
   "id": "400eafab-b07b-4df6-a6ed-5968be2da236",
   "metadata": {},
   "outputs": [],
   "source": [
    "rdd = spark.sparkContext.parallelize(range(100), 4)"
   ]
  },
  {
   "cell_type": "markdown",
   "id": "693e33ff-8a97-4765-81b4-2587b87b54e5",
   "metadata": {},
   "source": [
    "# Sampling - Transformation"
   ]
  },
  {
   "cell_type": "code",
   "execution_count": 6,
   "id": "e4956b03-dc70-4378-9175-c08c3582ed95",
   "metadata": {},
   "outputs": [
    {
     "data": {
      "text/plain": [
       "[5, 19, 20, 36, 37, 46, 47, 51, 65, 70, 72, 77, 96]"
      ]
     },
     "execution_count": 6,
     "metadata": {},
     "output_type": "execute_result"
    }
   ],
   "source": [
    "rdd.sample(seed=10,fraction=0.1,withReplacement=False).collect()"
   ]
  },
  {
   "cell_type": "code",
   "execution_count": 7,
   "id": "d5e45c18-58d1-4313-aadf-5ee048e145a7",
   "metadata": {},
   "outputs": [
    {
     "data": {
      "text/plain": [
       "[3, 3, 14, 14, 18, 62, 86]"
      ]
     },
     "execution_count": 7,
     "metadata": {},
     "output_type": "execute_result"
    }
   ],
   "source": [
    "rdd.sample(seed=10,fraction=0.1,withReplacement=True).collect()"
   ]
  },
  {
   "cell_type": "markdown",
   "id": "5706d674-ac78-43cc-bb97-d68e54c30718",
   "metadata": {},
   "source": [
    "# take sample - Action"
   ]
  },
  {
   "cell_type": "code",
   "execution_count": 8,
   "id": "356c2e92-51ee-423e-b9c5-26308ba6f1b2",
   "metadata": {},
   "outputs": [
    {
     "data": {
      "text/plain": [
       "[55, 73, 89, 9, 33, 60, 74, 11, 64, 85]"
      ]
     },
     "execution_count": 8,
     "metadata": {},
     "output_type": "execute_result"
    }
   ],
   "source": [
    "rdd.takeSample(seed=10,num=10,withReplacement=True)"
   ]
  },
  {
   "cell_type": "code",
   "execution_count": null,
   "id": "0a865b7d-99b7-46ac-a790-3986a6dad8a5",
   "metadata": {},
   "outputs": [],
   "source": []
  }
 ],
 "metadata": {
  "kernelspec": {
   "display_name": "Python 3 (ipykernel)",
   "language": "python",
   "name": "python3"
  },
  "language_info": {
   "codemirror_mode": {
    "name": "ipython",
    "version": 3
   },
   "file_extension": ".py",
   "mimetype": "text/x-python",
   "name": "python",
   "nbconvert_exporter": "python",
   "pygments_lexer": "ipython3",
   "version": "3.11.13"
  }
 },
 "nbformat": 4,
 "nbformat_minor": 5
}
