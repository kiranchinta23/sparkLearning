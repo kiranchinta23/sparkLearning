{
 "cells": [
  {
   "cell_type": "code",
   "execution_count": 1,
   "id": "e024198d-bda9-4e99-8df0-7894b46fa304",
   "metadata": {},
   "outputs": [],
   "source": [
    "import findspark\n",
    "findspark.init()"
   ]
  },
  {
   "cell_type": "code",
   "execution_count": 2,
   "id": "21cf499a-5c5c-45ee-8ab1-4ea8384d09ac",
   "metadata": {},
   "outputs": [
    {
     "name": "stderr",
     "output_type": "stream",
     "text": [
      "25/06/07 21:43:48 WARN Utils: Your hostname, kirans-mac.local resolves to a loopback address: 127.0.0.1; using 172.18.197.149 instead (on interface en0)\n",
      "25/06/07 21:43:48 WARN Utils: Set SPARK_LOCAL_IP if you need to bind to another address\n",
      "Setting default log level to \"WARN\".\n",
      "To adjust logging level use sc.setLogLevel(newLevel). For SparkR, use setLogLevel(newLevel).\n",
      "25/06/07 21:43:55 WARN NativeCodeLoader: Unable to load native-hadoop library for your platform... using builtin-java classes where applicable\n"
     ]
    }
   ],
   "source": [
    "from pyspark.sql import SparkSession\n",
    "spark = SparkSession.builder \\\n",
    "    .appName(\"MyApp\") \\\n",
    "    .master(\"local[*]\") \\\n",
    "    .getOrCreate()"
   ]
  },
  {
   "cell_type": "markdown",
   "id": "0d622b20-3ca4-4f3b-86d0-0d9d3f53b528",
   "metadata": {},
   "source": [
    "# create RDD"
   ]
  },
  {
   "cell_type": "code",
   "execution_count": 8,
   "id": "90b06b2c-6773-4c39-93be-02225fc137fa",
   "metadata": {},
   "outputs": [],
   "source": [
    "ord = spark.sparkContext.textFile('/Users/kiranchinta/Downloads/RetailDB SalesData/Orders')\n",
    "ordItems = spark.sparkContext.textFile('/Users/kiranchinta/Downloads/RetailDB SalesData/Order_items')"
   ]
  },
  {
   "cell_type": "code",
   "execution_count": 9,
   "id": "993ea424-4e69-417b-9c6f-a0ebb67e8750",
   "metadata": {},
   "outputs": [
    {
     "data": {
      "text/plain": [
       "['1,2013-07-25 00:00:00.0,11599,CLOSED',\n",
       " '2,2013-07-25 00:00:00.0,256,PENDING_PAYMENT',\n",
       " '3,2013-07-25 00:00:00.0,12111,COMPLETE',\n",
       " '4,2013-07-25 00:00:00.0,8827,CLOSED',\n",
       " '5,2013-07-25 00:00:00.0,11318,COMPLETE']"
      ]
     },
     "execution_count": 9,
     "metadata": {},
     "output_type": "execute_result"
    }
   ],
   "source": [
    "ord.take(5)"
   ]
  },
  {
   "cell_type": "code",
   "execution_count": 10,
   "id": "4ef96e21-376f-4f12-9359-18ce24d6a695",
   "metadata": {},
   "outputs": [
    {
     "data": {
      "text/plain": [
       "['1,1,957,1,299.98,299.98',\n",
       " '2,2,1073,1,199.99,199.99',\n",
       " '3,2,502,5,250.0,50.0',\n",
       " '4,2,403,1,129.99,129.99',\n",
       " '5,4,897,2,49.98,24.99']"
      ]
     },
     "execution_count": 10,
     "metadata": {},
     "output_type": "execute_result"
    }
   ],
   "source": [
    "ordItems.take(5)"
   ]
  },
  {
   "cell_type": "markdown",
   "id": "33c26b69-05e7-4574-bb08-60bacbf1a379",
   "metadata": {},
   "source": [
    "### join on id"
   ]
  },
  {
   "cell_type": "code",
   "execution_count": 13,
   "id": "2a622065-4b1d-4fd9-8af3-ae9858cb89ee",
   "metadata": {},
   "outputs": [],
   "source": [
    "ordMap=ord.map(lambda x : (x.split(',')[0],x.split(',')[2]))\n",
    "ordItemsMap=ordItems.map(lambda x : (x.split(',')[1],x.split(',')[4]))\n",
    "findSubtotalForCust = ordMap.join(ordItemsMap)"
   ]
  },
  {
   "cell_type": "code",
   "execution_count": 14,
   "id": "bb6fb772-47bb-4c3a-b8da-d4b880f28ce8",
   "metadata": {},
   "outputs": [
    {
     "data": {
      "text/plain": [
       "[('4', ('8827', '49.98')),\n",
       " ('4', ('8827', '299.95')),\n",
       " ('4', ('8827', '150.0')),\n",
       " ('4', ('8827', '199.92')),\n",
       " ('5', ('11318', '299.98'))]"
      ]
     },
     "execution_count": 14,
     "metadata": {},
     "output_type": "execute_result"
    }
   ],
   "source": [
    "findSubtotalForCust.take(5)"
   ]
  },
  {
   "cell_type": "code",
   "execution_count": null,
   "id": "ff993c49-f1b6-4695-9423-b3329037cfb2",
   "metadata": {},
   "outputs": [],
   "source": []
  },
  {
   "cell_type": "markdown",
   "id": "c7ebec82-febd-4a87-b2cf-acc7a21ae13e",
   "metadata": {},
   "source": [
    "### cartesian"
   ]
  },
  {
   "cell_type": "code",
   "execution_count": 18,
   "id": "5620942b-c05c-4063-831e-a96b8e746b78",
   "metadata": {},
   "outputs": [
    {
     "data": {
      "text/plain": [
       "[(1, 1), (1, 3), (1, 2), (3, 1), (3, 3), (3, 2), (2, 1), (2, 3), (2, 2)]"
      ]
     },
     "execution_count": 18,
     "metadata": {},
     "output_type": "execute_result"
    }
   ],
   "source": [
    "rdd = spark.sparkContext.parallelize((1,3,2))\n",
    "rdd.cartesian(rdd).collect()"
   ]
  },
  {
   "cell_type": "code",
   "execution_count": null,
   "id": "fe87be23-d4b3-4dbb-ac81-6030dde83f68",
   "metadata": {},
   "outputs": [],
   "source": []
  }
 ],
 "metadata": {
  "kernelspec": {
   "display_name": "Python 3 (ipykernel)",
   "language": "python",
   "name": "python3"
  },
  "language_info": {
   "codemirror_mode": {
    "name": "ipython",
    "version": 3
   },
   "file_extension": ".py",
   "mimetype": "text/x-python",
   "name": "python",
   "nbconvert_exporter": "python",
   "pygments_lexer": "ipython3",
   "version": "3.11.13"
  }
 },
 "nbformat": 4,
 "nbformat_minor": 5
}
