{
 "cells": [
  {
   "cell_type": "code",
   "execution_count": 1,
   "id": "3df23ebe-8a22-448a-9bc6-b670e718d9ee",
   "metadata": {},
   "outputs": [],
   "source": [
    "import findspark\n",
    "findspark.init()"
   ]
  },
  {
   "cell_type": "code",
   "execution_count": 2,
   "id": "281a49a6-c15d-40a6-87d6-94add7891635",
   "metadata": {},
   "outputs": [
    {
     "name": "stderr",
     "output_type": "stream",
     "text": [
      "WARNING: Using incubator modules: jdk.incubator.vector\n",
      "Using Spark's default log4j profile: org/apache/spark/log4j2-defaults.properties\n",
      "25/06/08 17:01:22 WARN Utils: Your hostname, kirans-mac.local, resolves to a loopback address: 127.0.0.1; using 172.18.197.149 instead (on interface en0)\n",
      "25/06/08 17:01:22 WARN Utils: Set SPARK_LOCAL_IP if you need to bind to another address\n",
      "Using Spark's default log4j profile: org/apache/spark/log4j2-defaults.properties\n",
      "Setting default log level to \"WARN\".\n",
      "To adjust logging level use sc.setLogLevel(newLevel). For SparkR, use setLogLevel(newLevel).\n",
      "25/06/08 17:01:22 WARN NativeCodeLoader: Unable to load native-hadoop library for your platform... using builtin-java classes where applicable\n"
     ]
    }
   ],
   "source": [
    "from pyspark.sql import SparkSession\n",
    "spark = SparkSession.builder \\\n",
    "    .appName(\"MyApp\") \\\n",
    "    .master(\"local[*]\") \\\n",
    "    .getOrCreate()"
   ]
  },
  {
   "cell_type": "markdown",
   "id": "44f010a7-47a7-49ec-8a56-89d30b87576b",
   "metadata": {},
   "source": [
    "# Create RDD"
   ]
  },
  {
   "cell_type": "code",
   "execution_count": 3,
   "id": "99cfaba7-bbe0-4d75-aa0e-382d08e83753",
   "metadata": {},
   "outputs": [],
   "source": [
    "ord = spark.sparkContext.textFile('/Users/kiranchinta/Downloads/RetailDB SalesData/Orders')\n",
    "ordItems = spark.sparkContext.textFile('/Users/kiranchinta/Downloads/RetailDB SalesData/Order_items')"
   ]
  },
  {
   "cell_type": "code",
   "execution_count": 4,
   "id": "213fbf5c-ade4-4ded-a6b0-8d23af28475e",
   "metadata": {},
   "outputs": [
    {
     "data": {
      "text/plain": [
       "['1,2013-07-25 00:00:00.0,11599,CLOSED',\n",
       " '2,2013-07-25 00:00:00.0,256,PENDING_PAYMENT',\n",
       " '3,2013-07-25 00:00:00.0,12111,COMPLETE',\n",
       " '4,2013-07-25 00:00:00.0,8827,CLOSED',\n",
       " '5,2013-07-25 00:00:00.0,11318,COMPLETE']"
      ]
     },
     "execution_count": 4,
     "metadata": {},
     "output_type": "execute_result"
    }
   ],
   "source": [
    "ord.take(5)"
   ]
  },
  {
   "cell_type": "code",
   "execution_count": 11,
   "id": "59a846e0-c825-4a9f-a341-bd33a1820c57",
   "metadata": {},
   "outputs": [
    {
     "data": {
      "text/plain": [
       "68883"
      ]
     },
     "execution_count": 11,
     "metadata": {},
     "output_type": "execute_result"
    }
   ],
   "source": [
    "ord.count()"
   ]
  },
  {
   "cell_type": "markdown",
   "id": "e0dab2cf-c8a0-48f0-a87a-5fcee6f4e9f2",
   "metadata": {},
   "source": [
    "### Count the number of orders which are closed."
   ]
  },
  {
   "cell_type": "code",
   "execution_count": 10,
   "id": "80bb8663-9b37-4653-848a-d7fa35c50d60",
   "metadata": {},
   "outputs": [
    {
     "data": {
      "text/plain": [
       "7556"
      ]
     },
     "execution_count": 10,
     "metadata": {},
     "output_type": "execute_result"
    }
   ],
   "source": [
    "ord.filter(lambda x : x.split(',')[3] == ('CLOSED')).count()"
   ]
  },
  {
   "cell_type": "markdown",
   "id": "9a1c5ef9-77f1-483d-a9c2-65033c44099d",
   "metadata": {},
   "source": [
    "### Find the total quantity sold for Order ID 1-10."
   ]
  },
  {
   "cell_type": "code",
   "execution_count": 12,
   "id": "098d099e-6bbe-4dbe-b7b0-a587644a4b32",
   "metadata": {},
   "outputs": [
    {
     "data": {
      "text/plain": [
       "['1,1,957,1,299.98,299.98',\n",
       " '2,2,1073,1,199.99,199.99',\n",
       " '3,2,502,5,250.0,50.0',\n",
       " '4,2,403,1,129.99,129.99',\n",
       " '5,4,897,2,49.98,24.99']"
      ]
     },
     "execution_count": 12,
     "metadata": {},
     "output_type": "execute_result"
    }
   ],
   "source": [
    "ordItems.take(5)"
   ]
  },
  {
   "cell_type": "code",
   "execution_count": 14,
   "id": "28d70d81-50f5-463d-92bc-3e5fb2caed8b",
   "metadata": {},
   "outputs": [
    {
     "data": {
      "text/plain": [
       "['1,1,957,1,299.98,299.98',\n",
       " '2,2,1073,1,199.99,199.99',\n",
       " '3,2,502,5,250.0,50.0',\n",
       " '4,2,403,1,129.99,129.99',\n",
       " '5,4,897,2,49.98,24.99',\n",
       " '6,4,365,5,299.95,59.99',\n",
       " '7,4,502,3,150.0,50.0',\n",
       " '8,4,1014,4,199.92,49.98',\n",
       " '9,5,957,1,299.98,299.98',\n",
       " '10,5,365,5,299.95,59.99',\n",
       " '11,5,1014,2,99.96,49.98',\n",
       " '12,5,957,1,299.98,299.98',\n",
       " '13,5,403,1,129.99,129.99',\n",
       " '14,7,1073,1,199.99,199.99',\n",
       " '15,7,957,1,299.98,299.98',\n",
       " '16,7,926,5,79.95,15.99',\n",
       " '17,8,365,3,179.97,59.99',\n",
       " '18,8,365,5,299.95,59.99',\n",
       " '19,8,1014,4,199.92,49.98',\n",
       " '20,8,502,1,50.0,50.0',\n",
       " '21,9,191,2,199.98,99.99',\n",
       " '22,9,1073,1,199.99,199.99',\n",
       " '23,9,1073,1,199.99,199.99',\n",
       " '24,10,1073,1,199.99,199.99',\n",
       " '25,10,1014,2,99.96,49.98',\n",
       " '26,10,403,1,129.99,129.99',\n",
       " '27,10,917,1,21.99,21.99',\n",
       " '28,10,1073,1,199.99,199.99']"
      ]
     },
     "execution_count": 14,
     "metadata": {},
     "output_type": "execute_result"
    }
   ],
   "source": [
    "ordItems.filter(lambda x : int(x.split(',')[1]) < 11).collect()"
   ]
  },
  {
   "cell_type": "code",
   "execution_count": 17,
   "id": "e637a518-427c-41ea-a216-9e44f32b8fec",
   "metadata": {},
   "outputs": [
    {
     "data": {
      "text/plain": [
       "[299.98,\n",
       " 199.99,\n",
       " 250.0,\n",
       " 129.99,\n",
       " 49.98,\n",
       " 299.95,\n",
       " 150.0,\n",
       " 199.92,\n",
       " 299.98,\n",
       " 299.95,\n",
       " 99.96,\n",
       " 299.98,\n",
       " 129.99,\n",
       " 199.99,\n",
       " 299.98,\n",
       " 79.95,\n",
       " 179.97,\n",
       " 299.95,\n",
       " 199.92,\n",
       " 50.0,\n",
       " 199.98,\n",
       " 199.99,\n",
       " 199.99,\n",
       " 199.99,\n",
       " 99.96,\n",
       " 129.99,\n",
       " 21.99,\n",
       " 199.99]"
      ]
     },
     "execution_count": 17,
     "metadata": {},
     "output_type": "execute_result"
    }
   ],
   "source": [
    "ordItems.filter(lambda x : int(x.split(',')[1]) < 11).map(lambda x : float(x.split(',')[4])).collect()"
   ]
  },
  {
   "cell_type": "code",
   "execution_count": 19,
   "id": "44117056-af38-477d-bdeb-e3a0181fe402",
   "metadata": {},
   "outputs": [
    {
     "data": {
      "text/plain": [
       "5271.309999999998"
      ]
     },
     "execution_count": 19,
     "metadata": {},
     "output_type": "execute_result"
    }
   ],
   "source": [
    "from operator import add\n",
    "ordItems.filter(lambda x : int(x.split(',')[1]) < 11).map(lambda x : float(x.split(',')[4])).reduce(add)"
   ]
  },
  {
   "cell_type": "markdown",
   "id": "7d1ebc43-03fa-4659-a8a6-84b617caee01",
   "metadata": {},
   "source": [
    "### For a given order 10 find the maximum subtotal out of all orders."
   ]
  },
  {
   "cell_type": "code",
   "execution_count": 27,
   "id": "c74c9c2e-94e3-4191-943e-0bc30058c60c",
   "metadata": {},
   "outputs": [
    {
     "data": {
      "text/plain": [
       "['24,10,1073,1,199.99,199.99',\n",
       " '25,10,1014,2,99.96,49.98',\n",
       " '26,10,403,1,129.99,129.99',\n",
       " '27,10,917,1,21.99,21.99',\n",
       " '28,10,1073,1,199.99,199.99']"
      ]
     },
     "execution_count": 27,
     "metadata": {},
     "output_type": "execute_result"
    }
   ],
   "source": [
    "ordItems.filter(lambda x : int(x.split(',')[1]) ==10).collect()"
   ]
  },
  {
   "cell_type": "code",
   "execution_count": 28,
   "id": "175c8b58-a75f-42fc-b0b5-af05ee996ab7",
   "metadata": {},
   "outputs": [
    {
     "data": {
      "text/plain": [
       "['199.99', '99.96', '129.99', '21.99', '199.99']"
      ]
     },
     "execution_count": 28,
     "metadata": {},
     "output_type": "execute_result"
    }
   ],
   "source": [
    "ordItems.filter(lambda x : int(x.split(',')[1]) ==10).map(lambda x : x.split(',')[4]).collect()"
   ]
  },
  {
   "cell_type": "code",
   "execution_count": 30,
   "id": "a018ee3d-5db5-4dd7-975f-7e7de01678a2",
   "metadata": {},
   "outputs": [
    {
     "data": {
      "text/plain": [
       "199.99"
      ]
     },
     "execution_count": 30,
     "metadata": {},
     "output_type": "execute_result"
    }
   ],
   "source": [
    "from operator import *\n",
    "ordItems.filter(lambda x : int(x.split(',')[1]) == 10).map(lambda x : float(x.split(',')[4])).reduce(max)"
   ]
  },
  {
   "cell_type": "code",
   "execution_count": 31,
   "id": "bf64aad4-499d-47e6-94dc-e4348ca94363",
   "metadata": {},
   "outputs": [
    {
     "data": {
      "text/plain": [
       "199.99"
      ]
     },
     "execution_count": 31,
     "metadata": {},
     "output_type": "execute_result"
    }
   ],
   "source": [
    "ordItems.filter(lambda x : int(x.split(',')[1]) == 10).map(lambda x : float(x.split(',')[4])).reduce(lambda a, b: a if a > b else b)"
   ]
  },
  {
   "cell_type": "code",
   "execution_count": null,
   "id": "712136d9-3453-43de-a85f-7dae6b7cf314",
   "metadata": {},
   "outputs": [],
   "source": []
  }
 ],
 "metadata": {
  "kernelspec": {
   "display_name": "Python 3 (ipykernel)",
   "language": "python",
   "name": "python3"
  },
  "language_info": {
   "codemirror_mode": {
    "name": "ipython",
    "version": 3
   },
   "file_extension": ".py",
   "mimetype": "text/x-python",
   "name": "python",
   "nbconvert_exporter": "python",
   "pygments_lexer": "ipython3",
   "version": "3.11.13"
  }
 },
 "nbformat": 4,
 "nbformat_minor": 5
}
