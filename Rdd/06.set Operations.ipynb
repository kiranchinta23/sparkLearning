{
 "cells": [
  {
   "cell_type": "code",
   "execution_count": 1,
   "id": "b68cc269-08e0-4b75-bce9-6d4d43bc753e",
   "metadata": {},
   "outputs": [],
   "source": [
    "import findspark\n",
    "findspark.init()"
   ]
  },
  {
   "cell_type": "code",
   "execution_count": 2,
   "id": "977203e9-a937-4f07-84fc-34e68dbce3c3",
   "metadata": {},
   "outputs": [
    {
     "name": "stderr",
     "output_type": "stream",
     "text": [
      "WARNING: Using incubator modules: jdk.incubator.vector\n",
      "Using Spark's default log4j profile: org/apache/spark/log4j2-defaults.properties\n",
      "25/06/09 16:06:32 WARN Utils: Your hostname, kirans-mac.local, resolves to a loopback address: 127.0.0.1; using 172.18.197.149 instead (on interface en0)\n",
      "25/06/09 16:06:32 WARN Utils: Set SPARK_LOCAL_IP if you need to bind to another address\n",
      "Using Spark's default log4j profile: org/apache/spark/log4j2-defaults.properties\n",
      "Setting default log level to \"WARN\".\n",
      "To adjust logging level use sc.setLogLevel(newLevel). For SparkR, use setLogLevel(newLevel).\n",
      "25/06/09 16:06:33 WARN NativeCodeLoader: Unable to load native-hadoop library for your platform... using builtin-java classes where applicable\n",
      "25/06/09 16:06:33 WARN Utils: Service 'SparkUI' could not bind on port 4040. Attempting port 4041.\n"
     ]
    }
   ],
   "source": [
    "from pyspark.sql import SparkSession\n",
    "spark = SparkSession.builder \\\n",
    "    .appName(\"MyApp\") \\\n",
    "    .master(\"local[*]\") \\\n",
    "    .getOrCreate()"
   ]
  },
  {
   "cell_type": "markdown",
   "id": "ce779781-01f3-4f74-9617-57f666d43080",
   "metadata": {},
   "source": [
    "# create RDD"
   ]
  },
  {
   "cell_type": "code",
   "execution_count": 3,
   "id": "f1cf478e-7697-422f-aa84-d43002ac07b3",
   "metadata": {},
   "outputs": [],
   "source": [
    "ord = spark.sparkContext.textFile('/Users/kiranchinta/Downloads/RetailDB SalesData/Orders')\n",
    "ordItems = spark.sparkContext.textFile('/Users/kiranchinta/Downloads/RetailDB SalesData/Orders_items')"
   ]
  },
  {
   "cell_type": "code",
   "execution_count": 4,
   "id": "3ea5aeb8-246a-43b8-81d8-6182851acf42",
   "metadata": {},
   "outputs": [
    {
     "data": {
      "text/plain": [
       "['1,2013-07-25 00:00:00.0,11599,CLOSED',\n",
       " '2,2013-07-25 00:00:00.0,256,PENDING_PAYMENT',\n",
       " '3,2013-07-25 00:00:00.0,12111,COMPLETE',\n",
       " '4,2013-07-25 00:00:00.0,8827,CLOSED',\n",
       " '5,2013-07-25 00:00:00.0,11318,COMPLETE']"
      ]
     },
     "execution_count": 4,
     "metadata": {},
     "output_type": "execute_result"
    }
   ],
   "source": [
    "ord.take(5)"
   ]
  },
  {
   "cell_type": "markdown",
   "id": "f1479794-c983-43f6-86f4-aaf95171cb24",
   "metadata": {},
   "source": [
    "# create aug, july rdds from ord"
   ]
  },
  {
   "cell_type": "code",
   "execution_count": 19,
   "id": "5be740de-23ae-4039-b41e-cf22ff3b8b0a",
   "metadata": {},
   "outputs": [
    {
     "data": {
      "text/plain": [
       "['11599', '256', '12111', '8827', '11318']"
      ]
     },
     "execution_count": 19,
     "metadata": {},
     "output_type": "execute_result"
    }
   ],
   "source": [
    "ordJuly = ord.filter(lambda x : x.split(',')[1].split('-')[1]== '07').map(lambda x : x.split(',')[2])\n",
    "ordJuly.take(5)"
   ]
  },
  {
   "cell_type": "code",
   "execution_count": 20,
   "id": "95cf94fe-d8d8-44db-8cfd-ec5046503bc4",
   "metadata": {},
   "outputs": [
    {
     "data": {
      "text/plain": [
       "['11607', '5105', '7802', '553', '1604']"
      ]
     },
     "execution_count": 20,
     "metadata": {},
     "output_type": "execute_result"
    }
   ],
   "source": [
    "ordAug = ord.filter(lambda x : x.split(',')[1].split('-')[1]== '08').map(lambda x : x.split(',')[2])\n",
    "ordAug.take(5)"
   ]
  },
  {
   "cell_type": "markdown",
   "id": "6f7c95d6-e6a2-4b91-8279-2c65788d920e",
   "metadata": {},
   "source": [
    "# Union"
   ]
  },
  {
   "cell_type": "code",
   "execution_count": 21,
   "id": "63583a29-7370-4e62-97b4-70a0a40e09a0",
   "metadata": {},
   "outputs": [
    {
     "data": {
      "text/plain": [
       "11681"
      ]
     },
     "execution_count": 21,
     "metadata": {},
     "output_type": "execute_result"
    }
   ],
   "source": [
    "ord2months = ordJuly.union(ordAug)\n",
    "ord2months.count()"
   ]
  },
  {
   "cell_type": "code",
   "execution_count": 22,
   "id": "7b75bc0f-eeff-42a4-aae8-6bd8c7034cba",
   "metadata": {},
   "outputs": [
    {
     "data": {
      "text/plain": [
       "7633"
      ]
     },
     "execution_count": 22,
     "metadata": {},
     "output_type": "execute_result"
    }
   ],
   "source": [
    "ord2months.distinct().count()"
   ]
  },
  {
   "cell_type": "markdown",
   "id": "994445af-e59b-484f-8bef-0fcc7b4761e3",
   "metadata": {},
   "source": [
    "# intersection"
   ]
  },
  {
   "cell_type": "code",
   "execution_count": 23,
   "id": "564c85e0-68ab-4d1b-8e3f-49308b390173",
   "metadata": {},
   "outputs": [
    {
     "data": {
      "text/plain": [
       "1759"
      ]
     },
     "execution_count": 23,
     "metadata": {},
     "output_type": "execute_result"
    }
   ],
   "source": [
    "ordAug.intersection(ordJuly).count()"
   ]
  },
  {
   "cell_type": "markdown",
   "id": "74c72be9-cc79-4116-971e-0ca215bb1bcf",
   "metadata": {},
   "source": [
    "# distnct"
   ]
  },
  {
   "cell_type": "code",
   "execution_count": 24,
   "id": "b636b5d6-2e13-4159-96c9-473633e0e486",
   "metadata": {},
   "outputs": [
    {
     "data": {
      "text/plain": [
       "4837"
      ]
     },
     "execution_count": 24,
     "metadata": {},
     "output_type": "execute_result"
    }
   ],
   "source": [
    "ordJuly.distinct().count()"
   ]
  },
  {
   "cell_type": "markdown",
   "id": "46f8112c-1bbc-4555-99e1-8b3e5db21891",
   "metadata": {},
   "source": [
    "# subtract"
   ]
  },
  {
   "cell_type": "code",
   "execution_count": 28,
   "id": "eb420f57-78fd-46e2-baa6-b3526f7ad687",
   "metadata": {},
   "outputs": [
    {
     "data": {
      "text/plain": [
       "3836"
      ]
     },
     "execution_count": 28,
     "metadata": {},
     "output_type": "execute_result"
    }
   ],
   "source": [
    "ordJuly.subtract(ordAug).count()"
   ]
  },
  {
   "cell_type": "code",
   "execution_count": null,
   "id": "c6d4edc9-1482-41cf-9a56-0a7ea8b4a34b",
   "metadata": {},
   "outputs": [],
   "source": []
  }
 ],
 "metadata": {
  "kernelspec": {
   "display_name": "Python 3 (ipykernel)",
   "language": "python",
   "name": "python3"
  },
  "language_info": {
   "codemirror_mode": {
    "name": "ipython",
    "version": 3
   },
   "file_extension": ".py",
   "mimetype": "text/x-python",
   "name": "python",
   "nbconvert_exporter": "python",
   "pygments_lexer": "ipython3",
   "version": "3.11.13"
  }
 },
 "nbformat": 4,
 "nbformat_minor": 5
}
