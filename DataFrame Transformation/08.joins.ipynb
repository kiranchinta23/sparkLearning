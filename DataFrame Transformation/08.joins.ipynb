{
 "cells": [
  {
   "cell_type": "code",
   "execution_count": 1,
   "id": "448d68b6-adcf-4069-acc4-b1f70cf8faf1",
   "metadata": {},
   "outputs": [],
   "source": [
    "import findspark\n",
    "findspark.init()"
   ]
  },
  {
   "cell_type": "code",
   "execution_count": 2,
   "id": "96416189-8209-43ca-a860-87af4d696298",
   "metadata": {},
   "outputs": [
    {
     "name": "stderr",
     "output_type": "stream",
     "text": [
      "WARNING: Using incubator modules: jdk.incubator.vector\n",
      "Using Spark's default log4j profile: org/apache/spark/log4j2-defaults.properties\n",
      "25/06/14 21:04:32 WARN Utils: Your hostname, kirans-mac.local, resolves to a loopback address: 127.0.0.1; using 172.18.197.149 instead (on interface en0)\n",
      "25/06/14 21:04:32 WARN Utils: Set SPARK_LOCAL_IP if you need to bind to another address\n",
      "Using Spark's default log4j profile: org/apache/spark/log4j2-defaults.properties\n",
      "Setting default log level to \"WARN\".\n",
      "To adjust logging level use sc.setLogLevel(newLevel). For SparkR, use setLogLevel(newLevel).\n",
      "25/06/14 21:04:33 WARN NativeCodeLoader: Unable to load native-hadoop library for your platform... using builtin-java classes where applicable\n",
      "25/06/14 21:04:33 WARN Utils: Service 'SparkUI' could not bind on port 4040. Attempting port 4041.\n"
     ]
    }
   ],
   "source": [
    "from pyspark.sql import SparkSession\n",
    "spark = SparkSession.builder \\\n",
    "    .appName(\"MyApp\") \\\n",
    "    .master(\"local[*]\") \\\n",
    "    .getOrCreate()"
   ]
  },
  {
   "cell_type": "markdown",
   "id": "684bc807-1717-4939-a75a-02a9884e862b",
   "metadata": {},
   "source": [
    "# Create DataFrame"
   ]
  },
  {
   "cell_type": "code",
   "execution_count": 3,
   "id": "d7274447-af79-4f4a-b348-9f9860e89b9e",
   "metadata": {},
   "outputs": [
    {
     "name": "stderr",
     "output_type": "stream",
     "text": [
      "                                                                                "
     ]
    },
    {
     "name": "stdout",
     "output_type": "stream",
     "text": [
      "+-----+-------+\n",
      "|empid|empname|\n",
      "+-----+-------+\n",
      "|    1| Robert|\n",
      "|    2|    Ria|\n",
      "|    3|  James|\n",
      "+-----+-------+\n",
      "\n",
      "+-----+-------+\n",
      "|empid|country|\n",
      "+-----+-------+\n",
      "|    2|    USA|\n",
      "|    4|  India|\n",
      "+-----+-------+\n",
      "\n"
     ]
    }
   ],
   "source": [
    "df1 = spark.createDataFrame(data=((1,'Robert'),(2,'Ria'),(3,'James')),schema='empid int,empname string')\n",
    "df2 = spark.createDataFrame(data=((2,'USA'),(4,'India')),schema='empid int,country string')\n",
    "df1.show()\n",
    "df2.show()"
   ]
  },
  {
   "cell_type": "markdown",
   "id": "faead929-ae01-46ca-9458-950f59350d38",
   "metadata": {},
   "source": [
    "# join"
   ]
  },
  {
   "cell_type": "code",
   "execution_count": 4,
   "id": "13f52158-3b7a-4ba4-ac1e-66590a1378d9",
   "metadata": {},
   "outputs": [
    {
     "name": "stdout",
     "output_type": "stream",
     "text": [
      "+-----+-------+-----+-------+\n",
      "|empid|empname|empid|country|\n",
      "+-----+-------+-----+-------+\n",
      "|    2|    Ria|    2|    USA|\n",
      "+-----+-------+-----+-------+\n",
      "\n"
     ]
    }
   ],
   "source": [
    "df1.join(df2,df1.empid == df2.empid).show()"
   ]
  },
  {
   "cell_type": "code",
   "execution_count": 5,
   "id": "7f86d001-2355-4310-9127-211b956d39c1",
   "metadata": {},
   "outputs": [
    {
     "name": "stdout",
     "output_type": "stream",
     "text": [
      "+-----+-------+-----+-------+\n",
      "|empid|empname|empid|country|\n",
      "+-----+-------+-----+-------+\n",
      "|    1| Robert| NULL|   NULL|\n",
      "|    2|    Ria|    2|    USA|\n",
      "|    3|  James| NULL|   NULL|\n",
      "+-----+-------+-----+-------+\n",
      "\n"
     ]
    }
   ],
   "source": [
    "df1.join(df2,df1.empid == df2.empid,'left').show()"
   ]
  },
  {
   "cell_type": "code",
   "execution_count": 6,
   "id": "8cb67135-e176-4e72-8b83-8a4ae7261eee",
   "metadata": {},
   "outputs": [
    {
     "name": "stdout",
     "output_type": "stream",
     "text": [
      "+-----+-------+-----+-------+\n",
      "|empid|empname|empid|country|\n",
      "+-----+-------+-----+-------+\n",
      "|    2|    Ria|    2|    USA|\n",
      "| NULL|   NULL|    4|  India|\n",
      "+-----+-------+-----+-------+\n",
      "\n"
     ]
    }
   ],
   "source": [
    "df1.join(df2,df1.empid == df2.empid,'right').show()"
   ]
  },
  {
   "cell_type": "code",
   "execution_count": 7,
   "id": "c82b76db-7479-4769-8a3c-65647fdf63f8",
   "metadata": {},
   "outputs": [
    {
     "name": "stdout",
     "output_type": "stream",
     "text": [
      "+-----+-------+-----+-------+\n",
      "|empid|empname|empid|country|\n",
      "+-----+-------+-----+-------+\n",
      "|    1| Robert| NULL|   NULL|\n",
      "|    2|    Ria|    2|    USA|\n",
      "|    3|  James| NULL|   NULL|\n",
      "| NULL|   NULL|    4|  India|\n",
      "+-----+-------+-----+-------+\n",
      "\n"
     ]
    }
   ],
   "source": [
    "df1.join(df2,df1.empid == df2.empid,'full').show()"
   ]
  },
  {
   "cell_type": "markdown",
   "id": "b4080427-f6de-4ed7-96f4-fa36bd7da53a",
   "metadata": {},
   "source": [
    "# cross join"
   ]
  },
  {
   "cell_type": "code",
   "execution_count": 9,
   "id": "0582eddb-5d47-4682-96f8-6f2b8be75299",
   "metadata": {},
   "outputs": [
    {
     "name": "stderr",
     "output_type": "stream",
     "text": [
      "[Stage 31:===================================>                   (48 + 10) / 75]"
     ]
    },
    {
     "name": "stdout",
     "output_type": "stream",
     "text": [
      "+-----+-------+-----+-------+\n",
      "|empid|empname|empid|country|\n",
      "+-----+-------+-----+-------+\n",
      "|    1| Robert|    2|    USA|\n",
      "|    1| Robert|    4|  India|\n",
      "|    2|    Ria|    2|    USA|\n",
      "|    2|    Ria|    4|  India|\n",
      "|    3|  James|    2|    USA|\n",
      "|    3|  James|    4|  India|\n",
      "+-----+-------+-----+-------+\n",
      "\n"
     ]
    },
    {
     "name": "stderr",
     "output_type": "stream",
     "text": [
      "                                                                                "
     ]
    }
   ],
   "source": [
    "df1.crossJoin(df2).show()"
   ]
  },
  {
   "cell_type": "markdown",
   "id": "b30c541c-6571-4baf-b385-e633d8414cc3",
   "metadata": {},
   "source": [
    "# self join"
   ]
  },
  {
   "cell_type": "code",
   "execution_count": 13,
   "id": "90a1f7a6-6d59-49ed-ac5d-a502a1eec181",
   "metadata": {},
   "outputs": [
    {
     "name": "stdout",
     "output_type": "stream",
     "text": [
      "+------+--------+----------+\n",
      "|emp_id|emp_name|manager_id|\n",
      "+------+--------+----------+\n",
      "|     1|    John|         3|\n",
      "|     2|   Alice|         3|\n",
      "|     3|     Bob|      NULL|\n",
      "+------+--------+----------+\n",
      "\n"
     ]
    }
   ],
   "source": [
    "from pyspark.sql.functions import col\n",
    "\n",
    "data = [\n",
    "    (1, \"John\", 3),\n",
    "    (2, \"Alice\", 3),\n",
    "    (3, \"Bob\", None)\n",
    "]\n",
    "columns = [\"emp_id\", \"emp_name\", \"manager_id\"]\n",
    "\n",
    "df = spark.createDataFrame(data, columns)\n",
    "\n",
    "df.show()"
   ]
  },
  {
   "cell_type": "code",
   "execution_count": 26,
   "id": "93b1e2e8-ea7e-40bd-9dfb-c75625b1af25",
   "metadata": {},
   "outputs": [
    {
     "name": "stdout",
     "output_type": "stream",
     "text": [
      "+------+--------+-------+----------+\n",
      "|emp_id|Employee|Manager|manager_id|\n",
      "+------+--------+-------+----------+\n",
      "|     1|    John|    Bob|         3|\n",
      "|     2|   Alice|    Bob|         3|\n",
      "|     3|     Bob|   NULL|      NULL|\n",
      "+------+--------+-------+----------+\n",
      "\n"
     ]
    }
   ],
   "source": [
    "df1 = df.alias(\"emp\")\n",
    "df2 = df.alias(\"mgr\")\n",
    "\n",
    "df1.join(df2, col(\"emp.manager_id\") == col(\"mgr.emp_id\"), \"left\") \\\n",
    "   .select(\n",
    "       col(\"emp.emp_id\").alias(\"emp_id\"),\n",
    "       col(\"emp.emp_name\").alias(\"Employee\"),\n",
    "       col(\"mgr.emp_name\").alias(\"Manager\"),\n",
    "       col(\"emp.manager_id\")\n",
    "   ) \\\n",
    "   .show()"
   ]
  },
  {
   "cell_type": "markdown",
   "id": "a503c292-bd83-48be-8665-81946f774329",
   "metadata": {},
   "source": [
    "# multi column joins"
   ]
  },
  {
   "cell_type": "code",
   "execution_count": 28,
   "id": "dad0a5e5-5c82-43ac-9167-fe725402755e",
   "metadata": {},
   "outputs": [
    {
     "name": "stdout",
     "output_type": "stream",
     "text": [
      "+-----+------+-------+\n",
      "|empid|deptid|empname|\n",
      "+-----+------+-------+\n",
      "|    1|   101| Robert|\n",
      "|    2|   102|    Ria|\n",
      "|    3|   103|  James|\n",
      "+-----+------+-------+\n",
      "\n",
      "+-----+------+-------+\n",
      "|empid|deptid|country|\n",
      "+-----+------+-------+\n",
      "|    2|   102|    USA|\n",
      "|    4|   104|  India|\n",
      "+-----+------+-------+\n",
      "\n"
     ]
    }
   ],
   "source": [
    "df1 = spark.createDataFrame(data=((1,101,'Robert'),(2,102,'Ria'),(3,103,'James')),schema='empid int,deptid int,empname string')\n",
    "df2 = spark.createDataFrame(data=((2,102,'USA'),(4,104,'India')),schema='empid int,deptid int,country string')\n",
    "df1.show()\n",
    "df2.show()"
   ]
  },
  {
   "cell_type": "code",
   "execution_count": 32,
   "id": "7c32afcd-c4fd-4535-91c2-6edf4f52814f",
   "metadata": {},
   "outputs": [
    {
     "name": "stdout",
     "output_type": "stream",
     "text": [
      "+-----+------+-------+-----+------+-------+\n",
      "|empid|deptid|empname|empid|deptid|country|\n",
      "+-----+------+-------+-----+------+-------+\n",
      "|    2|   102|    Ria|    2|   102|    USA|\n",
      "+-----+------+-------+-----+------+-------+\n",
      "\n"
     ]
    }
   ],
   "source": [
    "df1.join(df2, (df1.empid == df2.empid) & (df1.deptid == df2.deptid)).show()"
   ]
  },
  {
   "cell_type": "markdown",
   "id": "9cd3748f-3ab1-4d81-9172-ce475f4b2574",
   "metadata": {},
   "source": [
    "# multi dataframe join"
   ]
  },
  {
   "cell_type": "code",
   "execution_count": 35,
   "id": "8ecec909-3909-40f0-95a9-29fad8b4a3da",
   "metadata": {},
   "outputs": [
    {
     "name": "stdout",
     "output_type": "stream",
     "text": [
      "+-----+-------+\n",
      "|empid|empname|\n",
      "+-----+-------+\n",
      "|    1| Robert|\n",
      "|    2|    Ria|\n",
      "|    3|  James|\n",
      "+-----+-------+\n",
      "\n",
      "+-----+-------+\n",
      "|empid|country|\n",
      "+-----+-------+\n",
      "|    2|    USA|\n",
      "|    4|  India|\n",
      "+-----+-------+\n",
      "\n",
      "+-----+-----------+\n",
      "|empid|   joindate|\n",
      "+-----+-----------+\n",
      "|    1|01-jan-2021|\n",
      "|    2|01-feb-2021|\n",
      "|    3|01-mar-2021|\n",
      "+-----+-----------+\n",
      "\n"
     ]
    }
   ],
   "source": [
    "df1 = spark.createDataFrame(data=((1,'Robert'),(2,'Ria'),(3,'James')),schema='empid int,empname string')\n",
    "df2 = spark.createDataFrame(data=((2,'USA'),(4,'India')),schema='empid int,country string')\n",
    "df3 = spark.createDataFrame(data=((1,'01-jan-2021'),(2,'01-feb-2021'),(3,'01-mar-2021')),schema='empid int,joindate string')\n",
    "df1.show()\n",
    "df2.show()\n",
    "df3.show()"
   ]
  },
  {
   "cell_type": "code",
   "execution_count": 36,
   "id": "7a8acea1-0d41-47cb-a56b-6275c5651acc",
   "metadata": {},
   "outputs": [
    {
     "name": "stdout",
     "output_type": "stream",
     "text": [
      "+-----+-------+-----+-------+-----+-----------+\n",
      "|empid|empname|empid|country|empid|   joindate|\n",
      "+-----+-------+-----+-------+-----+-----------+\n",
      "|    2|    Ria|    2|    USA|    2|01-feb-2021|\n",
      "+-----+-------+-----+-------+-----+-----------+\n",
      "\n"
     ]
    }
   ],
   "source": [
    "df1.join(df2,df1.empid==df2.empid).join(df3,df1.empid == df3.empid).show()"
   ]
  },
  {
   "cell_type": "code",
   "execution_count": 37,
   "id": "c1e27ce8-b405-4859-9425-0496b34acd3c",
   "metadata": {},
   "outputs": [],
   "source": [
    "spark.stop()"
   ]
  },
  {
   "cell_type": "code",
   "execution_count": null,
   "id": "64e5a35a-b8a4-4678-8091-bcaec02413a3",
   "metadata": {},
   "outputs": [],
   "source": []
  }
 ],
 "metadata": {
  "kernelspec": {
   "display_name": "Python 3 (ipykernel)",
   "language": "python",
   "name": "python3"
  },
  "language_info": {
   "codemirror_mode": {
    "name": "ipython",
    "version": 3
   },
   "file_extension": ".py",
   "mimetype": "text/x-python",
   "name": "python",
   "nbconvert_exporter": "python",
   "pygments_lexer": "ipython3",
   "version": "3.11.13"
  }
 },
 "nbformat": 4,
 "nbformat_minor": 5
}
