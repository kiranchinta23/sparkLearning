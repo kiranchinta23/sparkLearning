{
 "cells": [
  {
   "cell_type": "markdown",
   "id": "8f9c60da-e2e3-44f7-8632-358ed1e616e7",
   "metadata": {},
   "source": [
    "# common aggreagate function\n",
    "\n",
    "- summary\n",
    "- avg,max,min\n",
    "- sum, sumDistinct\n",
    "- count,countDistinct\n",
    "- first, last\n",
    "- collect_set, collect_list\n",
    "- skewness\n",
    "- variance\n",
    "- stddev"
   ]
  },
  {
   "cell_type": "code",
   "execution_count": 1,
   "id": "fb9f09fc-8f9a-4e30-bcdf-8da701900517",
   "metadata": {},
   "outputs": [],
   "source": [
    "import findspark\n",
    "findspark.init()"
   ]
  },
  {
   "cell_type": "code",
   "execution_count": 2,
   "id": "09584c93-c9b8-43a3-89c2-372f3ff8506d",
   "metadata": {},
   "outputs": [
    {
     "name": "stderr",
     "output_type": "stream",
     "text": [
      "WARNING: Using incubator modules: jdk.incubator.vector\n",
      "Using Spark's default log4j profile: org/apache/spark/log4j2-defaults.properties\n",
      "25/06/14 21:32:42 WARN Utils: Your hostname, kirans-mac.local, resolves to a loopback address: 127.0.0.1; using 172.18.197.149 instead (on interface en0)\n",
      "25/06/14 21:32:42 WARN Utils: Set SPARK_LOCAL_IP if you need to bind to another address\n",
      "Using Spark's default log4j profile: org/apache/spark/log4j2-defaults.properties\n",
      "Setting default log level to \"WARN\".\n",
      "To adjust logging level use sc.setLogLevel(newLevel). For SparkR, use setLogLevel(newLevel).\n",
      "25/06/14 21:32:42 WARN NativeCodeLoader: Unable to load native-hadoop library for your platform... using builtin-java classes where applicable\n"
     ]
    }
   ],
   "source": [
    "from pyspark.sql import SparkSession\n",
    "spark = SparkSession.builder \\\n",
    "    .appName(\"MyApp\") \\\n",
    "    .master(\"local[*]\") \\\n",
    "    .getOrCreate()"
   ]
  },
  {
   "cell_type": "markdown",
   "id": "74d49d08-af67-4d25-8303-37b71a96e2b4",
   "metadata": {},
   "source": [
    "# Create dataFrame"
   ]
  },
  {
   "cell_type": "code",
   "execution_count": 39,
   "id": "15cf84a8-0e76-479a-b92f-332480aec176",
   "metadata": {},
   "outputs": [],
   "source": [
    "import datetime\n",
    "from pyspark.sql import Row\n",
    "\n",
    "users = [{'id':1,\n",
    "        'first_name':'kiran',\n",
    "        'last_name':'chinta',\n",
    "         'email':'k.c@gmail.com',\n",
    "         'phone_numbers':Row(mobile=123,home=456),\n",
    "         'courses':[1,2],\n",
    "         'is_customer':True,\n",
    "         'amount_paid':100.55,\n",
    "         'customer_from':datetime.date(2012,1,1),\n",
    "        'last_updated_ts':datetime.datetime(2021,2,2,1,2,3)\n",
    "        },\n",
    "        {'id':2,\n",
    "        'first_name':'goats',\n",
    "        'last_name':'manchi',\n",
    "         'email':'g.m@gmail.com',\n",
    "         'phone_numbers':Row(mobile=246,home=680),\n",
    "         'courses':[11,2],\n",
    "         'is_customer':False,\n",
    "         'amount_paid':110.55,\n",
    "         'customer_from':datetime.date(2012,1,1),\n",
    "        'last_updated_ts':datetime.datetime(2021,2,2,1,2,3)\n",
    "        },\n",
    "        {'id':3,\n",
    "        'first_name':'ss',\n",
    "        'last_name':'raj',\n",
    "         'email':'s.s.r@gmail.com',\n",
    "         'phone_numbers':Row(mobile=135,home=579),\n",
    "         'courses':[11,22],\n",
    "         'is_customer':False,\n",
    "         'amount_paid':None,\n",
    "         'customer_from':datetime.date(2012,2,2),\n",
    "        'last_updated_ts':datetime.datetime(2021,4,5,1,2,3)\n",
    "        },\n",
    "        {'id':4,\n",
    "        'first_name':'puri',\n",
    "        'last_name':'jag',\n",
    "         'email':'p.g@gmail.com',\n",
    "         'phone_numbers':Row(mobile=135,home=579),\n",
    "         'courses':[11,22],\n",
    "         'is_customer':False,\n",
    "         'amount_paid':110.55,\n",
    "         'customer_from':datetime.date(2012,2,2),\n",
    "        'last_updated_ts':datetime.datetime(2021,4,5,1,2,3)\n",
    "        }]"
   ]
  },
  {
   "cell_type": "code",
   "execution_count": 40,
   "id": "dea787d5-590b-4783-a5cf-35b3f983fe9d",
   "metadata": {},
   "outputs": [
    {
     "name": "stdout",
     "output_type": "stream",
     "text": [
      "+-----------+--------+-------------+---------------+----------+---+-----------+---------+-------------------+-------------+\n",
      "|amount_paid| courses|customer_from|          email|first_name| id|is_customer|last_name|    last_updated_ts|phone_numbers|\n",
      "+-----------+--------+-------------+---------------+----------+---+-----------+---------+-------------------+-------------+\n",
      "|     100.55|  [1, 2]|   2012-01-01|  k.c@gmail.com|     kiran|  1|       true|   chinta|2021-02-02 01:02:03|   {123, 456}|\n",
      "|     110.55| [11, 2]|   2012-01-01|  g.m@gmail.com|     goats|  2|      false|   manchi|2021-02-02 01:02:03|   {246, 680}|\n",
      "|       NULL|[11, 22]|   2012-02-02|s.s.r@gmail.com|        ss|  3|      false|      raj|2021-04-05 01:02:03|   {135, 579}|\n",
      "|     110.55|[11, 22]|   2012-02-02|  p.g@gmail.com|      puri|  4|      false|      jag|2021-04-05 01:02:03|   {135, 579}|\n",
      "+-----------+--------+-------------+---------------+----------+---+-----------+---------+-------------------+-------------+\n",
      "\n"
     ]
    }
   ],
   "source": [
    "u_df = spark.createDataFrame(users)\n",
    "u_df.show()"
   ]
  },
  {
   "cell_type": "markdown",
   "id": "eed0c61a-e52b-4b0d-854f-27492aeab508",
   "metadata": {},
   "source": [
    "# summary"
   ]
  },
  {
   "cell_type": "code",
   "execution_count": 41,
   "id": "c7704711-03cf-499c-9eb5-eed8f952516a",
   "metadata": {},
   "outputs": [
    {
     "name": "stdout",
     "output_type": "stream",
     "text": [
      "+-------+------------------+---------------+----------+------------------+---------+\n",
      "|summary|       amount_paid|          email|first_name|                id|last_name|\n",
      "+-------+------------------+---------------+----------+------------------+---------+\n",
      "|  count|                 3|              4|         4|                 4|        4|\n",
      "|   mean|107.21666666666665|           NULL|      NULL|               2.5|     NULL|\n",
      "| stddev| 5.773502691896258|           NULL|      NULL|1.2909944487358056|     NULL|\n",
      "|    min|            100.55|  g.m@gmail.com|     goats|                 1|   chinta|\n",
      "|    25%|            100.55|           NULL|      NULL|                 1|     NULL|\n",
      "|    50%|            110.55|           NULL|      NULL|                 2|     NULL|\n",
      "|    75%|            110.55|           NULL|      NULL|                 3|     NULL|\n",
      "|    max|            110.55|s.s.r@gmail.com|        ss|                 4|      raj|\n",
      "+-------+------------------+---------------+----------+------------------+---------+\n",
      "\n"
     ]
    }
   ],
   "source": [
    "u_df.summary().show()"
   ]
  },
  {
   "cell_type": "code",
   "execution_count": 42,
   "id": "e26e83ac-623e-42ad-a3af-0202c52deae0",
   "metadata": {},
   "outputs": [
    {
     "name": "stdout",
     "output_type": "stream",
     "text": [
      "+-------+----------+\n",
      "|summary|first_name|\n",
      "+-------+----------+\n",
      "|  count|         4|\n",
      "+-------+----------+\n",
      "\n"
     ]
    }
   ],
   "source": [
    "u_df.select('first_name').summary('count').show()"
   ]
  },
  {
   "cell_type": "markdown",
   "id": "42468960-4cf6-4793-bac1-ce576fa10dca",
   "metadata": {},
   "source": [
    "# avg, min , max"
   ]
  },
  {
   "cell_type": "code",
   "execution_count": 43,
   "id": "3b78ef32-9cef-43a5-94db-a6b812e49262",
   "metadata": {},
   "outputs": [
    {
     "name": "stdout",
     "output_type": "stream",
     "text": [
      "+------------------+\n",
      "|  avg(amount_paid)|\n",
      "+------------------+\n",
      "|107.21666666666665|\n",
      "+------------------+\n",
      "\n"
     ]
    }
   ],
   "source": [
    "from pyspark.sql.functions import avg\n",
    "u_df.select(avg('amount_paid')).show()"
   ]
  },
  {
   "cell_type": "code",
   "execution_count": 44,
   "id": "13067d98-5153-4dcd-8aa2-b4baf52d019a",
   "metadata": {},
   "outputs": [
    {
     "name": "stdout",
     "output_type": "stream",
     "text": [
      "+----------------+\n",
      "|min(amount_paid)|\n",
      "+----------------+\n",
      "|          100.55|\n",
      "+----------------+\n",
      "\n"
     ]
    }
   ],
   "source": [
    "from pyspark.sql.functions import min\n",
    "u_df.select(min('amount_paid')).show()"
   ]
  },
  {
   "cell_type": "code",
   "execution_count": 45,
   "id": "2a14417b-3da8-4368-922a-410513894af6",
   "metadata": {},
   "outputs": [
    {
     "name": "stdout",
     "output_type": "stream",
     "text": [
      "+----------------+\n",
      "|max(amount_paid)|\n",
      "+----------------+\n",
      "|          110.55|\n",
      "+----------------+\n",
      "\n"
     ]
    }
   ],
   "source": [
    "from pyspark.sql.functions import max\n",
    "u_df.select(max('amount_paid')).show()"
   ]
  },
  {
   "cell_type": "markdown",
   "id": "aacdd467-c3da-41ac-86e8-c11d3e07a6a4",
   "metadata": {},
   "source": [
    "# sum vs sumDistinct"
   ]
  },
  {
   "cell_type": "code",
   "execution_count": 46,
   "id": "4b452037-78e1-4725-a777-542ef908e3b8",
   "metadata": {},
   "outputs": [
    {
     "name": "stdout",
     "output_type": "stream",
     "text": [
      "+----------------+\n",
      "|sum(amount_paid)|\n",
      "+----------------+\n",
      "|          321.65|\n",
      "+----------------+\n",
      "\n"
     ]
    }
   ],
   "source": [
    "from pyspark.sql.functions import sum, sumDistinct\n",
    "u_df.select(sum('amount_paid')).show()"
   ]
  },
  {
   "cell_type": "code",
   "execution_count": 47,
   "id": "9044371b-8b60-4948-b035-c587191836b0",
   "metadata": {},
   "outputs": [
    {
     "name": "stdout",
     "output_type": "stream",
     "text": [
      "+-------------------------+\n",
      "|sum(DISTINCT amount_paid)|\n",
      "+-------------------------+\n",
      "|                    211.1|\n",
      "+-------------------------+\n",
      "\n"
     ]
    }
   ],
   "source": [
    "u_df.select(sumDistinct('amount_paid')).show()"
   ]
  },
  {
   "cell_type": "markdown",
   "id": "e5c55643-8799-4fd3-b70b-6b5c9b07a675",
   "metadata": {},
   "source": [
    "# count vs countDistinct"
   ]
  },
  {
   "cell_type": "code",
   "execution_count": 48,
   "id": "0ce2dd82-d8d2-46e6-acf2-8fe4ef9059d5",
   "metadata": {},
   "outputs": [
    {
     "name": "stdout",
     "output_type": "stream",
     "text": [
      "+------------------+\n",
      "|count(amount_paid)|\n",
      "+------------------+\n",
      "|                 3|\n",
      "+------------------+\n",
      "\n"
     ]
    }
   ],
   "source": [
    "from pyspark.sql.functions import count, countDistinct\n",
    "u_df.select(count('amount_paid')).show()"
   ]
  },
  {
   "cell_type": "code",
   "execution_count": 50,
   "id": "ece40d18-9336-454b-ac76-959e6f6a398f",
   "metadata": {},
   "outputs": [
    {
     "name": "stdout",
     "output_type": "stream",
     "text": [
      "+---------------------------+\n",
      "|count(DISTINCT amount_paid)|\n",
      "+---------------------------+\n",
      "|                          2|\n",
      "+---------------------------+\n",
      "\n"
     ]
    }
   ],
   "source": [
    "from pyspark.sql.functions import count, countDistinct\n",
    "u_df.select(countDistinct('amount_paid')).show()"
   ]
  },
  {
   "cell_type": "markdown",
   "id": "9cf26a2b-1a85-4a38-86e2-1bbee7cfefba",
   "metadata": {},
   "source": [
    "# first vs last"
   ]
  },
  {
   "cell_type": "code",
   "execution_count": 54,
   "id": "948a0b3b-f34b-450c-b3a0-a714a6b00d98",
   "metadata": {},
   "outputs": [
    {
     "name": "stdout",
     "output_type": "stream",
     "text": [
      "+------------------+\n",
      "|first(amount_paid)|\n",
      "+------------------+\n",
      "|            100.55|\n",
      "+------------------+\n",
      "\n"
     ]
    }
   ],
   "source": [
    "from pyspark.sql.functions import first, last\n",
    "u_df.select(first('amount_paid')).show()"
   ]
  },
  {
   "cell_type": "code",
   "execution_count": 55,
   "id": "437f77f5-b0c1-41d9-b827-4b343afce9ad",
   "metadata": {},
   "outputs": [
    {
     "name": "stdout",
     "output_type": "stream",
     "text": [
      "+-----------------+\n",
      "|last(amount_paid)|\n",
      "+-----------------+\n",
      "|           110.55|\n",
      "+-----------------+\n",
      "\n"
     ]
    }
   ],
   "source": [
    "from pyspark.sql.functions import first, last\n",
    "u_df.select(last('amount_paid')).show()"
   ]
  },
  {
   "cell_type": "markdown",
   "id": "cecb70f5-cad8-4b1c-aa21-ade1e470127b",
   "metadata": {},
   "source": [
    "# collect_set vs collect_list"
   ]
  },
  {
   "cell_type": "code",
   "execution_count": 56,
   "id": "aa39b0bd-1a0b-49c8-90ef-fbeb27aaa6fb",
   "metadata": {},
   "outputs": [
    {
     "name": "stdout",
     "output_type": "stream",
     "text": [
      "+------------------------+\n",
      "|collect_set(amount_paid)|\n",
      "+------------------------+\n",
      "|        [110.55, 100.55]|\n",
      "+------------------------+\n",
      "\n"
     ]
    }
   ],
   "source": [
    "from pyspark.sql.functions import collect_set, collect_list\n",
    "u_df.select(collect_set('amount_paid')).show()"
   ]
  },
  {
   "cell_type": "code",
   "execution_count": 58,
   "id": "fee43546-e5a6-4793-a517-f05535f9dc78",
   "metadata": {},
   "outputs": [
    {
     "name": "stdout",
     "output_type": "stream",
     "text": [
      "+-------------------------+\n",
      "|collect_list(amount_paid)|\n",
      "+-------------------------+\n",
      "|[100.55, 110.55, 110.55] |\n",
      "+-------------------------+\n",
      "\n"
     ]
    }
   ],
   "source": [
    "u_df.select(collect_list('amount_paid')).show(truncate=False)"
   ]
  },
  {
   "cell_type": "markdown",
   "id": "a3e063ad-fbdc-49f3-8c90-539643f7ab87",
   "metadata": {},
   "source": [
    "# skewness\n",
    "- Skewness measures the asymmetry of the distribution of values in a column.\n",
    "    - Positive Skew (Right Skewed): Tail on the right → many small values, few large ones.\n",
    "\t- Negative Skew (Left Skewed): Tail on the left → many large values, few small ones.\n",
    "\t- Skewness ≈ 0: Symmetric distribution (e.g., normal distribution)."
   ]
  },
  {
   "cell_type": "code",
   "execution_count": 60,
   "id": "bdca0e87-7d55-472e-83fa-6303af6b4736",
   "metadata": {},
   "outputs": [
    {
     "name": "stdout",
     "output_type": "stream",
     "text": [
      "+---------------------+\n",
      "|skewness(amount_paid)|\n",
      "+---------------------+\n",
      "|  -0.7071067811865476|\n",
      "+---------------------+\n",
      "\n"
     ]
    }
   ],
   "source": [
    "from pyspark.sql.functions import skewness\n",
    "\n",
    "u_df.select(skewness('amount_paid')).show()"
   ]
  },
  {
   "cell_type": "markdown",
   "id": "908d00f6-4b0c-4586-b10f-ff426c6d1b7a",
   "metadata": {},
   "source": [
    "# variance\n",
    "\t- Variance measures how far the numbers in a dataset are spread out from their mean.\n",
    "\t- High variance → values are more spread out.\n",
    "\t- Low variance → values are closer to the mean.\n"
   ]
  },
  {
   "cell_type": "code",
   "execution_count": 61,
   "id": "61e3616a-e49e-47c2-8114-af868dccca6c",
   "metadata": {},
   "outputs": [
    {
     "name": "stdout",
     "output_type": "stream",
     "text": [
      "+---------------------+\n",
      "|variance(amount_paid)|\n",
      "+---------------------+\n",
      "|   33.333333333333336|\n",
      "+---------------------+\n",
      "\n"
     ]
    }
   ],
   "source": [
    "from pyspark.sql.functions import variance\n",
    "\n",
    "u_df.select(variance('amount_paid')).show()"
   ]
  },
  {
   "cell_type": "markdown",
   "id": "1f41e07c-17ac-480b-bdd4-cf0c8923cf9f",
   "metadata": {},
   "source": [
    "# stddev\n",
    "\t- Standard deviation is √variance.\n",
    "\t- It measures the average distance of values from the mean.\n",
    "\t- Higher stddev → data more spread out.\n",
    "\t- Lower stddev → data closer to the mean.\n"
   ]
  },
  {
   "cell_type": "code",
   "execution_count": 62,
   "id": "526e6a30-614e-4903-8829-a28b3de626a0",
   "metadata": {},
   "outputs": [
    {
     "name": "stdout",
     "output_type": "stream",
     "text": [
      "+-------------------+\n",
      "|stddev(amount_paid)|\n",
      "+-------------------+\n",
      "|  5.773502691896258|\n",
      "+-------------------+\n",
      "\n"
     ]
    }
   ],
   "source": [
    "from pyspark.sql.functions import stddev\n",
    "\n",
    "u_df.select(stddev('amount_paid')).show()"
   ]
  },
  {
   "cell_type": "code",
   "execution_count": 63,
   "id": "16cad0fc-2bf9-4c78-b52c-8138242a1a75",
   "metadata": {},
   "outputs": [],
   "source": [
    "spark.stop()"
   ]
  },
  {
   "cell_type": "code",
   "execution_count": null,
   "id": "5d110982-2169-406d-bed5-ee514f9bf413",
   "metadata": {},
   "outputs": [],
   "source": []
  }
 ],
 "metadata": {
  "kernelspec": {
   "display_name": "Python 3 (ipykernel)",
   "language": "python",
   "name": "python3"
  },
  "language_info": {
   "codemirror_mode": {
    "name": "ipython",
    "version": 3
   },
   "file_extension": ".py",
   "mimetype": "text/x-python",
   "name": "python",
   "nbconvert_exporter": "python",
   "pygments_lexer": "ipython3",
   "version": "3.11.13"
  }
 },
 "nbformat": 4,
 "nbformat_minor": 5
}
