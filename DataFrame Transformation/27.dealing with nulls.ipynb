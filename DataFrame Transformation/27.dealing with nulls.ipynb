{
 "cells": [
  {
   "cell_type": "code",
   "execution_count": 1,
   "id": "36cf717e-8a41-4c56-abbf-bac56f554dc8",
   "metadata": {},
   "outputs": [],
   "source": [
    "import findspark\n",
    "findspark.init()"
   ]
  },
  {
   "cell_type": "code",
   "execution_count": 3,
   "id": "95de9ba4-f840-4dca-b276-013e52d9d46e",
   "metadata": {},
   "outputs": [],
   "source": [
    "from pyspark.sql import SparkSession\n",
    "spark = SparkSession.builder \\\n",
    "    .appName(\"MyApp\") \\\n",
    "    .master(\"local[*]\") \\\n",
    "    .config(\"spark.jars.packages\", \"org.apache.spark:spark-avro_2.12:3.4.0\") \\\n",
    "    .getOrCreate()"
   ]
  },
  {
   "cell_type": "markdown",
   "id": "940dc372-3f5f-44aa-a628-0d09e0fb71fe",
   "metadata": {},
   "source": [
    "# create dataFrame"
   ]
  },
  {
   "cell_type": "code",
   "execution_count": 6,
   "id": "7fc85ac0-b126-4921-9b8d-193b3f2751da",
   "metadata": {},
   "outputs": [
    {
     "name": "stdout",
     "output_type": "stream",
     "text": [
      "+---+------+-----+-----+\n",
      "| id|  name|  sal|bonus|\n",
      "+---+------+-----+-----+\n",
      "|  1| kiran|150.0|    0|\n",
      "|  2|chinta|124.9|     |\n",
      "|  3|  NULL| 80.0|   10|\n",
      "|  4|gowthu| 90.0| NULL|\n",
      "|  5|manchi| NULL|   15|\n",
      "+---+------+-----+-----+\n",
      "\n"
     ]
    }
   ],
   "source": [
    "employees= [(1,'kiran',150.0,0),\n",
    "           (2,'chinta',124.90,''),\n",
    "           (3,None,80.0,10),\n",
    "           (4,'gowthu',90.0,None),\n",
    "           (5,'manchi',None,15)]\n",
    "\n",
    "e_df = spark.createDataFrame(employees, schema = \"id INT, name STRING, sal FLOAT, bonus STRING\")\n",
    "e_df.show()"
   ]
  },
  {
   "cell_type": "markdown",
   "id": "95cdb516-1856-4991-87a1-6b6059ce5c35",
   "metadata": {},
   "source": [
    "# dropna/na.drop()"
   ]
  },
  {
   "cell_type": "code",
   "execution_count": 7,
   "id": "077bdc6a-8a6b-49d3-ad35-6174000ee6f9",
   "metadata": {},
   "outputs": [
    {
     "name": "stdout",
     "output_type": "stream",
     "text": [
      "+---+------+-----+-----+\n",
      "| id|  name|  sal|bonus|\n",
      "+---+------+-----+-----+\n",
      "|  1| kiran|150.0|    0|\n",
      "|  2|chinta|124.9|     |\n",
      "+---+------+-----+-----+\n",
      "\n"
     ]
    }
   ],
   "source": [
    "e_df.dropna().show()"
   ]
  },
  {
   "cell_type": "code",
   "execution_count": 8,
   "id": "7f051163-eb8b-46e0-8ede-e86eb4664cc1",
   "metadata": {},
   "outputs": [
    {
     "name": "stdout",
     "output_type": "stream",
     "text": [
      "+---+------+-----+-----+\n",
      "| id|  name|  sal|bonus|\n",
      "+---+------+-----+-----+\n",
      "|  1| kiran|150.0|    0|\n",
      "|  2|chinta|124.9|     |\n",
      "+---+------+-----+-----+\n",
      "\n"
     ]
    }
   ],
   "source": [
    "e_df.na.drop().show()"
   ]
  },
  {
   "cell_type": "code",
   "execution_count": 9,
   "id": "dadb1f2d-60c7-4f5f-a11a-4250089d57cb",
   "metadata": {},
   "outputs": [
    {
     "name": "stdout",
     "output_type": "stream",
     "text": [
      "+---+------+-----+-----+\n",
      "| id|  name|  sal|bonus|\n",
      "+---+------+-----+-----+\n",
      "|  1| kiran|150.0|    0|\n",
      "|  2|chinta|124.9|     |\n",
      "|  4|gowthu| 90.0| NULL|\n",
      "|  5|manchi| NULL|   15|\n",
      "+---+------+-----+-----+\n",
      "\n"
     ]
    }
   ],
   "source": [
    "e_df.dropna(subset=['name']).show()"
   ]
  },
  {
   "cell_type": "markdown",
   "id": "38258e72-a7a0-4daf-b94b-5bdc3221479f",
   "metadata": {},
   "source": [
    "# fillna/na.fill()"
   ]
  },
  {
   "cell_type": "code",
   "execution_count": 10,
   "id": "b8904ca3-3611-48b2-8a4d-98fedeee17be",
   "metadata": {},
   "outputs": [
    {
     "name": "stdout",
     "output_type": "stream",
     "text": [
      "+---+------+-----+-----+\n",
      "| id|  name|  sal|bonus|\n",
      "+---+------+-----+-----+\n",
      "|  1| kiran|150.0|    0|\n",
      "|  2|chinta|124.9|     |\n",
      "|  3|    na| 80.0|   10|\n",
      "|  4|gowthu| 90.0|   na|\n",
      "|  5|manchi| NULL|   15|\n",
      "+---+------+-----+-----+\n",
      "\n"
     ]
    }
   ],
   "source": [
    "# only with that datatype is changes\n",
    "e_df.fillna('na').show()"
   ]
  },
  {
   "cell_type": "code",
   "execution_count": 11,
   "id": "eeed8033-1acf-4b7c-bfd8-fd5f5fa9d897",
   "metadata": {},
   "outputs": [
    {
     "name": "stdout",
     "output_type": "stream",
     "text": [
      "+---+------+-----+-----+\n",
      "| id|  name|  sal|bonus|\n",
      "+---+------+-----+-----+\n",
      "|  1| kiran|150.0|    0|\n",
      "|  2|chinta|124.9|     |\n",
      "|  3|  NULL| 80.0|   10|\n",
      "|  4|gowthu| 90.0| NULL|\n",
      "|  5|manchi|  0.0|   15|\n",
      "+---+------+-----+-----+\n",
      "\n"
     ]
    }
   ],
   "source": [
    "# only with that datatype is changes\n",
    "e_df.fillna(0.0).show()"
   ]
  },
  {
   "cell_type": "code",
   "execution_count": 12,
   "id": "6f2bd973-cf77-4e88-a7eb-fbe48ef177ce",
   "metadata": {},
   "outputs": [
    {
     "name": "stdout",
     "output_type": "stream",
     "text": [
      "+---+------+-----+-----+\n",
      "| id|  name|  sal|bonus|\n",
      "+---+------+-----+-----+\n",
      "|  1| kiran|150.0|    0|\n",
      "|  2|chinta|124.9|     |\n",
      "|  3|  NULL| 80.0|   10|\n",
      "|  4|gowthu| 90.0| NULL|\n",
      "|  5|manchi|  0.0|   15|\n",
      "+---+------+-----+-----+\n",
      "\n"
     ]
    }
   ],
   "source": [
    "# only with that datatype is changes\n",
    "e_df.na.fill(0.0).show()"
   ]
  },
  {
   "cell_type": "code",
   "execution_count": 14,
   "id": "2e04a2c1-3bd3-4b99-ad89-69fec8b0de0d",
   "metadata": {},
   "outputs": [
    {
     "name": "stdout",
     "output_type": "stream",
     "text": [
      "+---+------+-----+-----+\n",
      "| id|  name|  sal|bonus|\n",
      "+---+------+-----+-----+\n",
      "|  1| kiran|150.0|    0|\n",
      "|  2|chinta|124.9|     |\n",
      "|  3|    na| 80.0|   10|\n",
      "|  4|gowthu| 90.0|   na|\n",
      "|  5|manchi|  0.0|   15|\n",
      "+---+------+-----+-----+\n",
      "\n"
     ]
    }
   ],
   "source": [
    "e_df.fillna(0.0,'sal').fillna('na','name').fillna('na','bonus').show()"
   ]
  },
  {
   "cell_type": "markdown",
   "id": "7d6d30b6-2f2d-4587-921d-988700ea281b",
   "metadata": {},
   "source": [
    "# replace/na.replace\n",
    "- generally they are used to convert non-null values to null values\n",
    "- ex: empty string to null"
   ]
  },
  {
   "cell_type": "code",
   "execution_count": 26,
   "id": "3cd1df64-ae35-44dc-9880-579a1f2be8bd",
   "metadata": {},
   "outputs": [
    {
     "name": "stdout",
     "output_type": "stream",
     "text": [
      "+---+------+-----+-----+\n",
      "| id|  name|  sal|bonus|\n",
      "+---+------+-----+-----+\n",
      "|  1| kiran|150.0|    0|\n",
      "|  2|chinta|124.9| NULL|\n",
      "|  3|  NULL| 80.0|   10|\n",
      "|  4|gowthu| 90.0| NULL|\n",
      "|  5|manchi| NULL|   15|\n",
      "+---+------+-----+-----+\n",
      "\n"
     ]
    }
   ],
   "source": [
    "e_df.replace('',None).show()"
   ]
  },
  {
   "cell_type": "code",
   "execution_count": 27,
   "id": "7eefe24b-f0df-48a0-92e1-9d4a15bad6ca",
   "metadata": {},
   "outputs": [
    {
     "name": "stdout",
     "output_type": "stream",
     "text": [
      "+---+------+-----+-----+\n",
      "| id|  name|  sal|bonus|\n",
      "+---+------+-----+-----+\n",
      "|  1| kiran|150.0|    0|\n",
      "|  2|chinta|124.9| NULL|\n",
      "|  3|  NULL| 80.0|   10|\n",
      "|  4|gowthu| 90.0| NULL|\n",
      "|  5|manchi| NULL|   15|\n",
      "+---+------+-----+-----+\n",
      "\n"
     ]
    }
   ],
   "source": [
    "e_df.na.replace('',None).show()"
   ]
  },
  {
   "cell_type": "markdown",
   "id": "53dedf1d-da1a-4acb-b4fc-d7abb939de27",
   "metadata": {},
   "source": [
    "# coalesce"
   ]
  },
  {
   "cell_type": "code",
   "execution_count": 31,
   "id": "7f2dee85-c8e2-48db-988f-cdebf2a6e131",
   "metadata": {},
   "outputs": [
    {
     "name": "stdout",
     "output_type": "stream",
     "text": [
      "+---+------+-----+-----+-------+\n",
      "| id|  name|  sal|bonus|bonus_1|\n",
      "+---+------+-----+-----+-------+\n",
      "|  1| kiran|150.0|    0|      0|\n",
      "|  2|chinta|124.9| NULL|      0|\n",
      "|  3|  NULL| 80.0|   10|     10|\n",
      "|  4|gowthu| 90.0| NULL|      0|\n",
      "|  5|manchi| NULL|   15|     15|\n",
      "+---+------+-----+-----+-------+\n",
      "\n"
     ]
    }
   ],
   "source": [
    "from pyspark.sql.functions import coalesce,lit,col\n",
    "\n",
    "e_df\\\n",
    "    .replace('',None)\\\n",
    "    .withColumn('bonus_1',coalesce(col('bonus').cast('int'),lit(0)))\\\n",
    "    .show()\n"
   ]
  },
  {
   "cell_type": "markdown",
   "id": "a197f5a3-57b1-456f-8dc6-3f1a771a0a04",
   "metadata": {},
   "source": [
    "# case & when"
   ]
  },
  {
   "cell_type": "code",
   "execution_count": 38,
   "id": "878599e5-aa73-464b-ae25-4c582a747a22",
   "metadata": {},
   "outputs": [
    {
     "name": "stdout",
     "output_type": "stream",
     "text": [
      "+---+------+-----+-----+-------+\n",
      "| id|  name|  sal|bonus|bonus_1|\n",
      "+---+------+-----+-----+-------+\n",
      "|  1| kiran|150.0|    0|      0|\n",
      "|  2|chinta|124.9|     |      0|\n",
      "|  3|  NULL| 80.0|   10|     10|\n",
      "|  4|gowthu| 90.0| NULL|      0|\n",
      "|  5|manchi| NULL|   15|     15|\n",
      "+---+------+-----+-----+-------+\n",
      "\n"
     ]
    }
   ],
   "source": [
    "# case\n",
    "from pyspark.sql.functions import expr\n",
    "\n",
    "e_df\\\n",
    "    .withColumn('bonus_1',\n",
    "                expr(\"\"\"CASE\n",
    "                        WHEN bonus is NULL or bonus = '' then 0\n",
    "                        ELSE bonus\n",
    "                        END\"\"\"))\\\n",
    "    .show()"
   ]
  },
  {
   "cell_type": "code",
   "execution_count": 44,
   "id": "74d3b1b5-d4ac-442e-9384-8295cf75cd30",
   "metadata": {},
   "outputs": [
    {
     "name": "stdout",
     "output_type": "stream",
     "text": [
      "+---+------+-----+-----+-------+\n",
      "| id|  name|  sal|bonus|bonus_1|\n",
      "+---+------+-----+-----+-------+\n",
      "|  1| kiran|150.0|    0|      0|\n",
      "|  2|chinta|124.9|     |      0|\n",
      "|  3|  NULL| 80.0|   10|     10|\n",
      "|  4|gowthu| 90.0| NULL|      0|\n",
      "|  5|manchi| NULL|   15|     15|\n",
      "+---+------+-----+-----+-------+\n",
      "\n"
     ]
    }
   ],
   "source": [
    "# when & otherwise\n",
    "from pyspark.sql.functions import when,col,lit\n",
    "\n",
    "e_df\\\n",
    "    .withColumn('bonus_1',\n",
    "                when(((col('bonus').isNull()) | (col('bonus') == lit(''))),0).otherwise(col('bonus')))\\\n",
    "    .show()"
   ]
  },
  {
   "cell_type": "markdown",
   "id": "779cfdcb-441a-4f87-9169-3dc6e61a8be0",
   "metadata": {},
   "source": [
    "# understanding case & when"
   ]
  },
  {
   "cell_type": "code",
   "execution_count": 46,
   "id": "3f036807-7496-4042-b91c-bb3f556dd19a",
   "metadata": {},
   "outputs": [
    {
     "name": "stdout",
     "output_type": "stream",
     "text": [
      "+---+---+\n",
      "|sno|age|\n",
      "+---+---+\n",
      "|  1|  2|\n",
      "|  2| 13|\n",
      "|  3| 18|\n",
      "|  4| 60|\n",
      "|  5|120|\n",
      "|  6|  0|\n",
      "|  7| 12|\n",
      "|  8|160|\n",
      "+---+---+\n",
      "\n"
     ]
    }
   ],
   "source": [
    "persons = [(1,2),(2,13),(3,18),(4,60),(5,120),(6,0),(7,12),(8,160)]\n",
    "p_df = spark.createDataFrame(persons,schema=\"\"\"sno INT, age INT\"\"\")\n",
    "p_df.show()"
   ]
  },
  {
   "cell_type": "code",
   "execution_count": 47,
   "id": "1e6efb1d-7682-4697-a061-3359c1274683",
   "metadata": {},
   "outputs": [
    {
     "name": "stdout",
     "output_type": "stream",
     "text": [
      "+---+---+--------+\n",
      "|sno|age|category|\n",
      "+---+---+--------+\n",
      "|  1|  2|New Born|\n",
      "|  2| 13|    Teen|\n",
      "|  3| 18|    Teen|\n",
      "|  4| 60|   Adult|\n",
      "|  5|120|  Senior|\n",
      "|  6|  0|New Born|\n",
      "|  7| 12|     Kid|\n",
      "|  8|160|  Senior|\n",
      "+---+---+--------+\n",
      "\n"
     ]
    }
   ],
   "source": [
    "# case with expr\n",
    "from pyspark.sql.functions import expr\n",
    "\n",
    "p_df\\\n",
    "    .withColumn('category',\n",
    "               expr(\"\"\"\n",
    "                   CASE\n",
    "                   WHEN age BETWEEN 0 and 2 THEN 'New Born'\n",
    "                   WHEN age >2 and age<=12 THEN 'Kid'\n",
    "                   WHEN age>12 AND age<= 19 THEN 'Teen'\n",
    "                   when age>19 AND age<=75 THEN 'Adult'\n",
    "                   ELSE 'Senior'\n",
    "                   END\n",
    "                   \"\"\"))\\\n",
    "    .show()"
   ]
  },
  {
   "cell_type": "code",
   "execution_count": 48,
   "id": "42f713b4-eee8-4e76-a6da-44b055e5013b",
   "metadata": {},
   "outputs": [],
   "source": [
    "# using when& otherwise\n",
    "from pyspark.sql.functions import when,col,lit\n",
    "\n",
    "p_df\\\n",
    "    .withColumn('category',\n",
    "               when(col('age').between(0,2),'New Born')\\\n",
    "                .when(((col('age')>2)&()),'Kid')\\\n",
    "                .when((()&()),'Teen')\\\n",
    "                .when((()&()),'Adult')\\\n",
    "                .otherwise('Senior')\n",
    "               )\\\n",
    "    .show()"
   ]
  },
  {
   "cell_type": "code",
   "execution_count": null,
   "id": "72fddfa0-8300-46a9-9342-823884003b0f",
   "metadata": {},
   "outputs": [],
   "source": []
  }
 ],
 "metadata": {
  "kernelspec": {
   "display_name": "Python 3 (ipykernel)",
   "language": "python",
   "name": "python3"
  },
  "language_info": {
   "codemirror_mode": {
    "name": "ipython",
    "version": 3
   },
   "file_extension": ".py",
   "mimetype": "text/x-python",
   "name": "python",
   "nbconvert_exporter": "python",
   "pygments_lexer": "ipython3",
   "version": "3.11.13"
  }
 },
 "nbformat": 4,
 "nbformat_minor": 5
}
