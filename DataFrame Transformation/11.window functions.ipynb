{
 "cells": [
  {
   "cell_type": "code",
   "execution_count": 1,
   "id": "58be0dd0-e70d-493f-937b-0657631abfd0",
   "metadata": {},
   "outputs": [],
   "source": [
    "import findspark\n",
    "findspark.init()"
   ]
  },
  {
   "cell_type": "code",
   "execution_count": 2,
   "id": "dc9e6e24-db07-4a45-8173-a88649aeeb79",
   "metadata": {},
   "outputs": [
    {
     "name": "stderr",
     "output_type": "stream",
     "text": [
      "WARNING: Using incubator modules: jdk.incubator.vector\n",
      "Using Spark's default log4j profile: org/apache/spark/log4j2-defaults.properties\n",
      "25/06/15 11:11:48 WARN Utils: Your hostname, kirans-mac.local, resolves to a loopback address: 127.0.0.1; using 172.18.197.149 instead (on interface en0)\n",
      "25/06/15 11:11:48 WARN Utils: Set SPARK_LOCAL_IP if you need to bind to another address\n",
      "Using Spark's default log4j profile: org/apache/spark/log4j2-defaults.properties\n",
      "Setting default log level to \"WARN\".\n",
      "To adjust logging level use sc.setLogLevel(newLevel). For SparkR, use setLogLevel(newLevel).\n",
      "25/06/15 11:11:49 WARN NativeCodeLoader: Unable to load native-hadoop library for your platform... using builtin-java classes where applicable\n"
     ]
    }
   ],
   "source": [
    "from pyspark.sql import SparkSession\n",
    "spark = SparkSession.builder \\\n",
    "    .appName(\"MyApp\") \\\n",
    "    .master(\"local[*]\") \\\n",
    "    .getOrCreate()"
   ]
  },
  {
   "cell_type": "markdown",
   "id": "6c688038-0063-4e3c-af99-1fadf4bc4f37",
   "metadata": {},
   "source": [
    "# create dataFrame"
   ]
  },
  {
   "cell_type": "code",
   "execution_count": 3,
   "id": "8632d628-17d4-4eec-b8d5-66dcef8a1a83",
   "metadata": {},
   "outputs": [
    {
     "name": "stdout",
     "output_type": "stream",
     "text": [
      "+-------+---------+-----+------+---+\n",
      "|empname|     dept|state|salary|age|\n",
      "+-------+---------+-----+------+---+\n",
      "|  James|    Sales|   NY|  9000| 34|\n",
      "| Alicia|    Sales|   NY|  8600| 56|\n",
      "| Robert|    Sales|   CA|  8100| 30|\n",
      "|   John|    Sales|   AZ|  8600| 31|\n",
      "|   Ross|    Sales|   AZ|  8100| 33|\n",
      "|  Kathy|    Sales|   AZ|  1000| 39|\n",
      "|   Lisa|  Finance|   CA|  9000| 24|\n",
      "|   Deja|  Finance|   CA|  9900| 40|\n",
      "|  Sugie|  Finance|   NY|  8300| 36|\n",
      "|    Ram|  Finance|   NY|  7900| 53|\n",
      "|  Satya|  Finance|   AZ|  8200| 53|\n",
      "|   Kyle|Marketing|   CA|  8000| 25|\n",
      "|   Reid|Marketing|   NY|  9100| 50|\n",
      "+-------+---------+-----+------+---+\n",
      "\n"
     ]
    }
   ],
   "source": [
    "data = ((\"James\",\"Sales\",\"NY\",9000,34),\n",
    "(\"Alicia\",\"Sales\",\"NY\",8600,56),\n",
    "(\"Robert\",\"Sales\",\"CA\",8100,30),\n",
    "(\"John\",\"Sales\",\"AZ\",8600,31),\n",
    "(\"Ross\",\"Sales\",\"AZ\",8100,33),\n",
    "(\"Kathy\",\"Sales\",\"AZ\",1000,39),\n",
    "(\"Lisa\",\"Finance\",\"CA\",9000,24),\n",
    "(\"Deja\",\"Finance\",\"CA\",9900,40),\n",
    "(\"Sugie\",\"Finance\",\"NY\",8300,36),\n",
    "(\"Ram\",\"Finance\",\"NY\",7900,53),\n",
    "(\"Satya\",\"Finance\",\"AZ\",8200,53),\n",
    "(\"Kyle\",\"Marketing\",\"CA\",8000,25),\n",
    "(\"Reid\",\"Marketing\",\"NY\",9100,50)\n",
    ")\n",
    "schema=(\"empname\",\"dept\",\"state\",\"salary\",\"age\")\n",
    "df = spark.createDataFrame(data=data,schema=schema)\n",
    "df.show()"
   ]
  },
  {
   "cell_type": "markdown",
   "id": "5b2ab510-13fb-4aa9-83df-75c53b21d4cf",
   "metadata": {},
   "source": [
    "# Aggregate window functions"
   ]
  },
  {
   "cell_type": "code",
   "execution_count": 8,
   "id": "62503b5e-76bc-4705-ad48-2f455d8fff86",
   "metadata": {},
   "outputs": [],
   "source": [
    "spec = Window.partitionBy(\"dept\")"
   ]
  },
  {
   "cell_type": "code",
   "execution_count": 9,
   "id": "1fc080af-43f7-423c-bf16-a71334b0b32a",
   "metadata": {},
   "outputs": [
    {
     "name": "stdout",
     "output_type": "stream",
     "text": [
      "+---------+------+-------+-------+-------+-----------------+---------+\n",
      "|     dept|salary|sum_sal|max_sal|min_sal|          avg_sal|count_sal|\n",
      "+---------+------+-------+-------+-------+-----------------+---------+\n",
      "|  Finance|  9000|  43300|   9900|   7900|           8660.0|        5|\n",
      "|  Finance|  9900|  43300|   9900|   7900|           8660.0|        5|\n",
      "|  Finance|  8300|  43300|   9900|   7900|           8660.0|        5|\n",
      "|  Finance|  7900|  43300|   9900|   7900|           8660.0|        5|\n",
      "|  Finance|  8200|  43300|   9900|   7900|           8660.0|        5|\n",
      "|Marketing|  8000|  17100|   9100|   8000|           8550.0|        2|\n",
      "|Marketing|  9100|  17100|   9100|   8000|           8550.0|        2|\n",
      "|    Sales|  9000|  43400|   9000|   1000|7233.333333333333|        6|\n",
      "|    Sales|  8600|  43400|   9000|   1000|7233.333333333333|        6|\n",
      "|    Sales|  8100|  43400|   9000|   1000|7233.333333333333|        6|\n",
      "|    Sales|  8600|  43400|   9000|   1000|7233.333333333333|        6|\n",
      "|    Sales|  8100|  43400|   9000|   1000|7233.333333333333|        6|\n",
      "|    Sales|  1000|  43400|   9000|   1000|7233.333333333333|        6|\n",
      "+---------+------+-------+-------+-------+-----------------+---------+\n",
      "\n"
     ]
    }
   ],
   "source": [
    "df.select(df.dept,df.salary) \\\n",
    ".withColumn(\"sum_sal\",sum(\"salary\").over(spec)) \\\n",
    ".withColumn(\"max_sal\",max(\"salary\").over(spec)) \\\n",
    ".withColumn(\"min_sal\",min(\"salary\").over(spec)) \\\n",
    ".withColumn(\"avg_sal\",avg(\"salary\").over(spec)) \\\n",
    ".withColumn(\"count_sal\",count(\"salary\").over(spec)) \\\n",
    ".show()"
   ]
  },
  {
   "cell_type": "code",
   "execution_count": 10,
   "id": "4284d1a3-2df2-427b-ba91-f2c1336a7c71",
   "metadata": {},
   "outputs": [
    {
     "name": "stdout",
     "output_type": "stream",
     "text": [
      "+---------+------+---------+--------+\n",
      "|     dept|salary|first_sal|last_sal|\n",
      "+---------+------+---------+--------+\n",
      "|  Finance|  7900|     7900|    7900|\n",
      "|  Finance|  8200|     7900|    8200|\n",
      "|  Finance|  8300|     7900|    8300|\n",
      "|  Finance|  9000|     7900|    9000|\n",
      "|  Finance|  9900|     7900|    9900|\n",
      "|Marketing|  8000|     8000|    8000|\n",
      "|Marketing|  9100|     8000|    9100|\n",
      "|    Sales|  1000|     1000|    1000|\n",
      "|    Sales|  8100|     1000|    8100|\n",
      "|    Sales|  8100|     1000|    8100|\n",
      "|    Sales|  8600|     1000|    8600|\n",
      "|    Sales|  8600|     1000|    8600|\n",
      "|    Sales|  9000|     1000|    9000|\n",
      "+---------+------+---------+--------+\n",
      "\n"
     ]
    }
   ],
   "source": [
    "spec = Window.partitionBy(\"dept\").orderBy('salary')\n",
    "\n",
    "df.select(df.dept,df.salary) \\\n",
    ".withColumn(\"first_sal\",first(\"salary\").over(spec)) \\\n",
    ".withColumn(\"last_sal\",last(\"salary\").over(spec)) \\\n",
    ".show()"
   ]
  },
  {
   "cell_type": "markdown",
   "id": "5ff0ad87-b6a3-45ff-95de-3a44e442833d",
   "metadata": {},
   "source": [
    "# Ranking window functions\n",
    "- row_number() : Sequential Row Number.\n",
    "- rank() : Ranks but gaps when ties.\n",
    "- dense_rank() : Ranks with out any gaps.\n",
    "- percent_rank: Relative rank (i.e. percentile) of rows within a window partition. First row is always 0 and last row is\n",
    "always 1.\n",
    "- ntile() :returns the ntile group id (from 1 to n inclusive) in an ordered window partition. For example, if n is 4, the first\n",
    "quarter of the rows will get value 1, the second quarter will get 2, the third quarter will get 3, and the last quarter will\n",
    "get 4.\n",
    "- cume_dist():Returns the cumulative distribution of values within a window partition,\n",
    "i.e. the fraction of rows that are below the current row."
   ]
  },
  {
   "cell_type": "code",
   "execution_count": 11,
   "id": "cb00b6a5-7589-4be4-8e1d-0befb8486af5",
   "metadata": {},
   "outputs": [],
   "source": [
    "from pyspark.sql.window import *\n",
    "from pyspark.sql.functions import *\n",
    "spec = Window.partitionBy(\"dept\").orderBy(\"salary\")"
   ]
  },
  {
   "cell_type": "code",
   "execution_count": 12,
   "id": "a88e7bfa-8035-4bbc-b86e-bba0e26da914",
   "metadata": {},
   "outputs": [
    {
     "name": "stdout",
     "output_type": "stream",
     "text": [
      "+---------+------+----------+----+----------+------------+-------------------+-----+\n",
      "|     dept|salary|row_number|rank|dense_rank|percent_rank|          cume_dist|ntile|\n",
      "+---------+------+----------+----+----------+------------+-------------------+-----+\n",
      "|  Finance|  7900|         1|   1|         1|         0.0|                0.2|    1|\n",
      "|  Finance|  8200|         2|   2|         2|        0.25|                0.4|    1|\n",
      "|  Finance|  8300|         3|   3|         3|         0.5|                0.6|    2|\n",
      "|  Finance|  9000|         4|   4|         4|        0.75|                0.8|    2|\n",
      "|  Finance|  9900|         5|   5|         5|         1.0|                1.0|    3|\n",
      "|Marketing|  8000|         1|   1|         1|         0.0|                0.5|    1|\n",
      "|Marketing|  9100|         2|   2|         2|         1.0|                1.0|    2|\n",
      "|    Sales|  1000|         1|   1|         1|         0.0|0.16666666666666666|    1|\n",
      "|    Sales|  8100|         2|   2|         2|         0.2|                0.5|    1|\n",
      "|    Sales|  8100|         3|   2|         2|         0.2|                0.5|    2|\n",
      "|    Sales|  8600|         4|   4|         3|         0.6| 0.8333333333333334|    2|\n",
      "|    Sales|  8600|         5|   4|         3|         0.6| 0.8333333333333334|    3|\n",
      "|    Sales|  9000|         6|   6|         4|         1.0|                1.0|    3|\n",
      "+---------+------+----------+----+----------+------------+-------------------+-----+\n",
      "\n"
     ]
    }
   ],
   "source": [
    "df.select('dept','salary') \\\n",
    ".withColumn(\"row_number\",row_number().over(spec))\\\n",
    ".withColumn(\"rank\",rank().over(spec))\\\n",
    ".withColumn(\"dense_rank\",dense_rank().over(spec))\\\n",
    ".withColumn(\"percent_rank\",percent_rank().over(spec))\\\n",
    ".withColumn(\"cume_dist\",cume_dist().over(spec))\\\n",
    ".withColumn(\"ntile\",ntile(3).over(spec))\\\n",
    ".show()"
   ]
  },
  {
   "cell_type": "markdown",
   "id": "5d9b7c76-6fa6-4084-90be-965b727a1c13",
   "metadata": {},
   "source": [
    "# Analytical window functions\n",
    "- lag() : Return offset row value before the current row value.\n",
    "- lead() : Return offset row value after the current row value."
   ]
  },
  {
   "cell_type": "code",
   "execution_count": 6,
   "id": "78b945f4-fe9f-42a1-9660-2adc78b86979",
   "metadata": {},
   "outputs": [],
   "source": [
    "spec = Window.partitionBy(\"dept\").orderBy(\"salary\")"
   ]
  },
  {
   "cell_type": "code",
   "execution_count": 7,
   "id": "da54f747-5885-4312-87d6-d7a1c010647d",
   "metadata": {},
   "outputs": [
    {
     "name": "stdout",
     "output_type": "stream",
     "text": [
      "+---------+------+------------+-------------+\n",
      "|     dept|salary|lag_prev_sal|lead_next_sal|\n",
      "+---------+------+------------+-------------+\n",
      "|  Finance|  7900|           0|         8200|\n",
      "|  Finance|  8200|        7900|         8300|\n",
      "|  Finance|  8300|        8200|         9000|\n",
      "|  Finance|  9000|        8300|         9900|\n",
      "|  Finance|  9900|        9000|            0|\n",
      "|Marketing|  8000|           0|         9100|\n",
      "|Marketing|  9100|        8000|            0|\n",
      "|    Sales|  1000|           0|         8100|\n",
      "|    Sales|  8100|        1000|         8100|\n",
      "|    Sales|  8100|        8100|         8600|\n",
      "|    Sales|  8600|        8100|         8600|\n",
      "|    Sales|  8600|        8600|         9000|\n",
      "|    Sales|  9000|        8600|            0|\n",
      "+---------+------+------------+-------------+\n",
      "\n"
     ]
    }
   ],
   "source": [
    "df.select('dept','salary') \\\n",
    ".withColumn(\"lag_prev_sal\",lag(\"salary\",1,0).over(spec)) \\\n",
    ".withColumn(\"lead_next_sal\",lead(\"salary\",1,0).over(spec)) \\\n",
    ".show()"
   ]
  },
  {
   "cell_type": "markdown",
   "id": "cb7f5be5-1631-4fae-b4ce-b77c86c0620b",
   "metadata": {},
   "source": [
    "# Analytical windows functions\n",
    "- rowbetween\n",
    "- rangebetween"
   ]
  },
  {
   "cell_type": "code",
   "execution_count": 18,
   "id": "439a2671-b002-4945-9c6b-cecd003c5fa6",
   "metadata": {},
   "outputs": [],
   "source": [
    "spec = Window.partitionBy(\"dept\").orderBy(\"salary\").rowsBetween(-1,1)"
   ]
  },
  {
   "cell_type": "code",
   "execution_count": 19,
   "id": "4e8c17d6-8b0f-4102-876c-1e0368d231fb",
   "metadata": {},
   "outputs": [
    {
     "name": "stdout",
     "output_type": "stream",
     "text": [
      "+---------+------+-------+\n",
      "|     dept|salary|sum_sal|\n",
      "+---------+------+-------+\n",
      "|  Finance|  7900|  16100|\n",
      "|  Finance|  8200|  24400|\n",
      "|  Finance|  8300|  25500|\n",
      "|  Finance|  9000|  27200|\n",
      "|  Finance|  9900|  18900|\n",
      "|Marketing|  8000|  17100|\n",
      "|Marketing|  9100|  17100|\n",
      "|    Sales|  1000|   9100|\n",
      "|    Sales|  8100|  17200|\n",
      "|    Sales|  8100|  24800|\n",
      "|    Sales|  8600|  25300|\n",
      "|    Sales|  8600|  26200|\n",
      "|    Sales|  9000|  17600|\n",
      "+---------+------+-------+\n",
      "\n"
     ]
    }
   ],
   "source": [
    "df.select('dept','salary')\\\n",
    " .withColumn('sum_sal',sum('salary').over(spec))\\\n",
    " .show()"
   ]
  },
  {
   "cell_type": "code",
   "execution_count": 38,
   "id": "8d91f549-b017-4871-bd6f-1fe7ca84157a",
   "metadata": {},
   "outputs": [],
   "source": [
    "spec = Window.partitionBy(\"dept\").orderBy(\"salary\").rowsBetween(Window.unboundedPreceding,Window.currentRow)"
   ]
  },
  {
   "cell_type": "code",
   "execution_count": 39,
   "id": "f696a97a-8de7-45be-b968-7624f3000816",
   "metadata": {},
   "outputs": [
    {
     "name": "stdout",
     "output_type": "stream",
     "text": [
      "+---------+------+-------+\n",
      "|     dept|salary|sum_sal|\n",
      "+---------+------+-------+\n",
      "|  Finance|  7900|   7900|\n",
      "|  Finance|  8200|  16100|\n",
      "|  Finance|  8300|  24400|\n",
      "|  Finance|  9000|  33400|\n",
      "|  Finance|  9900|  43300|\n",
      "|Marketing|  8000|   8000|\n",
      "|Marketing|  9100|  17100|\n",
      "|    Sales|  1000|   1000|\n",
      "|    Sales|  8100|   9100|\n",
      "|    Sales|  8100|  17200|\n",
      "|    Sales|  8600|  25800|\n",
      "|    Sales|  8600|  34400|\n",
      "|    Sales|  9000|  43400|\n",
      "+---------+------+-------+\n",
      "\n"
     ]
    }
   ],
   "source": [
    "df.select('dept','salary')\\\n",
    " .withColumn('sum_sal',sum('salary').over(spec))\\\n",
    " .show()"
   ]
  },
  {
   "cell_type": "code",
   "execution_count": 40,
   "id": "8f026361-1452-438b-8c53-7552e7dd5cef",
   "metadata": {},
   "outputs": [],
   "source": [
    "spec = Window.partitionBy(\"dept\").orderBy(\"salary\").rangeBetween(Window.unboundedPreceding,Window.currentRow)"
   ]
  },
  {
   "cell_type": "code",
   "execution_count": 41,
   "id": "23592494-17c7-4a74-b909-e5ab83c9998b",
   "metadata": {},
   "outputs": [
    {
     "name": "stdout",
     "output_type": "stream",
     "text": [
      "+---------+------+-------+\n",
      "|     dept|salary|sum_sal|\n",
      "+---------+------+-------+\n",
      "|  Finance|  7900|   7900|\n",
      "|  Finance|  8200|  16100|\n",
      "|  Finance|  8300|  24400|\n",
      "|  Finance|  9000|  33400|\n",
      "|  Finance|  9900|  43300|\n",
      "|Marketing|  8000|   8000|\n",
      "|Marketing|  9100|  17100|\n",
      "|    Sales|  1000|   1000|\n",
      "|    Sales|  8100|  17200|\n",
      "|    Sales|  8100|  17200|\n",
      "|    Sales|  8600|  34400|\n",
      "|    Sales|  8600|  34400|\n",
      "|    Sales|  9000|  43400|\n",
      "+---------+------+-------+\n",
      "\n"
     ]
    }
   ],
   "source": [
    "df.select('dept','salary')\\\n",
    " .withColumn('sum_sal',sum('salary').over(spec))\\\n",
    " .show()"
   ]
  },
  {
   "cell_type": "markdown",
   "id": "458a9e6d-866f-4354-8b86-8f8873a29269",
   "metadata": {},
   "source": [
    "- row between: https://www.youtube.com/watch?v=xLAmRI_Iky8&ab_channel=AshutoshKumar \n",
    "- row between vs range between: https://www.youtube.com/watch?v=4eEIs9gtKjw&ab_channel=DataTechWhiz (last 5 mins)"
   ]
  },
  {
   "cell_type": "code",
   "execution_count": 42,
   "id": "1906d0e1-27c6-4d6b-acc9-c1d3ab461d80",
   "metadata": {},
   "outputs": [],
   "source": [
    "spark.stop()"
   ]
  },
  {
   "cell_type": "code",
   "execution_count": null,
   "id": "178bb7d3-89d5-4222-9dc2-184d32f08d0b",
   "metadata": {},
   "outputs": [],
   "source": []
  }
 ],
 "metadata": {
  "kernelspec": {
   "display_name": "Python 3 (ipykernel)",
   "language": "python",
   "name": "python3"
  },
  "language_info": {
   "codemirror_mode": {
    "name": "ipython",
    "version": 3
   },
   "file_extension": ".py",
   "mimetype": "text/x-python",
   "name": "python",
   "nbconvert_exporter": "python",
   "pygments_lexer": "ipython3",
   "version": "3.11.13"
  }
 },
 "nbformat": 4,
 "nbformat_minor": 5
}
