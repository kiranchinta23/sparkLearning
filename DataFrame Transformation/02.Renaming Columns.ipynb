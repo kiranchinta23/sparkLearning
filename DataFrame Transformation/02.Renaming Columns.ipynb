{
 "cells": [
  {
   "cell_type": "code",
   "execution_count": 1,
   "id": "440d5d24-8e35-4af7-b392-aa09b7ba8739",
   "metadata": {},
   "outputs": [],
   "source": [
    "import findspark\n",
    "findspark.init()"
   ]
  },
  {
   "cell_type": "code",
   "execution_count": 2,
   "id": "c921079d-da00-44e9-8146-c8926a5fd510",
   "metadata": {},
   "outputs": [
    {
     "name": "stderr",
     "output_type": "stream",
     "text": [
      "WARNING: Using incubator modules: jdk.incubator.vector\n",
      "Using Spark's default log4j profile: org/apache/spark/log4j2-defaults.properties\n",
      "25/06/14 15:32:20 WARN Utils: Your hostname, kirans-mac.local, resolves to a loopback address: 127.0.0.1; using 172.18.197.149 instead (on interface en0)\n",
      "25/06/14 15:32:20 WARN Utils: Set SPARK_LOCAL_IP if you need to bind to another address\n",
      "Using Spark's default log4j profile: org/apache/spark/log4j2-defaults.properties\n",
      "Setting default log level to \"WARN\".\n",
      "To adjust logging level use sc.setLogLevel(newLevel). For SparkR, use setLogLevel(newLevel).\n",
      "25/06/14 15:32:21 WARN NativeCodeLoader: Unable to load native-hadoop library for your platform... using builtin-java classes where applicable\n",
      "25/06/14 15:32:21 WARN Utils: Service 'SparkUI' could not bind on port 4040. Attempting port 4041.\n"
     ]
    }
   ],
   "source": [
    "from pyspark.sql import SparkSession\n",
    "spark = SparkSession.builder \\\n",
    "    .appName(\"MyApp\") \\\n",
    "    .master(\"local[*]\") \\\n",
    "    .getOrCreate()"
   ]
  },
  {
   "cell_type": "markdown",
   "id": "cce13df4-8b8e-410f-ad08-adce369d22cc",
   "metadata": {},
   "source": [
    "# Create dataFrame"
   ]
  },
  {
   "cell_type": "code",
   "execution_count": 3,
   "id": "dccecba6-22f3-44fe-9c28-8980307fc14f",
   "metadata": {},
   "outputs": [],
   "source": [
    "import datetime\n",
    "from pyspark.sql import Row\n",
    "\n",
    "users = [{'id':1,\n",
    "        'first_name':'kiran',\n",
    "        'last_name':'chinta',\n",
    "         'email':'k.c@gmail.com',\n",
    "         'phone_numbers':Row(mobile=123,home=456),\n",
    "         'courses':[1,2],\n",
    "         'is_customer':True,\n",
    "         'amount_paid':100.55,\n",
    "         'customer_from':datetime.date(2012,1,1),\n",
    "        'last_updated_ts':datetime.datetime(2021,2,2,1,2,3)\n",
    "        },\n",
    "        {'id':2,\n",
    "        'first_name':'goats',\n",
    "        'last_name':'manchi',\n",
    "         'email':'g.m@gmail.com',\n",
    "         'phone_numbers':Row(mobile=246,home=680),\n",
    "         'courses':[11,2],\n",
    "         'is_customer':False,\n",
    "         'amount_paid':110.55,\n",
    "         'customer_from':datetime.date(2012,1,1),\n",
    "        'last_updated_ts':datetime.datetime(2021,2,2,1,2,3)\n",
    "        },\n",
    "        {'id':3,\n",
    "        'first_name':'ss',\n",
    "        'last_name':'raj',\n",
    "         'email':'s.s.r@gmail.com',\n",
    "         'phone_numbers':Row(mobile=135,home=579),\n",
    "         'courses':[11,22],\n",
    "         'is_customer':False,\n",
    "         'amount_paid':None,\n",
    "         'customer_from':datetime.date(2012,2,2),\n",
    "        'last_updated_ts':datetime.datetime(2021,4,5,1,2,3)\n",
    "        }]"
   ]
  },
  {
   "cell_type": "code",
   "execution_count": 4,
   "id": "392f3c86-d3d6-4c10-bf40-b2f404044f13",
   "metadata": {},
   "outputs": [
    {
     "name": "stdout",
     "output_type": "stream",
     "text": [
      "+-----------+--------+-------------+---------------+----------+---+-----------+---------+-------------------+-------------+\n",
      "|amount_paid| courses|customer_from|          email|first_name| id|is_customer|last_name|    last_updated_ts|phone_numbers|\n",
      "+-----------+--------+-------------+---------------+----------+---+-----------+---------+-------------------+-------------+\n",
      "|     100.55|  [1, 2]|   2012-01-01|  k.c@gmail.com|     kiran|  1|       true|   chinta|2021-02-02 01:02:03|   {123, 456}|\n",
      "|     110.55| [11, 2]|   2012-01-01|  g.m@gmail.com|     goats|  2|      false|   manchi|2021-02-02 01:02:03|   {246, 680}|\n",
      "|       NULL|[11, 22]|   2012-02-02|s.s.r@gmail.com|        ss|  3|      false|      raj|2021-04-05 01:02:03|   {135, 579}|\n",
      "+-----------+--------+-------------+---------------+----------+---+-----------+---------+-------------------+-------------+\n",
      "\n"
     ]
    }
   ],
   "source": [
    "u_df = spark.createDataFrame(users)\n",
    "u_df.show()"
   ]
  },
  {
   "cell_type": "code",
   "execution_count": 5,
   "id": "f6b437a5-61f7-4dae-ab44-93a5915a73ae",
   "metadata": {},
   "outputs": [
    {
     "name": "stdout",
     "output_type": "stream",
     "text": [
      "root\n",
      " |-- amount_paid: double (nullable = true)\n",
      " |-- courses: array (nullable = true)\n",
      " |    |-- element: long (containsNull = true)\n",
      " |-- customer_from: date (nullable = true)\n",
      " |-- email: string (nullable = true)\n",
      " |-- first_name: string (nullable = true)\n",
      " |-- id: long (nullable = true)\n",
      " |-- is_customer: boolean (nullable = true)\n",
      " |-- last_name: string (nullable = true)\n",
      " |-- last_updated_ts: timestamp (nullable = true)\n",
      " |-- phone_numbers: struct (nullable = true)\n",
      " |    |-- mobile: long (nullable = true)\n",
      " |    |-- home: long (nullable = true)\n",
      "\n"
     ]
    }
   ],
   "source": [
    "u_df.printSchema()"
   ]
  },
  {
   "cell_type": "markdown",
   "id": "b7d951c9-387f-4595-a664-bb37976c8e7b",
   "metadata": {},
   "source": [
    "# Renaming using withColumnRenamed"
   ]
  },
  {
   "cell_type": "code",
   "execution_count": 7,
   "id": "1d5106c1-f0d5-41db-953e-5b6dd6f0dfe4",
   "metadata": {},
   "outputs": [
    {
     "name": "stdout",
     "output_type": "stream",
     "text": [
      "+-------+---------------+--------------+\n",
      "|user_id|user_first_name|user_last_name|\n",
      "+-------+---------------+--------------+\n",
      "|      1|          kiran|        chinta|\n",
      "|      2|          goats|        manchi|\n",
      "|      3|             ss|           raj|\n",
      "+-------+---------------+--------------+\n",
      "\n"
     ]
    }
   ],
   "source": [
    "u_df.\\\n",
    "    select('id','first_name','last_name').\\\n",
    "    withColumnRenamed('id','user_id').\\\n",
    "    withColumnRenamed('first_name','user_first_name').\\\n",
    "    withColumnRenamed('last_name','user_last_name').\\\n",
    "    show()"
   ]
  },
  {
   "cell_type": "markdown",
   "id": "10a5b306-5874-487c-ab91-ab03e2a6d3e9",
   "metadata": {},
   "source": [
    "# Renaming using alias"
   ]
  },
  {
   "cell_type": "code",
   "execution_count": 11,
   "id": "93a358cc-bbbd-489f-a333-a8da6976408a",
   "metadata": {},
   "outputs": [
    {
     "name": "stdout",
     "output_type": "stream",
     "text": [
      "+-------+---------------+--------------+------------+\n",
      "|user_id|user_first_name|user_last_name|   full-name|\n",
      "+-------+---------------+--------------+------------+\n",
      "|      1|          kiran|        chinta|kiran-chinta|\n",
      "|      2|          goats|        manchi|goats-manchi|\n",
      "|      3|             ss|           raj|      ss-raj|\n",
      "+-------+---------------+--------------+------------+\n",
      "\n"
     ]
    }
   ],
   "source": [
    "from pyspark.sql.functions import col, concat,lit\n",
    "\n",
    "u_df.\\\n",
    "    select(col('id').alias('user_id'),\n",
    "           col('first_name').alias('user_first_name'),\n",
    "           col('last_name').alias('user_last_name'),\n",
    "          concat(col('first_name'),lit('-'),col('last_name')).alias('full-name')).\\\n",
    "    show()"
   ]
  },
  {
   "cell_type": "markdown",
   "id": "00c8562a-f950-45f2-82e9-b9be02fe8b97",
   "metadata": {},
   "source": [
    "# Renaming using withColumn"
   ]
  },
  {
   "cell_type": "code",
   "execution_count": 14,
   "id": "5ef80c8f-0c59-4022-ab44-c2ea5e13c153",
   "metadata": {},
   "outputs": [
    {
     "name": "stdout",
     "output_type": "stream",
     "text": [
      "+---+----------+---------+-------+---------------+--------------+\n",
      "| id|first_name|last_name|user_id|user_first_name|user_last_name|\n",
      "+---+----------+---------+-------+---------------+--------------+\n",
      "|  1|     kiran|   chinta|      1|          kiran|        chinta|\n",
      "|  2|     goats|   manchi|      2|          goats|        manchi|\n",
      "|  3|        ss|      raj|      3|             ss|           raj|\n",
      "+---+----------+---------+-------+---------------+--------------+\n",
      "\n"
     ]
    }
   ],
   "source": [
    "# withColumn for  renaming\n",
    "u_df.\\\n",
    "    select('id','first_name','last_name').\\\n",
    "    withColumn('user_id',col('id')).\\\n",
    "    withColumn('user_first_name',col('first_name')).\\\n",
    "    withColumn('user_last_name',col('last_name')).\\\n",
    "    show()"
   ]
  },
  {
   "cell_type": "code",
   "execution_count": 19,
   "id": "6c311eff-434e-4e82-8f74-a5ee4a5669e5",
   "metadata": {},
   "outputs": [
    {
     "name": "stdout",
     "output_type": "stream",
     "text": [
      "+---+----------+---------+--------+------------+\n",
      "| id|first_name|last_name| courses|   full_name|\n",
      "+---+----------+---------+--------+------------+\n",
      "|  1|     kiran|   chinta|  [1, 2]|kiran-chinta|\n",
      "|  2|     goats|   manchi| [11, 2]|goats-manchi|\n",
      "|  3|        ss|      raj|[11, 22]|      ss-raj|\n",
      "+---+----------+---------+--------+------------+\n",
      "\n"
     ]
    }
   ],
   "source": [
    "# withColumn for transformation\n",
    "\n",
    "from pyspark.sql.functions import size\n",
    "\n",
    "u_df.\\\n",
    "    select('id','first_name','last_name','courses').\\\n",
    "    withColumn('full_name',concat(col('first_name'),lit('-'),col('last_name'))).\\\n",
    "    show()"
   ]
  },
  {
   "cell_type": "code",
   "execution_count": 16,
   "id": "0d3f20ac-dd70-469c-ae3b-987de7a7af6d",
   "metadata": {},
   "outputs": [
    {
     "name": "stdout",
     "output_type": "stream",
     "text": [
      "+---+----------+---------+--------+------------+\n",
      "| id|first_name|last_name| courses|course_count|\n",
      "+---+----------+---------+--------+------------+\n",
      "|  1|     kiran|   chinta|  [1, 2]|           2|\n",
      "|  2|     goats|   manchi| [11, 2]|           2|\n",
      "|  3|        ss|      raj|[11, 22]|           2|\n",
      "+---+----------+---------+--------+------------+\n",
      "\n"
     ]
    }
   ],
   "source": [
    "# withColumn for transformation\n",
    "\n",
    "from pyspark.sql.functions import size\n",
    "\n",
    "u_df.\\\n",
    "    select('id','first_name','last_name','courses').\\\n",
    "    withColumn('course_count',size(col('courses'))).\\\n",
    "    show()"
   ]
  },
  {
   "cell_type": "markdown",
   "id": "57466fca-77b0-4497-b808-16ce8780c614",
   "metadata": {},
   "source": [
    "# Rename all columns"
   ]
  },
  {
   "cell_type": "code",
   "execution_count": 21,
   "id": "e92ac082-d957-4118-b2d3-a0b012083164",
   "metadata": {},
   "outputs": [
    {
     "data": {
      "text/plain": [
       "['amount_paid',\n",
       " 'courses',\n",
       " 'customer_from',\n",
       " 'email',\n",
       " 'first_name',\n",
       " 'id',\n",
       " 'is_customer',\n",
       " 'last_name',\n",
       " 'last_updated_ts',\n",
       " 'phone_numbers']"
      ]
     },
     "execution_count": 21,
     "metadata": {},
     "output_type": "execute_result"
    }
   ],
   "source": [
    "u_df.columns"
   ]
  },
  {
   "cell_type": "code",
   "execution_count": 22,
   "id": "97cb2f30-1301-4476-8d02-62604d879df9",
   "metadata": {},
   "outputs": [],
   "source": [
    "updated_cols = ['user_amount_paid',\n",
    " 'user_courses',\n",
    " 'user_customer_from',\n",
    " 'user_email',\n",
    " 'user_first_name',\n",
    " 'user_id',\n",
    " 'user_is_customer',\n",
    " 'user_last_name',\n",
    " 'user_last_updated_ts',\n",
    " 'user_phone_numbers']"
   ]
  },
  {
   "cell_type": "code",
   "execution_count": 23,
   "id": "3a7b6aa1-e81a-4ef9-8742-077b3998b77e",
   "metadata": {},
   "outputs": [
    {
     "name": "stdout",
     "output_type": "stream",
     "text": [
      "+----------------+------------+------------------+---------------+---------------+-------+----------------+--------------+--------------------+------------------+\n",
      "|user_amount_paid|user_courses|user_customer_from|     user_email|user_first_name|user_id|user_is_customer|user_last_name|user_last_updated_ts|user_phone_numbers|\n",
      "+----------------+------------+------------------+---------------+---------------+-------+----------------+--------------+--------------------+------------------+\n",
      "|          100.55|      [1, 2]|        2012-01-01|  k.c@gmail.com|          kiran|      1|            true|        chinta| 2021-02-02 01:02:03|        {123, 456}|\n",
      "|          110.55|     [11, 2]|        2012-01-01|  g.m@gmail.com|          goats|      2|           false|        manchi| 2021-02-02 01:02:03|        {246, 680}|\n",
      "|            NULL|    [11, 22]|        2012-02-02|s.s.r@gmail.com|             ss|      3|           false|           raj| 2021-04-05 01:02:03|        {135, 579}|\n",
      "+----------------+------------+------------------+---------------+---------------+-------+----------------+--------------+--------------------+------------------+\n",
      "\n"
     ]
    }
   ],
   "source": [
    "u_df.\\\n",
    "    select(u_df.columns).\\\n",
    "    toDF(*updated_cols).\\\n",
    "    show()"
   ]
  },
  {
   "cell_type": "markdown",
   "id": "4bbca391-7c4e-41e1-b2c3-48cd1ea0d07a",
   "metadata": {},
   "source": [
    "# spark stop"
   ]
  },
  {
   "cell_type": "code",
   "execution_count": 24,
   "id": "27dc1ba4-63b5-44d6-90e4-221f0060432e",
   "metadata": {},
   "outputs": [],
   "source": [
    "spark.stop()"
   ]
  },
  {
   "cell_type": "code",
   "execution_count": null,
   "id": "dc5a4d86-7712-4f6b-a569-bb29a1ad8ac4",
   "metadata": {},
   "outputs": [],
   "source": []
  }
 ],
 "metadata": {
  "kernelspec": {
   "display_name": "Python 3 (ipykernel)",
   "language": "python",
   "name": "python3"
  },
  "language_info": {
   "codemirror_mode": {
    "name": "ipython",
    "version": 3
   },
   "file_extension": ".py",
   "mimetype": "text/x-python",
   "name": "python",
   "nbconvert_exporter": "python",
   "pygments_lexer": "ipython3",
   "version": "3.11.13"
  }
 },
 "nbformat": 4,
 "nbformat_minor": 5
}
