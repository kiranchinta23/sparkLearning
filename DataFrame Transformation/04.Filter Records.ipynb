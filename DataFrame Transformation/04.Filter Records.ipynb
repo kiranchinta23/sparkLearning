{
 "cells": [
  {
   "cell_type": "code",
   "execution_count": 72,
   "id": "3e33dc5e-1d9c-49dc-ac16-c0963883f2e1",
   "metadata": {},
   "outputs": [],
   "source": [
    "import findspark\n",
    "findspark.init()"
   ]
  },
  {
   "cell_type": "code",
   "execution_count": 73,
   "id": "1a1ef51c-10ae-4313-a961-ed7d10503955",
   "metadata": {},
   "outputs": [
    {
     "name": "stderr",
     "output_type": "stream",
     "text": [
      "25/06/14 17:41:56 WARN Utils: Service 'SparkUI' could not bind on port 4040. Attempting port 4041.\n"
     ]
    }
   ],
   "source": [
    "from pyspark.sql import SparkSession\n",
    "spark = SparkSession.builder \\\n",
    "    .appName(\"MyApp\") \\\n",
    "    .master(\"local[*]\") \\\n",
    "    .getOrCreate()"
   ]
  },
  {
   "cell_type": "markdown",
   "id": "e6a7bb3b-874f-4d35-9048-8c89ed65f41f",
   "metadata": {},
   "source": [
    "# create dataFrame"
   ]
  },
  {
   "cell_type": "code",
   "execution_count": 74,
   "id": "bbb6204a-494d-4faf-aa63-09b3b32fe189",
   "metadata": {},
   "outputs": [],
   "source": [
    "import datetime\n",
    "from pyspark.sql import Row\n",
    "\n",
    "users = [{'id':1,\n",
    "        'first_name':'kiran',\n",
    "        'last_name':'chinta',\n",
    "         'email':'k.c@gmail.com',\n",
    "         'phone_numbers':Row(mobile=123,home=456),\n",
    "         'courses':[1,2],\n",
    "         'is_customer':True,\n",
    "         'amount_paid':100.55,\n",
    "         'customer_from':datetime.date(2012,1,1),\n",
    "        'last_updated_ts':datetime.datetime(2021,2,2,1,2,3)\n",
    "        },\n",
    "        {'id':2,\n",
    "        'first_name':'goats',\n",
    "        'last_name':'manchi',\n",
    "         'email':'g.m@gmail.com',\n",
    "         'phone_numbers':Row(mobile=246,home=680),\n",
    "         'courses':[11,2],\n",
    "         'is_customer':False,\n",
    "         'amount_paid':110.55,\n",
    "         'customer_from':datetime.date(2012,1,1),\n",
    "        'last_updated_ts':datetime.datetime(2021,2,2,1,2,3)\n",
    "        },\n",
    "        {'id':3,\n",
    "        'first_name':'ss',\n",
    "        'last_name':'raj',\n",
    "         'email':'s.s.r@gmail.com',\n",
    "         'phone_numbers':Row(mobile=135,home=579),\n",
    "         'courses':[11,22],\n",
    "         'is_customer':False,\n",
    "         'amount_paid':None,\n",
    "         'customer_from':datetime.date(2012,2,2),\n",
    "        'last_updated_ts':datetime.datetime(2021,4,5,1,2,3)\n",
    "        },\n",
    "        {'id':None,\n",
    "        'first_name':'puri',\n",
    "        'last_name':'jag',\n",
    "         'email':'p.j@gmail.com',\n",
    "         'phone_numbers':Row(mobile=135,home=579),\n",
    "         'courses':[11,22],\n",
    "         'is_customer':False,\n",
    "         'amount_paid':None,\n",
    "         'customer_from':datetime.date(2012,2,2),\n",
    "        'last_updated_ts':datetime.datetime(2021,4,5,1,2,3)\n",
    "        },\n",
    "        {'id':5,\n",
    "        'first_name':None,\n",
    "        'last_name':None,\n",
    "         'email':None,\n",
    "         'phone_numbers':Row(mobile=135,home=579),\n",
    "         'courses':[11,22],\n",
    "         'is_customer':False,\n",
    "         'amount_paid':None,\n",
    "         'customer_from':datetime.date(2012,2,2),\n",
    "        'last_updated_ts':datetime.datetime(2021,4,5,1,2,3)\n",
    "        }]"
   ]
  },
  {
   "cell_type": "code",
   "execution_count": 75,
   "id": "7d8de7db-4881-4a94-a3c2-239903b83c9f",
   "metadata": {},
   "outputs": [
    {
     "name": "stdout",
     "output_type": "stream",
     "text": [
      "+---+----------+---------+---------------+-------------+--------+-----------+-----------+-------------+-------------------+\n",
      "| id|first_name|last_name|          email|phone_numbers| courses|is_customer|amount_paid|customer_from|    last_updated_ts|\n",
      "+---+----------+---------+---------------+-------------+--------+-----------+-----------+-------------+-------------------+\n",
      "|1.0|     kiran|   chinta|  k.c@gmail.com|   {123, 456}|  [1, 2]|       true|     100.55|   2012-01-01|2021-02-02 01:02:03|\n",
      "|2.0|     goats|   manchi|  g.m@gmail.com|   {246, 680}| [11, 2]|      false|     110.55|   2012-01-01|2021-02-02 01:02:03|\n",
      "|3.0|        ss|      raj|s.s.r@gmail.com|   {135, 579}|[11, 22]|      false|        NaN|   2012-02-02|2021-04-05 01:02:03|\n",
      "|NaN|      puri|      jag|  p.j@gmail.com|   {135, 579}|[11, 22]|      false|        NaN|   2012-02-02|2021-04-05 01:02:03|\n",
      "|5.0|      NULL|     NULL|           NULL|   {135, 579}|[11, 22]|      false|        NaN|   2012-02-02|2021-04-05 01:02:03|\n",
      "+---+----------+---------+---------------+-------------+--------+-----------+-----------+-------------+-------------------+\n",
      "\n"
     ]
    }
   ],
   "source": [
    "import pandas as pd\n",
    "u_df = spark.createDataFrame(pd.DataFrame(users))\n",
    "u_df.show()"
   ]
  },
  {
   "cell_type": "markdown",
   "id": "afa9b956-72bf-45bc-9cae-58cb4e6ac8e5",
   "metadata": {},
   "source": [
    "# overview of filter/where"
   ]
  },
  {
   "cell_type": "code",
   "execution_count": 47,
   "id": "cac697d0-04b7-4e1d-a600-d1067d8e6ff7",
   "metadata": {},
   "outputs": [
    {
     "name": "stdout",
     "output_type": "stream",
     "text": [
      "+---+----------+---------+-------------+-------------+-------+-----------+-----------+-------------+-------------------+\n",
      "| id|first_name|last_name|        email|phone_numbers|courses|is_customer|amount_paid|customer_from|    last_updated_ts|\n",
      "+---+----------+---------+-------------+-------------+-------+-----------+-----------+-------------+-------------------+\n",
      "|1.0|     kiran|   chinta|k.c@gmail.com|   {123, 456}| [1, 2]|       true|     100.55|   2012-01-01|2021-02-02 01:02:03|\n",
      "+---+----------+---------+-------------+-------------+-------+-----------+-----------+-------------+-------------------+\n",
      "\n"
     ]
    }
   ],
   "source": [
    "u_df.filter(\"last_name == 'chinta'\").show()"
   ]
  },
  {
   "cell_type": "code",
   "execution_count": 48,
   "id": "fe5860cf-bc93-4fc7-bd9f-553fb742e2b8",
   "metadata": {},
   "outputs": [
    {
     "name": "stdout",
     "output_type": "stream",
     "text": [
      "+---+----------+---------+-------------+-------------+-------+-----------+-----------+-------------+-------------------+\n",
      "| id|first_name|last_name|        email|phone_numbers|courses|is_customer|amount_paid|customer_from|    last_updated_ts|\n",
      "+---+----------+---------+-------------+-------------+-------+-----------+-----------+-------------+-------------------+\n",
      "|1.0|     kiran|   chinta|k.c@gmail.com|   {123, 456}| [1, 2]|       true|     100.55|   2012-01-01|2021-02-02 01:02:03|\n",
      "+---+----------+---------+-------------+-------------+-------+-----------+-----------+-------------+-------------------+\n",
      "\n"
     ]
    }
   ],
   "source": [
    "u_df.where(\"last_name == 'chinta'\").show()"
   ]
  },
  {
   "cell_type": "code",
   "execution_count": 76,
   "id": "df49077d-21ba-4ee8-9e0c-e81e2d889fe5",
   "metadata": {},
   "outputs": [
    {
     "name": "stdout",
     "output_type": "stream",
     "text": [
      "+---+----------+---------+-------------+-------------+-------+-----------+-----------+-------------+-------------------+\n",
      "| id|first_name|last_name|        email|phone_numbers|courses|is_customer|amount_paid|customer_from|    last_updated_ts|\n",
      "+---+----------+---------+-------------+-------------+-------+-----------+-----------+-------------+-------------------+\n",
      "|1.0|     kiran|   chinta|k.c@gmail.com|   {123, 456}| [1, 2]|       true|     100.55|   2012-01-01|2021-02-02 01:02:03|\n",
      "+---+----------+---------+-------------+-------------+-------+-----------+-----------+-------------+-------------------+\n",
      "\n"
     ]
    }
   ],
   "source": [
    "from pyspark.sql.functions import col\n",
    "\n",
    "u_df.where(col(\"last_name\") == 'chinta').show()"
   ]
  },
  {
   "cell_type": "code",
   "execution_count": 50,
   "id": "e6af9ddb-b9f8-4aa3-b479-899a8554f361",
   "metadata": {},
   "outputs": [
    {
     "name": "stdout",
     "output_type": "stream",
     "text": [
      "+---+----------+---------+-------------+-------------+-------+-----------+-----------+-------------+-------------------+\n",
      "| id|first_name|last_name|        email|phone_numbers|courses|is_customer|amount_paid|customer_from|    last_updated_ts|\n",
      "+---+----------+---------+-------------+-------------+-------+-----------+-----------+-------------+-------------------+\n",
      "|1.0|     kiran|   chinta|k.c@gmail.com|   {123, 456}| [1, 2]|       true|     100.55|   2012-01-01|2021-02-02 01:02:03|\n",
      "+---+----------+---------+-------------+-------------+-------+-----------+-----------+-------------+-------------------+\n",
      "\n"
     ]
    }
   ],
   "source": [
    "u_df.filter(col(\"last_name\") == 'chinta').show()"
   ]
  },
  {
   "cell_type": "markdown",
   "id": "769527c7-5fb4-4e41-848c-1443cb482047",
   "metadata": {},
   "source": [
    "# Overview of Operators"
   ]
  },
  {
   "cell_type": "markdown",
   "id": "0f15d755-3a01-4187-a7d3-9e618e04b58f",
   "metadata": {},
   "source": [
    "- <b> Operators\n",
    "    - Equals - <i style=\"color:blue\"> ==\n",
    "    - Not Equals - <i style=\"color:blue\"> !=\n",
    "    - Greater than - <i style=\"color:blue\"> >\n",
    "    - Less than - <i style=\"color:blue\"> <\n",
    "    - Greater than or Equals to - <i style=\"color:blue\"> >=\n",
    "    - Less than or Equals to - <i style=\"color:blue\"> <=\n",
    "    - In Operatos - <i style=\"color:blue\"> isin </i> function or <i style=\"color:blue\"> IN\n",
    "    - Between Operator - <i style=\"color:blue\"> between </i> function or <i style=\"color:blue\"> between </i> with <i style=\"color:blue\"> and\n",
    "    - contains Operator - <i style=\"color:blue\"> contains </i> function"
   ]
  },
  {
   "cell_type": "markdown",
   "id": "b0efb331-1f9d-4e83-af1a-0bb91e9c7a41",
   "metadata": {},
   "source": [
    "# Equals operators"
   ]
  },
  {
   "cell_type": "code",
   "execution_count": 51,
   "id": "64fc3898-474d-40a5-b650-fca695562770",
   "metadata": {},
   "outputs": [
    {
     "name": "stdout",
     "output_type": "stream",
     "text": [
      "+---+----------+---------+-------------+-------------+-------+-----------+-----------+-------------+-------------------+\n",
      "| id|first_name|last_name|        email|phone_numbers|courses|is_customer|amount_paid|customer_from|    last_updated_ts|\n",
      "+---+----------+---------+-------------+-------------+-------+-----------+-----------+-------------+-------------------+\n",
      "|1.0|     kiran|   chinta|k.c@gmail.com|   {123, 456}| [1, 2]|       true|     100.55|   2012-01-01|2021-02-02 01:02:03|\n",
      "+---+----------+---------+-------------+-------------+-------+-----------+-----------+-------------+-------------------+\n",
      "\n"
     ]
    }
   ],
   "source": [
    "# int dataype\n",
    "u_df.filter(col(\"id\") == 1).show()"
   ]
  },
  {
   "cell_type": "code",
   "execution_count": 52,
   "id": "85f18fde-ddee-4bc1-9927-defc0b645054",
   "metadata": {},
   "outputs": [
    {
     "name": "stdout",
     "output_type": "stream",
     "text": [
      "+---+----------+---------+-------------+-------------+-------+-----------+-----------+-------------+-------------------+\n",
      "| id|first_name|last_name|        email|phone_numbers|courses|is_customer|amount_paid|customer_from|    last_updated_ts|\n",
      "+---+----------+---------+-------------+-------------+-------+-----------+-----------+-------------+-------------------+\n",
      "|1.0|     kiran|   chinta|k.c@gmail.com|   {123, 456}| [1, 2]|       true|     100.55|   2012-01-01|2021-02-02 01:02:03|\n",
      "+---+----------+---------+-------------+-------------+-------+-----------+-----------+-------------+-------------------+\n",
      "\n"
     ]
    }
   ],
   "source": [
    "# string datatype\n",
    "u_df.filter(col(\"last_name\") == 'chinta').show()"
   ]
  },
  {
   "cell_type": "code",
   "execution_count": 53,
   "id": "840fd494-8405-4dcc-a5c8-2c5971479eed",
   "metadata": {},
   "outputs": [
    {
     "name": "stdout",
     "output_type": "stream",
     "text": [
      "+---+----------+---------+-------------+-------------+-------+-----------+-----------+-------------+-------------------+\n",
      "| id|first_name|last_name|        email|phone_numbers|courses|is_customer|amount_paid|customer_from|    last_updated_ts|\n",
      "+---+----------+---------+-------------+-------------+-------+-----------+-----------+-------------+-------------------+\n",
      "|1.0|     kiran|   chinta|k.c@gmail.com|   {123, 456}| [1, 2]|       true|     100.55|   2012-01-01|2021-02-02 01:02:03|\n",
      "+---+----------+---------+-------------+-------------+-------+-----------+-----------+-------------+-------------------+\n",
      "\n"
     ]
    }
   ],
   "source": [
    "#Boolean datatype\n",
    "u_df.filter(col(\"is_customer\") == True).show()"
   ]
  },
  {
   "cell_type": "code",
   "execution_count": 54,
   "id": "2fb41456-1f28-41dc-9c5f-36298b0a5102",
   "metadata": {},
   "outputs": [
    {
     "name": "stdout",
     "output_type": "stream",
     "text": [
      "+---+----------+---------+-------------+-------------+-------+-----------+-----------+-------------+-------------------+\n",
      "| id|first_name|last_name|        email|phone_numbers|courses|is_customer|amount_paid|customer_from|    last_updated_ts|\n",
      "+---+----------+---------+-------------+-------------+-------+-----------+-----------+-------------+-------------------+\n",
      "|2.0|     goats|   manchi|g.m@gmail.com|   {246, 680}|[11, 2]|      false|     110.55|   2012-01-01|2021-02-02 01:02:03|\n",
      "+---+----------+---------+-------------+-------------+-------+-----------+-----------+-------------+-------------------+\n",
      "\n"
     ]
    }
   ],
   "source": [
    "# struct datatype\n",
    "u_df.filter(col(\"phone_numbers.mobile\") == 246).show()"
   ]
  },
  {
   "cell_type": "markdown",
   "id": "488f60be-e46d-42cd-b701-ee706c8dba31",
   "metadata": {},
   "source": [
    "# NotEquals operator"
   ]
  },
  {
   "cell_type": "code",
   "execution_count": 55,
   "id": "56aa5898-24ce-48cc-b363-15be9f20156b",
   "metadata": {},
   "outputs": [
    {
     "name": "stdout",
     "output_type": "stream",
     "text": [
      "+---+----------+---------+---------------+-------------+--------+-----------+-----------+-------------+-------------------+\n",
      "| id|first_name|last_name|          email|phone_numbers| courses|is_customer|amount_paid|customer_from|    last_updated_ts|\n",
      "+---+----------+---------+---------------+-------------+--------+-----------+-----------+-------------+-------------------+\n",
      "|2.0|     goats|   manchi|  g.m@gmail.com|   {246, 680}| [11, 2]|      false|     110.55|   2012-01-01|2021-02-02 01:02:03|\n",
      "|3.0|        ss|      raj|s.s.r@gmail.com|   {135, 579}|[11, 22]|      false|        NaN|   2012-02-02|2021-04-05 01:02:03|\n",
      "|NaN|      puri|      jag|  p.j@gmail.com|   {135, 579}|[11, 22]|      false|        NaN|   2012-02-02|2021-04-05 01:02:03|\n",
      "|5.0|      NULL|     NULL|           NULL|   {135, 579}|[11, 22]|      false|        NaN|   2012-02-02|2021-04-05 01:02:03|\n",
      "+---+----------+---------+---------------+-------------+--------+-----------+-----------+-------------+-------------------+\n",
      "\n"
     ]
    }
   ],
   "source": [
    "# int dataype\n",
    "u_df.filter(col(\"id\") != 1).show()"
   ]
  },
  {
   "cell_type": "code",
   "execution_count": 56,
   "id": "2163a37b-86d0-4345-a86b-0992ad157c2e",
   "metadata": {},
   "outputs": [
    {
     "name": "stdout",
     "output_type": "stream",
     "text": [
      "+---+----------+---------+---------------+-------------+--------+-----------+-----------+-------------+-------------------+\n",
      "| id|first_name|last_name|          email|phone_numbers| courses|is_customer|amount_paid|customer_from|    last_updated_ts|\n",
      "+---+----------+---------+---------------+-------------+--------+-----------+-----------+-------------+-------------------+\n",
      "|2.0|     goats|   manchi|  g.m@gmail.com|   {246, 680}| [11, 2]|      false|     110.55|   2012-01-01|2021-02-02 01:02:03|\n",
      "|3.0|        ss|      raj|s.s.r@gmail.com|   {135, 579}|[11, 22]|      false|        NaN|   2012-02-02|2021-04-05 01:02:03|\n",
      "|NaN|      puri|      jag|  p.j@gmail.com|   {135, 579}|[11, 22]|      false|        NaN|   2012-02-02|2021-04-05 01:02:03|\n",
      "+---+----------+---------+---------------+-------------+--------+-----------+-----------+-------------+-------------------+\n",
      "\n"
     ]
    }
   ],
   "source": [
    "# string datatype\n",
    "u_df.filter(col(\"last_name\") != 'chinta').show()"
   ]
  },
  {
   "cell_type": "code",
   "execution_count": 57,
   "id": "25569411-593e-4814-8a09-8358d5d68777",
   "metadata": {},
   "outputs": [
    {
     "name": "stdout",
     "output_type": "stream",
     "text": [
      "+---+----------+---------+---------------+-------------+--------+-----------+-----------+-------------+-------------------+\n",
      "| id|first_name|last_name|          email|phone_numbers| courses|is_customer|amount_paid|customer_from|    last_updated_ts|\n",
      "+---+----------+---------+---------------+-------------+--------+-----------+-----------+-------------+-------------------+\n",
      "|2.0|     goats|   manchi|  g.m@gmail.com|   {246, 680}| [11, 2]|      false|     110.55|   2012-01-01|2021-02-02 01:02:03|\n",
      "|3.0|        ss|      raj|s.s.r@gmail.com|   {135, 579}|[11, 22]|      false|        NaN|   2012-02-02|2021-04-05 01:02:03|\n",
      "|NaN|      puri|      jag|  p.j@gmail.com|   {135, 579}|[11, 22]|      false|        NaN|   2012-02-02|2021-04-05 01:02:03|\n",
      "|5.0|      NULL|     NULL|           NULL|   {135, 579}|[11, 22]|      false|        NaN|   2012-02-02|2021-04-05 01:02:03|\n",
      "+---+----------+---------+---------------+-------------+--------+-----------+-----------+-------------+-------------------+\n",
      "\n"
     ]
    }
   ],
   "source": [
    "#Boolean datatype\n",
    "u_df.filter(col(\"is_customer\") != True).show()"
   ]
  },
  {
   "cell_type": "code",
   "execution_count": 58,
   "id": "f2d7f0e3-8ac9-4eba-bea7-7bed77c95adf",
   "metadata": {},
   "outputs": [
    {
     "name": "stdout",
     "output_type": "stream",
     "text": [
      "+---+----------+---------+---------------+-------------+--------+-----------+-----------+-------------+-------------------+\n",
      "| id|first_name|last_name|          email|phone_numbers| courses|is_customer|amount_paid|customer_from|    last_updated_ts|\n",
      "+---+----------+---------+---------------+-------------+--------+-----------+-----------+-------------+-------------------+\n",
      "|1.0|     kiran|   chinta|  k.c@gmail.com|   {123, 456}|  [1, 2]|       true|     100.55|   2012-01-01|2021-02-02 01:02:03|\n",
      "|3.0|        ss|      raj|s.s.r@gmail.com|   {135, 579}|[11, 22]|      false|        NaN|   2012-02-02|2021-04-05 01:02:03|\n",
      "|NaN|      puri|      jag|  p.j@gmail.com|   {135, 579}|[11, 22]|      false|        NaN|   2012-02-02|2021-04-05 01:02:03|\n",
      "|5.0|      NULL|     NULL|           NULL|   {135, 579}|[11, 22]|      false|        NaN|   2012-02-02|2021-04-05 01:02:03|\n",
      "+---+----------+---------+---------------+-------------+--------+-----------+-----------+-------------+-------------------+\n",
      "\n"
     ]
    }
   ],
   "source": [
    "# struct datatype\n",
    "u_df.filter(col(\"phone_numbers.mobile\") != 246).show()"
   ]
  },
  {
   "cell_type": "markdown",
   "id": "91d24863-da62-464e-bcd8-216e0159fc25",
   "metadata": {},
   "source": [
    "# Greater than and Greater than or Equals to"
   ]
  },
  {
   "cell_type": "code",
   "execution_count": 59,
   "id": "590e4099-c896-407a-8d8e-33d47d0ab7b1",
   "metadata": {},
   "outputs": [
    {
     "name": "stdout",
     "output_type": "stream",
     "text": [
      "+---+----------+---------+---------------+-------------+--------+-----------+-----------+-------------+-------------------+\n",
      "| id|first_name|last_name|          email|phone_numbers| courses|is_customer|amount_paid|customer_from|    last_updated_ts|\n",
      "+---+----------+---------+---------------+-------------+--------+-----------+-----------+-------------+-------------------+\n",
      "|2.0|     goats|   manchi|  g.m@gmail.com|   {246, 680}| [11, 2]|      false|     110.55|   2012-01-01|2021-02-02 01:02:03|\n",
      "|3.0|        ss|      raj|s.s.r@gmail.com|   {135, 579}|[11, 22]|      false|        NaN|   2012-02-02|2021-04-05 01:02:03|\n",
      "|NaN|      puri|      jag|  p.j@gmail.com|   {135, 579}|[11, 22]|      false|        NaN|   2012-02-02|2021-04-05 01:02:03|\n",
      "|5.0|      NULL|     NULL|           NULL|   {135, 579}|[11, 22]|      false|        NaN|   2012-02-02|2021-04-05 01:02:03|\n",
      "+---+----------+---------+---------------+-------------+--------+-----------+-----------+-------------+-------------------+\n",
      "\n"
     ]
    }
   ],
   "source": [
    "u_df.filter(col(\"amount_paid\") > 100.55).show()"
   ]
  },
  {
   "cell_type": "code",
   "execution_count": 60,
   "id": "bd1536dd-5b66-49e6-b565-63eeffa377af",
   "metadata": {},
   "outputs": [
    {
     "name": "stdout",
     "output_type": "stream",
     "text": [
      "+---+----------+---------+---------------+-------------+--------+-----------+-----------+-------------+-------------------+\n",
      "| id|first_name|last_name|          email|phone_numbers| courses|is_customer|amount_paid|customer_from|    last_updated_ts|\n",
      "+---+----------+---------+---------------+-------------+--------+-----------+-----------+-------------+-------------------+\n",
      "|1.0|     kiran|   chinta|  k.c@gmail.com|   {123, 456}|  [1, 2]|       true|     100.55|   2012-01-01|2021-02-02 01:02:03|\n",
      "|2.0|     goats|   manchi|  g.m@gmail.com|   {246, 680}| [11, 2]|      false|     110.55|   2012-01-01|2021-02-02 01:02:03|\n",
      "|3.0|        ss|      raj|s.s.r@gmail.com|   {135, 579}|[11, 22]|      false|        NaN|   2012-02-02|2021-04-05 01:02:03|\n",
      "|NaN|      puri|      jag|  p.j@gmail.com|   {135, 579}|[11, 22]|      false|        NaN|   2012-02-02|2021-04-05 01:02:03|\n",
      "|5.0|      NULL|     NULL|           NULL|   {135, 579}|[11, 22]|      false|        NaN|   2012-02-02|2021-04-05 01:02:03|\n",
      "+---+----------+---------+---------------+-------------+--------+-----------+-----------+-------------+-------------------+\n",
      "\n"
     ]
    }
   ],
   "source": [
    "u_df.filter(col(\"amount_paid\") >= 100.55).show()"
   ]
  },
  {
   "cell_type": "markdown",
   "id": "41b0682b-380c-4909-8a9a-5e35fa16da9e",
   "metadata": {},
   "source": [
    "# less than and less than or equals to "
   ]
  },
  {
   "cell_type": "code",
   "execution_count": 61,
   "id": "0d87d3a6-ccf0-4199-a948-e5fdb1dae632",
   "metadata": {},
   "outputs": [
    {
     "name": "stdout",
     "output_type": "stream",
     "text": [
      "+---+----------+---------+-------------+-------------+-------+-----------+-----------+-------------+-------------------+\n",
      "| id|first_name|last_name|        email|phone_numbers|courses|is_customer|amount_paid|customer_from|    last_updated_ts|\n",
      "+---+----------+---------+-------------+-------------+-------+-----------+-----------+-------------+-------------------+\n",
      "|1.0|     kiran|   chinta|k.c@gmail.com|   {123, 456}| [1, 2]|       true|     100.55|   2012-01-01|2021-02-02 01:02:03|\n",
      "+---+----------+---------+-------------+-------------+-------+-----------+-----------+-------------+-------------------+\n",
      "\n"
     ]
    }
   ],
   "source": [
    "u_df.filter(col(\"amount_paid\") < 110.55).show()"
   ]
  },
  {
   "cell_type": "code",
   "execution_count": 62,
   "id": "5b350976-362a-4828-852c-2df872bea487",
   "metadata": {},
   "outputs": [
    {
     "name": "stdout",
     "output_type": "stream",
     "text": [
      "+---+----------+---------+-------------+-------------+-------+-----------+-----------+-------------+-------------------+\n",
      "| id|first_name|last_name|        email|phone_numbers|courses|is_customer|amount_paid|customer_from|    last_updated_ts|\n",
      "+---+----------+---------+-------------+-------------+-------+-----------+-----------+-------------+-------------------+\n",
      "|1.0|     kiran|   chinta|k.c@gmail.com|   {123, 456}| [1, 2]|       true|     100.55|   2012-01-01|2021-02-02 01:02:03|\n",
      "|2.0|     goats|   manchi|g.m@gmail.com|   {246, 680}|[11, 2]|      false|     110.55|   2012-01-01|2021-02-02 01:02:03|\n",
      "+---+----------+---------+-------------+-------------+-------+-----------+-----------+-------------+-------------------+\n",
      "\n"
     ]
    }
   ],
   "source": [
    "u_df.filter(col(\"amount_paid\") <= 110.55).show()"
   ]
  },
  {
   "cell_type": "markdown",
   "id": "7d2c5ec6-0583-42a7-80ec-9626b9e7af0e",
   "metadata": {},
   "source": [
    "# Between Operator"
   ]
  },
  {
   "cell_type": "code",
   "execution_count": 63,
   "id": "f7135998-bdbb-4074-88e5-b570527212be",
   "metadata": {},
   "outputs": [
    {
     "name": "stdout",
     "output_type": "stream",
     "text": [
      "+---+----------+---------+---------------+-------------+--------+-----------+-----------+-------------+-------------------+\n",
      "| id|first_name|last_name|          email|phone_numbers| courses|is_customer|amount_paid|customer_from|    last_updated_ts|\n",
      "+---+----------+---------+---------------+-------------+--------+-----------+-----------+-------------+-------------------+\n",
      "|3.0|        ss|      raj|s.s.r@gmail.com|   {135, 579}|[11, 22]|      false|        NaN|   2012-02-02|2021-04-05 01:02:03|\n",
      "|NaN|      puri|      jag|  p.j@gmail.com|   {135, 579}|[11, 22]|      false|        NaN|   2012-02-02|2021-04-05 01:02:03|\n",
      "|5.0|      NULL|     NULL|           NULL|   {135, 579}|[11, 22]|      false|        NaN|   2012-02-02|2021-04-05 01:02:03|\n",
      "+---+----------+---------+---------------+-------------+--------+-----------+-----------+-------------+-------------------+\n",
      "\n"
     ]
    }
   ],
   "source": [
    "u_df.filter(col(\"customer_from\").between('2012-02-01','2012-02-18')).show()"
   ]
  },
  {
   "cell_type": "code",
   "execution_count": 64,
   "id": "9a051995-4f54-41ac-8540-83bcbe529234",
   "metadata": {},
   "outputs": [
    {
     "name": "stdout",
     "output_type": "stream",
     "text": [
      "+---+----------+---------+-------------+-------------+-------+-----------+-----------+-------------+-------------------+\n",
      "| id|first_name|last_name|        email|phone_numbers|courses|is_customer|amount_paid|customer_from|    last_updated_ts|\n",
      "+---+----------+---------+-------------+-------------+-------+-----------+-----------+-------------+-------------------+\n",
      "|1.0|     kiran|   chinta|k.c@gmail.com|   {123, 456}| [1, 2]|       true|     100.55|   2012-01-01|2021-02-02 01:02:03|\n",
      "|2.0|     goats|   manchi|g.m@gmail.com|   {246, 680}|[11, 2]|      false|     110.55|   2012-01-01|2021-02-02 01:02:03|\n",
      "+---+----------+---------+-------------+-------------+-------+-----------+-----------+-------------+-------------------+\n",
      "\n"
     ]
    }
   ],
   "source": [
    "u_df.filter(col(\"id\").between(1,2)).show()"
   ]
  },
  {
   "cell_type": "code",
   "execution_count": 65,
   "id": "d61212e1-d02d-4cf1-a4a8-0769498e4a19",
   "metadata": {},
   "outputs": [
    {
     "name": "stdout",
     "output_type": "stream",
     "text": [
      "+---+----------+---------+-------------+-------------+-------+-----------+-----------+-------------+-------------------+\n",
      "| id|first_name|last_name|        email|phone_numbers|courses|is_customer|amount_paid|customer_from|    last_updated_ts|\n",
      "+---+----------+---------+-------------+-------------+-------+-----------+-----------+-------------+-------------------+\n",
      "|1.0|     kiran|   chinta|k.c@gmail.com|   {123, 456}| [1, 2]|       true|     100.55|   2012-01-01|2021-02-02 01:02:03|\n",
      "|2.0|     goats|   manchi|g.m@gmail.com|   {246, 680}|[11, 2]|      false|     110.55|   2012-01-01|2021-02-02 01:02:03|\n",
      "+---+----------+---------+-------------+-------------+-------+-----------+-----------+-------------+-------------------+\n",
      "\n"
     ]
    }
   ],
   "source": [
    "u_df.filter(\"id BETWEEN 1 and 2\").show()"
   ]
  },
  {
   "cell_type": "markdown",
   "id": "dda611c8-70e5-47e5-bcb9-7b5ded5ce21c",
   "metadata": {},
   "source": [
    "# IN operator"
   ]
  },
  {
   "cell_type": "code",
   "execution_count": 66,
   "id": "5b23c3d7-afdc-4a8d-a207-c2556553ef63",
   "metadata": {},
   "outputs": [
    {
     "name": "stdout",
     "output_type": "stream",
     "text": [
      "+---+----------+---------+-------------+-------------+-------+-----------+-----------+-------------+-------------------+\n",
      "| id|first_name|last_name|        email|phone_numbers|courses|is_customer|amount_paid|customer_from|    last_updated_ts|\n",
      "+---+----------+---------+-------------+-------------+-------+-----------+-----------+-------------+-------------------+\n",
      "|1.0|     kiran|   chinta|k.c@gmail.com|   {123, 456}| [1, 2]|       true|     100.55|   2012-01-01|2021-02-02 01:02:03|\n",
      "|2.0|     goats|   manchi|g.m@gmail.com|   {246, 680}|[11, 2]|      false|     110.55|   2012-01-01|2021-02-02 01:02:03|\n",
      "+---+----------+---------+-------------+-------------+-------+-----------+-----------+-------------+-------------------+\n",
      "\n"
     ]
    }
   ],
   "source": [
    "u_df.filter(col('last_name').isin('chinta','manchi')).show()"
   ]
  },
  {
   "cell_type": "code",
   "execution_count": 67,
   "id": "a04dc7f5-0acd-4dfe-8c97-2e4fc02cdec1",
   "metadata": {},
   "outputs": [
    {
     "name": "stdout",
     "output_type": "stream",
     "text": [
      "+---+----------+---------+-------------+-------------+-------+-----------+-----------+-------------+-------------------+\n",
      "| id|first_name|last_name|        email|phone_numbers|courses|is_customer|amount_paid|customer_from|    last_updated_ts|\n",
      "+---+----------+---------+-------------+-------------+-------+-----------+-----------+-------------+-------------------+\n",
      "|1.0|     kiran|   chinta|k.c@gmail.com|   {123, 456}| [1, 2]|       true|     100.55|   2012-01-01|2021-02-02 01:02:03|\n",
      "|2.0|     goats|   manchi|g.m@gmail.com|   {246, 680}|[11, 2]|      false|     110.55|   2012-01-01|2021-02-02 01:02:03|\n",
      "+---+----------+---------+-------------+-------------+-------+-----------+-----------+-------------+-------------------+\n",
      "\n"
     ]
    }
   ],
   "source": [
    "u_df.filter(\"last_name IN ('chinta','manchi')\").show()"
   ]
  },
  {
   "cell_type": "markdown",
   "id": "96b2ae8d-966e-4128-9c59-07638d55ddaa",
   "metadata": {},
   "source": [
    "# contains operator"
   ]
  },
  {
   "cell_type": "code",
   "execution_count": 68,
   "id": "408763b4-3b7d-4ab8-b769-76116e11c3d4",
   "metadata": {},
   "outputs": [
    {
     "name": "stdout",
     "output_type": "stream",
     "text": [
      "+---+----------+---------+-------------+-------------+-------+-----------+-----------+-------------+-------------------+\n",
      "| id|first_name|last_name|        email|phone_numbers|courses|is_customer|amount_paid|customer_from|    last_updated_ts|\n",
      "+---+----------+---------+-------------+-------------+-------+-----------+-----------+-------------+-------------------+\n",
      "|1.0|     kiran|   chinta|k.c@gmail.com|   {123, 456}| [1, 2]|       true|     100.55|   2012-01-01|2021-02-02 01:02:03|\n",
      "|2.0|     goats|   manchi|g.m@gmail.com|   {246, 680}|[11, 2]|      false|     110.55|   2012-01-01|2021-02-02 01:02:03|\n",
      "+---+----------+---------+-------------+-------------+-------+-----------+-----------+-------------+-------------------+\n",
      "\n"
     ]
    }
   ],
   "source": [
    "u_df.filter(col('last_name').contains('i')).show()"
   ]
  },
  {
   "cell_type": "markdown",
   "id": "fe8d4e3b-7d9a-47d6-8527-d77a4af02e9e",
   "metadata": {},
   "source": [
    "# multiple filter condidtions"
   ]
  },
  {
   "cell_type": "code",
   "execution_count": 69,
   "id": "4e0119b4-d6be-464f-88ae-c42c633af9ca",
   "metadata": {},
   "outputs": [
    {
     "name": "stdout",
     "output_type": "stream",
     "text": [
      "+---+----------+---------+-------------+-------------+-------+-----------+-----------+-------------+-------------------+\n",
      "| id|first_name|last_name|        email|phone_numbers|courses|is_customer|amount_paid|customer_from|    last_updated_ts|\n",
      "+---+----------+---------+-------------+-------------+-------+-----------+-----------+-------------+-------------------+\n",
      "|1.0|     kiran|   chinta|k.c@gmail.com|   {123, 456}| [1, 2]|       true|     100.55|   2012-01-01|2021-02-02 01:02:03|\n",
      "+---+----------+---------+-------------+-------------+-------+-----------+-----------+-------------+-------------------+\n",
      "\n"
     ]
    }
   ],
   "source": [
    "u_df.filter((col('last_name')=='chinta') & (col('id')==1)).show()"
   ]
  },
  {
   "cell_type": "code",
   "execution_count": 70,
   "id": "6d1ad64e-b778-412c-addf-ae835994ca8d",
   "metadata": {},
   "outputs": [
    {
     "name": "stdout",
     "output_type": "stream",
     "text": [
      "+---+----------+---------+-------------+-------------+-------+-----------+-----------+-------------+-------------------+\n",
      "| id|first_name|last_name|        email|phone_numbers|courses|is_customer|amount_paid|customer_from|    last_updated_ts|\n",
      "+---+----------+---------+-------------+-------------+-------+-----------+-----------+-------------+-------------------+\n",
      "|1.0|     kiran|   chinta|k.c@gmail.com|   {123, 456}| [1, 2]|       true|     100.55|   2012-01-01|2021-02-02 01:02:03|\n",
      "|2.0|     goats|   manchi|g.m@gmail.com|   {246, 680}|[11, 2]|      false|     110.55|   2012-01-01|2021-02-02 01:02:03|\n",
      "+---+----------+---------+-------------+-------------+-------+-----------+-----------+-------------+-------------------+\n",
      "\n"
     ]
    }
   ],
   "source": [
    "u_df.filter((col('last_name')=='chinta') | (col('id')==2)).show()"
   ]
  },
  {
   "cell_type": "markdown",
   "id": "d59ab9b4-e3fb-451b-8cb7-a100a934249d",
   "metadata": {},
   "source": [
    "# Filtering Null records"
   ]
  },
  {
   "cell_type": "markdown",
   "id": "762b5f57-096d-41f1-8e3a-0a27c5cd4006",
   "metadata": {},
   "source": [
    "- Nan : related to float/int (not a number)\n",
    "- none : null object"
   ]
  },
  {
   "cell_type": "code",
   "execution_count": 79,
   "id": "8d90462f-6141-431d-a471-76643a2cb89b",
   "metadata": {},
   "outputs": [
    {
     "name": "stdout",
     "output_type": "stream",
     "text": [
      "+---+----------+---------+-----+-------------+-------+-----------+-----------+-------------+---------------+\n",
      "| id|first_name|last_name|email|phone_numbers|courses|is_customer|amount_paid|customer_from|last_updated_ts|\n",
      "+---+----------+---------+-----+-------------+-------+-----------+-----------+-------------+---------------+\n",
      "+---+----------+---------+-----+-------------+-------+-----------+-----------+-------------+---------------+\n",
      "\n"
     ]
    }
   ],
   "source": [
    "u_df.filter(col('id').isNull()).show()"
   ]
  },
  {
   "cell_type": "code",
   "execution_count": 92,
   "id": "ab757eda-c519-4dc0-b7aa-12c876a8d873",
   "metadata": {},
   "outputs": [
    {
     "name": "stdout",
     "output_type": "stream",
     "text": [
      "+---+----------+---------+-----+-------------+--------+-----------+-----------+-------------+-------------------+\n",
      "| id|first_name|last_name|email|phone_numbers| courses|is_customer|amount_paid|customer_from|    last_updated_ts|\n",
      "+---+----------+---------+-----+-------------+--------+-----------+-----------+-------------+-------------------+\n",
      "|5.0|      NULL|     NULL| NULL|   {135, 579}|[11, 22]|      false|        NaN|   2012-02-02|2021-04-05 01:02:03|\n",
      "+---+----------+---------+-----+-------------+--------+-----------+-----------+-------------+-------------------+\n",
      "\n"
     ]
    }
   ],
   "source": [
    "# show only Null values from a column\n",
    "u_df.filter(col('first_name').isNull()).show()"
   ]
  },
  {
   "cell_type": "code",
   "execution_count": 93,
   "id": "38234a71-3650-4a67-beda-87b767d90d22",
   "metadata": {},
   "outputs": [
    {
     "name": "stdout",
     "output_type": "stream",
     "text": [
      "+---+----------+---------+-------------+-------------+--------+-----------+-----------+-------------+-------------------+\n",
      "| id|first_name|last_name|        email|phone_numbers| courses|is_customer|amount_paid|customer_from|    last_updated_ts|\n",
      "+---+----------+---------+-------------+-------------+--------+-----------+-----------+-------------+-------------------+\n",
      "|NaN|      puri|      jag|p.j@gmail.com|   {135, 579}|[11, 22]|      false|        NaN|   2012-02-02|2021-04-05 01:02:03|\n",
      "+---+----------+---------+-------------+-------------+--------+-----------+-----------+-------------+-------------------+\n",
      "\n"
     ]
    }
   ],
   "source": [
    "# show only nan values from a column\n",
    "from pyspark.sql.functions import isnan\n",
    "u_df.filter(isnan(col('id'))).show()"
   ]
  },
  {
   "cell_type": "code",
   "execution_count": 94,
   "id": "ef76634e-f752-4abb-8667-5bb2f43471f9",
   "metadata": {},
   "outputs": [
    {
     "name": "stdout",
     "output_type": "stream",
     "text": [
      "+---+----------+---------+---------------+-------------+--------+-----------+-----------+-------------+-------------------+\n",
      "| id|first_name|last_name|          email|phone_numbers| courses|is_customer|amount_paid|customer_from|    last_updated_ts|\n",
      "+---+----------+---------+---------------+-------------+--------+-----------+-----------+-------------+-------------------+\n",
      "|1.0|     kiran|   chinta|  k.c@gmail.com|   {123, 456}|  [1, 2]|       true|     100.55|   2012-01-01|2021-02-02 01:02:03|\n",
      "|2.0|     goats|   manchi|  g.m@gmail.com|   {246, 680}| [11, 2]|      false|     110.55|   2012-01-01|2021-02-02 01:02:03|\n",
      "|3.0|        ss|      raj|s.s.r@gmail.com|   {135, 579}|[11, 22]|      false|        NaN|   2012-02-02|2021-04-05 01:02:03|\n",
      "|NaN|      puri|      jag|  p.j@gmail.com|   {135, 579}|[11, 22]|      false|        NaN|   2012-02-02|2021-04-05 01:02:03|\n",
      "+---+----------+---------+---------------+-------------+--------+-----------+-----------+-------------+-------------------+\n",
      "\n"
     ]
    }
   ],
   "source": [
    "# show not null values from a columns\n",
    "u_df.filter(col('first_name').isNotNull()).show()"
   ]
  },
  {
   "cell_type": "code",
   "execution_count": 95,
   "id": "8e595203-a9b1-46c6-9202-d8c4f1f8d6a3",
   "metadata": {},
   "outputs": [
    {
     "name": "stdout",
     "output_type": "stream",
     "text": [
      "+---+----------+---------+---------------+-------------+--------+-----------+-----------+-------------+-------------------+\n",
      "| id|first_name|last_name|          email|phone_numbers| courses|is_customer|amount_paid|customer_from|    last_updated_ts|\n",
      "+---+----------+---------+---------------+-------------+--------+-----------+-----------+-------------+-------------------+\n",
      "|1.0|     kiran|   chinta|  k.c@gmail.com|   {123, 456}|  [1, 2]|       true|     100.55|   2012-01-01|2021-02-02 01:02:03|\n",
      "|2.0|     goats|   manchi|  g.m@gmail.com|   {246, 680}| [11, 2]|      false|     110.55|   2012-01-01|2021-02-02 01:02:03|\n",
      "|3.0|        ss|      raj|s.s.r@gmail.com|   {135, 579}|[11, 22]|      false|        NaN|   2012-02-02|2021-04-05 01:02:03|\n",
      "|5.0|      NULL|     NULL|           NULL|   {135, 579}|[11, 22]|      false|        NaN|   2012-02-02|2021-04-05 01:02:03|\n",
      "+---+----------+---------+---------------+-------------+--------+-----------+-----------+-------------+-------------------+\n",
      "\n"
     ]
    }
   ],
   "source": [
    "# show not nan values from a columns\n",
    "from pyspark.sql.functions import isnan\n",
    "u_df.filter(~isnan(col('id'))).show()"
   ]
  },
  {
   "cell_type": "markdown",
   "id": "f9bc6423-39f1-4563-b26a-51886be490ae",
   "metadata": {},
   "source": [
    "# stop spark"
   ]
  },
  {
   "cell_type": "code",
   "execution_count": 96,
   "id": "c94e6bba-fc37-46b7-b1c1-be95d8d6a083",
   "metadata": {},
   "outputs": [],
   "source": [
    "spark.stop()"
   ]
  },
  {
   "cell_type": "code",
   "execution_count": null,
   "id": "d0984e32-5af2-4c76-b2e6-99e54c7fd461",
   "metadata": {},
   "outputs": [],
   "source": []
  },
  {
   "cell_type": "code",
   "execution_count": null,
   "id": "a28680bc-7d30-43b4-8ec9-7d8477f7dad3",
   "metadata": {},
   "outputs": [],
   "source": []
  }
 ],
 "metadata": {
  "kernelspec": {
   "display_name": "Python 3 (ipykernel)",
   "language": "python",
   "name": "python3"
  },
  "language_info": {
   "codemirror_mode": {
    "name": "ipython",
    "version": 3
   },
   "file_extension": ".py",
   "mimetype": "text/x-python",
   "name": "python",
   "nbconvert_exporter": "python",
   "pygments_lexer": "ipython3",
   "version": "3.11.13"
  }
 },
 "nbformat": 4,
 "nbformat_minor": 5
}
