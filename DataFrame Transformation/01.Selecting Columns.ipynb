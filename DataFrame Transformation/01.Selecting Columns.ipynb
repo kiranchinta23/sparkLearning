{
 "cells": [
  {
   "cell_type": "code",
   "execution_count": 1,
   "id": "cb700616-4568-4878-bcfd-b4abc1f845fc",
   "metadata": {},
   "outputs": [],
   "source": [
    "import findspark\n",
    "findspark.init()"
   ]
  },
  {
   "cell_type": "code",
   "execution_count": 2,
   "id": "5f2c1b56-0246-41dd-8789-467c90c01bde",
   "metadata": {},
   "outputs": [
    {
     "name": "stderr",
     "output_type": "stream",
     "text": [
      "WARNING: Using incubator modules: jdk.incubator.vector\n",
      "Using Spark's default log4j profile: org/apache/spark/log4j2-defaults.properties\n",
      "25/06/14 15:29:34 WARN Utils: Your hostname, kirans-mac.local, resolves to a loopback address: 127.0.0.1; using 172.18.197.149 instead (on interface en0)\n",
      "25/06/14 15:29:34 WARN Utils: Set SPARK_LOCAL_IP if you need to bind to another address\n",
      "Using Spark's default log4j profile: org/apache/spark/log4j2-defaults.properties\n",
      "Setting default log level to \"WARN\".\n",
      "To adjust logging level use sc.setLogLevel(newLevel). For SparkR, use setLogLevel(newLevel).\n",
      "25/06/14 15:29:34 WARN NativeCodeLoader: Unable to load native-hadoop library for your platform... using builtin-java classes where applicable\n",
      "25/06/14 15:29:34 WARN Utils: Service 'SparkUI' could not bind on port 4040. Attempting port 4041.\n"
     ]
    }
   ],
   "source": [
    "from pyspark.sql import SparkSession\n",
    "spark = SparkSession.builder \\\n",
    "    .appName(\"MyApp\") \\\n",
    "    .master(\"local[*]\") \\\n",
    "    .getOrCreate()"
   ]
  },
  {
   "cell_type": "markdown",
   "id": "c92c2f5f-11cb-47bd-9988-05d7d0c8a4ba",
   "metadata": {},
   "source": [
    "# Create DataFrame"
   ]
  },
  {
   "cell_type": "code",
   "execution_count": 3,
   "id": "dba44f3c-894c-43ed-b04d-18cfeed213b3",
   "metadata": {},
   "outputs": [],
   "source": [
    "import datetime\n",
    "from pyspark.sql import Row\n",
    "\n",
    "users = [{'id':1,\n",
    "        'first_name':'kiran',\n",
    "        'last_name':'chinta',\n",
    "         'email':'k.c@gmail.com',\n",
    "         'phone_numbers':Row(mobile=123,home=456),\n",
    "         'courses':[1,2],\n",
    "         'is_customer':True,\n",
    "         'amount_paid':100.55,\n",
    "         'customer_from':datetime.date(2012,1,1),\n",
    "        'last_updated_ts':datetime.datetime(2021,2,2,1,2,3)\n",
    "        },\n",
    "        {'id':2,\n",
    "        'first_name':'goats',\n",
    "        'last_name':'manchi',\n",
    "         'email':'g.m@gmail.com',\n",
    "         'phone_numbers':Row(mobile=246,home=680),\n",
    "         'courses':[11,2],\n",
    "         'is_customer':False,\n",
    "         'amount_paid':110.55,\n",
    "         'customer_from':datetime.date(2012,1,1),\n",
    "        'last_updated_ts':datetime.datetime(2021,2,2,1,2,3)\n",
    "        },\n",
    "        {'id':3,\n",
    "        'first_name':'ss',\n",
    "        'last_name':'raj',\n",
    "         'email':'s.s.r@gmail.com',\n",
    "         'phone_numbers':Row(mobile=135,home=579),\n",
    "         'courses':[11,22],\n",
    "         'is_customer':False,\n",
    "         'amount_paid':None,\n",
    "         'customer_from':datetime.date(2012,2,2),\n",
    "        'last_updated_ts':datetime.datetime(2021,4,5,1,2,3)\n",
    "        }]"
   ]
  },
  {
   "cell_type": "code",
   "execution_count": 4,
   "id": "1588e12f-95ff-45c1-a494-eafb8feaa951",
   "metadata": {},
   "outputs": [
    {
     "name": "stdout",
     "output_type": "stream",
     "text": [
      "+-----------+--------+-------------+---------------+----------+---+-----------+---------+-------------------+-------------+\n",
      "|amount_paid| courses|customer_from|          email|first_name| id|is_customer|last_name|    last_updated_ts|phone_numbers|\n",
      "+-----------+--------+-------------+---------------+----------+---+-----------+---------+-------------------+-------------+\n",
      "|     100.55|  [1, 2]|   2012-01-01|  k.c@gmail.com|     kiran|  1|       true|   chinta|2021-02-02 01:02:03|   {123, 456}|\n",
      "|     110.55| [11, 2]|   2012-01-01|  g.m@gmail.com|     goats|  2|      false|   manchi|2021-02-02 01:02:03|   {246, 680}|\n",
      "|       NULL|[11, 22]|   2012-02-02|s.s.r@gmail.com|        ss|  3|      false|      raj|2021-04-05 01:02:03|   {135, 579}|\n",
      "+-----------+--------+-------------+---------------+----------+---+-----------+---------+-------------------+-------------+\n",
      "\n"
     ]
    }
   ],
   "source": [
    "u_df = spark.createDataFrame(users)\n",
    "u_df.show()"
   ]
  },
  {
   "cell_type": "code",
   "execution_count": 5,
   "id": "95f28340-737d-466e-8baa-05d8f7bdb83d",
   "metadata": {},
   "outputs": [
    {
     "name": "stdout",
     "output_type": "stream",
     "text": [
      "root\n",
      " |-- amount_paid: double (nullable = true)\n",
      " |-- courses: array (nullable = true)\n",
      " |    |-- element: long (containsNull = true)\n",
      " |-- customer_from: date (nullable = true)\n",
      " |-- email: string (nullable = true)\n",
      " |-- first_name: string (nullable = true)\n",
      " |-- id: long (nullable = true)\n",
      " |-- is_customer: boolean (nullable = true)\n",
      " |-- last_name: string (nullable = true)\n",
      " |-- last_updated_ts: timestamp (nullable = true)\n",
      " |-- phone_numbers: struct (nullable = true)\n",
      " |    |-- mobile: long (nullable = true)\n",
      " |    |-- home: long (nullable = true)\n",
      "\n"
     ]
    }
   ],
   "source": [
    "u_df.printSchema()"
   ]
  },
  {
   "cell_type": "markdown",
   "id": "ce688f03-9abd-4231-9f71-173c100e2114",
   "metadata": {},
   "source": [
    "# Selecting Columns"
   ]
  },
  {
   "cell_type": "code",
   "execution_count": 6,
   "id": "c7c61127-ae26-4738-b73c-9773b88d534a",
   "metadata": {},
   "outputs": [
    {
     "name": "stdout",
     "output_type": "stream",
     "text": [
      "+-----------+--------+-------------+---------------+----------+---+-----------+---------+-------------------+-------------+\n",
      "|amount_paid| courses|customer_from|          email|first_name| id|is_customer|last_name|    last_updated_ts|phone_numbers|\n",
      "+-----------+--------+-------------+---------------+----------+---+-----------+---------+-------------------+-------------+\n",
      "|     100.55|  [1, 2]|   2012-01-01|  k.c@gmail.com|     kiran|  1|       true|   chinta|2021-02-02 01:02:03|   {123, 456}|\n",
      "|     110.55| [11, 2]|   2012-01-01|  g.m@gmail.com|     goats|  2|      false|   manchi|2021-02-02 01:02:03|   {246, 680}|\n",
      "|       NULL|[11, 22]|   2012-02-02|s.s.r@gmail.com|        ss|  3|      false|      raj|2021-04-05 01:02:03|   {135, 579}|\n",
      "+-----------+--------+-------------+---------------+----------+---+-----------+---------+-------------------+-------------+\n",
      "\n"
     ]
    }
   ],
   "source": [
    "u_df.select('*').show()"
   ]
  },
  {
   "cell_type": "code",
   "execution_count": 7,
   "id": "fd1c2be5-ac79-47b9-b989-007a45e443b7",
   "metadata": {},
   "outputs": [
    {
     "name": "stdout",
     "output_type": "stream",
     "text": [
      "+---+---------+-------------+\n",
      "| id|last_name|phone_numbers|\n",
      "+---+---------+-------------+\n",
      "|  1|   chinta|   {123, 456}|\n",
      "|  2|   manchi|   {246, 680}|\n",
      "|  3|      raj|   {135, 579}|\n",
      "+---+---------+-------------+\n",
      "\n"
     ]
    }
   ],
   "source": [
    "u_df.select('id','last_name','phone_numbers').show()"
   ]
  },
  {
   "cell_type": "code",
   "execution_count": 8,
   "id": "46fcc65b-a105-4b8f-af78-9faec5ba9452",
   "metadata": {},
   "outputs": [
    {
     "name": "stdout",
     "output_type": "stream",
     "text": [
      "+---+---------+-------------+\n",
      "| id|last_name|phone_numbers|\n",
      "+---+---------+-------------+\n",
      "|  1|   chinta|   {123, 456}|\n",
      "|  2|   manchi|   {246, 680}|\n",
      "|  3|      raj|   {135, 579}|\n",
      "+---+---------+-------------+\n",
      "\n"
     ]
    }
   ],
   "source": [
    "# selecting columns using col\n",
    "from pyspark.sql.functions import col\n",
    "\n",
    "u_df.select(col('id'),col('last_name'),col('phone_numbers')).show()"
   ]
  },
  {
   "cell_type": "code",
   "execution_count": 9,
   "id": "74c752cc-e625-4a7e-ad5a-3aefc4d394fe",
   "metadata": {},
   "outputs": [
    {
     "name": "stdout",
     "output_type": "stream",
     "text": [
      "+---+---------+-------------+\n",
      "| id|last_name|phone_numbers|\n",
      "+---+---------+-------------+\n",
      "|  1|   chinta|   {123, 456}|\n",
      "|  2|   manchi|   {246, 680}|\n",
      "|  3|      raj|   {135, 579}|\n",
      "+---+---------+-------------+\n",
      "\n"
     ]
    }
   ],
   "source": [
    "# selecting columns using df\n",
    "\n",
    "u_df.select(u_df['id'],u_df['last_name'],u_df['phone_numbers']).show()"
   ]
  },
  {
   "cell_type": "code",
   "execution_count": 10,
   "id": "30e8a9e1-ac0c-42d5-9d9c-459dcd30d4c7",
   "metadata": {},
   "outputs": [
    {
     "name": "stdout",
     "output_type": "stream",
     "text": [
      "+---+---------+-------------+------------+\n",
      "| id|last_name|phone_numbers|   full_name|\n",
      "+---+---------+-------------+------------+\n",
      "|  1|   chinta|   {123, 456}|kiran#chinta|\n",
      "|  2|   manchi|   {246, 680}|goats#manchi|\n",
      "|  3|      raj|   {135, 579}|      ss#raj|\n",
      "+---+---------+-------------+------------+\n",
      "\n"
     ]
    }
   ],
   "source": [
    "# concat, list, alias\n",
    "\n",
    "from pyspark.sql.functions import col, concat, lit\n",
    "\n",
    "u_df.select(col('id'),col('last_name'),col('phone_numbers'),concat(col('first_name'),lit('#'),col('last_name')).alias('full_name')).show()"
   ]
  },
  {
   "cell_type": "markdown",
   "id": "8859dfb2-bf8d-4ac2-8e34-19786c620cf0",
   "metadata": {},
   "source": [
    "# overview of SELECTEXPR"
   ]
  },
  {
   "cell_type": "code",
   "execution_count": 11,
   "id": "93bd72fb-dd58-40b5-a4f9-826d3e0e5b32",
   "metadata": {},
   "outputs": [
    {
     "name": "stdout",
     "output_type": "stream",
     "text": [
      "+-----------+--------+-------------+---------------+----------+---+-----------+---------+-------------------+-------------+\n",
      "|amount_paid| courses|customer_from|          email|first_name| id|is_customer|last_name|    last_updated_ts|phone_numbers|\n",
      "+-----------+--------+-------------+---------------+----------+---+-----------+---------+-------------------+-------------+\n",
      "|     100.55|  [1, 2]|   2012-01-01|  k.c@gmail.com|     kiran|  1|       true|   chinta|2021-02-02 01:02:03|   {123, 456}|\n",
      "|     110.55| [11, 2]|   2012-01-01|  g.m@gmail.com|     goats|  2|      false|   manchi|2021-02-02 01:02:03|   {246, 680}|\n",
      "|       NULL|[11, 22]|   2012-02-02|s.s.r@gmail.com|        ss|  3|      false|      raj|2021-04-05 01:02:03|   {135, 579}|\n",
      "+-----------+--------+-------------+---------------+----------+---+-----------+---------+-------------------+-------------+\n",
      "\n"
     ]
    }
   ],
   "source": [
    "u_df.selectExpr('*').show()"
   ]
  },
  {
   "cell_type": "code",
   "execution_count": 12,
   "id": "8e52166a-73d4-4310-bda2-64114c5200d6",
   "metadata": {},
   "outputs": [
    {
     "name": "stdout",
     "output_type": "stream",
     "text": [
      "+---+----------+-------------+\n",
      "| id|first_name|phone_numbers|\n",
      "+---+----------+-------------+\n",
      "|  1|     kiran|   {123, 456}|\n",
      "|  2|     goats|   {246, 680}|\n",
      "|  3|        ss|   {135, 579}|\n",
      "+---+----------+-------------+\n",
      "\n"
     ]
    }
   ],
   "source": [
    "u_df.selectExpr('id','first_name','phone_numbers').show()"
   ]
  },
  {
   "cell_type": "code",
   "execution_count": 13,
   "id": "ac100044-1fde-45d7-9f4a-2dbd397976d3",
   "metadata": {},
   "outputs": [
    {
     "name": "stdout",
     "output_type": "stream",
     "text": [
      "+---+--------------------------------+-------------+\n",
      "| id|concat(first_name, -, last_name)|phone_numbers|\n",
      "+---+--------------------------------+-------------+\n",
      "|  1|                    kiran-chinta|   {123, 456}|\n",
      "|  2|                    goats-manchi|   {246, 680}|\n",
      "|  3|                          ss-raj|   {135, 579}|\n",
      "+---+--------------------------------+-------------+\n",
      "\n"
     ]
    }
   ],
   "source": [
    "u_df.selectExpr('id',\"concat(first_name,'-',last_name)\",'phone_numbers').show()"
   ]
  },
  {
   "cell_type": "markdown",
   "id": "f2f91bd9-25e3-4eca-a78e-dcabc640e9dc",
   "metadata": {},
   "source": [
    "# stop spark"
   ]
  },
  {
   "cell_type": "code",
   "execution_count": 14,
   "id": "d8acdc46-4f9d-4c00-9dbf-1b42d22ee535",
   "metadata": {},
   "outputs": [],
   "source": [
    "spark.stop()"
   ]
  },
  {
   "cell_type": "code",
   "execution_count": null,
   "id": "a99e9047-3b0c-4f62-897c-84b6e7cb97f1",
   "metadata": {},
   "outputs": [],
   "source": []
  }
 ],
 "metadata": {
  "kernelspec": {
   "display_name": "Python 3 (ipykernel)",
   "language": "python",
   "name": "python3"
  },
  "language_info": {
   "codemirror_mode": {
    "name": "ipython",
    "version": 3
   },
   "file_extension": ".py",
   "mimetype": "text/x-python",
   "name": "python",
   "nbconvert_exporter": "python",
   "pygments_lexer": "ipython3",
   "version": "3.11.13"
  }
 },
 "nbformat": 4,
 "nbformat_minor": 5
}
