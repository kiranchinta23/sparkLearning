{
 "cells": [
  {
   "cell_type": "code",
   "execution_count": 1,
   "id": "e7ad4701-ad59-4856-9781-f92555149c18",
   "metadata": {},
   "outputs": [],
   "source": [
    "import findspark\n",
    "findspark.init()"
   ]
  },
  {
   "cell_type": "code",
   "execution_count": 2,
   "id": "a3780b6d-be1d-48eb-ab38-46eae39f34ea",
   "metadata": {},
   "outputs": [
    {
     "name": "stderr",
     "output_type": "stream",
     "text": [
      "WARNING: Using incubator modules: jdk.incubator.vector\n",
      "Using Spark's default log4j profile: org/apache/spark/log4j2-defaults.properties\n",
      "25/06/14 16:56:11 WARN Utils: Your hostname, kirans-mac.local, resolves to a loopback address: 127.0.0.1; using 172.18.197.149 instead (on interface en0)\n",
      "25/06/14 16:56:11 WARN Utils: Set SPARK_LOCAL_IP if you need to bind to another address\n",
      "Using Spark's default log4j profile: org/apache/spark/log4j2-defaults.properties\n",
      "Setting default log level to \"WARN\".\n",
      "To adjust logging level use sc.setLogLevel(newLevel). For SparkR, use setLogLevel(newLevel).\n",
      "25/06/14 16:56:11 WARN NativeCodeLoader: Unable to load native-hadoop library for your platform... using builtin-java classes where applicable\n",
      "25/06/14 16:56:11 WARN Utils: Service 'SparkUI' could not bind on port 4040. Attempting port 4041.\n"
     ]
    }
   ],
   "source": [
    "from pyspark.sql import SparkSession\n",
    "spark = SparkSession.builder \\\n",
    "    .appName(\"MyApp\") \\\n",
    "    .master(\"local[*]\") \\\n",
    "    .getOrCreate()"
   ]
  },
  {
   "cell_type": "markdown",
   "id": "2563e4b3-65f8-4bd1-834d-d4da284e0b49",
   "metadata": {},
   "source": [
    "# Create Dataframe"
   ]
  },
  {
   "cell_type": "code",
   "execution_count": 3,
   "id": "471d1377-c462-4175-b56c-48713ed63c22",
   "metadata": {},
   "outputs": [],
   "source": [
    "import datetime\n",
    "from pyspark.sql import Row\n",
    "\n",
    "users = [{'id':1,\n",
    "        'first_name':'kiran',\n",
    "        'last_name':'chinta',\n",
    "         'email':'k.c@gmail.com',\n",
    "         'phone_numbers':Row(mobile=123,home=456),\n",
    "         'courses':[1,2],\n",
    "         'is_customer':True,\n",
    "         'amount_paid':100.55,\n",
    "         'customer_from':datetime.date(2012,1,1),\n",
    "        'last_updated_ts':datetime.datetime(2021,2,2,1,2,3)\n",
    "        },\n",
    "        {'id':2,\n",
    "        'first_name':'goats',\n",
    "        'last_name':'manchi',\n",
    "         'email':'g.m@gmail.com',\n",
    "         'phone_numbers':Row(mobile=246,home=680),\n",
    "         'courses':[11,2],\n",
    "         'is_customer':False,\n",
    "         'amount_paid':110.55,\n",
    "         'customer_from':datetime.date(2012,1,1),\n",
    "        'last_updated_ts':datetime.datetime(2021,2,2,1,2,3)\n",
    "        },\n",
    "        {'id':3,\n",
    "        'first_name':'ss',\n",
    "        'last_name':'raj',\n",
    "         'email':'s.s.r@gmail.com',\n",
    "         'phone_numbers':Row(mobile=135,home=579),\n",
    "         'courses':[11,22],\n",
    "         'is_customer':False,\n",
    "         'amount_paid':None,\n",
    "         'customer_from':datetime.date(2012,2,2),\n",
    "        'last_updated_ts':datetime.datetime(2021,4,5,1,2,3)\n",
    "        }]"
   ]
  },
  {
   "cell_type": "code",
   "execution_count": 4,
   "id": "d68fd17a-add6-4041-890d-65ec76730fb2",
   "metadata": {},
   "outputs": [
    {
     "name": "stderr",
     "output_type": "stream",
     "text": [
      "                                                                                "
     ]
    },
    {
     "name": "stdout",
     "output_type": "stream",
     "text": [
      "+-----------+--------+-------------+---------------+----------+---+-----------+---------+-------------------+-------------+\n",
      "|amount_paid| courses|customer_from|          email|first_name| id|is_customer|last_name|    last_updated_ts|phone_numbers|\n",
      "+-----------+--------+-------------+---------------+----------+---+-----------+---------+-------------------+-------------+\n",
      "|     100.55|  [1, 2]|   2012-01-01|  k.c@gmail.com|     kiran|  1|       true|   chinta|2021-02-02 01:02:03|   {123, 456}|\n",
      "|     110.55| [11, 2]|   2012-01-01|  g.m@gmail.com|     goats|  2|      false|   manchi|2021-02-02 01:02:03|   {246, 680}|\n",
      "|       NULL|[11, 22]|   2012-02-02|s.s.r@gmail.com|        ss|  3|      false|      raj|2021-04-05 01:02:03|   {135, 579}|\n",
      "+-----------+--------+-------------+---------------+----------+---+-----------+---------+-------------------+-------------+\n",
      "\n"
     ]
    }
   ],
   "source": [
    "u_df = spark.createDataFrame(users)\n",
    "u_df.show()"
   ]
  },
  {
   "cell_type": "markdown",
   "id": "a6e23cd3-ff05-4653-ab61-912cadd90e11",
   "metadata": {},
   "source": [
    "# drop Duplicates"
   ]
  },
  {
   "cell_type": "code",
   "execution_count": 7,
   "id": "5b30c65c-9ca0-4eb1-8172-bb1aeb261a8a",
   "metadata": {},
   "outputs": [
    {
     "name": "stdout",
     "output_type": "stream",
     "text": [
      "+-----------+--------+-------------+---------------+----------+---+-----------+---------+-------------------+-------------+\n",
      "|amount_paid| courses|customer_from|          email|first_name| id|is_customer|last_name|    last_updated_ts|phone_numbers|\n",
      "+-----------+--------+-------------+---------------+----------+---+-----------+---------+-------------------+-------------+\n",
      "|     100.55|  [1, 2]|   2012-01-01|  k.c@gmail.com|     kiran|  1|       true|   chinta|2021-02-02 01:02:03|   {123, 456}|\n",
      "|     110.55| [11, 2]|   2012-01-01|  g.m@gmail.com|     goats|  2|      false|   manchi|2021-02-02 01:02:03|   {246, 680}|\n",
      "|       NULL|[11, 22]|   2012-02-02|s.s.r@gmail.com|        ss|  3|      false|      raj|2021-04-05 01:02:03|   {135, 579}|\n",
      "+-----------+--------+-------------+---------------+----------+---+-----------+---------+-------------------+-------------+\n",
      "\n"
     ]
    }
   ],
   "source": [
    "# complete row should be distinct\n",
    "u_df.distinct().show()"
   ]
  },
  {
   "cell_type": "code",
   "execution_count": 9,
   "id": "a907b229-87b8-4b79-806c-34a20b031176",
   "metadata": {},
   "outputs": [
    {
     "name": "stdout",
     "output_type": "stream",
     "text": [
      "+-----------+--------+-------------+---------------+----------+---+-----------+---------+-------------------+-------------+\n",
      "|amount_paid| courses|customer_from|          email|first_name| id|is_customer|last_name|    last_updated_ts|phone_numbers|\n",
      "+-----------+--------+-------------+---------------+----------+---+-----------+---------+-------------------+-------------+\n",
      "|     100.55|  [1, 2]|   2012-01-01|  k.c@gmail.com|     kiran|  1|       true|   chinta|2021-02-02 01:02:03|   {123, 456}|\n",
      "|       NULL|[11, 22]|   2012-02-02|s.s.r@gmail.com|        ss|  3|      false|      raj|2021-04-05 01:02:03|   {135, 579}|\n",
      "+-----------+--------+-------------+---------------+----------+---+-----------+---------+-------------------+-------------+\n",
      "\n"
     ]
    }
   ],
   "source": [
    "# drop duplicates based on a column\n",
    "u_df.drop_duplicates(['customer_from']).show()"
   ]
  },
  {
   "cell_type": "code",
   "execution_count": 10,
   "id": "1f325ffb-2881-4f83-8286-040b5db30aed",
   "metadata": {},
   "outputs": [
    {
     "name": "stdout",
     "output_type": "stream",
     "text": [
      "+-----------+--------+-------------+---------------+----------+---+-----------+---------+-------------------+-------------+\n",
      "|amount_paid| courses|customer_from|          email|first_name| id|is_customer|last_name|    last_updated_ts|phone_numbers|\n",
      "+-----------+--------+-------------+---------------+----------+---+-----------+---------+-------------------+-------------+\n",
      "|     100.55|  [1, 2]|   2012-01-01|  k.c@gmail.com|     kiran|  1|       true|   chinta|2021-02-02 01:02:03|   {123, 456}|\n",
      "|     110.55| [11, 2]|   2012-01-01|  g.m@gmail.com|     goats|  2|      false|   manchi|2021-02-02 01:02:03|   {246, 680}|\n",
      "|       NULL|[11, 22]|   2012-02-02|s.s.r@gmail.com|        ss|  3|      false|      raj|2021-04-05 01:02:03|   {135, 579}|\n",
      "+-----------+--------+-------------+---------------+----------+---+-----------+---------+-------------------+-------------+\n",
      "\n"
     ]
    }
   ],
   "source": [
    "# drop duplicates based on subset of columns\n",
    "u_df.drop_duplicates(['customer_from','id']).show()"
   ]
  },
  {
   "cell_type": "markdown",
   "id": "2590cd98-17c8-4d6c-aa1a-aa67791b4199",
   "metadata": {},
   "source": [
    "# drop null records"
   ]
  },
  {
   "cell_type": "code",
   "execution_count": 12,
   "id": "f3481841-3ae3-4ae1-8cfe-a06cb1c6ac23",
   "metadata": {},
   "outputs": [
    {
     "name": "stdout",
     "output_type": "stream",
     "text": [
      "+-----------+-------+-------------+-------------+----------+---+-----------+---------+-------------------+-------------+\n",
      "|amount_paid|courses|customer_from|        email|first_name| id|is_customer|last_name|    last_updated_ts|phone_numbers|\n",
      "+-----------+-------+-------------+-------------+----------+---+-----------+---------+-------------------+-------------+\n",
      "|     100.55| [1, 2]|   2012-01-01|k.c@gmail.com|     kiran|  1|       true|   chinta|2021-02-02 01:02:03|   {123, 456}|\n",
      "|     110.55|[11, 2]|   2012-01-01|g.m@gmail.com|     goats|  2|      false|   manchi|2021-02-02 01:02:03|   {246, 680}|\n",
      "+-----------+-------+-------------+-------------+----------+---+-----------+---------+-------------------+-------------+\n",
      "\n"
     ]
    }
   ],
   "source": [
    "# drop if any of the columns is null\n",
    "u_df.dropna().show()"
   ]
  },
  {
   "cell_type": "code",
   "execution_count": 13,
   "id": "f161d9b6-8edc-45ff-bfb7-c2f1c1189914",
   "metadata": {},
   "outputs": [
    {
     "name": "stdout",
     "output_type": "stream",
     "text": [
      "+-----------+--------+-------------+---------------+----------+---+-----------+---------+-------------------+-------------+\n",
      "|amount_paid| courses|customer_from|          email|first_name| id|is_customer|last_name|    last_updated_ts|phone_numbers|\n",
      "+-----------+--------+-------------+---------------+----------+---+-----------+---------+-------------------+-------------+\n",
      "|     100.55|  [1, 2]|   2012-01-01|  k.c@gmail.com|     kiran|  1|       true|   chinta|2021-02-02 01:02:03|   {123, 456}|\n",
      "|     110.55| [11, 2]|   2012-01-01|  g.m@gmail.com|     goats|  2|      false|   manchi|2021-02-02 01:02:03|   {246, 680}|\n",
      "|       NULL|[11, 22]|   2012-02-02|s.s.r@gmail.com|        ss|  3|      false|      raj|2021-04-05 01:02:03|   {135, 579}|\n",
      "+-----------+--------+-------------+---------------+----------+---+-----------+---------+-------------------+-------------+\n",
      "\n"
     ]
    }
   ],
   "source": [
    "# drop if complete row is null\n",
    "u_df.dropna('all').show()"
   ]
  },
  {
   "cell_type": "code",
   "execution_count": 14,
   "id": "0358878d-6679-478f-b78a-6da551b3253c",
   "metadata": {},
   "outputs": [
    {
     "name": "stdout",
     "output_type": "stream",
     "text": [
      "+-----------+--------+-------------+---------------+----------+---+-----------+---------+-------------------+-------------+\n",
      "|amount_paid| courses|customer_from|          email|first_name| id|is_customer|last_name|    last_updated_ts|phone_numbers|\n",
      "+-----------+--------+-------------+---------------+----------+---+-----------+---------+-------------------+-------------+\n",
      "|     100.55|  [1, 2]|   2012-01-01|  k.c@gmail.com|     kiran|  1|       true|   chinta|2021-02-02 01:02:03|   {123, 456}|\n",
      "|     110.55| [11, 2]|   2012-01-01|  g.m@gmail.com|     goats|  2|      false|   manchi|2021-02-02 01:02:03|   {246, 680}|\n",
      "|       NULL|[11, 22]|   2012-02-02|s.s.r@gmail.com|        ss|  3|      false|      raj|2021-04-05 01:02:03|   {135, 579}|\n",
      "+-----------+--------+-------------+---------------+----------+---+-----------+---------+-------------------+-------------+\n",
      "\n"
     ]
    }
   ],
   "source": [
    "# drop the record if both amount_paid and is_customer is null\n",
    "u_df.dropna('all',subset=['amount_paid','is_customer']).show()"
   ]
  },
  {
   "cell_type": "code",
   "execution_count": 15,
   "id": "8a713080-36f9-4ffe-a3b1-a6f4cb14e735",
   "metadata": {},
   "outputs": [
    {
     "name": "stdout",
     "output_type": "stream",
     "text": [
      "+-----------+-------+-------------+-------------+----------+---+-----------+---------+-------------------+-------------+\n",
      "|amount_paid|courses|customer_from|        email|first_name| id|is_customer|last_name|    last_updated_ts|phone_numbers|\n",
      "+-----------+-------+-------------+-------------+----------+---+-----------+---------+-------------------+-------------+\n",
      "|     100.55| [1, 2]|   2012-01-01|k.c@gmail.com|     kiran|  1|       true|   chinta|2021-02-02 01:02:03|   {123, 456}|\n",
      "|     110.55|[11, 2]|   2012-01-01|g.m@gmail.com|     goats|  2|      false|   manchi|2021-02-02 01:02:03|   {246, 680}|\n",
      "+-----------+-------+-------------+-------------+----------+---+-----------+---------+-------------------+-------------+\n",
      "\n"
     ]
    }
   ],
   "source": [
    "# drop the record if any of  amount_paid and is_customer is null\n",
    "u_df.dropna('any',subset=['amount_paid','is_customer']).show()"
   ]
  },
  {
   "cell_type": "code",
   "execution_count": 16,
   "id": "14ffb12a-2fa8-47b7-8171-2a475393c36f",
   "metadata": {},
   "outputs": [],
   "source": [
    "spark.stop()"
   ]
  },
  {
   "cell_type": "code",
   "execution_count": null,
   "id": "36376c70-79b2-49f2-af3a-55181f34cfef",
   "metadata": {},
   "outputs": [],
   "source": []
  }
 ],
 "metadata": {
  "kernelspec": {
   "display_name": "Python 3 (ipykernel)",
   "language": "python",
   "name": "python3"
  },
  "language_info": {
   "codemirror_mode": {
    "name": "ipython",
    "version": 3
   },
   "file_extension": ".py",
   "mimetype": "text/x-python",
   "name": "python",
   "nbconvert_exporter": "python",
   "pygments_lexer": "ipython3",
   "version": "3.11.13"
  }
 },
 "nbformat": 4,
 "nbformat_minor": 5
}
