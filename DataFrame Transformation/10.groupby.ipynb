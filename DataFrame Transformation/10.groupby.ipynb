{
 "cells": [
  {
   "cell_type": "code",
   "execution_count": 1,
   "id": "000802bb-482e-4758-9a11-73ec34ad3122",
   "metadata": {},
   "outputs": [],
   "source": [
    "import findspark\n",
    "findspark.init()"
   ]
  },
  {
   "cell_type": "code",
   "execution_count": 2,
   "id": "530cf449-17ff-4e57-a7bd-d1ae359567d2",
   "metadata": {},
   "outputs": [
    {
     "name": "stderr",
     "output_type": "stream",
     "text": [
      "WARNING: Using incubator modules: jdk.incubator.vector\n",
      "Using Spark's default log4j profile: org/apache/spark/log4j2-defaults.properties\n",
      "25/06/14 21:49:10 WARN Utils: Your hostname, kirans-mac.local, resolves to a loopback address: 127.0.0.1; using 172.18.197.149 instead (on interface en0)\n",
      "25/06/14 21:49:10 WARN Utils: Set SPARK_LOCAL_IP if you need to bind to another address\n",
      "Using Spark's default log4j profile: org/apache/spark/log4j2-defaults.properties\n",
      "Setting default log level to \"WARN\".\n",
      "To adjust logging level use sc.setLogLevel(newLevel). For SparkR, use setLogLevel(newLevel).\n",
      "25/06/14 21:49:11 WARN NativeCodeLoader: Unable to load native-hadoop library for your platform... using builtin-java classes where applicable\n"
     ]
    }
   ],
   "source": [
    "from pyspark.sql import SparkSession\n",
    "spark = SparkSession.builder \\\n",
    "    .appName(\"MyApp\") \\\n",
    "    .master(\"local[*]\") \\\n",
    "    .getOrCreate()"
   ]
  },
  {
   "cell_type": "markdown",
   "id": "eaa87ac3-2d16-4315-a5bf-dcbe1825e02c",
   "metadata": {},
   "source": [
    "# create dataframe"
   ]
  },
  {
   "cell_type": "code",
   "execution_count": 3,
   "id": "87920031-3fa2-4712-a69b-46940093b6f7",
   "metadata": {},
   "outputs": [],
   "source": [
    "data = ((\"James\",\"Sales\",\"NY\",9000,34),\n",
    "(\"Alicia\",\"Sales\",\"NY\",8600,56),\n",
    "(\"Robert\",\"Sales\",\"CA\",8100,30),\n",
    "(\"Lisa\",\"Finance\",\"CA\",9000,24),\n",
    "(\"Deja\",\"Finance\",\"CA\",9900,40),\n",
    "(\"Sugie\",\"Finance\",\"NY\",8300,36),\n",
    "(\"Ram\",\"Finance\",\"NY\",7900,53),\n",
    "(\"Kyle\",\"Marketing\",\"CA\",8000,25),\n",
    "(\"Reid\",\"Marketing\",\"NY\",9100,50)\n",
    ")\n",
    "schema=(\"empname\",\"dept\",\"state\",\"salary\",\"age\")\n",
    "df = spark.createDataFrame(data=data,schema=schema)"
   ]
  },
  {
   "cell_type": "code",
   "execution_count": 4,
   "id": "472fa131-7b3b-4d4c-ae72-73d7b72d6397",
   "metadata": {},
   "outputs": [
    {
     "name": "stderr",
     "output_type": "stream",
     "text": [
      "                                                                                "
     ]
    },
    {
     "name": "stdout",
     "output_type": "stream",
     "text": [
      "+-------+---------+-----+------+---+\n",
      "|empname|     dept|state|salary|age|\n",
      "+-------+---------+-----+------+---+\n",
      "|  James|    Sales|   NY|  9000| 34|\n",
      "| Alicia|    Sales|   NY|  8600| 56|\n",
      "| Robert|    Sales|   CA|  8100| 30|\n",
      "|   Lisa|  Finance|   CA|  9000| 24|\n",
      "|   Deja|  Finance|   CA|  9900| 40|\n",
      "|  Sugie|  Finance|   NY|  8300| 36|\n",
      "|    Ram|  Finance|   NY|  7900| 53|\n",
      "|   Kyle|Marketing|   CA|  8000| 25|\n",
      "|   Reid|Marketing|   NY|  9100| 50|\n",
      "+-------+---------+-----+------+---+\n",
      "\n"
     ]
    }
   ],
   "source": [
    "df.show()"
   ]
  },
  {
   "cell_type": "markdown",
   "id": "c84ec201-cce5-406e-8bb0-5690473f5627",
   "metadata": {},
   "source": [
    "# groupby\n",
    "- count(), min(), max(), avg(), sum()"
   ]
  },
  {
   "cell_type": "code",
   "execution_count": 9,
   "id": "43552166-c00b-4d7f-931a-5a9b50e60cb3",
   "metadata": {},
   "outputs": [
    {
     "name": "stdout",
     "output_type": "stream",
     "text": [
      "+---------+-----+\n",
      "|     dept|count|\n",
      "+---------+-----+\n",
      "|    Sales|    3|\n",
      "|  Finance|    4|\n",
      "|Marketing|    2|\n",
      "+---------+-----+\n",
      "\n"
     ]
    }
   ],
   "source": [
    "from pyspark.sql.functions import col\n",
    "df.groupBy('dept').count().show()"
   ]
  },
  {
   "cell_type": "code",
   "execution_count": 10,
   "id": "397f2b25-bb29-40a5-8d3c-eb78bbc36ef6",
   "metadata": {},
   "outputs": [
    {
     "name": "stdout",
     "output_type": "stream",
     "text": [
      "+---------+-----------+--------+\n",
      "|     dept|min(salary)|min(age)|\n",
      "+---------+-----------+--------+\n",
      "|    Sales|       8100|      30|\n",
      "|  Finance|       7900|      24|\n",
      "|Marketing|       8000|      25|\n",
      "+---------+-----------+--------+\n",
      "\n"
     ]
    }
   ],
   "source": [
    "df.groupBy('dept').min().show()"
   ]
  },
  {
   "cell_type": "code",
   "execution_count": 11,
   "id": "0ddac335-5469-49a6-995b-004500cbd8e3",
   "metadata": {},
   "outputs": [
    {
     "name": "stdout",
     "output_type": "stream",
     "text": [
      "+---------+-----------+--------+\n",
      "|     dept|max(salary)|max(age)|\n",
      "+---------+-----------+--------+\n",
      "|    Sales|       9000|      56|\n",
      "|  Finance|       9900|      53|\n",
      "|Marketing|       9100|      50|\n",
      "+---------+-----------+--------+\n",
      "\n"
     ]
    }
   ],
   "source": [
    "df.groupBy('dept').max().show()"
   ]
  },
  {
   "cell_type": "code",
   "execution_count": 12,
   "id": "c6612cdd-d1a3-48d6-9d1a-1ec7b4bbfafd",
   "metadata": {},
   "outputs": [
    {
     "name": "stdout",
     "output_type": "stream",
     "text": [
      "+---------+-----------+--------+\n",
      "|     dept|sum(salary)|sum(age)|\n",
      "+---------+-----------+--------+\n",
      "|    Sales|      25700|     120|\n",
      "|  Finance|      35100|     153|\n",
      "|Marketing|      17100|      75|\n",
      "+---------+-----------+--------+\n",
      "\n"
     ]
    }
   ],
   "source": [
    "df.groupBy('dept').sum().show()"
   ]
  },
  {
   "cell_type": "markdown",
   "id": "c3da500f-3672-4956-a008-b07d11e00299",
   "metadata": {},
   "source": [
    "# groupBy with mulitple columns"
   ]
  },
  {
   "cell_type": "code",
   "execution_count": 25,
   "id": "1ac8d01d-362b-41fc-8edf-9265cf5d3128",
   "metadata": {},
   "outputs": [
    {
     "name": "stdout",
     "output_type": "stream",
     "text": [
      "+---------+-----+-----------+--------+\n",
      "|     dept|state|sum(salary)|sum(age)|\n",
      "+---------+-----+-----------+--------+\n",
      "|    Sales|   NY|      17600|      90|\n",
      "|    Sales|   CA|       8100|      30|\n",
      "|  Finance|   CA|      18900|      64|\n",
      "|  Finance|   NY|      16200|      89|\n",
      "|Marketing|   CA|       8000|      25|\n",
      "|Marketing|   NY|       9100|      50|\n",
      "+---------+-----+-----------+--------+\n",
      "\n"
     ]
    }
   ],
   "source": [
    "df.groupBy('dept','state').sum().show()"
   ]
  },
  {
   "cell_type": "markdown",
   "id": "f269af35-f05b-42f6-bb93-9f70b26f390e",
   "metadata": {},
   "source": [
    "# groupBy with agg\n",
    "- to apply multiple agg functions"
   ]
  },
  {
   "cell_type": "code",
   "execution_count": 22,
   "id": "04df618d-27a1-4ef7-9c04-39a2d4dc33c5",
   "metadata": {},
   "outputs": [
    {
     "name": "stdout",
     "output_type": "stream",
     "text": [
      "+---------+-------------+-----------+-----------+-----------+\n",
      "|     dept|count(salary)|min(salary)|max(salary)|sum(salary)|\n",
      "+---------+-------------+-----------+-----------+-----------+\n",
      "|    Sales|            3|       8100|       9000|      25700|\n",
      "|  Finance|            4|       7900|       9900|      35100|\n",
      "|Marketing|            2|       8000|       9100|      17100|\n",
      "+---------+-------------+-----------+-----------+-----------+\n",
      "\n"
     ]
    }
   ],
   "source": [
    "from pyspark.sql.functions import *\n",
    "df.groupBy(col('dept')).agg(count('salary'),min('salary'),max('salary'),sum('salary')).show()"
   ]
  },
  {
   "cell_type": "markdown",
   "id": "3b268713-ee33-4a6a-a840-81b3d3ba87a1",
   "metadata": {},
   "source": [
    "# groupBy with Pivot\n",
    "- convert the state column as headers and apply sum on salary "
   ]
  },
  {
   "cell_type": "code",
   "execution_count": 23,
   "id": "3969431b-96ca-49ee-883a-8a458f45a230",
   "metadata": {},
   "outputs": [
    {
     "name": "stdout",
     "output_type": "stream",
     "text": [
      "+---------+-----+-----+\n",
      "|     dept|   CA|   NY|\n",
      "+---------+-----+-----+\n",
      "|    Sales| 8100|17600|\n",
      "|  Finance|18900|16200|\n",
      "|Marketing| 8000| 9100|\n",
      "+---------+-----+-----+\n",
      "\n"
     ]
    }
   ],
   "source": [
    "df.groupBy('dept').pivot('state').sum('salary').show()"
   ]
  },
  {
   "cell_type": "code",
   "execution_count": 26,
   "id": "81cad5cd-1205-48f7-95d9-a596fd939447",
   "metadata": {},
   "outputs": [],
   "source": [
    "spark.stop()"
   ]
  },
  {
   "cell_type": "code",
   "execution_count": null,
   "id": "fb8eec8f-d231-4b53-9e7f-410f9a8febd3",
   "metadata": {},
   "outputs": [],
   "source": []
  }
 ],
 "metadata": {
  "kernelspec": {
   "display_name": "Python 3 (ipykernel)",
   "language": "python",
   "name": "python3"
  },
  "language_info": {
   "codemirror_mode": {
    "name": "ipython",
    "version": 3
   },
   "file_extension": ".py",
   "mimetype": "text/x-python",
   "name": "python",
   "nbconvert_exporter": "python",
   "pygments_lexer": "ipython3",
   "version": "3.11.13"
  }
 },
 "nbformat": 4,
 "nbformat_minor": 5
}
