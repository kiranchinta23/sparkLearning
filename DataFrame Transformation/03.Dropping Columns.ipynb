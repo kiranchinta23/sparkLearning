{
 "cells": [
  {
   "cell_type": "code",
   "execution_count": 1,
   "id": "119b456b-4d3b-4383-8e5f-de69f6cfcb58",
   "metadata": {},
   "outputs": [],
   "source": [
    "import findspark\n",
    "findspark.init()"
   ]
  },
  {
   "cell_type": "code",
   "execution_count": 2,
   "id": "43dfe69c-bcbd-4d38-ae0c-cc16596fcb72",
   "metadata": {},
   "outputs": [
    {
     "name": "stderr",
     "output_type": "stream",
     "text": [
      "WARNING: Using incubator modules: jdk.incubator.vector\n",
      "Using Spark's default log4j profile: org/apache/spark/log4j2-defaults.properties\n",
      "25/06/14 15:57:22 WARN Utils: Your hostname, kirans-mac.local, resolves to a loopback address: 127.0.0.1; using 172.18.197.149 instead (on interface en0)\n",
      "25/06/14 15:57:22 WARN Utils: Set SPARK_LOCAL_IP if you need to bind to another address\n",
      "Using Spark's default log4j profile: org/apache/spark/log4j2-defaults.properties\n",
      "Setting default log level to \"WARN\".\n",
      "To adjust logging level use sc.setLogLevel(newLevel). For SparkR, use setLogLevel(newLevel).\n",
      "25/06/14 15:57:22 WARN NativeCodeLoader: Unable to load native-hadoop library for your platform... using builtin-java classes where applicable\n",
      "25/06/14 15:57:22 WARN Utils: Service 'SparkUI' could not bind on port 4040. Attempting port 4041.\n"
     ]
    }
   ],
   "source": [
    "from pyspark.sql import SparkSession\n",
    "spark = SparkSession.builder \\\n",
    "    .appName(\"MyApp\") \\\n",
    "    .master(\"local[*]\") \\\n",
    "    .getOrCreate()"
   ]
  },
  {
   "cell_type": "markdown",
   "id": "84c8d4e2-9b93-4ecb-b3e8-3202558fa574",
   "metadata": {},
   "source": [
    "# Create dataFrame"
   ]
  },
  {
   "cell_type": "code",
   "execution_count": 3,
   "id": "89b30e8e-b594-4450-b67d-35e568b2e1ff",
   "metadata": {},
   "outputs": [],
   "source": [
    "import datetime\n",
    "from pyspark.sql import Row\n",
    "\n",
    "users = [{'id':1,\n",
    "        'first_name':'kiran',\n",
    "        'last_name':'chinta',\n",
    "         'email':'k.c@gmail.com',\n",
    "         'phone_numbers':Row(mobile=123,home=456),\n",
    "         'courses':[1,2],\n",
    "         'is_customer':True,\n",
    "         'amount_paid':100.55,\n",
    "         'customer_from':datetime.date(2012,1,1),\n",
    "        'last_updated_ts':datetime.datetime(2021,2,2,1,2,3)\n",
    "        },\n",
    "        {'id':2,\n",
    "        'first_name':'goats',\n",
    "        'last_name':'manchi',\n",
    "         'email':'g.m@gmail.com',\n",
    "         'phone_numbers':Row(mobile=246,home=680),\n",
    "         'courses':[11,2],\n",
    "         'is_customer':False,\n",
    "         'amount_paid':110.55,\n",
    "         'customer_from':datetime.date(2012,1,1),\n",
    "        'last_updated_ts':datetime.datetime(2021,2,2,1,2,3)\n",
    "        },\n",
    "        {'id':3,\n",
    "        'first_name':'ss',\n",
    "        'last_name':'raj',\n",
    "         'email':'s.s.r@gmail.com',\n",
    "         'phone_numbers':Row(mobile=135,home=579),\n",
    "         'courses':[11,22],\n",
    "         'is_customer':False,\n",
    "         'amount_paid':None,\n",
    "         'customer_from':datetime.date(2012,2,2),\n",
    "        'last_updated_ts':datetime.datetime(2021,4,5,1,2,3)\n",
    "        }]"
   ]
  },
  {
   "cell_type": "code",
   "execution_count": 4,
   "id": "97bc0036-f0a8-477c-accf-bcb1b1ba082c",
   "metadata": {},
   "outputs": [
    {
     "name": "stderr",
     "output_type": "stream",
     "text": [
      "                                                                                "
     ]
    },
    {
     "name": "stdout",
     "output_type": "stream",
     "text": [
      "+-----------+--------+-------------+---------------+----------+---+-----------+---------+-------------------+-------------+\n",
      "|amount_paid| courses|customer_from|          email|first_name| id|is_customer|last_name|    last_updated_ts|phone_numbers|\n",
      "+-----------+--------+-------------+---------------+----------+---+-----------+---------+-------------------+-------------+\n",
      "|     100.55|  [1, 2]|   2012-01-01|  k.c@gmail.com|     kiran|  1|       true|   chinta|2021-02-02 01:02:03|   {123, 456}|\n",
      "|     110.55| [11, 2]|   2012-01-01|  g.m@gmail.com|     goats|  2|      false|   manchi|2021-02-02 01:02:03|   {246, 680}|\n",
      "|       NULL|[11, 22]|   2012-02-02|s.s.r@gmail.com|        ss|  3|      false|      raj|2021-04-05 01:02:03|   {135, 579}|\n",
      "+-----------+--------+-------------+---------------+----------+---+-----------+---------+-------------------+-------------+\n",
      "\n"
     ]
    }
   ],
   "source": [
    "u_df = spark.createDataFrame(users)\n",
    "u_df.show()"
   ]
  },
  {
   "cell_type": "markdown",
   "id": "a209eec9-135b-47b6-ad5d-96ea4699077c",
   "metadata": {},
   "source": [
    "# Drop single Column"
   ]
  },
  {
   "cell_type": "code",
   "execution_count": 5,
   "id": "d63b090b-b4a6-481b-b320-7be673954705",
   "metadata": {},
   "outputs": [
    {
     "name": "stdout",
     "output_type": "stream",
     "text": [
      "+-----------+--------+-------------+---------------+----------+---+-----------+---------+-------------------+\n",
      "|amount_paid| courses|customer_from|          email|first_name| id|is_customer|last_name|    last_updated_ts|\n",
      "+-----------+--------+-------------+---------------+----------+---+-----------+---------+-------------------+\n",
      "|     100.55|  [1, 2]|   2012-01-01|  k.c@gmail.com|     kiran|  1|       true|   chinta|2021-02-02 01:02:03|\n",
      "|     110.55| [11, 2]|   2012-01-01|  g.m@gmail.com|     goats|  2|      false|   manchi|2021-02-02 01:02:03|\n",
      "|       NULL|[11, 22]|   2012-02-02|s.s.r@gmail.com|        ss|  3|      false|      raj|2021-04-05 01:02:03|\n",
      "+-----------+--------+-------------+---------------+----------+---+-----------+---------+-------------------+\n",
      "\n"
     ]
    }
   ],
   "source": [
    "u_df.drop('phone_numbers').show()"
   ]
  },
  {
   "cell_type": "code",
   "execution_count": 6,
   "id": "f0218766-72fc-4666-970a-cb1b9ef1e679",
   "metadata": {},
   "outputs": [
    {
     "name": "stdout",
     "output_type": "stream",
     "text": [
      "+-----------+--------+-------------+---------------+----------+---+-----------+---------+-------------+\n",
      "|amount_paid| courses|customer_from|          email|first_name| id|is_customer|last_name|phone_numbers|\n",
      "+-----------+--------+-------------+---------------+----------+---+-----------+---------+-------------+\n",
      "|     100.55|  [1, 2]|   2012-01-01|  k.c@gmail.com|     kiran|  1|       true|   chinta|   {123, 456}|\n",
      "|     110.55| [11, 2]|   2012-01-01|  g.m@gmail.com|     goats|  2|      false|   manchi|   {246, 680}|\n",
      "|       NULL|[11, 22]|   2012-02-02|s.s.r@gmail.com|        ss|  3|      false|      raj|   {135, 579}|\n",
      "+-----------+--------+-------------+---------------+----------+---+-----------+---------+-------------+\n",
      "\n"
     ]
    }
   ],
   "source": [
    "from pyspark.sql.functions import col, concat,lit\n",
    "u_df.drop(col('last_updated_ts')).show()"
   ]
  },
  {
   "cell_type": "markdown",
   "id": "5fe747d4-537b-4b89-b721-f9dbd0175a94",
   "metadata": {},
   "source": [
    "# Drop Multiple columns"
   ]
  },
  {
   "cell_type": "code",
   "execution_count": 9,
   "id": "e418bb6a-7ab8-43da-ab6b-0ba3e333e91e",
   "metadata": {},
   "outputs": [
    {
     "name": "stdout",
     "output_type": "stream",
     "text": [
      "+-----------+--------+-------------+---------------+----------+---+-----------+---------+\n",
      "|amount_paid| courses|customer_from|          email|first_name| id|is_customer|last_name|\n",
      "+-----------+--------+-------------+---------------+----------+---+-----------+---------+\n",
      "|     100.55|  [1, 2]|   2012-01-01|  k.c@gmail.com|     kiran|  1|       true|   chinta|\n",
      "|     110.55| [11, 2]|   2012-01-01|  g.m@gmail.com|     goats|  2|      false|   manchi|\n",
      "|       NULL|[11, 22]|   2012-02-02|s.s.r@gmail.com|        ss|  3|      false|      raj|\n",
      "+-----------+--------+-------------+---------------+----------+---+-----------+---------+\n",
      "\n"
     ]
    }
   ],
   "source": [
    "u_df.drop('phone_numbers','last_updated_ts').show()"
   ]
  },
  {
   "cell_type": "code",
   "execution_count": 10,
   "id": "f07d6fc5-2a23-45c4-99a2-4fac3c89cdd7",
   "metadata": {},
   "outputs": [
    {
     "name": "stdout",
     "output_type": "stream",
     "text": [
      "+-----------+--------+-------------+---------------+----------+---+-----------+---------+\n",
      "|amount_paid| courses|customer_from|          email|first_name| id|is_customer|last_name|\n",
      "+-----------+--------+-------------+---------------+----------+---+-----------+---------+\n",
      "|     100.55|  [1, 2]|   2012-01-01|  k.c@gmail.com|     kiran|  1|       true|   chinta|\n",
      "|     110.55| [11, 2]|   2012-01-01|  g.m@gmail.com|     goats|  2|      false|   manchi|\n",
      "|       NULL|[11, 22]|   2012-02-02|s.s.r@gmail.com|        ss|  3|      false|      raj|\n",
      "+-----------+--------+-------------+---------------+----------+---+-----------+---------+\n",
      "\n"
     ]
    }
   ],
   "source": [
    "u_df.drop(col('phone_numbers'),('last_updated_ts')).show()"
   ]
  },
  {
   "cell_type": "markdown",
   "id": "fedf052c-650d-41c7-a875-8bbd498564bc",
   "metadata": {},
   "source": [
    "# Drop list of columns"
   ]
  },
  {
   "cell_type": "code",
   "execution_count": 11,
   "id": "2f3bf017-92cc-4e5f-ad42-d10a5dac8784",
   "metadata": {},
   "outputs": [
    {
     "name": "stdout",
     "output_type": "stream",
     "text": [
      "+-----------+--------+-------------+---------------+-----------+---------+-------------------+-------------+\n",
      "|amount_paid| courses|customer_from|          email|is_customer|last_name|    last_updated_ts|phone_numbers|\n",
      "+-----------+--------+-------------+---------------+-----------+---------+-------------------+-------------+\n",
      "|     100.55|  [1, 2]|   2012-01-01|  k.c@gmail.com|       true|   chinta|2021-02-02 01:02:03|   {123, 456}|\n",
      "|     110.55| [11, 2]|   2012-01-01|  g.m@gmail.com|      false|   manchi|2021-02-02 01:02:03|   {246, 680}|\n",
      "|       NULL|[11, 22]|   2012-02-02|s.s.r@gmail.com|      false|      raj|2021-04-05 01:02:03|   {135, 579}|\n",
      "+-----------+--------+-------------+---------------+-----------+---------+-------------------+-------------+\n",
      "\n"
     ]
    }
   ],
   "source": [
    "cols_to_dtop = ['first_name','lat_name','id']\n",
    "u_df.drop(*cols_to_dtop).show()"
   ]
  },
  {
   "cell_type": "markdown",
   "id": "48c6ffda-f71e-4d1a-8d85-edf5affa83a6",
   "metadata": {},
   "source": [
    "# stop spark"
   ]
  },
  {
   "cell_type": "code",
   "execution_count": 12,
   "id": "2182518b-5d7f-422c-b5f2-4550dc82dd11",
   "metadata": {},
   "outputs": [],
   "source": [
    "spark.stop()"
   ]
  },
  {
   "cell_type": "code",
   "execution_count": null,
   "id": "cd196638-4ff8-44f1-b432-1e0ea8e094ed",
   "metadata": {},
   "outputs": [],
   "source": []
  }
 ],
 "metadata": {
  "kernelspec": {
   "display_name": "Python 3 (ipykernel)",
   "language": "python",
   "name": "python3"
  },
  "language_info": {
   "codemirror_mode": {
    "name": "ipython",
    "version": 3
   },
   "file_extension": ".py",
   "mimetype": "text/x-python",
   "name": "python",
   "nbconvert_exporter": "python",
   "pygments_lexer": "ipython3",
   "version": "3.11.13"
  }
 },
 "nbformat": 4,
 "nbformat_minor": 5
}
