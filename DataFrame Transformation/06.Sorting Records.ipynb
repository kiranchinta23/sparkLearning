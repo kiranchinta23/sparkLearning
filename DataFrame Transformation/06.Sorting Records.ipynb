{
 "cells": [
  {
   "cell_type": "code",
   "execution_count": 1,
   "id": "0e2d0351-54dd-4e5a-928d-7597a574b29a",
   "metadata": {},
   "outputs": [],
   "source": [
    "import findspark\n",
    "findspark.init()"
   ]
  },
  {
   "cell_type": "code",
   "execution_count": 2,
   "id": "ea54aedf-9800-4503-8efe-e108c50bda63",
   "metadata": {},
   "outputs": [
    {
     "name": "stderr",
     "output_type": "stream",
     "text": [
      "WARNING: Using incubator modules: jdk.incubator.vector\n",
      "Using Spark's default log4j profile: org/apache/spark/log4j2-defaults.properties\n",
      "25/06/14 18:15:24 WARN Utils: Your hostname, kirans-mac.local, resolves to a loopback address: 127.0.0.1; using 172.18.197.149 instead (on interface en0)\n",
      "25/06/14 18:15:24 WARN Utils: Set SPARK_LOCAL_IP if you need to bind to another address\n",
      "Using Spark's default log4j profile: org/apache/spark/log4j2-defaults.properties\n",
      "Setting default log level to \"WARN\".\n",
      "To adjust logging level use sc.setLogLevel(newLevel). For SparkR, use setLogLevel(newLevel).\n",
      "25/06/14 18:15:25 WARN NativeCodeLoader: Unable to load native-hadoop library for your platform... using builtin-java classes where applicable\n",
      "25/06/14 18:15:25 WARN Utils: Service 'SparkUI' could not bind on port 4040. Attempting port 4041.\n"
     ]
    }
   ],
   "source": [
    "from pyspark.sql import SparkSession\n",
    "spark = SparkSession.builder \\\n",
    "    .appName(\"MyApp\") \\\n",
    "    .master(\"local[*]\") \\\n",
    "    .getOrCreate()"
   ]
  },
  {
   "cell_type": "markdown",
   "id": "82c08ff4-3701-4f31-b4fb-cbe1d66ffaac",
   "metadata": {},
   "source": [
    "# create dataframe"
   ]
  },
  {
   "cell_type": "code",
   "execution_count": 3,
   "id": "d976ecf5-4763-4b11-b276-04de26c5989d",
   "metadata": {},
   "outputs": [],
   "source": [
    "import datetime\n",
    "from pyspark.sql import Row\n",
    "\n",
    "users = [{'id':1,\n",
    "        'first_name':'kiran',\n",
    "        'last_name':'chinta',\n",
    "         'email':'k.c@gmail.com',\n",
    "         'phone_numbers':Row(mobile=123,home=456),\n",
    "         'courses':[1,2],\n",
    "         'is_customer':True,\n",
    "         'amount_paid':100.55,\n",
    "         'customer_from':datetime.date(2012,1,1),\n",
    "        'last_updated_ts':datetime.datetime(2021,2,2,1,2,3)\n",
    "        },\n",
    "        {'id':2,\n",
    "        'first_name':'goats',\n",
    "        'last_name':'manchi',\n",
    "         'email':'g.m@gmail.com',\n",
    "         'phone_numbers':Row(mobile=246,home=680),\n",
    "         'courses':[11,2],\n",
    "         'is_customer':False,\n",
    "         'amount_paid':110.55,\n",
    "         'customer_from':datetime.date(2012,1,1),\n",
    "        'last_updated_ts':datetime.datetime(2021,2,2,1,2,3)\n",
    "        },\n",
    "        {'id':3,\n",
    "        'first_name':'ss',\n",
    "        'last_name':'raj',\n",
    "         'email':'s.s.r@gmail.com',\n",
    "         'phone_numbers':Row(mobile=135,home=579),\n",
    "         'courses':[11,22],\n",
    "         'is_customer':False,\n",
    "         'amount_paid':None,\n",
    "         'customer_from':datetime.date(2012,2,2),\n",
    "        'last_updated_ts':datetime.datetime(2021,4,5,1,2,3)\n",
    "        },\n",
    "        {'id':None,\n",
    "        'first_name':'puri',\n",
    "        'last_name':'jag',\n",
    "         'email':'p.j@gmail.com',\n",
    "         'phone_numbers':Row(mobile=135,home=579),\n",
    "         'courses':[11,22],\n",
    "         'is_customer':False,\n",
    "         'amount_paid':None,\n",
    "         'customer_from':datetime.date(2012,2,2),\n",
    "        'last_updated_ts':datetime.datetime(2021,4,5,1,2,3)\n",
    "        },\n",
    "        {'id':5,\n",
    "        'first_name':None,\n",
    "        'last_name':None,\n",
    "         'email':None,\n",
    "         'phone_numbers':Row(mobile=135,home=579),\n",
    "         'courses':[11,22],\n",
    "         'is_customer':False,\n",
    "         'amount_paid':None,\n",
    "         'customer_from':datetime.date(2012,2,2),\n",
    "        'last_updated_ts':datetime.datetime(2021,4,5,1,2,3)\n",
    "        }]"
   ]
  },
  {
   "cell_type": "code",
   "execution_count": 4,
   "id": "89216b77-6ef3-42b9-9692-37c56633f3ad",
   "metadata": {},
   "outputs": [
    {
     "name": "stderr",
     "output_type": "stream",
     "text": [
      "                                                                                "
     ]
    },
    {
     "name": "stdout",
     "output_type": "stream",
     "text": [
      "+-----------+--------+-------------+---------------+----------+----+-----------+---------+-------------------+-------------+\n",
      "|amount_paid| courses|customer_from|          email|first_name|  id|is_customer|last_name|    last_updated_ts|phone_numbers|\n",
      "+-----------+--------+-------------+---------------+----------+----+-----------+---------+-------------------+-------------+\n",
      "|     100.55|  [1, 2]|   2012-01-01|  k.c@gmail.com|     kiran|   1|       true|   chinta|2021-02-02 01:02:03|   {123, 456}|\n",
      "|     110.55| [11, 2]|   2012-01-01|  g.m@gmail.com|     goats|   2|      false|   manchi|2021-02-02 01:02:03|   {246, 680}|\n",
      "|       NULL|[11, 22]|   2012-02-02|s.s.r@gmail.com|        ss|   3|      false|      raj|2021-04-05 01:02:03|   {135, 579}|\n",
      "|       NULL|[11, 22]|   2012-02-02|  p.j@gmail.com|      puri|NULL|      false|      jag|2021-04-05 01:02:03|   {135, 579}|\n",
      "|       NULL|[11, 22]|   2012-02-02|           NULL|      NULL|   5|      false|     NULL|2021-04-05 01:02:03|   {135, 579}|\n",
      "+-----------+--------+-------------+---------------+----------+----+-----------+---------+-------------------+-------------+\n",
      "\n"
     ]
    }
   ],
   "source": [
    "u_df = spark.createDataFrame(users)\n",
    "u_df.show()"
   ]
  },
  {
   "cell_type": "markdown",
   "id": "f579bcc2-29dc-4a5a-ba11-fd6ffc5a9656",
   "metadata": {},
   "source": [
    "# overview sort/orderby"
   ]
  },
  {
   "cell_type": "code",
   "execution_count": 5,
   "id": "d5917e25-8f3f-4650-bfde-0a09ab23e264",
   "metadata": {},
   "outputs": [
    {
     "name": "stdout",
     "output_type": "stream",
     "text": [
      "+-----------+--------+-------------+---------------+----------+----+-----------+---------+-------------------+-------------+\n",
      "|amount_paid| courses|customer_from|          email|first_name|  id|is_customer|last_name|    last_updated_ts|phone_numbers|\n",
      "+-----------+--------+-------------+---------------+----------+----+-----------+---------+-------------------+-------------+\n",
      "|       NULL|[11, 22]|   2012-02-02|           NULL|      NULL|   5|      false|     NULL|2021-04-05 01:02:03|   {135, 579}|\n",
      "|     110.55| [11, 2]|   2012-01-01|  g.m@gmail.com|     goats|   2|      false|   manchi|2021-02-02 01:02:03|   {246, 680}|\n",
      "|     100.55|  [1, 2]|   2012-01-01|  k.c@gmail.com|     kiran|   1|       true|   chinta|2021-02-02 01:02:03|   {123, 456}|\n",
      "|       NULL|[11, 22]|   2012-02-02|  p.j@gmail.com|      puri|NULL|      false|      jag|2021-04-05 01:02:03|   {135, 579}|\n",
      "|       NULL|[11, 22]|   2012-02-02|s.s.r@gmail.com|        ss|   3|      false|      raj|2021-04-05 01:02:03|   {135, 579}|\n",
      "+-----------+--------+-------------+---------------+----------+----+-----------+---------+-------------------+-------------+\n",
      "\n"
     ]
    }
   ],
   "source": [
    "u_df.sort('first_name').show()"
   ]
  },
  {
   "cell_type": "code",
   "execution_count": 6,
   "id": "faa089ea-a758-416e-a4e0-1b028cc83122",
   "metadata": {},
   "outputs": [
    {
     "name": "stdout",
     "output_type": "stream",
     "text": [
      "+-----------+--------+-------------+---------------+----------+----+-----------+---------+-------------------+-------------+\n",
      "|amount_paid| courses|customer_from|          email|first_name|  id|is_customer|last_name|    last_updated_ts|phone_numbers|\n",
      "+-----------+--------+-------------+---------------+----------+----+-----------+---------+-------------------+-------------+\n",
      "|       NULL|[11, 22]|   2012-02-02|           NULL|      NULL|   5|      false|     NULL|2021-04-05 01:02:03|   {135, 579}|\n",
      "|     110.55| [11, 2]|   2012-01-01|  g.m@gmail.com|     goats|   2|      false|   manchi|2021-02-02 01:02:03|   {246, 680}|\n",
      "|     100.55|  [1, 2]|   2012-01-01|  k.c@gmail.com|     kiran|   1|       true|   chinta|2021-02-02 01:02:03|   {123, 456}|\n",
      "|       NULL|[11, 22]|   2012-02-02|  p.j@gmail.com|      puri|NULL|      false|      jag|2021-04-05 01:02:03|   {135, 579}|\n",
      "|       NULL|[11, 22]|   2012-02-02|s.s.r@gmail.com|        ss|   3|      false|      raj|2021-04-05 01:02:03|   {135, 579}|\n",
      "+-----------+--------+-------------+---------------+----------+----+-----------+---------+-------------------+-------------+\n",
      "\n"
     ]
    }
   ],
   "source": [
    "u_df.orderBy('first_name').show()"
   ]
  },
  {
   "cell_type": "code",
   "execution_count": 7,
   "id": "33f98e45-78d9-4336-b82d-b5996c12de4b",
   "metadata": {},
   "outputs": [
    {
     "name": "stdout",
     "output_type": "stream",
     "text": [
      "+-----------+--------+-------------+---------------+----------+----+-----------+---------+-------------------+-------------+\n",
      "|amount_paid| courses|customer_from|          email|first_name|  id|is_customer|last_name|    last_updated_ts|phone_numbers|\n",
      "+-----------+--------+-------------+---------------+----------+----+-----------+---------+-------------------+-------------+\n",
      "|       NULL|[11, 22]|   2012-02-02|           NULL|      NULL|   5|      false|     NULL|2021-04-05 01:02:03|   {135, 579}|\n",
      "|     110.55| [11, 2]|   2012-01-01|  g.m@gmail.com|     goats|   2|      false|   manchi|2021-02-02 01:02:03|   {246, 680}|\n",
      "|     100.55|  [1, 2]|   2012-01-01|  k.c@gmail.com|     kiran|   1|       true|   chinta|2021-02-02 01:02:03|   {123, 456}|\n",
      "|       NULL|[11, 22]|   2012-02-02|  p.j@gmail.com|      puri|NULL|      false|      jag|2021-04-05 01:02:03|   {135, 579}|\n",
      "|       NULL|[11, 22]|   2012-02-02|s.s.r@gmail.com|        ss|   3|      false|      raj|2021-04-05 01:02:03|   {135, 579}|\n",
      "+-----------+--------+-------------+---------------+----------+----+-----------+---------+-------------------+-------------+\n",
      "\n"
     ]
    }
   ],
   "source": [
    "from pyspark.sql.functions import col\n",
    "u_df.sort(col('first_name')).show()"
   ]
  },
  {
   "cell_type": "markdown",
   "id": "8d1c8d03-f9db-4f82-9d64-eb98c16b6e54",
   "metadata": {},
   "source": [
    "# Descending order"
   ]
  },
  {
   "cell_type": "code",
   "execution_count": 8,
   "id": "5d88f1b5-f96d-4860-b76c-ce600905848c",
   "metadata": {},
   "outputs": [
    {
     "name": "stdout",
     "output_type": "stream",
     "text": [
      "+-----------+--------+-------------+---------------+----------+----+-----------+---------+-------------------+-------------+\n",
      "|amount_paid| courses|customer_from|          email|first_name|  id|is_customer|last_name|    last_updated_ts|phone_numbers|\n",
      "+-----------+--------+-------------+---------------+----------+----+-----------+---------+-------------------+-------------+\n",
      "|       NULL|[11, 22]|   2012-02-02|s.s.r@gmail.com|        ss|   3|      false|      raj|2021-04-05 01:02:03|   {135, 579}|\n",
      "|       NULL|[11, 22]|   2012-02-02|  p.j@gmail.com|      puri|NULL|      false|      jag|2021-04-05 01:02:03|   {135, 579}|\n",
      "|     100.55|  [1, 2]|   2012-01-01|  k.c@gmail.com|     kiran|   1|       true|   chinta|2021-02-02 01:02:03|   {123, 456}|\n",
      "|     110.55| [11, 2]|   2012-01-01|  g.m@gmail.com|     goats|   2|      false|   manchi|2021-02-02 01:02:03|   {246, 680}|\n",
      "|       NULL|[11, 22]|   2012-02-02|           NULL|      NULL|   5|      false|     NULL|2021-04-05 01:02:03|   {135, 579}|\n",
      "+-----------+--------+-------------+---------------+----------+----+-----------+---------+-------------------+-------------+\n",
      "\n"
     ]
    }
   ],
   "source": [
    "u_df.orderBy('first_name',ascending=False).show()"
   ]
  },
  {
   "cell_type": "code",
   "execution_count": 9,
   "id": "2fff02af-cd6c-4ead-bb91-60e1d83264cb",
   "metadata": {},
   "outputs": [
    {
     "name": "stdout",
     "output_type": "stream",
     "text": [
      "+-----------+--------+-------------+---------------+----------+----+-----------+---------+-------------------+-------------+\n",
      "|amount_paid| courses|customer_from|          email|first_name|  id|is_customer|last_name|    last_updated_ts|phone_numbers|\n",
      "+-----------+--------+-------------+---------------+----------+----+-----------+---------+-------------------+-------------+\n",
      "|       NULL|[11, 22]|   2012-02-02|s.s.r@gmail.com|        ss|   3|      false|      raj|2021-04-05 01:02:03|   {135, 579}|\n",
      "|       NULL|[11, 22]|   2012-02-02|  p.j@gmail.com|      puri|NULL|      false|      jag|2021-04-05 01:02:03|   {135, 579}|\n",
      "|     100.55|  [1, 2]|   2012-01-01|  k.c@gmail.com|     kiran|   1|       true|   chinta|2021-02-02 01:02:03|   {123, 456}|\n",
      "|     110.55| [11, 2]|   2012-01-01|  g.m@gmail.com|     goats|   2|      false|   manchi|2021-02-02 01:02:03|   {246, 680}|\n",
      "|       NULL|[11, 22]|   2012-02-02|           NULL|      NULL|   5|      false|     NULL|2021-04-05 01:02:03|   {135, 579}|\n",
      "+-----------+--------+-------------+---------------+----------+----+-----------+---------+-------------------+-------------+\n",
      "\n"
     ]
    }
   ],
   "source": [
    "u_df.orderBy(col('first_name').desc()).show()"
   ]
  },
  {
   "cell_type": "markdown",
   "id": "dd131330-311a-4227-a332-ee13ca2d035b",
   "metadata": {},
   "source": [
    "# Dealing with Null"
   ]
  },
  {
   "cell_type": "code",
   "execution_count": 10,
   "id": "451b11ab-e873-46a4-beca-af69a2340d53",
   "metadata": {},
   "outputs": [
    {
     "name": "stdout",
     "output_type": "stream",
     "text": [
      "+-----------+--------+-------------+---------------+----------+----+-----------+---------+-------------------+-------------+\n",
      "|amount_paid| courses|customer_from|          email|first_name|  id|is_customer|last_name|    last_updated_ts|phone_numbers|\n",
      "+-----------+--------+-------------+---------------+----------+----+-----------+---------+-------------------+-------------+\n",
      "|       NULL|[11, 22]|   2012-02-02|           NULL|      NULL|   5|      false|     NULL|2021-04-05 01:02:03|   {135, 579}|\n",
      "|     110.55| [11, 2]|   2012-01-01|  g.m@gmail.com|     goats|   2|      false|   manchi|2021-02-02 01:02:03|   {246, 680}|\n",
      "|     100.55|  [1, 2]|   2012-01-01|  k.c@gmail.com|     kiran|   1|       true|   chinta|2021-02-02 01:02:03|   {123, 456}|\n",
      "|       NULL|[11, 22]|   2012-02-02|  p.j@gmail.com|      puri|NULL|      false|      jag|2021-04-05 01:02:03|   {135, 579}|\n",
      "|       NULL|[11, 22]|   2012-02-02|s.s.r@gmail.com|        ss|   3|      false|      raj|2021-04-05 01:02:03|   {135, 579}|\n",
      "+-----------+--------+-------------+---------------+----------+----+-----------+---------+-------------------+-------------+\n",
      "\n"
     ]
    }
   ],
   "source": [
    "u_df.orderBy(col('first_name').asc_nulls_first()).show()"
   ]
  },
  {
   "cell_type": "code",
   "execution_count": 11,
   "id": "5c536c69-c695-47e3-a06d-d9d6ffbbcf44",
   "metadata": {},
   "outputs": [
    {
     "name": "stdout",
     "output_type": "stream",
     "text": [
      "+-----------+--------+-------------+---------------+----------+----+-----------+---------+-------------------+-------------+\n",
      "|amount_paid| courses|customer_from|          email|first_name|  id|is_customer|last_name|    last_updated_ts|phone_numbers|\n",
      "+-----------+--------+-------------+---------------+----------+----+-----------+---------+-------------------+-------------+\n",
      "|     110.55| [11, 2]|   2012-01-01|  g.m@gmail.com|     goats|   2|      false|   manchi|2021-02-02 01:02:03|   {246, 680}|\n",
      "|     100.55|  [1, 2]|   2012-01-01|  k.c@gmail.com|     kiran|   1|       true|   chinta|2021-02-02 01:02:03|   {123, 456}|\n",
      "|       NULL|[11, 22]|   2012-02-02|  p.j@gmail.com|      puri|NULL|      false|      jag|2021-04-05 01:02:03|   {135, 579}|\n",
      "|       NULL|[11, 22]|   2012-02-02|s.s.r@gmail.com|        ss|   3|      false|      raj|2021-04-05 01:02:03|   {135, 579}|\n",
      "|       NULL|[11, 22]|   2012-02-02|           NULL|      NULL|   5|      false|     NULL|2021-04-05 01:02:03|   {135, 579}|\n",
      "+-----------+--------+-------------+---------------+----------+----+-----------+---------+-------------------+-------------+\n",
      "\n"
     ]
    }
   ],
   "source": [
    "u_df.orderBy(col('first_name').asc_nulls_last()).show()"
   ]
  },
  {
   "cell_type": "code",
   "execution_count": 12,
   "id": "1e51548b-4f9a-4625-95d5-b8d286ab2bcf",
   "metadata": {},
   "outputs": [
    {
     "name": "stdout",
     "output_type": "stream",
     "text": [
      "+-----------+--------+-------------+---------------+----------+----+-----------+---------+-------------------+-------------+\n",
      "|amount_paid| courses|customer_from|          email|first_name|  id|is_customer|last_name|    last_updated_ts|phone_numbers|\n",
      "+-----------+--------+-------------+---------------+----------+----+-----------+---------+-------------------+-------------+\n",
      "|       NULL|[11, 22]|   2012-02-02|           NULL|      NULL|   5|      false|     NULL|2021-04-05 01:02:03|   {135, 579}|\n",
      "|       NULL|[11, 22]|   2012-02-02|s.s.r@gmail.com|        ss|   3|      false|      raj|2021-04-05 01:02:03|   {135, 579}|\n",
      "|       NULL|[11, 22]|   2012-02-02|  p.j@gmail.com|      puri|NULL|      false|      jag|2021-04-05 01:02:03|   {135, 579}|\n",
      "|     100.55|  [1, 2]|   2012-01-01|  k.c@gmail.com|     kiran|   1|       true|   chinta|2021-02-02 01:02:03|   {123, 456}|\n",
      "|     110.55| [11, 2]|   2012-01-01|  g.m@gmail.com|     goats|   2|      false|   manchi|2021-02-02 01:02:03|   {246, 680}|\n",
      "+-----------+--------+-------------+---------------+----------+----+-----------+---------+-------------------+-------------+\n",
      "\n"
     ]
    }
   ],
   "source": [
    "u_df.orderBy(col('first_name').desc_nulls_first()).show()"
   ]
  },
  {
   "cell_type": "code",
   "execution_count": 13,
   "id": "b240ab44-cb65-44dd-993a-b22640d9c4c3",
   "metadata": {},
   "outputs": [
    {
     "name": "stdout",
     "output_type": "stream",
     "text": [
      "+-----------+--------+-------------+---------------+----------+----+-----------+---------+-------------------+-------------+\n",
      "|amount_paid| courses|customer_from|          email|first_name|  id|is_customer|last_name|    last_updated_ts|phone_numbers|\n",
      "+-----------+--------+-------------+---------------+----------+----+-----------+---------+-------------------+-------------+\n",
      "|       NULL|[11, 22]|   2012-02-02|s.s.r@gmail.com|        ss|   3|      false|      raj|2021-04-05 01:02:03|   {135, 579}|\n",
      "|       NULL|[11, 22]|   2012-02-02|  p.j@gmail.com|      puri|NULL|      false|      jag|2021-04-05 01:02:03|   {135, 579}|\n",
      "|     100.55|  [1, 2]|   2012-01-01|  k.c@gmail.com|     kiran|   1|       true|   chinta|2021-02-02 01:02:03|   {123, 456}|\n",
      "|     110.55| [11, 2]|   2012-01-01|  g.m@gmail.com|     goats|   2|      false|   manchi|2021-02-02 01:02:03|   {246, 680}|\n",
      "|       NULL|[11, 22]|   2012-02-02|           NULL|      NULL|   5|      false|     NULL|2021-04-05 01:02:03|   {135, 579}|\n",
      "+-----------+--------+-------------+---------------+----------+----+-----------+---------+-------------------+-------------+\n",
      "\n"
     ]
    }
   ],
   "source": [
    "u_df.orderBy(col('first_name').desc_nulls_last()).show()"
   ]
  },
  {
   "cell_type": "markdown",
   "id": "07c3cbdd-eee8-42d2-8f60-be32a82e36a8",
   "metadata": {},
   "source": [
    "# composite sorting"
   ]
  },
  {
   "cell_type": "code",
   "execution_count": 14,
   "id": "3ea33d0a-d02f-4a03-adb7-eb580b6d0be3",
   "metadata": {},
   "outputs": [
    {
     "name": "stdout",
     "output_type": "stream",
     "text": [
      "+-----------+--------+-------------+---------------+----------+----+-----------+---------+-------------------+-------------+\n",
      "|amount_paid| courses|customer_from|          email|first_name|  id|is_customer|last_name|    last_updated_ts|phone_numbers|\n",
      "+-----------+--------+-------------+---------------+----------+----+-----------+---------+-------------------+-------------+\n",
      "|       NULL|[11, 22]|   2012-02-02|           NULL|      NULL|   5|      false|     NULL|2021-04-05 01:02:03|   {135, 579}|\n",
      "|     110.55| [11, 2]|   2012-01-01|  g.m@gmail.com|     goats|   2|      false|   manchi|2021-02-02 01:02:03|   {246, 680}|\n",
      "|     100.55|  [1, 2]|   2012-01-01|  k.c@gmail.com|     kiran|   1|       true|   chinta|2021-02-02 01:02:03|   {123, 456}|\n",
      "|       NULL|[11, 22]|   2012-02-02|  p.j@gmail.com|      puri|NULL|      false|      jag|2021-04-05 01:02:03|   {135, 579}|\n",
      "|       NULL|[11, 22]|   2012-02-02|s.s.r@gmail.com|        ss|   3|      false|      raj|2021-04-05 01:02:03|   {135, 579}|\n",
      "+-----------+--------+-------------+---------------+----------+----+-----------+---------+-------------------+-------------+\n",
      "\n"
     ]
    }
   ],
   "source": [
    "# ascending - ascending\n",
    "u_df.orderBy(col('first_name'),col('last_name')).show()"
   ]
  },
  {
   "cell_type": "code",
   "execution_count": 15,
   "id": "5570eb35-51d4-4cfc-be03-5b56bed82321",
   "metadata": {},
   "outputs": [
    {
     "name": "stdout",
     "output_type": "stream",
     "text": [
      "+-----------+--------+-------------+---------------+----------+----+-----------+---------+-------------------+-------------+\n",
      "|amount_paid| courses|customer_from|          email|first_name|  id|is_customer|last_name|    last_updated_ts|phone_numbers|\n",
      "+-----------+--------+-------------+---------------+----------+----+-----------+---------+-------------------+-------------+\n",
      "|       NULL|[11, 22]|   2012-02-02|           NULL|      NULL|   5|      false|     NULL|2021-04-05 01:02:03|   {135, 579}|\n",
      "|     110.55| [11, 2]|   2012-01-01|  g.m@gmail.com|     goats|   2|      false|   manchi|2021-02-02 01:02:03|   {246, 680}|\n",
      "|     100.55|  [1, 2]|   2012-01-01|  k.c@gmail.com|     kiran|   1|       true|   chinta|2021-02-02 01:02:03|   {123, 456}|\n",
      "|       NULL|[11, 22]|   2012-02-02|  p.j@gmail.com|      puri|NULL|      false|      jag|2021-04-05 01:02:03|   {135, 579}|\n",
      "|       NULL|[11, 22]|   2012-02-02|s.s.r@gmail.com|        ss|   3|      false|      raj|2021-04-05 01:02:03|   {135, 579}|\n",
      "+-----------+--------+-------------+---------------+----------+----+-----------+---------+-------------------+-------------+\n",
      "\n"
     ]
    }
   ],
   "source": [
    "# ascending - ascending\n",
    "u_df.orderBy(col('first_name'),col('last_name').desc()).show()"
   ]
  },
  {
   "cell_type": "code",
   "execution_count": 16,
   "id": "4cfaeaf8-375d-4e54-b0b7-f4f547a7cf64",
   "metadata": {},
   "outputs": [],
   "source": [
    "spark.stop()"
   ]
  },
  {
   "cell_type": "code",
   "execution_count": null,
   "id": "72775a32-4aa0-4af9-aba6-7c821e0c0e2c",
   "metadata": {},
   "outputs": [],
   "source": []
  }
 ],
 "metadata": {
  "kernelspec": {
   "display_name": "Python 3 (ipykernel)",
   "language": "python",
   "name": "python3"
  },
  "language_info": {
   "codemirror_mode": {
    "name": "ipython",
    "version": 3
   },
   "file_extension": ".py",
   "mimetype": "text/x-python",
   "name": "python",
   "nbconvert_exporter": "python",
   "pygments_lexer": "ipython3",
   "version": "3.11.13"
  }
 },
 "nbformat": 4,
 "nbformat_minor": 5
}
