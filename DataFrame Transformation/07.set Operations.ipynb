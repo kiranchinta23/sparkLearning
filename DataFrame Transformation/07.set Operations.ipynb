{
 "cells": [
  {
   "cell_type": "code",
   "execution_count": 1,
   "id": "29bb397d-d8af-42de-9fda-cff76e8d6ebc",
   "metadata": {},
   "outputs": [],
   "source": [
    "import findspark\n",
    "findspark.init()"
   ]
  },
  {
   "cell_type": "code",
   "execution_count": 2,
   "id": "6da377f9-5568-4df8-beb0-2f0aa659568a",
   "metadata": {},
   "outputs": [
    {
     "name": "stderr",
     "output_type": "stream",
     "text": [
      "WARNING: Using incubator modules: jdk.incubator.vector\n",
      "Using Spark's default log4j profile: org/apache/spark/log4j2-defaults.properties\n",
      "25/06/14 18:30:59 WARN Utils: Your hostname, kirans-mac.local, resolves to a loopback address: 127.0.0.1; using 172.18.197.149 instead (on interface en0)\n",
      "25/06/14 18:30:59 WARN Utils: Set SPARK_LOCAL_IP if you need to bind to another address\n",
      "Using Spark's default log4j profile: org/apache/spark/log4j2-defaults.properties\n",
      "Setting default log level to \"WARN\".\n",
      "To adjust logging level use sc.setLogLevel(newLevel). For SparkR, use setLogLevel(newLevel).\n",
      "25/06/14 18:31:00 WARN NativeCodeLoader: Unable to load native-hadoop library for your platform... using builtin-java classes where applicable\n",
      "25/06/14 18:31:00 WARN Utils: Service 'SparkUI' could not bind on port 4040. Attempting port 4041.\n"
     ]
    }
   ],
   "source": [
    "from pyspark.sql import SparkSession\n",
    "spark = SparkSession.builder \\\n",
    "    .appName(\"MyApp\") \\\n",
    "    .master(\"local[*]\") \\\n",
    "    .getOrCreate()"
   ]
  },
  {
   "cell_type": "markdown",
   "id": "c930cb80-0378-427d-bc44-dac0d23f9ead",
   "metadata": {},
   "source": [
    "# create dataframe"
   ]
  },
  {
   "cell_type": "code",
   "execution_count": 28,
   "id": "0415562d-8034-4354-96ca-710e3b806ede",
   "metadata": {},
   "outputs": [],
   "source": [
    "df1 = spark.createDataFrame(data=(('a',1),('b',2),('b',2)),schema=('col1 string,col2 int'))\n",
    "df2 = spark.createDataFrame(data=(('b',2),('c',3)),schema=('col1 string,col2 int'))\n",
    "df3 = spark.createDataFrame(data=((2,'b'),(3,'c')),schema=('col2 int,col1 string'))"
   ]
  },
  {
   "cell_type": "code",
   "execution_count": 29,
   "id": "da4cbcb2-4019-4ed0-93e5-bac9c6ac4589",
   "metadata": {},
   "outputs": [
    {
     "name": "stdout",
     "output_type": "stream",
     "text": [
      "+----+----+\n",
      "|col1|col2|\n",
      "+----+----+\n",
      "|   a|   1|\n",
      "|   b|   2|\n",
      "|   b|   2|\n",
      "+----+----+\n",
      "\n"
     ]
    }
   ],
   "source": [
    "df1.show()"
   ]
  },
  {
   "cell_type": "code",
   "execution_count": 30,
   "id": "2d89f19e-617b-460a-aadd-b0dca461138f",
   "metadata": {},
   "outputs": [
    {
     "name": "stdout",
     "output_type": "stream",
     "text": [
      "+----+----+\n",
      "|col1|col2|\n",
      "+----+----+\n",
      "|   b|   2|\n",
      "|   c|   3|\n",
      "+----+----+\n",
      "\n"
     ]
    }
   ],
   "source": [
    "df2.show()"
   ]
  },
  {
   "cell_type": "code",
   "execution_count": 31,
   "id": "f5e5899d-1d1e-42a9-86c8-4c6edf0e722a",
   "metadata": {},
   "outputs": [
    {
     "name": "stdout",
     "output_type": "stream",
     "text": [
      "+----+----+\n",
      "|col2|col1|\n",
      "+----+----+\n",
      "|   2|   b|\n",
      "|   3|   c|\n",
      "+----+----+\n",
      "\n"
     ]
    }
   ],
   "source": [
    "df3.show()"
   ]
  },
  {
   "cell_type": "markdown",
   "id": "87c7dff6-362f-47d5-b2ac-b35bc6e1e289",
   "metadata": {},
   "source": [
    "# union"
   ]
  },
  {
   "cell_type": "code",
   "execution_count": 32,
   "id": "f4782d3c-d828-4eb4-a62c-5d1e62af90fb",
   "metadata": {},
   "outputs": [
    {
     "name": "stdout",
     "output_type": "stream",
     "text": [
      "+----+----+\n",
      "|col1|col2|\n",
      "+----+----+\n",
      "|   a|   1|\n",
      "|   b|   2|\n",
      "|   b|   2|\n",
      "|   b|   2|\n",
      "|   c|   3|\n",
      "+----+----+\n",
      "\n"
     ]
    }
   ],
   "source": [
    "df1.union(df2).show()"
   ]
  },
  {
   "cell_type": "markdown",
   "id": "9dce5fa5-b6dd-428f-b20d-515619df6725",
   "metadata": {},
   "source": [
    "# unionall"
   ]
  },
  {
   "cell_type": "code",
   "execution_count": 33,
   "id": "1b12745d-3322-4a3f-9eed-611a0ff50b5a",
   "metadata": {},
   "outputs": [
    {
     "name": "stdout",
     "output_type": "stream",
     "text": [
      "+----+----+\n",
      "|col1|col2|\n",
      "+----+----+\n",
      "|   a|   1|\n",
      "|   b|   2|\n",
      "|   b|   2|\n",
      "|   b|   2|\n",
      "|   c|   3|\n",
      "+----+----+\n",
      "\n"
     ]
    }
   ],
   "source": [
    "df1.unionAll(df2).show()"
   ]
  },
  {
   "cell_type": "markdown",
   "id": "e0803764-4a7f-454b-bcc8-6fc62e5aebe2",
   "metadata": {},
   "source": [
    "---> union and unionAll is same, unionall is depricated after spark 2.x"
   ]
  },
  {
   "cell_type": "markdown",
   "id": "d0166217-f9e6-4527-ba8a-59937f547beb",
   "metadata": {},
   "source": [
    "# unionByName"
   ]
  },
  {
   "cell_type": "code",
   "execution_count": null,
   "id": "bea06483-3257-48eb-8e31-59b6a3138d06",
   "metadata": {},
   "outputs": [],
   "source": [
    "df1.union(df3).show() # --> it will throw error, since the column order is not correct"
   ]
  },
  {
   "cell_type": "code",
   "execution_count": 35,
   "id": "c59a7d2a-d69a-4b06-8cfb-b183cb25b6d0",
   "metadata": {},
   "outputs": [
    {
     "name": "stdout",
     "output_type": "stream",
     "text": [
      "+----+----+\n",
      "|col1|col2|\n",
      "+----+----+\n",
      "|   a|   1|\n",
      "|   b|   2|\n",
      "|   b|   2|\n",
      "|   b|   2|\n",
      "|   c|   3|\n",
      "+----+----+\n",
      "\n"
     ]
    }
   ],
   "source": [
    "df1.unionByName(df3).show()"
   ]
  },
  {
   "cell_type": "markdown",
   "id": "f903c2d1-a16d-4e5f-806f-6050e59a678d",
   "metadata": {},
   "source": [
    "# Intersect"
   ]
  },
  {
   "cell_type": "code",
   "execution_count": 36,
   "id": "2d513684-a13c-4004-b025-ae9b957ba952",
   "metadata": {},
   "outputs": [
    {
     "name": "stdout",
     "output_type": "stream",
     "text": [
      "+----+----+\n",
      "|col1|col2|\n",
      "+----+----+\n",
      "|   b|   2|\n",
      "+----+----+\n",
      "\n"
     ]
    }
   ],
   "source": [
    "df1.intersect(df2).show()"
   ]
  },
  {
   "cell_type": "markdown",
   "id": "d7fd9904-a40c-46f9-a65b-72e1f2de914e",
   "metadata": {},
   "source": [
    "# intersect all"
   ]
  },
  {
   "cell_type": "code",
   "execution_count": 37,
   "id": "9e06ffdf-9f58-4c23-be51-fdddff8fc857",
   "metadata": {},
   "outputs": [
    {
     "name": "stdout",
     "output_type": "stream",
     "text": [
      "+----+----+\n",
      "|col1|col2|\n",
      "+----+----+\n",
      "|   b|   2|\n",
      "+----+----+\n",
      "\n"
     ]
    }
   ],
   "source": [
    "df1.intersectAll(df2).show()"
   ]
  },
  {
   "cell_type": "code",
   "execution_count": 38,
   "id": "4887153e-f365-4757-ab6d-f45dc705d2ab",
   "metadata": {},
   "outputs": [
    {
     "name": "stdout",
     "output_type": "stream",
     "text": [
      "+----+----+\n",
      "|col1|col2|\n",
      "+----+----+\n",
      "|   a|   1|\n",
      "+----+----+\n",
      "\n",
      "+----+----+\n",
      "|col1|col2|\n",
      "+----+----+\n",
      "|   a|   1|\n",
      "|   a|   1|\n",
      "+----+----+\n",
      "\n"
     ]
    }
   ],
   "source": [
    "df1 = spark.createDataFrame(data=(('a',1),('a',1),('b',2)),schema=('col1 string,col2 int'))\n",
    "df2 = spark.createDataFrame(data=(('a',1),('a',1),('c',2)),schema=('col1 string,col2 int'))\n",
    "df1.intersect(df2).show()\n",
    "df1.intersectAll(df2).show()"
   ]
  },
  {
   "cell_type": "markdown",
   "id": "8217f5ac-c144-4fe9-9375-f355625877a8",
   "metadata": {},
   "source": [
    "# exceptAll"
   ]
  },
  {
   "cell_type": "code",
   "execution_count": 43,
   "id": "d2dc5503-99da-4145-bcfc-5cc12f990980",
   "metadata": {},
   "outputs": [
    {
     "name": "stdout",
     "output_type": "stream",
     "text": [
      "+----+----+\n",
      "|col1|col2|\n",
      "+----+----+\n",
      "|   b|   2|\n",
      "+----+----+\n",
      "\n"
     ]
    }
   ],
   "source": [
    "df1.exceptAll(df2).show()"
   ]
  },
  {
   "cell_type": "code",
   "execution_count": 44,
   "id": "c9f7d76d-26ab-4ef8-b7f8-e7855f49d4e4",
   "metadata": {},
   "outputs": [],
   "source": [
    "spark.stop()"
   ]
  },
  {
   "cell_type": "code",
   "execution_count": null,
   "id": "c05529c9-b6cb-4cc2-9875-c46395977ba1",
   "metadata": {},
   "outputs": [],
   "source": []
  }
 ],
 "metadata": {
  "kernelspec": {
   "display_name": "Python 3 (ipykernel)",
   "language": "python",
   "name": "python3"
  },
  "language_info": {
   "codemirror_mode": {
    "name": "ipython",
    "version": 3
   },
   "file_extension": ".py",
   "mimetype": "text/x-python",
   "name": "python",
   "nbconvert_exporter": "python",
   "pygments_lexer": "ipython3",
   "version": "3.11.13"
  }
 },
 "nbformat": 4,
 "nbformat_minor": 5
}
