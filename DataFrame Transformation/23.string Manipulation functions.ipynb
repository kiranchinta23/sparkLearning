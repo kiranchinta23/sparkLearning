{
 "cells": [
  {
   "cell_type": "code",
   "execution_count": 27,
   "id": "bd6c7e97-48c4-492b-9d65-3c89083789ea",
   "metadata": {},
   "outputs": [],
   "source": [
    "import findspark\n",
    "findspark.init()"
   ]
  },
  {
   "cell_type": "code",
   "execution_count": 28,
   "id": "239585b5-2ca7-439b-af53-3f899c8c096d",
   "metadata": {},
   "outputs": [],
   "source": [
    "from pyspark.sql import SparkSession\n",
    "spark = SparkSession.builder \\\n",
    "    .appName(\"MyApp\") \\\n",
    "    .master(\"local[*]\") \\\n",
    "    .config(\"spark.jars.packages\", \"org.apache.spark:spark-avro_2.12:3.4.0\") \\\n",
    "    .getOrCreate()"
   ]
  },
  {
   "cell_type": "markdown",
   "id": "318d7561-b45d-4c82-991e-e2242298b37e",
   "metadata": {},
   "source": [
    "# create dataframe"
   ]
  },
  {
   "cell_type": "code",
   "execution_count": 45,
   "id": "4df83484-f6b4-442d-9c2b-504168584109",
   "metadata": {},
   "outputs": [
    {
     "name": "stdout",
     "output_type": "stream",
     "text": [
      "+---+----------+---------+--------+-------+----------------+-----------+\n",
      "|eid|first_name|last_name|  salary|country|    phone_number|        ssn|\n",
      "+---+----------+---------+--------+-------+----------------+-----------+\n",
      "|  1|    kiran |   chinta|150000.0|    usa| +1 232 343 7889|000 00 0000|\n",
      "|  2|    goats |    machi|100000.0|    ind|+91 111 222 7889|123 45 6789|\n",
      "+---+----------+---------+--------+-------+----------------+-----------+\n",
      "\n"
     ]
    }
   ],
   "source": [
    "data = ((1,'kiran ','chinta',150000.00,'usa','+1 232 343 7889','000 00 0000'),\n",
    "    (2,'goats ',' machi',100000.00,'ind','+91 111 222 7889','123 45 6789')\n",
    "       )\n",
    "schema=\"\"\"eid INT,first_name STRING,last_name STRING,salary FLOAT,country STRING,phone_number STRING,ssn STRING\"\"\"\n",
    "df = spark.createDataFrame(data=data,schema=schema)\n",
    "df.show()"
   ]
  },
  {
   "cell_type": "markdown",
   "id": "d621f18f-b127-479f-89fd-64b1bc6c05f0",
   "metadata": {},
   "source": [
    "# String manipulation functions\n",
    "- case converstion - <i style=\"color:blue\"> lower,upper,initcap\n",
    "- getting lenght - <i style=\"color:blue\"> lenght \n",
    "- extracting substring - <i style=\"color:blue\"> substring, split\n",
    "- trimming - <i style=\"color:blue\"> trim, ltrim, rtrim\n",
    "- padding - <i style=\"color:blue\"> pad, rpad\n",
    "- concatenation - <i style=\"color:blue\"> concat, concat_ws"
   ]
  },
  {
   "cell_type": "markdown",
   "id": "5aee1c97-f29c-4c48-9c0d-6c15aabd484f",
   "metadata": {},
   "source": [
    "### case conversions"
   ]
  },
  {
   "cell_type": "code",
   "execution_count": 46,
   "id": "b7bb6e3e-6bac-4afb-aa45-6ba99d9f1d03",
   "metadata": {},
   "outputs": [
    {
     "name": "stdout",
     "output_type": "stream",
     "text": [
      "+---+----------+---------+--------+-------+----------------+-----------+----------------+\n",
      "|eid|first_name|last_name|  salary|country|    phone_number|        ssn|lower_first_name|\n",
      "+---+----------+---------+--------+-------+----------------+-----------+----------------+\n",
      "|  1|    kiran |   chinta|150000.0|    usa| +1 232 343 7889|000 00 0000|          kiran |\n",
      "|  2|    goats |    machi|100000.0|    ind|+91 111 222 7889|123 45 6789|          goats |\n",
      "+---+----------+---------+--------+-------+----------------+-----------+----------------+\n",
      "\n",
      "+---+----------+---------+--------+-------+----------------+-----------+----------------+\n",
      "|eid|first_name|last_name|  salary|country|    phone_number|        ssn|upper_first_name|\n",
      "+---+----------+---------+--------+-------+----------------+-----------+----------------+\n",
      "|  1|    kiran |   chinta|150000.0|    usa| +1 232 343 7889|000 00 0000|          KIRAN |\n",
      "|  2|    goats |    machi|100000.0|    ind|+91 111 222 7889|123 45 6789|          GOATS |\n",
      "+---+----------+---------+--------+-------+----------------+-----------+----------------+\n",
      "\n",
      "+---+----------+---------+--------+-------+----------------+-----------+---------------+\n",
      "|eid|first_name|last_name|  salary|country|    phone_number|        ssn|init_first_name|\n",
      "+---+----------+---------+--------+-------+----------------+-----------+---------------+\n",
      "|  1|    kiran |   chinta|150000.0|    usa| +1 232 343 7889|000 00 0000|         Kiran |\n",
      "|  2|    goats |    machi|100000.0|    ind|+91 111 222 7889|123 45 6789|         Goats |\n",
      "+---+----------+---------+--------+-------+----------------+-----------+---------------+\n",
      "\n"
     ]
    }
   ],
   "source": [
    "from pyspark.sql.functions import lower,upper, col, initcap\n",
    "df.withColumn('lower_first_name',lower('first_name')).show(2)\n",
    "\n",
    "df.withColumn('upper_first_name',upper('first_name')).show(2)\n",
    "\n",
    "df.withColumn('init_first_name',initcap('first_name')).show(2)"
   ]
  },
  {
   "cell_type": "markdown",
   "id": "e0334085-2a88-4772-a829-c29a01907290",
   "metadata": {},
   "source": [
    "# length"
   ]
  },
  {
   "cell_type": "code",
   "execution_count": 47,
   "id": "3895643c-5d8e-4d48-8db0-06ec364b58b6",
   "metadata": {},
   "outputs": [
    {
     "name": "stdout",
     "output_type": "stream",
     "text": [
      "+---+----------+---------+--------+-------+----------------+-----------+-----------+\n",
      "|eid|first_name|last_name|  salary|country|    phone_number|        ssn|name_length|\n",
      "+---+----------+---------+--------+-------+----------------+-----------+-----------+\n",
      "|  1|    kiran |   chinta|150000.0|    usa| +1 232 343 7889|000 00 0000|          6|\n",
      "|  2|    goats |    machi|100000.0|    ind|+91 111 222 7889|123 45 6789|          6|\n",
      "+---+----------+---------+--------+-------+----------------+-----------+-----------+\n",
      "\n"
     ]
    }
   ],
   "source": [
    "from pyspark.sql.functions import length, col\n",
    "\n",
    "df.withColumn('name_length',length('first_name')).show(2)"
   ]
  },
  {
   "cell_type": "markdown",
   "id": "70f9915e-722e-4bc3-9661-e37a89ec1ca2",
   "metadata": {},
   "source": [
    "# substring"
   ]
  },
  {
   "cell_type": "code",
   "execution_count": 48,
   "id": "e6dca2f8-eb5f-4aa8-b524-20ac1ffd0adb",
   "metadata": {},
   "outputs": [
    {
     "name": "stdout",
     "output_type": "stream",
     "text": [
      "+---+----------+---------+--------+-------+----------------+-----------+---+\n",
      "|eid|first_name|last_name|  salary|country|    phone_number|        ssn|sub|\n",
      "+---+----------+---------+--------+-------+----------------+-----------+---+\n",
      "|  1|    kiran |   chinta|150000.0|    usa| +1 232 343 7889|000 00 0000|kir|\n",
      "|  2|    goats |    machi|100000.0|    ind|+91 111 222 7889|123 45 6789|goa|\n",
      "+---+----------+---------+--------+-------+----------------+-----------+---+\n",
      "\n"
     ]
    }
   ],
   "source": [
    "# substring -> ('col','start position','lenght')\n",
    "from pyspark.sql.functions import substring, col\n",
    "\n",
    "df.withColumn('sub',substring('first_name',0,3)).show(2)"
   ]
  },
  {
   "cell_type": "code",
   "execution_count": 49,
   "id": "98fa993a-0575-472c-93bf-972b8c025592",
   "metadata": {},
   "outputs": [
    {
     "name": "stdout",
     "output_type": "stream",
     "text": [
      "+---+----------+---------+--------+-------+----------------+-----------+----------+\n",
      "|eid|first_name|last_name|  salary|country|    phone_number|        ssn|last_4_ssn|\n",
      "+---+----------+---------+--------+-------+----------------+-----------+----------+\n",
      "|  1|    kiran |   chinta|150000.0|    usa| +1 232 343 7889|000 00 0000|      0000|\n",
      "|  2|    goats |    machi|100000.0|    ind|+91 111 222 7889|123 45 6789|      6789|\n",
      "+---+----------+---------+--------+-------+----------------+-----------+----------+\n",
      "\n"
     ]
    }
   ],
   "source": [
    "df.withColumn('last_4_ssn',substring('ssn',7,5)).show(2)"
   ]
  },
  {
   "cell_type": "markdown",
   "id": "81435149-fc3a-4bdf-a91f-4343c6dffd6f",
   "metadata": {},
   "source": [
    "# split"
   ]
  },
  {
   "cell_type": "code",
   "execution_count": 50,
   "id": "9c1f7b7d-0d5c-4207-a4d9-afb7a99572b2",
   "metadata": {},
   "outputs": [
    {
     "name": "stdout",
     "output_type": "stream",
     "text": [
      "+---+----------+---------+--------+-------+----------------+-----------+---------+\n",
      "|eid|first_name|last_name|  salary|country|    phone_number|        ssn|area_code|\n",
      "+---+----------+---------+--------+-------+----------------+-----------+---------+\n",
      "|  1|    kiran |   chinta|150000.0|    usa| +1 232 343 7889|000 00 0000|       +1|\n",
      "|  2|    goats |    machi|100000.0|    ind|+91 111 222 7889|123 45 6789|      +91|\n",
      "+---+----------+---------+--------+-------+----------------+-----------+---------+\n",
      "\n"
     ]
    }
   ],
   "source": [
    "# split -> ('col','delimiter','limit <optional>')\n",
    "from pyspark.sql.functions import split, col\n",
    "\n",
    "df.withColumn('area_code',split('phone_number',' ')[0]).show(2)"
   ]
  },
  {
   "cell_type": "markdown",
   "id": "c0cfc23d-f56b-4693-a4b8-befaa576a987",
   "metadata": {},
   "source": [
    "# trimming\n",
    "- trim : removes spaces from both ends\n",
    "- ltrim : remove spaces from left end\n",
    "- rtrim : remove spaces from right end"
   ]
  },
  {
   "cell_type": "code",
   "execution_count": 52,
   "id": "da48e1f2-fa60-4495-abc1-6bed81fb7ce2",
   "metadata": {},
   "outputs": [
    {
     "name": "stdout",
     "output_type": "stream",
     "text": [
      "+---+----------+---------+--------+-------+----------------+-----------+------------+\n",
      "|eid|first_name|last_name|  salary|country|    phone_number|        ssn|new_trim_col|\n",
      "+---+----------+---------+--------+-------+----------------+-----------+------------+\n",
      "|  1|    kiran |   chinta|150000.0|    usa| +1 232 343 7889|000 00 0000|       kiran|\n",
      "|  2|    goats |    machi|100000.0|    ind|+91 111 222 7889|123 45 6789|       goats|\n",
      "+---+----------+---------+--------+-------+----------------+-----------+------------+\n",
      "\n"
     ]
    }
   ],
   "source": [
    "from pyspark.sql.functions import trim\n",
    "df.withColumn('new_trim_col',trim('first_name')).show(2)"
   ]
  },
  {
   "cell_type": "code",
   "execution_count": 55,
   "id": "ffa7f024-dfe8-408c-90c4-d5c115b6f146",
   "metadata": {},
   "outputs": [
    {
     "name": "stdout",
     "output_type": "stream",
     "text": [
      "+---+----------+---------+--------+-------+----------------+-----------+-------------+\n",
      "|eid|first_name|last_name|  salary|country|    phone_number|        ssn|new_ltrim_col|\n",
      "+---+----------+---------+--------+-------+----------------+-----------+-------------+\n",
      "|  1|    kiran |   chinta|150000.0|    usa| +1 232 343 7889|000 00 0000|       chinta|\n",
      "|  2|    goats |    machi|100000.0|    ind|+91 111 222 7889|123 45 6789|        machi|\n",
      "+---+----------+---------+--------+-------+----------------+-----------+-------------+\n",
      "\n"
     ]
    }
   ],
   "source": [
    "from pyspark.sql.functions import ltrim\n",
    "df.withColumn('new_ltrim_col',ltrim('last_name')).show(2)"
   ]
  },
  {
   "cell_type": "code",
   "execution_count": 56,
   "id": "4c441fb9-f019-4e75-8f4a-166716f8bd0c",
   "metadata": {},
   "outputs": [
    {
     "name": "stdout",
     "output_type": "stream",
     "text": [
      "+---+----------+---------+--------+-------+----------------+-----------+-------------+\n",
      "|eid|first_name|last_name|  salary|country|    phone_number|        ssn|new_rtrim_col|\n",
      "+---+----------+---------+--------+-------+----------------+-----------+-------------+\n",
      "|  1|    kiran |   chinta|150000.0|    usa| +1 232 343 7889|000 00 0000|        kiran|\n",
      "|  2|    goats |    machi|100000.0|    ind|+91 111 222 7889|123 45 6789|        goats|\n",
      "+---+----------+---------+--------+-------+----------------+-----------+-------------+\n",
      "\n"
     ]
    }
   ],
   "source": [
    "from pyspark.sql.functions import rtrim\n",
    "df.withColumn('new_rtrim_col',rtrim('first_name')).show(2)"
   ]
  },
  {
   "cell_type": "markdown",
   "id": "0845fa49-4ff0-45c5-90aa-d2dbc4840e11",
   "metadata": {},
   "source": [
    "# padding\n",
    "- to make sure column have same lenght"
   ]
  },
  {
   "cell_type": "code",
   "execution_count": 58,
   "id": "8caa6f26-56a0-4e85-9ca4-3c02c44903cf",
   "metadata": {},
   "outputs": [
    {
     "name": "stdout",
     "output_type": "stream",
     "text": [
      "+---+----------+---------+--------+-------+----------------+-----------+----------+\n",
      "|eid|first_name|last_name|  salary|country|    phone_number|        ssn|  lpad_col|\n",
      "+---+----------+---------+--------+-------+----------------+-----------+----------+\n",
      "|  1|    kiran |   chinta|150000.0|    usa| +1 232 343 7889|000 00 0000|****chinta|\n",
      "|  2|    goats |    machi|100000.0|    ind|+91 111 222 7889|123 45 6789|**** machi|\n",
      "+---+----------+---------+--------+-------+----------------+-----------+----------+\n",
      "\n"
     ]
    }
   ],
   "source": [
    "from pyspark.sql.functions import lpad\n",
    "\n",
    "df.withColumn('lpad_col',lpad('last_name',10,'*')).show()"
   ]
  },
  {
   "cell_type": "code",
   "execution_count": 59,
   "id": "8836131e-5b0e-4d0a-80c2-67349ba4dcdc",
   "metadata": {},
   "outputs": [
    {
     "name": "stdout",
     "output_type": "stream",
     "text": [
      "+---+----------+---------+--------+-------+----------------+-----------+----------+\n",
      "|eid|first_name|last_name|  salary|country|    phone_number|        ssn|  rpad_col|\n",
      "+---+----------+---------+--------+-------+----------------+-----------+----------+\n",
      "|  1|    kiran |   chinta|150000.0|    usa| +1 232 343 7889|000 00 0000|chinta****|\n",
      "|  2|    goats |    machi|100000.0|    ind|+91 111 222 7889|123 45 6789| machi****|\n",
      "+---+----------+---------+--------+-------+----------------+-----------+----------+\n",
      "\n"
     ]
    }
   ],
   "source": [
    "from pyspark.sql.functions import rpad\n",
    "\n",
    "df.withColumn('rpad_col',rpad('last_name',10,'*')).show()"
   ]
  },
  {
   "cell_type": "markdown",
   "id": "86189dfe-9c90-4047-8865-d60f975d7f51",
   "metadata": {},
   "source": [
    "# concatenation"
   ]
  },
  {
   "cell_type": "code",
   "execution_count": 60,
   "id": "7138af46-1f98-4569-b573-4a2766516edf",
   "metadata": {},
   "outputs": [
    {
     "name": "stdout",
     "output_type": "stream",
     "text": [
      "+---+----------+---------+--------+-------+----------------+-----------+-------------+\n",
      "|eid|first_name|last_name|  salary|country|    phone_number|        ssn|    full_name|\n",
      "+---+----------+---------+--------+-------+----------------+-----------+-------------+\n",
      "|  1|    kiran |   chinta|150000.0|    usa| +1 232 343 7889|000 00 0000|kiran -chinta|\n",
      "|  2|    goats |    machi|100000.0|    ind|+91 111 222 7889|123 45 6789|goats - machi|\n",
      "+---+----------+---------+--------+-------+----------------+-----------+-------------+\n",
      "\n"
     ]
    }
   ],
   "source": [
    "from pyspark.sql.functions import concat, lit\n",
    "\n",
    "df.withColumn('full_name',concat('first_name',lit('-'),'last_name')).show()"
   ]
  },
  {
   "cell_type": "code",
   "execution_count": 62,
   "id": "c5ed02ab-97bb-47e5-8dbc-f486dabb43dc",
   "metadata": {},
   "outputs": [
    {
     "name": "stdout",
     "output_type": "stream",
     "text": [
      "+---+----------+---------+--------+-------+----------------+-----------+-------------+\n",
      "|eid|first_name|last_name|  salary|country|    phone_number|        ssn|    full_name|\n",
      "+---+----------+---------+--------+-------+----------------+-----------+-------------+\n",
      "|  1|    kiran |   chinta|150000.0|    usa| +1 232 343 7889|000 00 0000|kiran _chinta|\n",
      "|  2|    goats |    machi|100000.0|    ind|+91 111 222 7889|123 45 6789|goats _ machi|\n",
      "+---+----------+---------+--------+-------+----------------+-----------+-------------+\n",
      "\n"
     ]
    }
   ],
   "source": [
    "from pyspark.sql.functions import concat_ws\n",
    "\n",
    "df.withColumn('full_name',concat_ws('_','first_name','last_name')).show()"
   ]
  },
  {
   "cell_type": "code",
   "execution_count": 63,
   "id": "e6e4a396-81da-482e-890d-ea797b5cede9",
   "metadata": {},
   "outputs": [],
   "source": [
    "spark.stop()"
   ]
  },
  {
   "cell_type": "code",
   "execution_count": null,
   "id": "6e01f5bb-0d14-4fb7-85f0-a28bf6458fad",
   "metadata": {},
   "outputs": [],
   "source": []
  }
 ],
 "metadata": {
  "kernelspec": {
   "display_name": "Python 3 (ipykernel)",
   "language": "python",
   "name": "python3"
  },
  "language_info": {
   "codemirror_mode": {
    "name": "ipython",
    "version": 3
   },
   "file_extension": ".py",
   "mimetype": "text/x-python",
   "name": "python",
   "nbconvert_exporter": "python",
   "pygments_lexer": "ipython3",
   "version": "3.11.13"
  }
 },
 "nbformat": 4,
 "nbformat_minor": 5
}
