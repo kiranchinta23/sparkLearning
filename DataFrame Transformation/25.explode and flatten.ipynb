{
 "cells": [
  {
   "cell_type": "code",
   "execution_count": 1,
   "id": "2f5fba39-78bb-4635-93db-4f23319f388a",
   "metadata": {},
   "outputs": [],
   "source": [
    "import findspark\n",
    "findspark.init()"
   ]
  },
  {
   "cell_type": "code",
   "execution_count": 3,
   "id": "d3ebdd0a-a5c3-4da7-a015-32c1333cbf1d",
   "metadata": {},
   "outputs": [],
   "source": [
    "from pyspark.sql import SparkSession\n",
    "spark = SparkSession.builder \\\n",
    "    .appName(\"MyApp\") \\\n",
    "    .master(\"local[*]\") \\\n",
    "    .config(\"spark.jars.packages\", \"org.apache.spark:spark-avro_2.12:3.4.0\") \\\n",
    "    .getOrCreate()"
   ]
  },
  {
   "cell_type": "markdown",
   "id": "87a28e1c-231c-4e59-a032-29eb2f3feba3",
   "metadata": {},
   "source": [
    "# create dataframe"
   ]
  },
  {
   "cell_type": "code",
   "execution_count": 4,
   "id": "95e62fdb-0eab-4ff9-a5c3-e2b4ed2a5a9c",
   "metadata": {},
   "outputs": [],
   "source": [
    "data =(('Alicia','Joseph',['Java','Scala','Spark'],{'hair':'black','eye':'brown'}), \\\n",
    "('Robert','Gee',['Spark','Java'],{'hair':'brown','eye':None}), \\\n",
    "('Mike','Bianca',['CSharp',''],{'hair':'red','eye':''}), \\\n",
    "('John','Kumar',None,None), \\\n",
    "('Jeff','L',['1','2'],{}))\n",
    "schema = ('FirstName','LastName','Languages','properties')\n",
    "emp1 = spark.createDataFrame(data=data,schema=schema)"
   ]
  },
  {
   "cell_type": "code",
   "execution_count": 5,
   "id": "0f2054cf-f5a0-418a-ad74-e02721299f69",
   "metadata": {},
   "outputs": [
    {
     "name": "stdout",
     "output_type": "stream",
     "text": [
      "+---------+--------+--------------------+--------------------+\n",
      "|FirstName|LastName|           Languages|          properties|\n",
      "+---------+--------+--------------------+--------------------+\n",
      "|   Alicia|  Joseph|[Java, Scala, Spark]|{eye -> brown, ha...|\n",
      "|   Robert|     Gee|       [Spark, Java]|{eye -> NULL, hai...|\n",
      "|     Mike|  Bianca|          [CSharp, ]|{eye -> , hair ->...|\n",
      "|     John|   Kumar|                NULL|                NULL|\n",
      "|     Jeff|       L|              [1, 2]|                  {}|\n",
      "+---------+--------+--------------------+--------------------+\n",
      "\n"
     ]
    }
   ],
   "source": [
    "emp1.show()"
   ]
  },
  {
   "cell_type": "markdown",
   "id": "8222e7a3-10a0-4117-8f6f-76863d995ae8",
   "metadata": {},
   "source": [
    "# explode"
   ]
  },
  {
   "cell_type": "code",
   "execution_count": 8,
   "id": "94773e58-707b-4b12-8d7e-80ec5509a4bf",
   "metadata": {},
   "outputs": [
    {
     "name": "stdout",
     "output_type": "stream",
     "text": [
      "+---------+--------+--------------------+--------------------+-----------------+\n",
      "|FirstName|LastName|           Languages|          properties|exploded lanagues|\n",
      "+---------+--------+--------------------+--------------------+-----------------+\n",
      "|   Alicia|  Joseph|[Java, Scala, Spark]|{eye -> brown, ha...|             Java|\n",
      "|   Alicia|  Joseph|[Java, Scala, Spark]|{eye -> brown, ha...|            Scala|\n",
      "|   Alicia|  Joseph|[Java, Scala, Spark]|{eye -> brown, ha...|            Spark|\n",
      "|   Robert|     Gee|       [Spark, Java]|{eye -> NULL, hai...|            Spark|\n",
      "|   Robert|     Gee|       [Spark, Java]|{eye -> NULL, hai...|             Java|\n",
      "|     Mike|  Bianca|          [CSharp, ]|{eye -> , hair ->...|           CSharp|\n",
      "|     Mike|  Bianca|          [CSharp, ]|{eye -> , hair ->...|                 |\n",
      "|     Jeff|       L|              [1, 2]|                  {}|                1|\n",
      "|     Jeff|       L|              [1, 2]|                  {}|                2|\n",
      "+---------+--------+--------------------+--------------------+-----------------+\n",
      "\n"
     ]
    }
   ],
   "source": [
    "from pyspark.sql.functions import explode\n",
    "\n",
    "emp1\\\n",
    "    .withColumn('exploded lanagues',explode('languages'))\\\n",
    "    .show()"
   ]
  },
  {
   "cell_type": "code",
   "execution_count": 11,
   "id": "fd70afce-b554-4bd2-8c98-d94de0d6ea1a",
   "metadata": {},
   "outputs": [
    {
     "name": "stdout",
     "output_type": "stream",
     "text": [
      "+---------+--------+--------------------+--------------------+----+-----+\n",
      "|FirstName|LastName|           Languages|          properties| key|value|\n",
      "+---------+--------+--------------------+--------------------+----+-----+\n",
      "|   Alicia|  Joseph|[Java, Scala, Spark]|{eye -> brown, ha...| eye|brown|\n",
      "|   Alicia|  Joseph|[Java, Scala, Spark]|{eye -> brown, ha...|hair|black|\n",
      "|   Robert|     Gee|       [Spark, Java]|{eye -> NULL, hai...| eye| NULL|\n",
      "|   Robert|     Gee|       [Spark, Java]|{eye -> NULL, hai...|hair|brown|\n",
      "|     Mike|  Bianca|          [CSharp, ]|{eye -> , hair ->...| eye|     |\n",
      "|     Mike|  Bianca|          [CSharp, ]|{eye -> , hair ->...|hair|  red|\n",
      "+---------+--------+--------------------+--------------------+----+-----+\n",
      "\n"
     ]
    }
   ],
   "source": [
    "emp1.select('*',explode('properties')).show()"
   ]
  },
  {
   "cell_type": "markdown",
   "id": "330970a9-774c-4688-b639-4aca2b0fb09e",
   "metadata": {},
   "source": [
    "# flatten"
   ]
  },
  {
   "cell_type": "code",
   "execution_count": 16,
   "id": "6c7e035c-5eb8-475e-af20-c906190efb69",
   "metadata": {},
   "outputs": [
    {
     "name": "stdout",
     "output_type": "stream",
     "text": [
      "+-------+--------------------+\n",
      "|empName|        ArrayofArray|\n",
      "+-------+--------------------+\n",
      "| Alicia|[[Java], [Scala],...|\n",
      "| Robert|[[NULL], [Java], ...|\n",
      "+-------+--------------------+\n",
      "\n"
     ]
    }
   ],
   "source": [
    "data =(('Alicia',[['Java'],['Scala'],['Python']]),\\\n",
    "('Robert',[[None],['Java'],['Hadoop']])\n",
    ")\n",
    "schema = ('empName','ArrayofArray')\n",
    "emp = spark.createDataFrame(data=data,schema=schema)\n",
    "emp.show()"
   ]
  },
  {
   "cell_type": "code",
   "execution_count": 17,
   "id": "0cab4f8d-e675-4bfb-ae85-149431e190d4",
   "metadata": {},
   "outputs": [
    {
     "name": "stdout",
     "output_type": "stream",
     "text": [
      "+-------+---------------------+\n",
      "|empName|flatten(ArrayofArray)|\n",
      "+-------+---------------------+\n",
      "| Alicia| [Java, Scala, Pyt...|\n",
      "| Robert| [NULL, Java, Hadoop]|\n",
      "+-------+---------------------+\n",
      "\n"
     ]
    }
   ],
   "source": [
    "from pyspark.sql.functions import flatten\n",
    "emp.select(emp.empName,flatten(emp.ArrayofArray)).show()"
   ]
  },
  {
   "cell_type": "code",
   "execution_count": 18,
   "id": "e09d31bd-6524-4e7d-acac-fa182421aa2b",
   "metadata": {},
   "outputs": [],
   "source": [
    "spark.stop()"
   ]
  },
  {
   "cell_type": "code",
   "execution_count": null,
   "id": "caec930f-29ad-488c-a5f1-3d2d583e3b2b",
   "metadata": {},
   "outputs": [],
   "source": []
  }
 ],
 "metadata": {
  "kernelspec": {
   "display_name": "Python 3 (ipykernel)",
   "language": "python",
   "name": "python3"
  },
  "language_info": {
   "codemirror_mode": {
    "name": "ipython",
    "version": 3
   },
   "file_extension": ".py",
   "mimetype": "text/x-python",
   "name": "python",
   "nbconvert_exporter": "python",
   "pygments_lexer": "ipython3",
   "version": "3.11.13"
  }
 },
 "nbformat": 4,
 "nbformat_minor": 5
}
