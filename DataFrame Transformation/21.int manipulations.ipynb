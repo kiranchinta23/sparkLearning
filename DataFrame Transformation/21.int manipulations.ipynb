{
 "cells": [
  {
   "cell_type": "code",
   "execution_count": 1,
   "id": "48b328dd-cad0-4bb8-82c3-e14d6ff26091",
   "metadata": {},
   "outputs": [],
   "source": [
    "import findspark\n",
    "findspark.init()"
   ]
  },
  {
   "cell_type": "code",
   "execution_count": 3,
   "id": "2d0d8c09-4af6-44a2-b0e3-e9480a9893e1",
   "metadata": {},
   "outputs": [],
   "source": [
    "from pyspark.sql import SparkSession\n",
    "spark = SparkSession.builder \\\n",
    "    .appName(\"MyApp\") \\\n",
    "    .master(\"local[*]\") \\\n",
    "    .config(\"spark.jars.packages\", \"org.apache.spark:spark-avro_2.12:3.4.0\") \\\n",
    "    .getOrCreate()"
   ]
  },
  {
   "cell_type": "markdown",
   "id": "f4770f75-10f1-4b15-a2a2-cfe35d7d84fc",
   "metadata": {},
   "source": [
    "# create dataFrame"
   ]
  },
  {
   "cell_type": "code",
   "execution_count": 4,
   "id": "e2b8e6fb-905e-436f-b3b0-a9fc1220e6ea",
   "metadata": {},
   "outputs": [
    {
     "name": "stderr",
     "output_type": "stream",
     "text": [
      "                                                                                "
     ]
    },
    {
     "name": "stdout",
     "output_type": "stream",
     "text": [
      "+---+----------+---------+--------+-------+----------------+-----------+\n",
      "|eid|first_name|last_name|  salary|country|    phone_number|        ssn|\n",
      "+---+----------+---------+--------+-------+----------------+-----------+\n",
      "|  1|    kiran |   chinta|150000.0|    usa| +1 232 343 7889|000 00 0000|\n",
      "|  2|    goats |    machi|100000.0|    ind|+91 111 222 7889|123 45 6789|\n",
      "+---+----------+---------+--------+-------+----------------+-----------+\n",
      "\n"
     ]
    }
   ],
   "source": [
    "data = ((1,'kiran ','chinta',150000.00,'usa','+1 232 343 7889','000 00 0000'),\n",
    "    (2,'goats ',' machi',100000.00,'ind','+91 111 222 7889','123 45 6789')\n",
    "       )\n",
    "schema=\"\"\"eid INT,first_name STRING,last_name STRING,salary FLOAT,country STRING,phone_number STRING,ssn STRING\"\"\"\n",
    "df = spark.createDataFrame(data=data,schema=schema)\n",
    "df.show()"
   ]
  },
  {
   "cell_type": "markdown",
   "id": "ae3cc1b7-4258-4eb9-8b11-7f7414afa223",
   "metadata": {},
   "source": [
    "# arthematic opeation on columns"
   ]
  },
  {
   "cell_type": "code",
   "execution_count": 7,
   "id": "53a240af-19d0-46b5-8e9f-c048baf1661e",
   "metadata": {},
   "outputs": [
    {
     "name": "stdout",
     "output_type": "stream",
     "text": [
      "+---+----------+---------+--------+-------+----------------+-----------+-----------+\n",
      "|eid|first_name|last_name|  salary|country|    phone_number|        ssn|updated_sal|\n",
      "+---+----------+---------+--------+-------+----------------+-----------+-----------+\n",
      "|  1|    kiran |   chinta|150000.0|    usa| +1 232 343 7889|000 00 0000|   150020.0|\n",
      "|  2|    goats |    machi|100000.0|    ind|+91 111 222 7889|123 45 6789|   100020.0|\n",
      "+---+----------+---------+--------+-------+----------------+-----------+-----------+\n",
      "\n"
     ]
    }
   ],
   "source": [
    "from pyspark.sql.functions import lit,col\n",
    "updated_df = df.withColumn('updated_sal',col('salary')+lit(20))\n",
    "updated_df.show()"
   ]
  },
  {
   "cell_type": "code",
   "execution_count": 9,
   "id": "450c6d52-02a8-4d57-b2d0-a4af85d8af40",
   "metadata": {},
   "outputs": [
    {
     "name": "stdout",
     "output_type": "stream",
     "text": [
      "+---+----------+---------+--------+-------+----------------+-----------+-----------+----+\n",
      "|eid|first_name|last_name|  salary|country|    phone_number|        ssn|updated_sal|hike|\n",
      "+---+----------+---------+--------+-------+----------------+-----------+-----------+----+\n",
      "|  1|    kiran |   chinta|150000.0|    usa| +1 232 343 7889|000 00 0000|   150020.0|20.0|\n",
      "|  2|    goats |    machi|100000.0|    ind|+91 111 222 7889|123 45 6789|   100020.0|20.0|\n",
      "+---+----------+---------+--------+-------+----------------+-----------+-----------+----+\n",
      "\n"
     ]
    }
   ],
   "source": [
    "updated_df.withColumn('hike',col('updated_sal')-col('salary')).show()"
   ]
  },
  {
   "cell_type": "code",
   "execution_count": 10,
   "id": "b8b7434d-0fdb-49eb-9f61-f7d44ef48c2f",
   "metadata": {},
   "outputs": [],
   "source": [
    "spark.stop()"
   ]
  },
  {
   "cell_type": "code",
   "execution_count": null,
   "id": "6b31051d-7a59-467c-b41a-c6abe1799fc5",
   "metadata": {},
   "outputs": [],
   "source": []
  }
 ],
 "metadata": {
  "kernelspec": {
   "display_name": "Python 3 (ipykernel)",
   "language": "python",
   "name": "python3"
  },
  "language_info": {
   "codemirror_mode": {
    "name": "ipython",
    "version": 3
   },
   "file_extension": ".py",
   "mimetype": "text/x-python",
   "name": "python",
   "nbconvert_exporter": "python",
   "pygments_lexer": "ipython3",
   "version": "3.11.13"
  }
 },
 "nbformat": 4,
 "nbformat_minor": 5
}
